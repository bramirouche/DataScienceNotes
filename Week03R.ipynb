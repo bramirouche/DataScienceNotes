{
 "cells": [
  {
   "cell_type": "markdown",
   "metadata": {},
   "source": [
    "# Statistics Continued"
   ]
  },
  {
   "cell_type": "code",
   "execution_count": 1,
   "metadata": {},
   "outputs": [
    {
     "name": "stdout",
     "output_type": "stream",
     "text": [
      "friend_counts = Counter({6: 22, 1: 22, 4: 20, 3: 20, 9: 18, 5: 17, 2: 17, 10: 15, 7: 15, 8: 13, 15: 4, 13: 4, 21: 2, 19: 2, 18: 2, 14: 2, 12: 2, 100: 1, 49: 1, 41: 1, 40: 1, 25: 1, 16: 1, 11: 1})\n"
     ]
    },
    {
     "data": {
      "image/png": "[encoded data removed]",
      "text/plain": [
       "<Figure size 432x288 with 1 Axes>"
      ]
     },
     "metadata": {
      "needs_background": "light"
     },
     "output_type": "display_data"
    },
    {
     "name": "stdout",
     "output_type": "stream",
     "text": [
      "number of users = 204\n",
      "largest_value = 100\n",
      "smallest_value = 1\n",
      "sorted_values = [1, 1, 1, 1, 1, 1, 1, 1, 1, 1, 1, 1, 1, 1, 1, 1, 1, 1, 1, 1, 1, 1, 2, 2, 2, 2, 2, 2, 2, 2, 2, 2, 2, 2, 2, 2, 2, 2, 2, 3, 3, 3, 3, 3, 3, 3, 3, 3, 3, 3, 3, 3, 3, 3, 3, 3, 3, 3, 3, 4, 4, 4, 4, 4, 4, 4, 4, 4, 4, 4, 4, 4, 4, 4, 4, 4, 4, 4, 4, 5, 5, 5, 5, 5, 5, 5, 5, 5, 5, 5, 5, 5, 5, 5, 5, 5, 6, 6, 6, 6, 6, 6, 6, 6, 6, 6, 6, 6, 6, 6, 6, 6, 6, 6, 6, 6, 6, 6, 7, 7, 7, 7, 7, 7, 7, 7, 7, 7, 7, 7, 7, 7, 7, 8, 8, 8, 8, 8, 8, 8, 8, 8, 8, 8, 8, 8, 9, 9, 9, 9, 9, 9, 9, 9, 9, 9, 9, 9, 9, 9, 9, 9, 9, 9, 10, 10, 10, 10, 10, 10, 10, 10, 10, 10, 10, 10, 10, 10, 10, 11, 12, 12, 13, 13, 13, 13, 14, 14, 15, 15, 15, 15, 16, 18, 18, 19, 19, 21, 21, 25, 40, 41, 49, 100]\n",
      "smallest_value = 1\n",
      "second_smallest_value = 1\n",
      "second_largest_value = 49\n",
      "mean number of friends = 7.333333333333333\n",
      "5\n",
      "5.5\n",
      "median number of friends = 6.0\n",
      "1\n",
      "3\n",
      "6\n",
      "9\n",
      "13\n",
      "mode number of friends = [6, 1]\n",
      "99\n",
      "*********** Ignore any output below. They are from our work last week ***********\n",
      "[5, 7, 9]\n",
      "[1, 2, 3]\n",
      "[16, 20]\n",
      "[2, 4, 6]\n",
      "[3.0, 4.0]\n",
      "32\n",
      "14\n",
      "5.0\n",
      "5.0\n",
      "5.0\n",
      "[[1, 2, 3], [4, 5, 6]]\n",
      "[[1, 2], [3, 4], [5, 6]]\n",
      "(2, 3)\n",
      "[4, 5, 6]\n",
      "[2, 5]\n",
      "[[1, 0, 0, 0, 0], [0, 1, 0, 0, 0], [0, 0, 1, 0, 0], [0, 0, 0, 1, 0], [0, 0, 0, 0, 1]]\n",
      "[4, 6, 7]\n",
      "*********** Ignore any output above. They are from our work last week ***********\n",
      "variance = 81.54351395730716\n",
      "standard deviation = 9.03014473623248\n",
      "IQR = 6\n"
     ]
    }
   ],
   "source": [
    "# import everything from our work on Tuesday\n",
    "from Week03T import *"
   ]
  },
  {
   "cell_type": "markdown",
   "metadata": {},
   "source": [
    "## Correlation"
   ]
  },
  {
   "cell_type": "markdown",
   "metadata": {},
   "source": [
    "The VP of Growth at your social network start-up has a theory that the amount of time people spend on the site is related to the number of friends they have on the site, and she’s asked you to verify this.\n",
    "\n",
    "After digging through traffic logs, you’ve come up with a list called `daily_minutes` that shows how many minutes per day each user spends on the social network, and you’ve ordered it so that its elements correspond to the elements of our previous `num_friends` list. We’d like to investigate the relationship between these two metrics."
   ]
  },
  {
   "cell_type": "code",
   "execution_count": 2,
   "metadata": {},
   "outputs": [],
   "source": [
    "daily_minutes = [1,68.77,51.25,52.08,38.36,44.54,57.13,51.4,41.42,31.22,34.76,54.01,38.79,47.59,49.1,27.66,41.03,\n",
    "                 36.73,48.65,28.12,46.62,35.57,32.98,35,26.07,23.77,39.73,40.57,31.65,31.21,36.32,20.45,21.93,26.02,\n",
    "                 27.34,23.49,46.94,30.5,33.8,24.23,21.4,27.94,32.24,40.57,25.07,19.42,22.39,18.42,46.96,23.72,26.41,\n",
    "                 26.97,36.76,40.32,35.02,29.47,30.2,31,38.11,38.18,36.31,21.03,30.86,36.07,28.66,29.08,37.28,15.28,\n",
    "                 24.17,22.31,30.17,25.53,19.85,35.37,44.6,17.23,13.47,26.33,35.02,32.09,24.81,19.33,28.77,24.26,31.98,\n",
    "                 25.73,24.86,16.28,34.51,15.23,39.72,40.8,26.06,35.76,34.76,16.13,44.04,18.03,19.65,32.62,35.59,39.43,\n",
    "                 14.18,35.24,40.13,41.82,35.45,36.07,43.67,24.61,20.9,21.9,18.79,27.61,27.21,26.61,29.77,20.59,27.53,\n",
    "                 13.82,33.2,25,33.1,36.65,18.63,14.87,22.2,36.81,25.53,24.62,26.25,18.21,28.08,19.42,29.79,32.8,35.99,\n",
    "                 28.32,27.79,35.88,29.06,36.28,14.1,36.63,37.49,26.9,18.58,38.48,24.48,18.95,33.55,14.24,29.04,32.51,\n",
    "                 25.63,22.22,19,32.73,15.16,13.9,27.2,32.01,29.27,33,13.74,20.42,27.32,18.23,35.35,28.48,9.08,24.62,\n",
    "                 20.12,35.26,19.92,31.02,16.49,12.16,30.7,31.22,34.65,13.13,27.51,33.2,31.57,14.1,33.42,17.44,10.12,\n",
    "                 24.42,9.82,23.39,30.93,15.03,21.67,31.09,33.29,22.61,26.89,23.48,8.38,27.81,32.35,23.84]\n",
    "\n",
    "daily_hours = [dm / 60 for dm in daily_minutes]"
   ]
  },
  {
   "cell_type": "markdown",
   "metadata": {},
   "source": [
    "We’ll first look at *covariance*, the paired analogue of variance. Whereas variance measures how a single variable deviates from its mean, covariance measures how two variables vary in tandem from their means:"
   ]
  },
  {
   "cell_type": "code",
   "execution_count": 3,
   "metadata": {},
   "outputs": [],
   "source": [
    "from Week02TR import dot\n",
    "\n",
    "def covariance(xs: List[float], ys: List[float]) -> float:\n",
    "    assert len(xs) == len(ys), \"xs and ys must have same number of elements\"\n",
    "\n",
    "    # Note that variance can be considered as a special case of covariance of a variable with itself\n",
    "    # variance = sum_of_squares (de_mean(xs)) / (len(xs) - 1)\n",
    "    # variance = dot (de_mean(xs), de_mean(xs)) / (len(xs) - 1)\n",
    "    return dot(de_mean(xs), de_mean(ys)) / (len(xs) - 1)"
   ]
  },
  {
   "cell_type": "code",
   "execution_count": 5,
   "metadata": {},
   "outputs": [
    {
     "name": "stdout",
     "output_type": "stream",
     "text": [
      "var of daily_minutes = 100.78589895440929\n",
      "cov of daily_minutes with itself = 100.78589895440929\n",
      "cov b/w num_friends and daily_minutes = 22.425435139573064\n",
      "cov b/w num_friends and daily_hours   = 0.37375725232621776\n"
     ]
    }
   ],
   "source": [
    "print(f\"var of daily_minutes = {variance(daily_minutes)}\")\n",
    "print(f\"cov of daily_minutes with itself = {covariance(daily_minutes, daily_minutes)}\")\n",
    "\n",
    "print(f\"cov b/w num_friends and daily_minutes = {covariance(num_friends, daily_minutes)}\")\n",
    "print(f\"cov b/w num_friends and daily_hours   = {covariance(num_friends, daily_hours)}\")"
   ]
  },
  {
   "cell_type": "markdown",
   "metadata": {},
   "source": [
    "Recall that `dot` sums up the products of corresponding pairs of elements.\n",
    "\n",
    "When corresponding elements of `x` and `y` are either both above their means or both below their means, a positive number enters the sum.\n",
    "\n",
    "When one is above its mean and the other below, a negative number enters the sum.\n",
    "\n",
    "Accordingly, a “large” positive covariance means that `x` tends to be large when `y` is large and small when `y` is small.\n",
    "\n",
    "A “large” negative covariance means the opposite—that `x` tends to be small when `y` is large and vice versa.\n",
    "\n",
    "A covariance close to zero means that no such relationship exists."
   ]
  },
  {
   "cell_type": "markdown",
   "metadata": {},
   "source": [
    "Nonetheless, this number can be hard to interpret, for a couple of reasons:\n",
    "\n",
    "- Its units are the product of the inputs’ units (e.g., friend-minutes-per-day), which can be hard to make sense of. (What’s a “friend-minute-per-day”?)\n",
    "- If each user had twice as many friends (but the same number of minutes), the covariance would be twice as large. But in a sense, the variables would be just as interrelated. Said differently, it’s hard to say what counts as a “large” covariance.\n",
    "\n",
    "For this reason, it’s more common to look at the *correlation*, which divides out the standard deviations of both variables:"
   ]
  },
  {
   "cell_type": "code",
   "execution_count": 6,
   "metadata": {},
   "outputs": [],
   "source": [
    "def correlation(xs: List[float], ys: List[float]) -> float:\n",
    "    \"\"\"Measures how much xs and ys vary in tandem about their means\"\"\"\n",
    "    stdev_x = standard_deviation(xs)\n",
    "    stdev_y = standard_deviation(ys)\n",
    "    if stdev_x > 0 and stdev_y > 0:\n",
    "        return covariance(xs, ys) / (stdev_x * stdev_y)\n",
    "    else:\n",
    "        return 0    # if no variation, correlation is zero"
   ]
  },
  {
   "cell_type": "code",
   "execution_count": 7,
   "metadata": {},
   "outputs": [
    {
     "name": "stdout",
     "output_type": "stream",
     "text": [
      "cor b/w num_friends and daily_minutes = 0.24736957366478216\n",
      "cor b/w num_friends and daily_hours   = 0.247369573664782\n",
      "cor of daily_minutes with itself = 1.0000000000000002\n",
      "cor of daily_minutes with -daily_minutes = -1.0000000000000002\n"
     ]
    }
   ],
   "source": [
    "print(f\"cor b/w num_friends and daily_minutes = {correlation(num_friends, daily_minutes)}\")\n",
    "print(f\"cor b/w num_friends and daily_hours   = {correlation(num_friends, daily_hours)}\")\n",
    "\n",
    "print(f\"cor of daily_minutes with itself = {correlation(daily_minutes, daily_minutes)}\")\n",
    "neg_daily_minutes = [-1 * m for m in daily_minutes]\n",
    "print(f\"cor of daily_minutes with -daily_minutes = {correlation(daily_minutes, neg_daily_minutes)}\")"
   ]
  },
  {
   "cell_type": "markdown",
   "metadata": {},
   "source": [
    "The correlation is unitless and always lies between –1 (perfect anticorrelation) and 1 (perfect correlation). A number like 0.25 represents a relatively weak positive correlation.\n",
    "\n",
    "However, one thing we neglected to do was examine our data."
   ]
  },
  {
   "cell_type": "code",
   "execution_count": 8,
   "metadata": {},
   "outputs": [
    {
     "data": {
      "image/png": "[encoded data removed]",
      "text/plain": [
       "<Figure size 432x288 with 1 Axes>"
      ]
     },
     "metadata": {
      "needs_background": "light"
     },
     "output_type": "display_data"
    }
   ],
   "source": [
    "plt.scatter(num_friends, daily_minutes)\n",
    "plt.title(\"Correlation with an Outlier\")\n",
    "plt.xlabel(\"# of friends\")\n",
    "plt.ylabel(\"minutes per day\")\n",
    "plt.show()"
   ]
  },
  {
   "cell_type": "markdown",
   "metadata": {},
   "source": [
    "The person with 100 friends (who spends only 1 minute per day on the site) is a huge outlier, and correlation can be very sensitive to outliers. What happens if we ignore him?"
   ]
  },
  {
   "cell_type": "code",
   "execution_count": 9,
   "metadata": {},
   "outputs": [
    {
     "name": "stdout",
     "output_type": "stream",
     "text": [
      "cor b/w num_friends_good and daily_minutes_good = 0.5736792115665573\n",
      "cor b/w num_friends_good and daily_hours_good   = 0.5736792115665579\n"
     ]
    }
   ],
   "source": [
    "outlier = num_friends.index(100) # index of outlier\n",
    "\n",
    "num_friends_good = [x\n",
    "                    for i, x in enumerate(num_friends)\n",
    "                    if i != outlier]\n",
    "\n",
    "daily_minutes_good = [x\n",
    "                      for i, x in enumerate(daily_minutes)\n",
    "                      if i != outlier]\n",
    "\n",
    "daily_hours_good = [dm / 60 for dm in daily_minutes_good]\n",
    "\n",
    "print(f\"cor b/w num_friends_good and daily_minutes_good = {correlation(num_friends_good, daily_minutes_good)}\")\n",
    "print(f\"cor b/w num_friends_good and daily_hours_good   = {correlation(num_friends_good, daily_hours_good)}\")"
   ]
  },
  {
   "cell_type": "code",
   "execution_count": 10,
   "metadata": {
    "scrolled": true
   },
   "outputs": [
    {
     "data": {
      "image/png": "[encoded data removed]",
      "text/plain": [
       "<Figure size 432x288 with 1 Axes>"
      ]
     },
     "metadata": {
      "needs_background": "light"
     },
     "output_type": "display_data"
    }
   ],
   "source": [
    "plt.scatter(num_friends_good, daily_minutes_good)\n",
    "plt.title(\"Correlation After Removing the Outlier\")\n",
    "plt.xlabel(\"# of friends\")\n",
    "plt.ylabel(\"minutes per day\")\n",
    "plt.show()"
   ]
  },
  {
   "cell_type": "code",
   "execution_count": 11,
   "metadata": {},
   "outputs": [
    {
     "name": "stdout",
     "output_type": "stream",
     "text": [
      "6.876847290640394\n",
      "15.876847290640395\n"
     ]
    }
   ],
   "source": [
    "iqr = interquartile_range (num_friends_good)\n",
    "mean_num_friends = mean(num_friends_good)\n",
    "print(mean_num_friends)\n",
    "print(mean_num_friends + 1.5 * iqr)"
   ]
  },
  {
   "cell_type": "markdown",
   "metadata": {},
   "source": [
    "You investigate further and discover that the outlier was actually an internal test account that no one ever bothered to remove. So you feel justified in excluding it."
   ]
  },
  {
   "cell_type": "markdown",
   "metadata": {},
   "source": [
    "## Simpson’s Paradox"
   ]
  },
  {
   "cell_type": "markdown",
   "metadata": {},
   "source": [
    "One not uncommon surprise when analyzing data is *Simpson’s paradox*, in which correlations can be misleading when *confounding* variables are ignored.\n",
    "\n",
    "For example, imagine that you can identify all of your members as either East Coast data scientists or West Coast data scientists. You decide to examine which coast’s data scientists are friendlier:\n",
    "\n",
    "| Coast       | # of members | Avg. # of friends |\n",
    "| ----------- | ------------ | ----------------- |\n",
    "| West Coast  | 101          | 8.2               |\n",
    "| East Coast  | 103          | 6.5               |\n",
    "\n",
    "It certainly looks like the West Coast data scientists are friendlier than the East Coast data scientists.\n",
    "\n",
    "But when playing with the data, you discover something very strange. If you look only at people with PhDs, the East Coast data scientists have more friends on average. And if you look only at people without PhDs, the East Coast data scientists also have\n",
    "more friends on average!\n",
    "\n",
    "| Coast       | Degree | # of members | Avg. # of friends |\n",
    "| ----------- | ------ | ------------ | ----------------- |\n",
    "| West Coast  | PhD    | 35           | 3.1               |\n",
    "| East Coast  | PhD    | 70           | 3.2               |\n",
    "| West Coast  | No PhD | 66           | 10.9              |\n",
    "| East Coast  | No PhD | 33           | 13.4              |\n",
    "\n",
    "First note that the averages agree with those from the previous table:"
   ]
  },
  {
   "cell_type": "code",
   "execution_count": 13,
   "metadata": {},
   "outputs": [
    {
     "name": "stdout",
     "output_type": "stream",
     "text": [
      "West Coast avg # of friends = 8.2\n",
      "West Coast avg # of friends = 6.5\n"
     ]
    }
   ],
   "source": [
    "# round the numbers to 1 decimal place\n",
    "print(f\"West Coast avg # of friends = {round((35 * 3.1 + 66 * 10.9) / 101, 1)}\")\n",
    "print(f\"West Coast avg # of friends = {round((70 * 3.2 + 33 * 13.4) / 103, 1)}\")"
   ]
  },
  {
   "cell_type": "markdown",
   "metadata": {},
   "source": [
    "Once you account for the users’ degrees, the correlation goes in the opposite direction!\n",
    "\n",
    "Bucketing the data as East Coast/West Coast disguised the fact that the East Coast data scientists skew much more heavily toward PhD types.\n",
    "\n",
    "The only real way to avoid this is by *knowing your data* and by doing what you can to make sure you’ve checked for possible confounding factors. Obviously, this is not always possible. If you didn’t have data on the educational attainment of these 200\n",
    "data scientists, you might simply conclude that there was something inherently more sociable about the West Coast."
   ]
  },
  {
   "cell_type": "markdown",
   "metadata": {},
   "source": [
    "## Some Other Correlational Caveats"
   ]
  },
  {
   "cell_type": "markdown",
   "metadata": {},
   "source": [
    "A correlation of zero indicates that there is no **linear** relationship between the two variables.\n",
    "\n",
    "However, there may be other sorts of relationships. For example, if:"
   ]
  },
  {
   "cell_type": "code",
   "execution_count": 14,
   "metadata": {},
   "outputs": [],
   "source": [
    "x = [-2, -1, 0, 1, 2]\n",
    "y = [ 2,  1, 0, 1, 2]"
   ]
  },
  {
   "cell_type": "markdown",
   "metadata": {},
   "source": [
    "then `x` and `y` have zero correlation:"
   ]
  },
  {
   "cell_type": "code",
   "execution_count": 15,
   "metadata": {},
   "outputs": [
    {
     "name": "stdout",
     "output_type": "stream",
     "text": [
      "corr b/w x and y = 0.0\n"
     ]
    }
   ],
   "source": [
    "print(f\"corr b/w x and y = {correlation(x, y)}\")"
   ]
  },
  {
   "cell_type": "markdown",
   "metadata": {},
   "source": [
    "Obviously `x` and `y` have a relationship—each element of `y` equals the absolute value of the corresponding element of `x`.\n",
    "\n",
    "Let's take a look at another example in which `x` and `y` have a quadratic relationship:"
   ]
  },
  {
   "cell_type": "code",
   "execution_count": 16,
   "metadata": {},
   "outputs": [
    {
     "name": "stdout",
     "output_type": "stream",
     "text": [
      "y = [4, 1, 0, 1, 4]\n",
      "corr b/w x and y = 0.0\n"
     ]
    }
   ],
   "source": [
    "y = [e**2 for e in x]\n",
    "print(f\"y = {y}\")\n",
    "print(f\"corr b/w x and y = {correlation(x, y)}\")"
   ]
  },
  {
   "cell_type": "markdown",
   "metadata": {},
   "source": [
    "In addition, correlation tells you nothing about how large the relationship is. The following variables are perfectly correlated:"
   ]
  },
  {
   "cell_type": "code",
   "execution_count": 17,
   "metadata": {},
   "outputs": [
    {
     "name": "stdout",
     "output_type": "stream",
     "text": [
      "corr b/w x and y = 1.0\n"
     ]
    }
   ],
   "source": [
    "x = [-2, -1, 0, 1, 2]\n",
    "y = [99.98, 99.99, 100, 100.01, 100.02]\n",
    "\n",
    "print(f\"corr b/w x and y = {correlation(x, y)}\")"
   ]
  },
  {
   "cell_type": "markdown",
   "metadata": {},
   "source": [
    "but depending on what you’re measuring, it’s quite possible that this relationship isn’t all that interesting."
   ]
  },
  {
   "cell_type": "markdown",
   "metadata": {},
   "source": [
    "## Correlation and Causation"
   ]
  },
  {
   "cell_type": "markdown",
   "metadata": {},
   "source": [
    "You may have heard at some point that \"correlation is not causation\", or \"correlation does not imply causation\". This is an important point to remember.\n",
    "\n",
    "If *x* and *y* are strongly correlated, that might mean that *x* causes *y*, that *y* causes *x*, that each causes the other, that some third factor causes both, or nothing at all.\n",
    "\n",
    "Consider the relationship between `num_friends` and `daily_minutes`.\n",
    "- It’s possible that having more friends on the site causes  users to spend more time on the site. This might be the case if each friend posts a certain amount of content each day, which means that the more friends you have, the more time it takes to stay current with their updates.\n",
    "- However, it’s also possible that the more time users spend chatting/exploring/arguing on the social network, the more they encounter and befriend like-minded people. That is, spending more time on the site causes users to have more friends.\n",
    "- A third possibility is that the users who are most passionate about data science spend more time on the site (because they find it more interesting) and more actively collect data science friends (because they don’t want to associate with anyone else).\n",
    "\n",
    "One way to feel more confident about causality is by conducting randomized trials. If you can randomly split your users into two groups with similar demographics and give one of the groups a slightly different experience, then you can often feel pretty\n",
    "good that the different experiences are causing the different outcomes."
   ]
  }
 ],
 "metadata": {
  "kernelspec": {
   "display_name": "Python 3",
   "language": "python",
   "name": "python3"
  },
  "language_info": {
   "codemirror_mode": {
    "name": "ipython",
    "version": 3
   },
   "file_extension": ".py",
   "mimetype": "text/x-python",
   "name": "python",
   "nbconvert_exporter": "python",
   "pygments_lexer": "ipython3",
   "version": "3.8.3"
  }
 },
 "nbformat": 4,
 "nbformat_minor": 4
}
