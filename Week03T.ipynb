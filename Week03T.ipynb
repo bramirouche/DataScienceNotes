{
 "cells": [
  {
   "cell_type": "markdown",
   "metadata": {},
   "source": [
    "# Statistics"
   ]
  },
  {
   "cell_type": "markdown",
   "metadata": {},
   "source": [
    "*Statistics* refers to the mathematics and techniques with which we understand data. We are obviously not trying to cover the field of Statistics in great depth in this class. But we will need some foundational understanding in order to proceed with the task of analyzing data later in the course."
   ]
  },
  {
   "cell_type": "markdown",
   "metadata": {},
   "source": [
    "## Describing a Single Set of Data"
   ]
  },
  {
   "cell_type": "markdown",
   "metadata": {},
   "source": [
    "Now imagine that you work for a newly found start-up company that created a new social network platform for data scientists. The VP of Fundraising asks you for some sort of description of how many friends your members have so that he can include in his elevator pitches.\n",
    "\n",
    "Now, one obvious description of any dataset is simply the data itself:"
   ]
  },
  {
   "cell_type": "code",
   "execution_count": 1,
   "metadata": {},
   "outputs": [],
   "source": [
    "num_friends = [100,49,41,40,25,21,21,19,19,18,18,16,15,15,15,15,\n",
    "               14,14,13,13,13,13,12,12,11,10,10,10,10,10,10,10,\n",
    "               10,10,10,10,10,10,10,10,9,9,9,9,9,9,9,9,9,9,9,9,\n",
    "               9,9,9,9,9,9,8,8,8,8,8,8,8,8,8,8,8,8,8,7,7,7,7,7,\n",
    "               7,7,7,7,7,7,7,7,7,7,6,6,6,6,6,6,6,6,6,6,6,6,6,6,\n",
    "               6,6,6,6,6,6,6,6,5,5,5,5,5,5,5,5,5,5,5,5,5,5,5,5,\n",
    "               5,4,4,4,4,4,4,4,4,4,4,4,4,4,4,4,4,4,4,4,4,3,3,3,\n",
    "               3,3,3,3,3,3,3,3,3,3,3,3,3,3,3,3,3,2,2,2,2,2,2,2,\n",
    "               2,2,2,2,2,2,2,2,2,2,1,1,1,1,1,1,1,1,1,1,1,1,1,1,\n",
    "               1,1,1,1,1,1,1,1]"
   ]
  },
  {
   "cell_type": "markdown",
   "metadata": {},
   "source": [
    "For a small enough dataset, this might even be the best description. But for a larger dataset, this is unwieldy and probably opaque. (Imagine staring at a list of 1 million numbers.) For that reason, we use statistics to distill and communicate relevant features of our data."
   ]
  },
  {
   "cell_type": "markdown",
   "metadata": {},
   "source": [
    "As a first approach, you put the friend counts into a histogram using `Counter` and `plt.bar`"
   ]
  },
  {
   "cell_type": "code",
   "execution_count": 2,
   "metadata": {},
   "outputs": [
    {
     "name": "stdout",
     "output_type": "stream",
     "text": [
      "friend_counts = Counter({6: 22, 1: 22, 4: 20, 3: 20, 9: 18, 5: 17, 2: 17, 10: 15, 7: 15, 8: 13, 15: 4, 13: 4, 21: 2, 19: 2, 18: 2, 14: 2, 12: 2, 100: 1, 49: 1, 41: 1, 40: 1, 25: 1, 16: 1, 11: 1})\n"
     ]
    },
    {
     "data": {
      "image/png": "[encoded data removed]",
      "text/plain": [
       "<Figure size 432x288 with 1 Axes>"
      ]
     },
     "metadata": {
      "needs_background": "light"
     },
     "output_type": "display_data"
    }
   ],
   "source": [
    "from collections import Counter\n",
    "import matplotlib.pyplot as plt\n",
    "\n",
    "friend_counts = Counter(num_friends)\n",
    "print(f\"friend_counts = {friend_counts}\")\n",
    "xs = range(101)                         # largest value is 100\n",
    "ys = [friend_counts[x] for x in xs]     # height is just # of friends\n",
    "plt.bar(xs, ys)\n",
    "plt.axis([0, 101, 0, 25])\n",
    "plt.title(\"Histogram of Friend Counts\")\n",
    "plt.xlabel(\"# of friends\")\n",
    "plt.ylabel(\"# of people\")\n",
    "plt.show()"
   ]
  },
  {
   "cell_type": "markdown",
   "metadata": {},
   "source": [
    "Unfortunately, this chart is still too difficult to slip into conversations. So you start generating some statistics. Probably the simplest statistic is the number of data points, which represents the number of users:"
   ]
  },
  {
   "cell_type": "code",
   "execution_count": 3,
   "metadata": {},
   "outputs": [
    {
     "name": "stdout",
     "output_type": "stream",
     "text": [
      "number of users = 204\n"
     ]
    }
   ],
   "source": [
    "num_points = len(num_friends) # 204\n",
    "\n",
    "print(f\"number of users = {num_points}\")"
   ]
  },
  {
   "cell_type": "markdown",
   "metadata": {},
   "source": [
    "You’re probably also interested in the largest and smallest values:"
   ]
  },
  {
   "cell_type": "code",
   "execution_count": 4,
   "metadata": {},
   "outputs": [
    {
     "name": "stdout",
     "output_type": "stream",
     "text": [
      "largest_value = 100\n",
      "smallest_value = 1\n"
     ]
    }
   ],
   "source": [
    "largest_value = max(num_friends)            # 100\n",
    "smallest_value = min(num_friends)           # 1\n",
    "\n",
    "print(f\"largest_value = {largest_value}\")\n",
    "print(f\"smallest_value = {smallest_value}\")"
   ]
  },
  {
   "cell_type": "markdown",
   "metadata": {},
   "source": [
    "which are just special cases of wanting to know the values in specific positions:"
   ]
  },
  {
   "cell_type": "code",
   "execution_count": 5,
   "metadata": {},
   "outputs": [
    {
     "name": "stdout",
     "output_type": "stream",
     "text": [
      "sorted_values = [1, 1, 1, 1, 1, 1, 1, 1, 1, 1, 1, 1, 1, 1, 1, 1, 1, 1, 1, 1, 1, 1, 2, 2, 2, 2, 2, 2, 2, 2, 2, 2, 2, 2, 2, 2, 2, 2, 2, 3, 3, 3, 3, 3, 3, 3, 3, 3, 3, 3, 3, 3, 3, 3, 3, 3, 3, 3, 3, 4, 4, 4, 4, 4, 4, 4, 4, 4, 4, 4, 4, 4, 4, 4, 4, 4, 4, 4, 4, 5, 5, 5, 5, 5, 5, 5, 5, 5, 5, 5, 5, 5, 5, 5, 5, 5, 6, 6, 6, 6, 6, 6, 6, 6, 6, 6, 6, 6, 6, 6, 6, 6, 6, 6, 6, 6, 6, 6, 7, 7, 7, 7, 7, 7, 7, 7, 7, 7, 7, 7, 7, 7, 7, 8, 8, 8, 8, 8, 8, 8, 8, 8, 8, 8, 8, 8, 9, 9, 9, 9, 9, 9, 9, 9, 9, 9, 9, 9, 9, 9, 9, 9, 9, 9, 10, 10, 10, 10, 10, 10, 10, 10, 10, 10, 10, 10, 10, 10, 10, 11, 12, 12, 13, 13, 13, 13, 14, 14, 15, 15, 15, 15, 16, 18, 18, 19, 19, 21, 21, 25, 40, 41, 49, 100]\n",
      "smallest_value = 1\n",
      "second_smallest_value = 1\n",
      "second_largest_value = 49\n"
     ]
    }
   ],
   "source": [
    "sorted_values = sorted(num_friends)\n",
    "print(f\"sorted_values = {sorted_values}\")\n",
    "\n",
    "smallest_value = sorted_values[0]           # 1\n",
    "second_smallest_value = sorted_values[1]    # 1\n",
    "second_largest_value = sorted_values[-2]    # 49\n",
    "\n",
    "print(f\"smallest_value = {smallest_value}\")\n",
    "print(f\"second_smallest_value = {second_smallest_value}\")\n",
    "print(f\"second_largest_value = {second_largest_value}\")"
   ]
  },
  {
   "cell_type": "markdown",
   "metadata": {},
   "source": [
    "## Central Tendencies"
   ]
  },
  {
   "cell_type": "markdown",
   "metadata": {},
   "source": [
    "Usually, we’ll want some notion of where our data is centered. Most commonly we’ll use the *mean* (or average), which is just the sum of the data divided by its count:"
   ]
  },
  {
   "cell_type": "code",
   "execution_count": 6,
   "metadata": {},
   "outputs": [
    {
     "name": "stdout",
     "output_type": "stream",
     "text": [
      "mean number of friends = 7.333333333333333\n"
     ]
    }
   ],
   "source": [
    "from typing import List\n",
    "\n",
    "def mean(xs: List[float]) -> float:\n",
    "    return sum(xs) / len(xs)\n",
    "\n",
    "print(f\"mean number of friends = {mean(num_friends)}\")   # 7.333333"
   ]
  },
  {
   "cell_type": "markdown",
   "metadata": {},
   "source": [
    "We’ll also sometimes be interested in the *median*, which is the middle-most value (if the number of data points is odd) or the average of the two middle-most values (if the number of data points is even).\n",
    "\n",
    "For instance, if we have five data points in a sorted vector `x`, the median is `x[5 // 2]` or `x[2]`. If we have six data points, we want the average of `x[2]` (the third point) and `x[3]` (the fourth point).\n",
    "\n",
    "Notice that—unlike the mean—the median doesn’t fully depend on every value in your data. For example, if you make the largest point larger (or the smallest point smaller), the middle points remain unchanged, which means so does the median.\n",
    "\n",
    "Question: why does the government only report the *median* household income and never the *mean* household income?\n",
    "\n",
    "We’ll write different functions for the even and odd cases and combine them:"
   ]
  },
  {
   "cell_type": "code",
   "execution_count": 7,
   "metadata": {},
   "outputs": [],
   "source": [
    "# The underscores indicate that these are \"private\" functions, as they're intended to be called only by our median function.\n",
    "def _median_odd(xs: List[float]) -> float:\n",
    "    \"\"\"If len(xs) is odd, the median is the middle element\"\"\"\n",
    "    return sorted(xs)[len(xs) // 2]\n",
    "\n",
    "def _median_even(xs: List[float]) -> float:\n",
    "    \"\"\"If len(xs) is even, it's the average of the middle two elements\"\"\"\n",
    "    sorted_xs = sorted(xs)\n",
    "    hi_midpoint = len(xs) // 2  # e.g. length 4 => hi_midpoint 2\n",
    "    return (sorted_xs[hi_midpoint - 1] + sorted_xs[hi_midpoint]) / 2\n",
    "\n",
    "def median(v: List[float]) -> float:\n",
    "    \"\"\"Finds the 'middle-most' value of v\"\"\"\n",
    "    return _median_even(v) if len(v) % 2 == 0 else _median_odd(v)"
   ]
  },
  {
   "cell_type": "code",
   "execution_count": 8,
   "metadata": {},
   "outputs": [
    {
     "name": "stdout",
     "output_type": "stream",
     "text": [
      "5\n",
      "5.5\n",
      "median number of friends = 6.0\n"
     ]
    }
   ],
   "source": [
    "print(median([1, 10, 2, 9, 5]))  # 5\n",
    "print(median([1, 9, 2, 10]))     # (2 + 9) / 2 = 5.5\n",
    "\n",
    "print(f\"median number of friends = {median(num_friends)}\")       # 6"
   ]
  },
  {
   "cell_type": "markdown",
   "metadata": {},
   "source": [
    "Clearly, the mean is simpler to compute, and it varies smoothly as our data changes. If we have `n` data points and one of them increases by some small amount `e`, then necessarily the mean will increase by `e / n`.\n",
    "\n",
    "In order to find the median, however, we have to sort our data. And changing one of our data points by a small amount might change the median (if the changed data point is at the middle) or not at all.\n",
    "\n",
    "At the same time, the mean is very sensitive to outliers in our data. If outliers are likely to be bad data (or otherwise unrepresentative of whatever phenomenon we’re trying to understand), then the mean can sometimes give us a misleading picture.\n",
    "\n",
    "For example, the story is often told that in the mid-1980s, the major at the University of North Carolina with the highest average starting salary was geography, mostly because of NBA star (and outlier) Michael Jordan."
   ]
  },
  {
   "cell_type": "markdown",
   "metadata": {},
   "source": [
    "A generalization of the median is the *quantile*, which represents the value under which a certain percentile of the data lies (the median represents the value under which 50% of the data lies):"
   ]
  },
  {
   "cell_type": "code",
   "execution_count": 9,
   "metadata": {},
   "outputs": [],
   "source": [
    "def quantile(xs: List[float], p: float) -> float:\n",
    "    \"\"\"Returns the pth-percentile value in x\"\"\"\n",
    "    p_index = int(p * len(xs))\n",
    "    return sorted(xs)[p_index]"
   ]
  },
  {
   "cell_type": "code",
   "execution_count": 10,
   "metadata": {},
   "outputs": [
    {
     "name": "stdout",
     "output_type": "stream",
     "text": [
      "1\n",
      "3\n",
      "6\n",
      "9\n",
      "13\n"
     ]
    }
   ],
   "source": [
    "print(quantile(num_friends, 0.10)) # 1\n",
    "print(quantile(num_friends, 0.25)) # 3\n",
    "print(quantile(num_friends, 0.50)) # the median\n",
    "print(quantile(num_friends, 0.75)) # 9\n",
    "print(quantile(num_friends, 0.90)) # 13"
   ]
  },
  {
   "cell_type": "markdown",
   "metadata": {},
   "source": [
    "Less commonly you might want to look at the *mode*, or most common value(s):"
   ]
  },
  {
   "cell_type": "code",
   "execution_count": 11,
   "metadata": {},
   "outputs": [],
   "source": [
    "def mode(x: List[float]) -> List[float]:\n",
    "    \"\"\"Returns a list, since there might be more than one mode\"\"\"\n",
    "    counts = Counter(x)\n",
    "    max_count = max(counts.values())\n",
    "    return [x_i for x_i, count in counts.items()\n",
    "            if count == max_count]"
   ]
  },
  {
   "cell_type": "code",
   "execution_count": 12,
   "metadata": {},
   "outputs": [
    {
     "name": "stdout",
     "output_type": "stream",
     "text": [
      "mode number of friends = [6, 1]\n"
     ]
    }
   ],
   "source": [
    "print(f\"mode number of friends = {mode(num_friends)}\")"
   ]
  },
  {
   "cell_type": "markdown",
   "metadata": {},
   "source": [
    "## Dispersion"
   ]
  },
  {
   "cell_type": "markdown",
   "metadata": {},
   "source": [
    "*Dispersion* refers to measures of how spread out our data is. Typically they’re statistics for which values near zero signify *not spread out at all* and for which relatively large values signify *very spread out*.\n",
    "\n",
    "For instance, a very simple measure is the *range*, which is just the difference between the largest and smallest elements:"
   ]
  },
  {
   "cell_type": "code",
   "execution_count": 13,
   "metadata": {},
   "outputs": [],
   "source": [
    "# \"range\" already means something in Python, so we'll use a different name\n",
    "def data_range(xs: List[float]) -> float:\n",
    "    return max(xs) - min(xs)"
   ]
  },
  {
   "cell_type": "code",
   "execution_count": 14,
   "metadata": {},
   "outputs": [
    {
     "name": "stdout",
     "output_type": "stream",
     "text": [
      "99\n"
     ]
    }
   ],
   "source": [
    "print(data_range(num_friends)) # 99"
   ]
  },
  {
   "cell_type": "markdown",
   "metadata": {},
   "source": [
    "The range is zero precisely when the `max` and `min` are equal, which can only happen if the elements of `x` are all the same, which means the data is as undispersed as possible.\n",
    "\n",
    "Conversely, if the range is large, then the `max` is much larger than the `min` and the data is more spread out.\n",
    "\n",
    "Like the median, the range doesn’t really depend on the whole dataset. A dataset whose points are all either 0 or 100 has the same range as a dataset whose values are 0, 100, and lots of 50s. But it seems like the first dataset “should” be more spread out.\n",
    "\n",
    "A more complex measure of dispersion is the *variance*, which is computed as:"
   ]
  },
  {
   "cell_type": "code",
   "execution_count": 15,
   "metadata": {},
   "outputs": [
    {
     "name": "stdout",
     "output_type": "stream",
     "text": [
      "*********** Ignore any output below. They are from our work last week ***********\n",
      "[5, 7, 9]\n",
      "[1, 2, 3]\n",
      "[16, 20]\n",
      "[2, 4, 6]\n",
      "[3.0, 4.0]\n",
      "32\n",
      "14\n",
      "5.0\n",
      "5.0\n",
      "5.0\n",
      "[[1, 2, 3], [4, 5, 6]]\n",
      "[[1, 2], [3, 4], [5, 6]]\n",
      "(2, 3)\n",
      "[4, 5, 6]\n",
      "[2, 5]\n",
      "[[1, 0, 0, 0, 0], [0, 1, 0, 0, 0], [0, 0, 1, 0, 0], [0, 0, 0, 1, 0], [0, 0, 0, 0, 1]]\n",
      "[4, 6, 7]\n",
      "*********** Ignore any output above. They are from our work last week ***********\n"
     ]
    }
   ],
   "source": [
    "# to make things simple, place Week02TR.py in the same directory as this file\n",
    "print(\"*********** Ignore any output below. They are from our work last week ***********\")\n",
    "from Week02TR import sum_of_squares\n",
    "print(\"*********** Ignore any output above. They are from our work last week ***********\")\n",
    "\n",
    "def de_mean(xs: List[float]) -> List[float]:\n",
    "    \"\"\"Translate xs by subtracting its mean (so the result has mean 0)\"\"\"\n",
    "    x_bar = mean(xs)\n",
    "    return [x - x_bar for x in xs]\n",
    "\n",
    "def variance(xs: List[float]) -> float:\n",
    "    \"\"\"Almost the average squared deviation from the mean\"\"\"\n",
    "    assert len(xs) >= 2, \"variance requires at least two elements\"\n",
    "\n",
    "    n = len(xs)\n",
    "    deviations = de_mean(xs)\n",
    "    return sum_of_squares(deviations) / (n - 1)"
   ]
  },
  {
   "cell_type": "code",
   "execution_count": 16,
   "metadata": {},
   "outputs": [
    {
     "name": "stdout",
     "output_type": "stream",
     "text": [
      "variance = 81.54351395730716\n"
     ]
    }
   ],
   "source": [
    "print(f\"variance = {variance(num_friends)}\")"
   ]
  },
  {
   "cell_type": "markdown",
   "metadata": {},
   "source": [
    "Now, whatever units our data is in (e.g., “friends”), all of our measures of central tendency are in that same unit. The range will similarly be in that same unit. The variance, on the other hand, has units that are the square of the original units (e.g., “friends squared”). As it can be hard to make sense of these, we often look instead at the standard deviation:"
   ]
  },
  {
   "cell_type": "code",
   "execution_count": 17,
   "metadata": {},
   "outputs": [],
   "source": [
    "import math\n",
    "\n",
    "def standard_deviation(xs: List[float]) -> float:\n",
    "    \"\"\"The standard deviation is the square root of the variance\"\"\"\n",
    "    return math.sqrt(variance(xs))"
   ]
  },
  {
   "cell_type": "code",
   "execution_count": 18,
   "metadata": {},
   "outputs": [
    {
     "name": "stdout",
     "output_type": "stream",
     "text": [
      "standard deviation = 9.03014473623248\n"
     ]
    }
   ],
   "source": [
    "print(f\"standard deviation = {standard_deviation(num_friends)}\")"
   ]
  },
  {
   "cell_type": "markdown",
   "metadata": {},
   "source": [
    "Both the range and the standard deviation have the same outlier problem that we saw earlier for the mean. If our friendliest user had 200 friends instead of 100, the standard deviation would be 14.89—more than 60% higher!\n",
    "\n",
    "A more robust alternative computes the difference between the 75th percentile value and the 25th percentile value:"
   ]
  },
  {
   "cell_type": "code",
   "execution_count": 19,
   "metadata": {},
   "outputs": [],
   "source": [
    "def interquartile_range(xs: List[float]) -> float:\n",
    "    \"\"\"Returns the difference between the 75%-ile and the 25%-ile\"\"\"\n",
    "    return quantile(xs, 0.75) - quantile(xs, 0.25)"
   ]
  },
  {
   "cell_type": "code",
   "execution_count": 20,
   "metadata": {},
   "outputs": [
    {
     "name": "stdout",
     "output_type": "stream",
     "text": [
      "IQR = 6\n"
     ]
    }
   ],
   "source": [
    "print(f\"IQR = {interquartile_range(num_friends)}\")"
   ]
  }
 ],
 "metadata": {
  "kernelspec": {
   "display_name": "Python 3",
   "language": "python",
   "name": "python3"
  },
  "language_info": {
   "codemirror_mode": {
    "name": "ipython",
    "version": 3
   },
   "file_extension": ".py",
   "mimetype": "text/x-python",
   "name": "python",
   "nbconvert_exporter": "python",
   "pygments_lexer": "ipython3",
   "version": "3.8.3"
  }
 },
 "nbformat": 4,
 "nbformat_minor": 4
}
