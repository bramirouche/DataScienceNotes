{
 "cells": [
  {
   "cell_type": "markdown",
   "metadata": {},
   "source": [
    "# CSCI 3360 Homework 1"
   ]
  },
  {
   "cell_type": "markdown",
   "metadata": {},
   "source": [
    "## Instructions"
   ]
  },
  {
   "cell_type": "markdown",
   "metadata": {},
   "source": [
    "The first homework assignment is designed to get yourself familiar with the Python programming lanaguage. You are to complete this assignment individually, but you may do general searches on the Internet if you are unsure how to complete a certain task using Python (be sure to cite the source of your help). The skeleton code and some sample test cases are provided for you. You are to implement the functions and thoroughly test your code with more test cases. You may assume that the given input parameters are of the correct type, but you may still need to check the validity of the input. You are not allowed to modify the names and parameters of functions. You may choose to write additional helper functions if needed.\n",
    "\n",
    "When you are finished, please submit a **Python script file (.py extension) named hw1.py** to eLC before the deadline.\n",
    "\n",
    "If you are using Jupyter Notebook, please click **File -> Download as -> Python (.py)** to generate the Python script file. Do **NOT** submit the Jupyter Notebook file (.ipynb extension). Please be sure to excute the Python script file in the command line/console/shell/terminal to make sure your code still runs as expected."
   ]
  },
  {
   "cell_type": "markdown",
   "metadata": {},
   "source": [
    "## Academic Honesty Statement"
   ]
  },
  {
   "cell_type": "markdown",
   "metadata": {},
   "source": [
    "Please first complete the Academic Honesty Statement by filling in your name below. **Any homework submission without the Academic Honesty Statement properly filled in will receive a grade of 0**."
   ]
  },
  {
   "cell_type": "code",
   "execution_count": 626,
   "metadata": {
    "scrolled": true
   },
   "outputs": [
    {
     "name": "stdout",
     "output_type": "stream",
     "text": [
      "****************************************************************\n",
      "CSCI 3360 Homework 1\n",
      "completed by Brandon Amirouche\n",
      "\n",
      "I, Brandon Amirouche, certify that the following code\n",
      "represents my own work. I have neither received nor given \n",
      "inappropriate assistance. I have not consulted with another\n",
      "individual, other than a member of the teaching staff, regarding\n",
      "the specific problems in this homework. I recognize that any \n",
      "unauthorized assistance or plagiarism will be handled in \n",
      "accordance with the University of Georgia's Academic Honesty\n",
      "Policy and the policies of this course.\n",
      "\n",
      "****************************************************************\n"
     ]
    }
   ],
   "source": [
    "# first fill in your name\n",
    "first_name = \"Brandon\"\n",
    "last_name  = \"Amirouche\"\n",
    "\n",
    "print(\"****************************************************************\")\n",
    "print(\"CSCI 3360 Homework 1\")\n",
    "print(f\"completed by {first_name} {last_name}\")\n",
    "print(f\"\"\"\n",
    "I, {first_name} {last_name}, certify that the following code\n",
    "represents my own work. I have neither received nor given \n",
    "inappropriate assistance. I have not consulted with another\n",
    "individual, other than a member of the teaching staff, regarding\n",
    "the specific problems in this homework. I recognize that any \n",
    "unauthorized assistance or plagiarism will be handled in \n",
    "accordance with the University of Georgia's Academic Honesty\n",
    "Policy and the policies of this course.\n",
    "\"\"\")\n",
    "print(\"****************************************************************\")"
   ]
  },
  {
   "cell_type": "markdown",
   "metadata": {},
   "source": [
    "## Problem 1"
   ]
  },
  {
   "cell_type": "markdown",
   "metadata": {},
   "source": [
    "You will be given a string containing only the characters `():`\n",
    "\n",
    "Implement the function that returns a number based on the number of sad and smiley faces there are.\n",
    "- The happy faces `:)` and `(:` are worth 1.\n",
    "- The sad faces `:(` and `):` are worth -1.\n",
    "\n",
    "For example, `happy_number(':):(') -> -1`\n",
    "- The first 2 characters are `:)`        +1      (Total: 1)\n",
    "- The next 2 are `):`                    -1      (Total: 0)\n",
    "- The last 2 are `:(`                    -1      (Total: -1)"
   ]
  },
  {
   "cell_type": "code",
   "execution_count": 627,
   "metadata": {},
   "outputs": [],
   "source": [
    "# TODO: implement this function\n",
    "import re\n",
    "from collections import Counter\n",
    "\n",
    "def happy_number (s):\n",
    "    \n",
    "    q = \":)\"\n",
    "    happy1 = s.count(q)\n",
    "    w = \"(:\"\n",
    "    happy2 = s.count(w)\n",
    "    countSmiles = happy1 + happy2\n",
    "    \n",
    "    e = \":(\"\n",
    "    sad1 = s.count(e)\n",
    "    r = \"):\"\n",
    "    sad2 = s.count(r)\n",
    "    countFrowns = sad1 + sad2\n",
    "    \n",
    "    overallFaceCount = countSmiles - countFrowns\n",
    "   \n",
    "    return overallFaceCount\n"
   ]
  },
  {
   "cell_type": "code",
   "execution_count": 628,
   "metadata": {},
   "outputs": [
    {
     "name": "stdout",
     "output_type": "stream",
     "text": [
      "-1\n",
      "2\n",
      "0\n"
     ]
    }
   ],
   "source": [
    "# Sample test cases. You should write more test cases to thoroughly test your code\n",
    "assert happy_number(':):(') == -1\n",
    "assert happy_number('(:)') == 2\n",
    "assert happy_number('::::') == 0\n",
    "#print(happy_number((':):(')))\n",
    "#s = \":):(:(\"\n",
    "#e = \":(\"\n",
    "#s.count(e)\n",
    "#print(s.count(e))\n",
    "print(happy_number(':):('))\n",
    "print(happy_number('(:)'))\n",
    "print(happy_number('::::'))"
   ]
  },
  {
   "cell_type": "markdown",
   "metadata": {},
   "source": [
    "## Problem 2"
   ]
  },
  {
   "cell_type": "markdown",
   "metadata": {},
   "source": [
    "Using list comprehensions, implement the function that returns all even numbers from 0 until the given number (exclusive). Return an empty list if the input parameter <= 0."
   ]
  },
  {
   "cell_type": "code",
   "execution_count": 629,
   "metadata": {},
   "outputs": [],
   "source": [
    "def find_even_nums (n):\n",
    "    even_in_range = [x for x in range(n) if x % 2 == 0]\n",
    "    return even_in_range\n"
   ]
  },
  {
   "cell_type": "code",
   "execution_count": 630,
   "metadata": {},
   "outputs": [
    {
     "name": "stdout",
     "output_type": "stream",
     "text": [
      "[0, 2, 4, 6]\n",
      "[0, 2, 4]\n",
      "[0]\n",
      "[]\n"
     ]
    }
   ],
   "source": [
    "# Sample test cases. You should write more test cases to thoroughly test your code\n",
    "assert find_even_nums(8) == [0, 2, 4, 6]\n",
    "assert find_even_nums(5) == [0, 2, 4]\n",
    "assert find_even_nums(2) == [0]\n",
    "assert find_even_nums(0) == []\n",
    "print (find_even_nums(8))\n",
    "print (find_even_nums(5))\n",
    "print (find_even_nums(2))\n",
    "print (find_even_nums(0))"
   ]
  },
  {
   "cell_type": "markdown",
   "metadata": {},
   "source": [
    "## Problem 3"
   ]
  },
  {
   "cell_type": "markdown",
   "metadata": {},
   "source": [
    "Implement the function that takes a string and returns the number of vowel letters contained within it. Only consider 'a', 'e', 'i', 'o', and 'u' as vowels (not 'y').\n"
   ]
  },
  {
   "cell_type": "code",
   "execution_count": 631,
   "metadata": {},
   "outputs": [],
   "source": [
    "# TODO: implement this function\n",
    "#3 == len(re.split(\"[ab]\", \"carbs\")),   #  split on a or b to ['c','r','s']\n",
    "def count_vowels (s):\n",
    "    allVowels = re.findall(\"[aeiou]\", s)\n",
    "    return len(allVowels)\n"
   ]
  },
  {
   "cell_type": "code",
   "execution_count": 632,
   "metadata": {},
   "outputs": [
    {
     "name": "stdout",
     "output_type": "stream",
     "text": [
      "5\n",
      "1\n",
      "4\n"
     ]
    }
   ],
   "source": [
    "# Sample test cases. You should write more test cases to thoroughly test your code\n",
    "\n",
    "assert count_vowels(\"Celebration\") == 5\n",
    "print(count_vowels(\"Celebration\"))\n",
    "assert count_vowels(\"Palm\") == 1\n",
    "print(count_vowels(\"Palm\"))\n",
    "assert count_vowels(\"Prediction\") == 4\n",
    "print(count_vowels(\"Prediction\"))"
   ]
  },
  {
   "cell_type": "markdown",
   "metadata": {},
   "source": [
    "## Problem 4"
   ]
  },
  {
   "cell_type": "markdown",
   "metadata": {},
   "source": [
    "Implement the function that returns the prime factorization of an integer as a sorted list of tuples. Include the multiplicity of each prime in the tuples:\n",
    "- [(prime_0, mult_0), ... , (prime_k, mult_k)]\n",
    "- where prime_0 < prime_1 < ... < prime_k\n",
    "\n",
    "Please note that 1 is not prime. All inputs will be < 10000."
   ]
  },
  {
   "cell_type": "code",
   "execution_count": 633,
   "metadata": {},
   "outputs": [],
   "source": [
    "# TODO: implement this function\n",
    "import math\n",
    "def factorize (n):\n",
    "    x = []\n",
    "\n",
    "    for i in range(2, n):\n",
    "        if(n % i == 0):\n",
    "            primeBoolean = 1\n",
    "            \n",
    "            for y in range(2, (i //2 + 1)):\n",
    "                if(i % y == 0):\n",
    "                    primeBoolean = 0\n",
    "                    break\n",
    "            \n",
    "            if (primeBoolean == 1):\n",
    "                x.append(i)\n",
    "                print(x)\n",
    "                \n"
   ]
  },
  {
   "cell_type": "code",
   "execution_count": 634,
   "metadata": {},
   "outputs": [
    {
     "name": "stdout",
     "output_type": "stream",
     "text": [
      "[2]\n",
      "[2, 3]\n",
      "[2, 3, 5]\n",
      "None\n"
     ]
    }
   ],
   "source": [
    "# Sample test cases. You should write more test cases to thoroughly test your code\n",
    "#assert factorize(1)  == []\n",
    "#assert factorize(2)  == [(2, 1)]\n",
    "#assert factorize(4)  == [(2, 2)]\n",
    "#assert factorize(10) == [(2, 1), (5, 1)]\n",
    "#assert factorize(60) == [(2, 2), (3, 1), (5, 1)]\n",
    "print(factorize(60))"
   ]
  },
  {
   "cell_type": "markdown",
   "metadata": {},
   "source": [
    "## Problem 5"
   ]
  },
  {
   "cell_type": "markdown",
   "metadata": {},
   "source": [
    "Implement the function that takes:\n",
    "1. A list of keys.\n",
    "2. A list of values.\n",
    "3. `True`, if key and value should be swapped, else `False`.\n",
    "\n",
    "The function returns the constructed dictionary. If input lists are empty or of different sizes, return an empty dictionary. You may assume that keys and values only contain unique values."
   ]
  },
  {
   "cell_type": "code",
   "execution_count": 635,
   "metadata": {},
   "outputs": [],
   "source": [
    "# TODO: implement this function\n",
    "from collections import defaultdict\n",
    "def swap_d (keys, values, swap):\n",
    "    x = {}\n",
    "    if swap == False:\n",
    "        zip_ = zip(keys, values)\n",
    "        x = dict(zip_)\n",
    "    \n",
    "    if swap == True:\n",
    "        zip_ = zip(values, keys)\n",
    "        x = dict(zip_)\n",
    "    \n",
    "    return x\n",
    "    #keyList, valuesList, _ = zip(*(keys, values))\n",
    "    #return (print(keyList))\n",
    "\n"
   ]
  },
  {
   "cell_type": "code",
   "execution_count": 636,
   "metadata": {},
   "outputs": [
    {
     "name": "stdout",
     "output_type": "stream",
     "text": [
      "{1: 'one', 2: 'two', 3: 'three'}\n",
      "{'one': 1, 'two': 2, 'three': 3}\n"
     ]
    }
   ],
   "source": [
    "# Sample test cases. You should write more test cases to thoroughly test your code\n",
    "assert swap_d ([], [1], False) == {}\n",
    "assert swap_d ([1, 2, 3], [\"one\", \"two\", \"three\"], False) == { 1: \"one\", 2: \"two\", 3: \"three\" }\n",
    "assert swap_d ([1, 2, 3], [\"one\", \"two\", \"three\"], True) == { \"one\": 1, \"two\": 2, \"three\": 3 }\n",
    "assert swap_d ([\"Paris\", 3, 4.5], [\"France\", \"is odd\", \"is half of 9\"], True) == { \"France\": \"Paris\", \"is odd\": 3, \"is half of 9\": 4.5 }\n",
    "print (swap_d ([1, 2, 3], [\"one\", \"two\", \"three\"], False))\n",
    "print (swap_d ([1, 2, 3], [\"one\", \"two\", \"three\"], True))"
   ]
  },
  {
   "cell_type": "markdown",
   "metadata": {},
   "source": [
    "## Problem 6"
   ]
  },
  {
   "cell_type": "markdown",
   "metadata": {},
   "source": [
    "Given an integer `limit` being the upper limit of the range of interest, implement the function that returns the last 15 (or however many if there are not enough) palindromes numbers `<= limit` as a list sorted ascendingly. \n",
    "\n"
   ]
  },
  {
   "cell_type": "code",
   "execution_count": 637,
   "metadata": {},
   "outputs": [],
   "source": [
    "# TODO: implement this function\n",
    "\n",
    "#this method places the number as a string, flips the string, and returns if it matches with its flipped version (palindrome)\n",
    "def isItAPalindrome (n):\n",
    "    n = str(n)\n",
    "    return n == n[::-1]\n",
    "\n",
    "def generate_palindromes(limit):\n",
    "    count = 0\n",
    "    List = []\n",
    "    for i in reversed(range(limit+1)):\n",
    "        if (count < 15):\n",
    "            if isItAPalindrome(i):\n",
    "                List.append(i)\n",
    "                count +=1\n",
    "        else:\n",
    "            break\n",
    "    \n",
    "    List.sort()\n",
    "\n",
    "    return List"
   ]
  },
  {
   "cell_type": "code",
   "execution_count": 638,
   "metadata": {},
   "outputs": [
    {
     "name": "stdout",
     "output_type": "stream",
     "text": [
      "[0, 1, 2, 3, 4, 5, 6, 7, 8, 9, 11, 22]\n",
      "[11, 22, 33, 44, 55, 66, 77, 88, 99, 101, 111, 121, 131, 141, 151]\n",
      "[454, 464, 474, 484, 494, 505, 515, 525, 535, 545, 555, 565, 575, 585, 595]\n",
      "[985589, 986689, 987789, 988889, 989989, 990099, 991199, 992299, 993399, 994499, 995599, 996699, 997799, 998899, 999999]\n",
      "True\n"
     ]
    }
   ],
   "source": [
    "# Sample test cases. You should write more test cases to thoroughly test your code\n",
    "assert generate_palindromes(30) == [0, 1, 2, 3, 4, 5, 6, 7, 8, 9, 11, 22]\n",
    "\n",
    "assert generate_palindromes(151) == [11, 22, 33, 44, 55, 66, 77, 88, 99, 101, 111, 121, 131, 141, 151]\n",
    "\n",
    "assert generate_palindromes(600) == [454, 464, 474, 484, 494, 505, 515, 525, 535, 545, 555, 565, 575, 585, 595]\n",
    "\n",
    "assert generate_palindromes(999999) == [985589, 986689, 987789, 988889, 989989,\n",
    "                                        990099, 991199, 992299, 993399, 994499,\n",
    "                                        995599, 996699, 997799, 998899, 999999]\n",
    "print (generate_palindromes(30))\n",
    "print (generate_palindromes(151))\n",
    "print (generate_palindromes(600))\n",
    "print (generate_palindromes(999999))\n",
    "print (isPalindrome(9))"
   ]
  },
  {
   "cell_type": "markdown",
   "metadata": {},
   "source": [
    "## Problem 7"
   ]
  },
  {
   "cell_type": "markdown",
   "metadata": {},
   "source": [
    "Implement the function that generates a bar chart of the popularity of programming Languages and saves it as \"popularity.png\" to the current directory.\n",
    "- The bars should be green\n",
    "- The title of the bar chart should be \"Popularity of Programming Languages\"\n",
    "- The x-axis label should be \"Programming Languages\"\n",
    "- The y-axis label should be \"Popularity\""
   ]
  },
  {
   "cell_type": "code",
   "execution_count": 639,
   "metadata": {},
   "outputs": [],
   "source": [
    "import matplotlib.pyplot as plt\n",
    "\n",
    "# TODO: implement this function\n",
    "def bar_chart (n, x):\n",
    "    plt.bar(n, x, color='g',)\n",
    "    plt.title(\"Popularity of Programming Languages\")\n",
    "    plt.xlabel(\"Programming Languages\")\n",
    "    plt.ylabel(\"Popularity\")\n",
    "    \n",
    "    \n",
    "    plt.savefig('popularity.png')\n",
    "    "
   ]
  },
  {
   "cell_type": "code",
   "execution_count": 640,
   "metadata": {},
   "outputs": [
    {
     "data": {
      "image/png": "[encoded data removed]",
      "text/plain": [
       "<Figure size 432x288 with 1 Axes>"
      ]
     },
     "metadata": {
      "needs_background": "light"
     },
     "output_type": "display_data"
    }
   ],
   "source": [
    "# Sample test cases. You should write more test cases to to generate bar charts with different data\n",
    "languages = ['Java', 'Python', 'PHP', 'JavaScript', 'C#', 'C++']\n",
    "popularity = [22.2, 17.6, 8.8, 8, 7.7, 6.7]\n",
    "bar_chart (languages, popularity)\n",
    "# Now check your current directory to see the bar chart"
   ]
  },
  {
   "cell_type": "code",
   "execution_count": 641,
   "metadata": {},
   "outputs": [
    {
     "data": {
      "image/png": "[encoded data removed]",
      "text/plain": [
       "<Figure size 432x288 with 1 Axes>"
      ]
     },
     "metadata": {
      "needs_background": "light"
     },
     "output_type": "display_data"
    }
   ],
   "source": [
    "# be sure clear each plot before generating the next one\n",
    "plt.gca().clear()"
   ]
  },
  {
   "cell_type": "markdown",
   "metadata": {},
   "source": [
    "## Problem 8"
   ]
  },
  {
   "cell_type": "markdown",
   "metadata": {},
   "source": [
    "Implement the function that generates a scatter plot comparing students' final exam scores in Math and Science and saves it as \"scores.png\" to the current directory.\n",
    "- The dots should be blue\n",
    "- The title of the scatter plot should be \"Math Scores vs. Science Scores\"\n",
    "- The x-axis label should be \"Math Scores\"\n",
    "- The y-axis label should be \"Science Scores\""
   ]
  },
  {
   "cell_type": "code",
   "execution_count": 642,
   "metadata": {},
   "outputs": [],
   "source": [
    "# TODO: implement this function\n",
    "def scatter_plot (n, x):\n",
    "    # generates and customize your bar chart here\n",
    "    plt.scatter(n, x, color= 'b')\n",
    "    plt.title(\"Math Scores vs. Science Scores\")\n",
    "    plt.axis(\"equal\")\n",
    "    plt.xlabel(\"Math Scores\")\n",
    "    plt.ylabel(\"Science Scores\")\n",
    "    \n",
    "    plt.savefig('scores.png')\n",
    "    "
   ]
  },
  {
   "cell_type": "code",
   "execution_count": 643,
   "metadata": {},
   "outputs": [
    {
     "data": {
      "image/png": "[encoded data removed]",
      "text/plain": [
       "<Figure size 432x288 with 1 Axes>"
      ]
     },
     "metadata": {
      "needs_background": "light"
     },
     "output_type": "display_data"
    }
   ],
   "source": [
    "# Sample test cases. You should write more test cases to to generate scatter plots with different data\n",
    "math    = [88, 92, 80, 89, 100, 80, 60, 100, 80, 34]\n",
    "science = [35, 79, 79, 48, 100, 88, 32, 45, 20, 30]\n",
    "scatter_plot (math, science)"
   ]
  },
  {
   "cell_type": "markdown",
   "metadata": {},
   "source": [
    "## Problem 9"
   ]
  },
  {
   "cell_type": "markdown",
   "metadata": {},
   "source": [
    "Recall the matrix transpose operation discussed in class. Now implement the function that returns the transpose of a matrix (represented by a 2-dimensional list)."
   ]
  },
  {
   "cell_type": "code",
   "execution_count": 8,
   "metadata": {},
   "outputs": [],
   "source": [
    "# Importing typing annotations for matrix\n",
    "from typing import List\n",
    "\n",
    "Matrix = List[List[float]]"
   ]
  },
  {
   "cell_type": "code",
   "execution_count": 9,
   "metadata": {},
   "outputs": [],
   "source": [
    "# TODO: implement this function\n",
    "def transpose (A: Matrix) -> Matrix:\n",
    "    #for n in range(len(A)):\n",
    "   # iterate through columns\n",
    "        #for x in range(A[0]):\n",
    "            #iterating through rows \"n\" and columns \"x\" \n",
    "            #[n][x] = A[n][x]\n",
    "        \n",
    "            #return([]) \n",
    "        q = [[A[x][n] for x in range(len(A))] \\\n",
    "             for n in range(len(A[0]))]\n",
    "\n",
    "        return q"
   ]
  },
  {
   "cell_type": "code",
   "execution_count": 10,
   "metadata": {},
   "outputs": [
    {
     "name": "stdout",
     "output_type": "stream",
     "text": [
      "[[1, 4], [2, 5], [3, 6]]\n",
      "[[1, 2, 3], [4, 5, 6]]\n",
      "[[1, 2, 3], [4, 5, 6]]\n",
      "[[1, 4], [2, 5], [3, 6]]\n"
     ]
    }
   ],
   "source": [
    "# Sample test cases. You should write more test cases to thoroughly test your code\n",
    "A = [[1, 2, 3],\n",
    "     [4, 5, 6]]\n",
    "\n",
    "At = [[1, 4],\n",
    "      [2, 5],\n",
    "      [3, 6]]\n",
    "\n",
    "assert transpose (A) == At\n",
    "assert transpose (At) == A\n",
    "\n",
    "I = [[1, 0],\n",
    "     [0, 1]]\n",
    "\n",
    "assert transpose (I) == I\n",
    "\n",
    "print (transpose(A))\n",
    "print (transpose (At))\n",
    "print (A)\n",
    "print (At)"
   ]
  },
  {
   "cell_type": "markdown",
   "metadata": {},
   "source": [
    "## Problem 10"
   ]
  },
  {
   "cell_type": "markdown",
   "metadata": {},
   "source": [
    "Recall the matrix multiplication operation discussed in class. Now implement the function that returns the product of two matrices. if the dimensions of the input matrices are incompatible, print an error message and return `None`."
   ]
  },
  {
   "cell_type": "code",
   "execution_count": 11,
   "metadata": {},
   "outputs": [],
   "source": [
    "# TODO: implement this function\n",
    "def matrix_mult (A: Matrix, B: Matrix) -> Matrix:\n",
    "    try:\n",
    "        q = [[sum(a*b for a,b in zip(firstMatrix_row, secondMatrix_col)) \\\n",
    "                   for secondMatrix_col in zip(*B)] \\\n",
    "                   for firstMatrix_row in A]\n",
    "    except TypeError:\n",
    "        print(\"none\")\n",
    "        \n",
    "    return q\n"
   ]
  },
  {
   "cell_type": "code",
   "execution_count": 15,
   "metadata": {},
   "outputs": [
    {
     "name": "stdout",
     "output_type": "stream",
     "text": [
      "[[14, 32], [32, 77]]\n",
      "[[17, 22, 27], [22, 29, 36], [27, 36, 45]]\n",
      "[[1, 2, 3], [4, 5, 6]]\n",
      "[[1, 4], [2, 5], [3, 6]]\n",
      "[[1220, 2912, 644, 1472], [2912, 6953, 1526, 3488]]\n",
      "//////////////////////////\n",
      "[[1, 2, 3], [4, 5, 6]]\n",
      "[[1, 4], [2, 5], [3, 6]]\n",
      "//////////////////////////\n",
      "[[4, 4, 2], [8, 10, 4], [12, 20, 6], [16, 36, 8], [20, 40, 10], [24, 60, 12], [28, 108, 14], [32, 118, 16]]\n",
      "[[4, 8, 12, 16, 20, 24, 28, 32], [4, 10, 20, 36, 40, 60, 108, 118], [2, 4, 6, 8, 10, 12, 14, 16]]\n",
      "[[36, 80, 140, 224, 260, 360, 572, 632], [80, 180, 320, 520, 600, 840, 1360, 1500], [140, 320, 580, 960, 1100, 1560, 2580, 2840], [224, 520, 960, 1616, 1840, 2640, 4448, 4888], [260, 600, 1100, 1840, 2100, 3000, 5020, 5520], [360, 840, 1560, 2640, 3000, 4320, 7320, 8040], [572, 1360, 2580, 4448, 5020, 7320, 12644, 13864], [632, 1500, 2840, 4888, 5520, 8040, 13864, 15204]]\n",
      "//////////////////////////\n",
      "[[0.3333333333333333, 0.6666666666666666, -0.6666666666666666], [-0.6666666666666666, 0.6666666666666666, 0.3333333333333333], [0.6666666666666666, 0.3333333333333333, 0.6666666666666666]]\n",
      "[[0.3333333333333333, -0.6666666666666666, 0.6666666666666666], [0.6666666666666666, 0.6666666666666666, 0.3333333333333333], [-0.6666666666666666, 0.3333333333333333, 0.6666666666666666]]\n",
      "[[1.0, 0.0, 0.0], [0.0, 1.0, 0.0], [0.0, 0.0, 1.0]]\n",
      "[[1.0, 0.0, 0.0], [0.0, 1.0, 0.0], [0.0, 0.0, 1.0]]\n"
     ]
    }
   ],
   "source": [
    "# Sample test cases. You should write more test cases to thoroughly test your code\n",
    "A_At = [[14, 32],\n",
    "        [32, 77]]\n",
    "\n",
    "At_A = [[17, 22, 27],\n",
    "        [22, 29, 36],\n",
    "        [27, 36, 45]]\n",
    "\n",
    "testCase1 = [[14, 32, 14, 32],\n",
    "            [32, 77, 14, 32],\n",
    "            [14, 32, 14, 32],\n",
    "            [32, 77, 14, 32],\n",
    "            [32, 77, 14, 32]]\n",
    "\n",
    "L = [[4, 4, 2],\n",
    "     [8, 10, 4],\n",
    "     [12, 20, 6],\n",
    "     [16, 36, 8],\n",
    "     [20, 40, 10],\n",
    "     [24, 60, 12],\n",
    "     [28, 108, 14],\n",
    "     [32, 118, 16]]\n",
    "\n",
    "lt = (transpose(L))\n",
    "\n",
    "\n",
    "assert matrix_mult (A, At) == A_At\n",
    "assert matrix_mult (At, A) == At_A\n",
    "\n",
    "assert matrix_mult (I, A)  == A\n",
    "assert matrix_mult (At, I) == At\n",
    "\n",
    "q = [[(1/3), (2/3), (-2/3)],\n",
    "     [(-2/3), (2/3), (1/3)],\n",
    "     [(2/3), (1/3), (2/3)]]\n",
    "qt = (transpose(q))\n",
    "\n",
    "\n",
    "print (matrix_mult(A, At))\n",
    "print (matrix_mult (At, A))\n",
    "print (matrix_mult (I, A))\n",
    "print (matrix_mult (At, I))\n",
    "print (matrix_mult (A_At, testCase1))\n",
    "print(\"//////////////////////////\")\n",
    "print(A)\n",
    "print(At)\n",
    "print(\"//////////////////////////\")\n",
    "print(L)\n",
    "print(lt)\n",
    "print (matrix_mult(L, lt))\n",
    "print(\"//////////////////////////\")\n",
    "print (q)\n",
    "print (qt)\n",
    "print (matrix_mult(q, qt))\n",
    "print (matrix_mult(qt, q))"
   ]
  },
  {
   "cell_type": "code",
   "execution_count": 670,
   "metadata": {},
   "outputs": [
    {
     "name": "stdout",
     "output_type": "stream",
     "text": [
      "Cited Sources\n",
      "https://www.tutorialgateway.org/python-program-to-find-prime-factors-of-a-number/\n",
      "https://stackoverflow.com/questions/16344284/how-to-generate-a-list-of-palindrome-numbers-within-a-given-range\n",
      "https://www.geeksforgeeks.org/sort-in-python/\n",
      "https://www.programiz.com/python-programming/examples/transpose-matrix\n",
      "https://www.programiz.com/python-programming/examples/multiply-matrix\n"
     ]
    }
   ],
   "source": [
    "print(\"Cited Sources\")\n",
    "print(\"https://www.tutorialgateway.org/python-program-to-find-prime-factors-of-a-number/\")\n",
    "print(\"https://stackoverflow.com/questions/16344284/how-to-generate-a-list-of-palindrome-numbers-within-a-given-range\")\n",
    "print(\"https://www.geeksforgeeks.org/sort-in-python/\")\n",
    "print(\"https://www.programiz.com/python-programming/examples/transpose-matrix\")\n",
    "print(\"https://www.programiz.com/python-programming/examples/multiply-matrix\")"
   ]
  },
  {
   "cell_type": "code",
   "execution_count": null,
   "metadata": {},
   "outputs": [],
   "source": []
  }
 ],
 "metadata": {
  "kernelspec": {
   "display_name": "Python 3",
   "language": "python",
   "name": "python3"
  },
  "language_info": {
   "codemirror_mode": {
    "name": "ipython",
    "version": 3
   },
   "file_extension": ".py",
   "mimetype": "text/x-python",
   "name": "python",
   "nbconvert_exporter": "python",
   "pygments_lexer": "ipython3",
   "version": "3.8.3"
  }
 },
 "nbformat": 4,
 "nbformat_minor": 4
}
