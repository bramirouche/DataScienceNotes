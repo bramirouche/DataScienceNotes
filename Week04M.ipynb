{
 "cells": [
  {
   "cell_type": "markdown",
   "metadata": {},
   "source": [
    "# Getting Data"
   ]
  },
  {
   "cell_type": "markdown",
   "metadata": {},
   "source": [
    "In order to be a data scientist you need data. In fact, as a data scientist you will spend an embarrassingly large fraction of your time acquiring, cleaning, and transforming data.\n",
    "\n",
    "We’ll look at different ways of getting data into Python and into the right formats."
   ]
  },
  {
   "cell_type": "markdown",
   "metadata": {},
   "source": [
    "## Reading Files"
   ]
  },
  {
   "cell_type": "markdown",
   "metadata": {},
   "source": [
    "You can explicitly read from and write to files directly in your code. Python makes working with files pretty simple.\n",
    "\n",
    "The first step to working with a text file is to obtain a *file object* using `open`:"
   ]
  },
  {
   "cell_type": "code",
   "execution_count": 1,
   "metadata": {},
   "outputs": [
    {
     "ename": "FileNotFoundError",
     "evalue": "[Errno 2] No such file or directory: 'reading_file.txt'",
     "output_type": "error",
     "traceback": [
      "\u001b[1;31m---------------------------------------------------------------------------\u001b[0m",
      "\u001b[1;31mFileNotFoundError\u001b[0m                         Traceback (most recent call last)",
      "\u001b[1;32m<ipython-input-1-66e59b988574>\u001b[0m in \u001b[0;36m<module>\u001b[1;34m\u001b[0m\n\u001b[0;32m      1\u001b[0m \u001b[1;31m# 'r' means read-only, it's assumed if you leave it out\u001b[0m\u001b[1;33m\u001b[0m\u001b[1;33m\u001b[0m\u001b[1;33m\u001b[0m\u001b[0m\n\u001b[1;32m----> 2\u001b[1;33m \u001b[0mfile_for_reading\u001b[0m \u001b[1;33m=\u001b[0m \u001b[0mopen\u001b[0m\u001b[1;33m(\u001b[0m\u001b[1;34m'reading_file.txt'\u001b[0m\u001b[1;33m,\u001b[0m \u001b[1;34m'r'\u001b[0m\u001b[1;33m)\u001b[0m\u001b[1;33m\u001b[0m\u001b[1;33m\u001b[0m\u001b[0m\n\u001b[0m\u001b[0;32m      3\u001b[0m \u001b[0mfile_for_reading2\u001b[0m \u001b[1;33m=\u001b[0m \u001b[0mopen\u001b[0m\u001b[1;33m(\u001b[0m\u001b[1;34m'reading_file.txt'\u001b[0m\u001b[1;33m)\u001b[0m\u001b[1;33m\u001b[0m\u001b[1;33m\u001b[0m\u001b[0m\n\u001b[0;32m      4\u001b[0m \u001b[1;33m\u001b[0m\u001b[0m\n\u001b[0;32m      5\u001b[0m \u001b[1;31m# 'w' is write -- will destroy the file if it already exists!\u001b[0m\u001b[1;33m\u001b[0m\u001b[1;33m\u001b[0m\u001b[1;33m\u001b[0m\u001b[0m\n",
      "\u001b[1;31mFileNotFoundError\u001b[0m: [Errno 2] No such file or directory: 'reading_file.txt'"
     ]
    }
   ],
   "source": [
    "# 'r' means read-only, it's assumed if you leave it out\n",
    "file_for_reading = open('reading_file.txt', 'r')\n",
    "file_for_reading2 = open('reading_file.txt')\n",
    "\n",
    "# 'w' is write -- will destroy the file if it already exists!\n",
    "# if the file does not exists, then it will be created.\n",
    "file_for_writing = open('writing_file.txt', 'w')\n",
    "\n",
    "# 'a' is append -- for adding to the end of the file\n",
    "# Just like the 'w' mode above, the file will be created\n",
    "# if it doesn't already exists.\n",
    "file_for_appending = open('appending_file.txt', 'a')\n",
    "\n",
    "# don't forget to close your files when you're done\n",
    "file_for_reading.close()\n",
    "file_for_reading2.close()\n",
    "file_for_writing.close()\n",
    "file_for_appending.close()"
   ]
  },
  {
   "cell_type": "markdown",
   "metadata": {},
   "source": [
    "Because it is easy to forget to close your files, you should always use them in a `with` block, at the end of which they will be closed automatically:"
   ]
  },
  {
   "cell_type": "code",
   "execution_count": 2,
   "metadata": {},
   "outputs": [
    {
     "ename": "FileNotFoundError",
     "evalue": "[Errno 2] No such file or directory: 'input.txt'",
     "output_type": "error",
     "traceback": [
      "\u001b[1;31m---------------------------------------------------------------------------\u001b[0m",
      "\u001b[1;31mFileNotFoundError\u001b[0m                         Traceback (most recent call last)",
      "\u001b[1;32m<ipython-input-2-31b782697fc0>\u001b[0m in \u001b[0;36m<module>\u001b[1;34m\u001b[0m\n\u001b[0;32m      4\u001b[0m \u001b[1;33m\u001b[0m\u001b[0m\n\u001b[0;32m      5\u001b[0m \u001b[1;31m# the with block ensures automatic and graceful acquisition and release of resources\u001b[0m\u001b[1;33m\u001b[0m\u001b[1;33m\u001b[0m\u001b[1;33m\u001b[0m\u001b[0m\n\u001b[1;32m----> 6\u001b[1;33m \u001b[1;32mwith\u001b[0m \u001b[0mopen\u001b[0m\u001b[1;33m(\u001b[0m\u001b[1;34m'input.txt'\u001b[0m\u001b[1;33m)\u001b[0m \u001b[1;32mas\u001b[0m \u001b[0mf\u001b[0m\u001b[1;33m:\u001b[0m\u001b[1;33m\u001b[0m\u001b[1;33m\u001b[0m\u001b[0m\n\u001b[0m\u001b[0;32m      7\u001b[0m     \u001b[1;32mfor\u001b[0m \u001b[0mline\u001b[0m \u001b[1;32min\u001b[0m \u001b[0mf\u001b[0m\u001b[1;33m:\u001b[0m                  \u001b[1;31m# look at each line in the file\u001b[0m\u001b[1;33m\u001b[0m\u001b[1;33m\u001b[0m\u001b[0m\n\u001b[0;32m      8\u001b[0m         \u001b[1;32mif\u001b[0m \u001b[0mre\u001b[0m\u001b[1;33m.\u001b[0m\u001b[0mmatch\u001b[0m\u001b[1;33m(\u001b[0m\u001b[1;34m\"^#\"\u001b[0m\u001b[1;33m,\u001b[0m\u001b[0mline\u001b[0m\u001b[1;33m)\u001b[0m\u001b[1;33m:\u001b[0m     \u001b[1;31m# use a regex to see if it starts with '#'\u001b[0m\u001b[1;33m\u001b[0m\u001b[1;33m\u001b[0m\u001b[0m\n",
      "\u001b[1;31mFileNotFoundError\u001b[0m: [Errno 2] No such file or directory: 'input.txt'"
     ]
    }
   ],
   "source": [
    "import re\n",
    "\n",
    "starts_with_hash = 0\n",
    "\n",
    "# the with block ensures automatic and graceful acquisition and release of resources\n",
    "with open('input.txt') as f:\n",
    "    for line in f:                  # look at each line in the file\n",
    "        if re.match(\"^#\",line):     # use a regex to see if it starts with '#'\n",
    "            starts_with_hash += 1   # if it does, add 1 to the count\n",
    "\n",
    "print(f\"number of lines that starts with # is {starts_with_hash}\")"
   ]
  },
  {
   "cell_type": "markdown",
   "metadata": {},
   "source": [
    "Every line you get this way ends in a newline character, so you’ll often want to strip it before doing anything with it.\n",
    "\n",
    "For example, imagine you have a file full of email addresses, one per line, and you need to generate a histogram of the domains. We will assume the domain is the part of the email addresses that comes after the @.\n",
    "\n",
    "Note that in Python 3, Python will, by default, handle different line separator characters from different OS and convert them all into '\\n', and vice-versa."
   ]
  },
  {
   "cell_type": "code",
   "execution_count": 3,
   "metadata": {},
   "outputs": [],
   "source": [
    "# Here we are creating our example file containing some email addresses, one per line\n",
    "with open('email_addresses.txt', 'w') as f:\n",
    "    f.write(\"joelgrus@gmail.com\\n\")\n",
    "    f.write(\"joel@m.datasciencester.com\\n\")\n",
    "    f.write(\"joelgrus@m.datasciencester.com\\n\")"
   ]
  },
  {
   "cell_type": "code",
   "execution_count": 4,
   "metadata": {},
   "outputs": [
    {
     "name": "stdout",
     "output_type": "stream",
     "text": [
      "Counter({'m.datasciencester.com': 2, 'gmail.com': 1})\n"
     ]
    }
   ],
   "source": [
    "def get_domain(email_address: str) -> str:\n",
    "    \"\"\"Split on '@' and return the last piece\"\"\"\n",
    "    return email_address.lower().split(\"@\")[-1]\n",
    "\n",
    "# a couple of tests\n",
    "assert get_domain('joelgrus@gmail.com') == 'gmail.com'\n",
    "assert get_domain('joel@m.datasciencester.com') == 'm.datasciencester.com'\n",
    "\n",
    "from collections import Counter\n",
    "\n",
    "with open('email_addresses.txt', 'r') as f:\n",
    "    domain_counts = Counter(get_domain(line.strip())\n",
    "                            for line in f\n",
    "                            if \"@\" in line)\n",
    "\n",
    "print(domain_counts)"
   ]
  },
  {
   "cell_type": "markdown",
   "metadata": {},
   "source": [
    "## Delimited Files"
   ]
  },
  {
   "cell_type": "markdown",
   "metadata": {},
   "source": [
    "The hypothetical email addresses file we just processed had one address per line. More frequently you’ll work with files with lots of data on each line.\n",
    "\n",
    "These files are very often either *comma-separated* or *tab-separated*: each line has several fields, with a comma or a tab indicating where one field ends and the next field starts.\n",
    "\n",
    "This starts to get complicated when you have fields with commas and tabs and newlines in them (which you inevitably will). For this reason, you should never try to parse them yourself. Instead, you should use Python’s `csv` module (or the `pandas` library, or some other library that’s designed to read comma-separated or tab delimited files).\n",
    "\n",
    "If your file has no headers (which means you probably want each row as a list, and which places the burden on you to know what’s in each column), you can use `csv.reader` to iterate over the rows, each of which will be an appropriately split list.\n",
    "\n",
    "For example, if we had a tab-delimited file of stock prices:"
   ]
  },
  {
   "cell_type": "code",
   "execution_count": 8,
   "metadata": {},
   "outputs": [],
   "source": [
    "with open('tab_delimited_stock_prices.txt', 'w') as f:\n",
    "    f.write(\"\"\"6/20/2020\\tAAPL\\t90.91\n",
    "6/20/2020\\tMSFT\\t41.68\n",
    "6/20/2020\\tFB\\t64.5\n",
    "6/19/2020\\tAAPL\\t91.86\n",
    "6/19/2020\\tMSFT\\t41.51\n",
    "6/19/2020\\tFB\\t64.34\n",
    "\"\"\")"
   ]
  },
  {
   "cell_type": "markdown",
   "metadata": {},
   "source": [
    "we could process them with:"
   ]
  },
  {
   "cell_type": "code",
   "execution_count": 9,
   "metadata": {},
   "outputs": [
    {
     "name": "stdout",
     "output_type": "stream",
     "text": [
      "The closing price of AAPL on 6/20/2020 is $90.91.\n",
      "The closing price of MSFT on 6/20/2020 is $41.68.\n",
      "The closing price of FB on 6/20/2020 is $64.5.\n",
      "The closing price of AAPL on 6/19/2020 is $91.86.\n",
      "The closing price of MSFT on 6/19/2020 is $41.51.\n",
      "The closing price of FB on 6/19/2020 is $64.34.\n"
     ]
    }
   ],
   "source": [
    "def process(date: str, symbol: str, closing_price: float) -> None:\n",
    "    # this function could be redesigned to do other things.\n",
    "    print(f\"The closing price of {symbol} on {date} is ${closing_price}.\")\n",
    "\n",
    "import csv\n",
    "\n",
    "with open('tab_delimited_stock_prices.txt') as f:\n",
    "    tab_reader = csv.reader(f, delimiter='\\t')\n",
    "    for row in tab_reader:\n",
    "        date = row[0]\n",
    "        symbol = row[1]\n",
    "        closing_price = float(row[2])\n",
    "        process(date, symbol, closing_price)"
   ]
  },
  {
   "cell_type": "markdown",
   "metadata": {},
   "source": [
    "If your file has headers, you can either skip the header row with an initial call to `reader.next`, or get each row as a dict (with the headers as keys) by using `csv.DictReader`:"
   ]
  },
  {
   "cell_type": "code",
   "execution_count": 10,
   "metadata": {},
   "outputs": [],
   "source": [
    "# Note that we are creating a colon separated file\n",
    "with open('colon_delimited_stock_prices.txt', 'w') as f:\n",
    "    f.write(\"\"\"date:symbol:closing_price\n",
    "6/20/2020:AAPL:90.91\n",
    "6/20/2020:MSFT:41.68\n",
    "6/20/2020:FB:64.5\n",
    "\"\"\")"
   ]
  },
  {
   "cell_type": "code",
   "execution_count": 11,
   "metadata": {},
   "outputs": [
    {
     "name": "stdout",
     "output_type": "stream",
     "text": [
      "dict_row = {'date': '6/20/2020', 'symbol': 'AAPL', 'closing_price': '90.91'}\n",
      "The closing price of AAPL on 6/20/2020 is $90.91.\n",
      "dict_row = {'date': '6/20/2020', 'symbol': 'MSFT', 'closing_price': '41.68'}\n",
      "The closing price of MSFT on 6/20/2020 is $41.68.\n",
      "dict_row = {'date': '6/20/2020', 'symbol': 'FB', 'closing_price': '64.5'}\n",
      "The closing price of FB on 6/20/2020 is $64.5.\n"
     ]
    }
   ],
   "source": [
    "with open('colon_delimited_stock_prices.txt') as f:\n",
    "    colon_reader = csv.DictReader(f, delimiter=':')\n",
    "    for dict_row in colon_reader:\n",
    "        print(f\"dict_row = {dict_row}\")\n",
    "        date = dict_row[\"date\"]\n",
    "        symbol = dict_row[\"symbol\"]\n",
    "        closing_price = float(dict_row[\"closing_price\"])\n",
    "        process(date, symbol, closing_price)"
   ]
  },
  {
   "cell_type": "markdown",
   "metadata": {},
   "source": [
    "Even if your file doesn’t have headers, you can still use DictReader by passing it the keys as a fieldnames parameter."
   ]
  },
  {
   "cell_type": "code",
   "execution_count": 12,
   "metadata": {},
   "outputs": [
    {
     "name": "stdout",
     "output_type": "stream",
     "text": [
      "dict_row = {'Date': '6/20/2020', 'Symbol': 'AAPL', 'Closing_price': '90.91'}\n",
      "The closing price of AAPL on 6/20/2020 is $90.91.\n",
      "dict_row = {'Date': '6/20/2020', 'Symbol': 'MSFT', 'Closing_price': '41.68'}\n",
      "The closing price of MSFT on 6/20/2020 is $41.68.\n",
      "dict_row = {'Date': '6/20/2020', 'Symbol': 'FB', 'Closing_price': '64.5'}\n",
      "The closing price of FB on 6/20/2020 is $64.5.\n",
      "dict_row = {'Date': '6/19/2020', 'Symbol': 'AAPL', 'Closing_price': '91.86'}\n",
      "The closing price of AAPL on 6/19/2020 is $91.86.\n",
      "dict_row = {'Date': '6/19/2020', 'Symbol': 'MSFT', 'Closing_price': '41.51'}\n",
      "The closing price of MSFT on 6/19/2020 is $41.51.\n",
      "dict_row = {'Date': '6/19/2020', 'Symbol': 'FB', 'Closing_price': '64.34'}\n",
      "The closing price of FB on 6/19/2020 is $64.34.\n"
     ]
    }
   ],
   "source": [
    "with open('tab_delimited_stock_prices.txt') as f:\n",
    "    tab_dictreader = csv.DictReader(f, delimiter='\\t', fieldnames = [\"Date\", \"Symbol\", \"Closing_price\"])\n",
    "    for dict_row in tab_dictreader:\n",
    "        print(f\"dict_row = {dict_row}\")\n",
    "        date = dict_row[\"Date\"]\n",
    "        symbol = dict_row[\"Symbol\"]\n",
    "        closing_price = float(dict_row[\"Closing_price\"])\n",
    "        process(date, symbol, closing_price)"
   ]
  },
  {
   "cell_type": "markdown",
   "metadata": {},
   "source": [
    "You can similarly write out delimited data using `csv.writer`:"
   ]
  },
  {
   "cell_type": "code",
   "execution_count": 13,
   "metadata": {},
   "outputs": [],
   "source": [
    "todays_prices = {'AAPL': 90.91, 'MSFT': 41.68, 'FB': 64.5 }\n",
    "\n",
    "# the newline=\"\\n\" part is necessary on Windows, newline=\"\" would also work\n",
    "with open('comma_delimited_stock_prices.txt', 'w', newline=\"\\n\") as f:\n",
    "    csv_writer = csv.writer(f, delimiter=',')\n",
    "    for stock, price in todays_prices.items():\n",
    "        csv_writer.writerow([stock, price])"
   ]
  },
  {
   "cell_type": "code",
   "execution_count": null,
   "metadata": {},
   "outputs": [],
   "source": []
  }
 ],
 "metadata": {
  "kernelspec": {
   "display_name": "Python 3",
   "language": "python",
   "name": "python3"
  },
  "language_info": {
   "codemirror_mode": {
    "name": "ipython",
    "version": 3
   },
   "file_extension": ".py",
   "mimetype": "text/x-python",
   "name": "python",
   "nbconvert_exporter": "python",
   "pygments_lexer": "ipython3",
   "version": "3.8.3"
  }
 },
 "nbformat": 4,
 "nbformat_minor": 4
}
