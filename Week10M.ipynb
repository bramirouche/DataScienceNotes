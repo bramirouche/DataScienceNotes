{
 "cells": [
  {
   "cell_type": "markdown",
   "metadata": {},
   "source": [
    "# Clustering (Continued)"
   ]
  },
  {
   "cell_type": "code",
   "execution_count": null,
   "metadata": {},
   "outputs": [],
   "source": [
    "from Week09R import *"
   ]
  },
  {
   "cell_type": "markdown",
   "metadata": {},
   "source": [
    "## Example: Clustering Colors"
   ]
  },
  {
   "cell_type": "markdown",
   "metadata": {},
   "source": [
    "The VP of Swag has designed attractive stickers that he’d like you to\n",
    "hand out at meetups. Unfortunately, your sticker printer can print at most five colors\n",
    "per sticker. And since the VP of Art is on sabbatical, the VP of Swag asks if there’s\n",
    "some way you can take his design and modify it so that it contains only five colors.\n",
    "\n",
    "Computer images can be represented as two-dimensional arrays of pixels, where each\n",
    "pixel is itself a three-dimensional vector `(red, green, blue)` indicating its color (note: sometimes there's a fourth dimension used to indicate the level of transparency, but we will not deal with it here).\n",
    "\n",
    "Creating a five-color version of the image, then, entails:\n",
    "1. Choosing five colors.\n",
    "2. Assigning one of those colors to each pixel.\n",
    "\n",
    "It turns out this is a great task for k-means clustering, which can partition the pixels\n",
    "into five clusters in red-green-blue space. If we then recolor the pixels in each cluster\n",
    "to the mean color, we’re done.\n",
    "\n",
    "To start with, we’ll need a way to load an image into Python. We can do this with matplotlib,\n",
    "if we first install the `pillow` library:"
   ]
  },
  {
   "cell_type": "code",
   "execution_count": null,
   "metadata": {},
   "outputs": [],
   "source": [
    "# pillow is pre-installed with Anaconda, so only manually install it if you did not install anaconda \n",
    "!python -m pip install pillow"
   ]
  },
  {
   "cell_type": "markdown",
   "metadata": {},
   "source": [
    "Then we can just use `matplotlib.image.imread`:"
   ]
  },
  {
   "cell_type": "code",
   "execution_count": null,
   "metadata": {},
   "outputs": [],
   "source": [
    "image_path = r\"Uga_X.jpg\"             # or wherever your image is\n",
    "import matplotlib.image as mpimg\n",
    "img = mpimg.imread(image_path) / 256  # rescale to between 0 and 1"
   ]
  },
  {
   "cell_type": "markdown",
   "metadata": {},
   "source": [
    "The image we just loaded is one of Uga X. Of course, you could try other images as well.\n",
    "\n",
    "![Uga_X](Uga_X.jpg)"
   ]
  },
  {
   "cell_type": "markdown",
   "metadata": {},
   "source": [
    "Behind the scenes `img` is a NumPy array, but for our purposes, we can treat it as a 3-dimensional list."
   ]
  },
  {
   "cell_type": "code",
   "execution_count": null,
   "metadata": {},
   "outputs": [],
   "source": [
    "print(type(img))\n",
    "print(img.shape)"
   ]
  },
  {
   "cell_type": "markdown",
   "metadata": {},
   "source": [
    "`img[i][j]` is the pixel in the *i*th row and *j*th column, and each pixel is a list `[red, green, blue]` of numbers between 0 and 1 indicating the color of that pixel:"
   ]
  },
  {
   "cell_type": "code",
   "execution_count": null,
   "metadata": {},
   "outputs": [],
   "source": [
    "top_row = img[0]\n",
    "top_left_pixel = top_row[0]\n",
    "red, green, blue = top_left_pixel\n",
    "\n",
    "print(f\"top row =\\n{top_row}\\n\")\n",
    "print(f\"top_left_pixel = {top_left_pixel}\")\n",
    "print(f\"red, green, blue = {red}, {green}, {blue}\")"
   ]
  },
  {
   "cell_type": "markdown",
   "metadata": {},
   "source": [
    "In particular, we can get a flattened list of all the pixels as:"
   ]
  },
  {
   "cell_type": "code",
   "execution_count": null,
   "metadata": {},
   "outputs": [],
   "source": [
    "# .tolist() converts a numpy array to a Python list\n",
    "pixels = [pixel.tolist() for row in img for pixel in row]\n",
    "\n",
    "print(type(pixels))\n",
    "print(len(pixels)) # 55000 = 275 * 200\n",
    "print(pixels[0])"
   ]
  },
  {
   "cell_type": "markdown",
   "metadata": {},
   "source": [
    "and then feed them to our clusterer:"
   ]
  },
  {
   "cell_type": "code",
   "execution_count": null,
   "metadata": {},
   "outputs": [],
   "source": [
    "clusterer = KMeans(5)\n",
    "clusterer.train(pixels)   # this might take a while"
   ]
  },
  {
   "cell_type": "markdown",
   "metadata": {},
   "source": [
    "Once it finishes, we just construct a new image with the same format:"
   ]
  },
  {
   "cell_type": "code",
   "execution_count": null,
   "metadata": {},
   "outputs": [],
   "source": [
    "def recolor(pixel: Vector) -> Vector:\n",
    "    cluster = clusterer.classify(pixel)        # index of the closest cluster\n",
    "    return clusterer.means[cluster]            # mean of the closest cluster"
   ]
  },
  {
   "cell_type": "code",
   "execution_count": null,
   "metadata": {},
   "outputs": [],
   "source": [
    "new_img = [[recolor(pixel) for pixel in row]   # recolor this row of pixels\n",
    "           for row in img]                     # for each row in the image"
   ]
  },
  {
   "cell_type": "markdown",
   "metadata": {},
   "source": [
    "and display it, using `plt.imshow`:"
   ]
  },
  {
   "cell_type": "code",
   "execution_count": null,
   "metadata": {},
   "outputs": [],
   "source": [
    "plt.rcParams['figure.figsize'] = (5, 5)\n",
    "\n",
    "plt.imshow(new_img)\n",
    "plt.axis('off')\n",
    "plt.show()"
   ]
  }
 ],
 "metadata": {
  "kernelspec": {
   "display_name": "Python 3",
   "language": "python",
   "name": "python3"
  },
  "language_info": {
   "codemirror_mode": {
    "name": "ipython",
    "version": 3
   },
   "file_extension": ".py",
   "mimetype": "text/x-python",
   "name": "python",
   "nbconvert_exporter": "python",
   "pygments_lexer": "ipython3",
   "version": "3.8.3"
  }
 },
 "nbformat": 4,
 "nbformat_minor": 4
}
