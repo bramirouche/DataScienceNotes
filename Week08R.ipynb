{
 "cells": [
  {
   "cell_type": "markdown",
   "metadata": {},
   "source": [
    "# Multiple Regression (Continued)"
   ]
  },
  {
   "cell_type": "code",
   "execution_count": 2,
   "metadata": {},
   "outputs": [
    {
     "name": "stdout",
     "output_type": "stream",
     "text": [
      "6\n",
      "36\n",
      "[30.57901916  0.97250508 -1.86503636  0.92319974]\n",
      "x = [-100, -90, -80, -70, -60, -50, -40, -30, -20, -10, 0, 10, 20, 30, 40, 50, 60, 70, 80, 90, 100]\n",
      "y = [-305, -275, -245, -215, -185, -155, -125, -95, -65, -35, -5, 25, 55, 85, 115, 145, 175, 205, 235, 265, 295]\n",
      "alpha, beta = (-5.0, 3.0)\n",
      "alpha = 22.947552413468976\n",
      "beta  = 0.9038659456058724\n"
     ]
    },
    {
     "data": {
      "image/png": "[encoded data removed]",
      "text/plain": [
       "<Figure size 432x288 with 1 Axes>"
      ]
     },
     "metadata": {
      "needs_background": "light"
     },
     "output_type": "display_data"
    },
    {
     "name": "stdout",
     "output_type": "stream",
     "text": [
      "rsq    = 0.3291078377836305\n",
      "rsq_sk = 0.32910783778362984\n",
      "r      = 0.57367921156656\n",
      "r^2    = 0.3291078377836299\n",
      "22.947552413468976\n",
      "0.9038659456058724\n",
      "[22.94755232  0.90386594]\n",
      "0.6800110181375751\n",
      "[99.96095009117559, 99.95263765859517, 99.91193675347006, 99.91193675347006, 100.00470211842705, 99.99027449327097, 99.96095009117559, 99.97935713972757, 99.9214102832018, 99.96512568779217, 99.99122691761812, 100.00432599511797, 100.07833662317373, 99.95263765859517, 100.00432599511797, 99.99122691761812, 99.99746144281467, 99.96095009117559, 99.99746144281467, 100.04976976287276, 99.93803411789321, 99.95263765859517, 99.99005515170228, 99.93803411789321, 100.04976976287276, 99.99005515170228, 99.89921066573656, 100.00432599511797, 100.00470211842705, 99.8688480793524, 99.97935713972757, 99.9370472765449, 99.99005515170228, 99.99005515170228, 99.99122691761812, 99.99027449327097, 99.96512568779217, 99.9370472765449, 99.99746144281467, 99.99122691761812, 99.97935713972757, 100.04976976287276, 99.96512568779217, 99.96512568779217, 99.99122691761812, 99.96512568779217, 99.93803411789321, 99.9214102832018, 99.99005515170228, 99.97935713972757, 100.04976976287276, 100.00470211842705, 99.89921066573656, 100.0855977500806, 99.99746144281467, 99.93803411789321, 100.00470211842705, 99.96512568779217, 99.91193675347006, 100.00470211842705, 99.99027449327097, 99.93803411789321, 99.90948021062609, 99.9370472765449, 100.15502248786014, 99.99122691761812, 99.96095009117559, 99.96095009117559, 99.91193675347006, 99.93803411789321, 99.92741759106502, 100.06271798669103, 99.89921066573656, 99.91193675347006, 99.99746144281467, 99.86301239848187, 99.99027449327097, 99.87106789409304, 99.9370472765449, 99.95263765859517, 99.95263765859517, 99.95263765859517, 99.92741759106502, 100.04370627041372, 99.99122691761812, 100.00470211842705, 99.97935713972757, 100.04370627041372, 99.92741759106502, 100.04370627041372, 99.99746144281467, 100.00470211842705, 99.93803411789321, 99.99122691761812, 100.00432599511797, 99.99746144281467, 99.97935713972757, 99.92741759106502, 99.97935713972757, 99.97935713972757]\n",
      "[200.24545532841594, 200.23882573978636, 200.0028348416519, 0.99078249125093, 200.179314655564, 200.20457643744942, 200.20457643744942, 0.9896539145481478, 0.7842758383216327, 0.8588263949410608, 0.99078249125093, 0.8230595720161585, 100.46468898997936, 200.179314655564, 200.20457643744942, 200.2081921050542, 0.99078249125093, 0.99078249125093, 0.99078249125093, 0.99078249125093, 200.2327152920556, 200.0028348416519, 100.46468898997936, 200.11980581455572, 0.9896539145481478, 200.179314655564, 0.7070663473305339, 200.2327152920556, 0.7122662875131835, 200.20457643744942, 200.2081921050542, 0.99078249125093, 0.8588263949410608, 0.9896539145481478, 100.46468898997936, 0.99078249125093, 0.8588263949410608, 100.46468898997936, 200.20457643744942, 200.11980581455572, 200.20457643744942, 0.8883760820676836, 200.20457643744942, 200.0028348416519, 0.7592822773191761, 200.2081921050542, 200.23882573978636, 200.2081921050542, 200.11980581455572, 0.9043976944967148, 0.8588263949410608, 200.11980581455572, 200.179314655564, 0.7070663473305339, 0.9896539145481478, 200.0028348416519, 200.23882573978636, 200.2081921050542, 200.2327152920556, 0.9896539145481478, 200.24545532841594, 0.7070663473305339, 0.6175796461520031, 200.20457643744942, 100.46468898997936, 200.31337057348375, 0.7122662875131835, 200.179314655564, 100.46468898997936, 200.11980581455572, 200.0028348416519, 0.8588263949410608, 0.99078249125093, 0.9043976944967148, 0.9896539145481478, 100.46468898997936, 0.9896539145481478, 0.8883760820676836, 0.99078249125093, 0.99078249125093, 0.8883760820676836, 200.2081921050542, 100.46468898997936, 0.9043976944967148, 200.0028348416519, 100.46468898997936, 200.2081921050542, 200.2349650782973, 0.9896539145481478, 200.339218556158, 100.46468898997936, 200.23882573978636, 0.99078249125093, 200.20457643744942, 0.8230595720161585, 0.99078249125093, 0.6921140895021592, 200.2327152920556, 0.8230595720161585, 0.7842758383216327]\n",
      "0.04794314163424293\n",
      "95.00680440654031\n"
     ]
    }
   ],
   "source": [
    "from Week07R import *"
   ]
  },
  {
   "cell_type": "markdown",
   "metadata": {},
   "source": [
    "## Standard Errors of Regression Coefficients"
   ]
  },
  {
   "cell_type": "markdown",
   "metadata": {},
   "source": [
    "We can take the same approach to estimating the standard errors of our regression\n",
    "coefficients. We repeatedly take a `bootstrap_sample` of our data and estimate `beta`\n",
    "based on that sample.\n",
    "\n",
    "If the coefficient corresponding to one of the independent variables\n",
    "(say, `num_friends`) doesn’t vary much across samples, then we can be confident\n",
    "that our estimate is relatively tight.\n",
    "\n",
    "If the coefficient varies greatly across samples,\n",
    "then we can’t be at all confident in our estimate.\n",
    "\n",
    "The only subtlety is that, before sampling, we’ll need to `zip` our `x` data and `y` data to\n",
    "make sure that corresponding values of the independent and dependent variables are\n",
    "sampled together. This means that bootstrap_sample will return a list of pairs `(x_i,\n",
    "y_i)`, which we’ll need to reassemble into an `x_sample` and a `y_sample`:"
   ]
  },
  {
   "cell_type": "code",
   "execution_count": 3,
   "metadata": {},
   "outputs": [
    {
     "name": "stdout",
     "output_type": "stream",
     "text": [
      "bootstrap sample [29.99254269  1.07613367 -1.91577668  1.186479  ]\n",
      "bootstrap sample [30.48648594  0.97709026 -2.04192789  2.78209906]\n",
      "bootstrap sample [29.08889978  0.99449705 -1.66092671  1.80551976]\n",
      "bootstrap sample [30.92577745  0.96810846 -1.90614804  0.9633214 ]\n",
      "bootstrap sample [31.9090143   0.96017802 -2.00755542  1.30937309]\n",
      "bootstrap sample [31.9411427   0.91839887 -1.9199091  -1.2616056 ]\n",
      "bootstrap sample [ 3.12378020e+01  9.65547464e-01 -1.98724855e+00 -1.72733631e-02]\n",
      "bootstrap sample [29.85896791  0.98057948 -1.76696754  0.76224239]\n",
      "bootstrap sample [30.25765875  0.95966604 -1.84749705  0.89937278]\n",
      "bootstrap sample [31.03285893  0.99048218 -1.93527769  0.04375235]\n",
      "bootstrap sample [29.64814453  1.19213649 -1.97104106  0.50764887]\n",
      "bootstrap sample [31.26240567  0.9619901  -1.92961632  0.9808242 ]\n",
      "bootstrap sample [29.7519696   0.98349785 -1.89373714  2.52523667]\n",
      "bootstrap sample [31.05247365  0.964177   -2.04809218  0.57252437]\n",
      "bootstrap sample [31.36499487  0.94962039 -1.95565568 -0.36168892]\n",
      "bootstrap sample [32.1391261   0.93135134 -1.86115349  0.31444917]\n",
      "bootstrap sample [29.07869928  1.06942495 -1.74106906  1.74660131]\n",
      "bootstrap sample [30.47853718  1.0306084  -1.87546543  0.93240545]\n",
      "bootstrap sample [29.118747    1.0268878  -1.66287285  0.77200734]\n",
      "bootstrap sample [29.91810592  0.94771359 -1.72524314  0.69016003]\n",
      "bootstrap sample [30.9725508   0.98221304 -2.03976368  0.91637637]\n",
      "bootstrap sample [31.67028362  0.98564891 -1.95731717  1.11833275]\n",
      "bootstrap sample [30.66350243  1.00220195 -1.69190739  0.15102007]\n",
      "bootstrap sample [29.53247582  0.98120901 -1.77409101  1.29093426]\n",
      "bootstrap sample [31.36821503  0.96440808 -1.85965728  0.14273678]\n",
      "bootstrap sample [30.50072882  0.91520496 -1.72101127  1.13846041]\n",
      "bootstrap sample [29.00197244  1.01386647 -1.65714744  1.93571682]\n",
      "bootstrap sample [28.70952348  1.2152913  -1.93988165  2.18774854]\n",
      "bootstrap sample [32.27637122  0.88141644 -1.77111382 -0.26732895]\n",
      "bootstrap sample [30.33481904  0.96994352 -1.8595447   1.18287721]\n",
      "bootstrap sample [31.31365769  0.87563818 -1.80716714  0.64513445]\n",
      "bootstrap sample [30.82621294  1.09509729 -2.0656235   1.12982912]\n",
      "bootstrap sample [29.6298574   1.05072285 -1.86487982  1.74546358]\n",
      "bootstrap sample [30.24729906  1.02397437 -1.7402935   0.72949528]\n",
      "bootstrap sample [30.81220624  0.91671031 -1.8554843   0.3276007 ]\n",
      "bootstrap sample [30.6476822   1.02416117 -1.92964505  0.86470864]\n",
      "bootstrap sample [30.27775727  0.96165225 -1.92093166  1.36598217]\n",
      "bootstrap sample [30.94874614  0.91327775 -1.78634616  0.52424744]\n",
      "bootstrap sample [29.40266401  1.03464604 -1.79428613  1.70154525]\n",
      "bootstrap sample [30.41837804  0.95678627 -1.6665491   0.14670904]\n",
      "bootstrap sample [29.80954005  1.03271683 -1.88634234  2.2513621 ]\n",
      "bootstrap sample [30.59751792  0.96801401 -1.91841684  0.27389774]\n",
      "bootstrap sample [32.04435679  0.85079536 -1.7924627  -0.29738921]\n",
      "bootstrap sample [30.54549214  0.97841181 -1.92541186  1.43901177]\n",
      "bootstrap sample [30.71307553  1.01641181 -2.03984644  0.55130752]\n",
      "bootstrap sample [28.66709948  1.19389698 -1.9009651   3.1420133 ]\n",
      "bootstrap sample [31.03873982  0.93613473 -1.75847565 -0.52651966]\n",
      "bootstrap sample [31.27639953  0.98229338 -1.96127708  0.26805169]\n",
      "bootstrap sample [30.6059597   0.92532554 -1.67836968  0.22166594]\n",
      "bootstrap sample [29.92359568  1.01285075 -1.84132103  1.29117114]\n",
      "bootstrap sample [29.30797044  1.03734968 -1.89568883  1.92659126]\n",
      "bootstrap sample [31.91319422  1.04609031 -2.19160616  0.48603119]\n",
      "bootstrap sample [30.71393975  0.9788512  -1.87738266 -0.36637238]\n",
      "bootstrap sample [30.13585832  0.98351202 -1.98938429  1.99437482]\n",
      "bootstrap sample [30.42083978  0.9031125  -1.68217428  0.2373177 ]\n",
      "bootstrap sample [30.99408345  0.95465657 -1.90338029  0.92479059]\n",
      "bootstrap sample [31.32268654  0.9352907  -1.95931755  1.83730899]\n",
      "bootstrap sample [29.46781258  1.0505605  -1.80252331  2.53989638]\n",
      "bootstrap sample [30.76188207  0.94102822 -1.77014108  0.60320139]\n",
      "bootstrap sample [30.49096529  0.98463056 -1.85414689  1.58829403]\n",
      "bootstrap sample [31.2502478   0.99758743 -2.00835181  0.73105601]\n",
      "bootstrap sample [31.02161793  0.93700546 -1.85127036  1.1160914 ]\n",
      "bootstrap sample [30.25342375  0.99500122 -1.92243456  1.3425932 ]\n",
      "bootstrap sample [30.5595717   0.99123793 -1.86679492  1.43675266]\n",
      "bootstrap sample [31.63312479  0.94989622 -1.98741229  0.30998259]\n",
      "bootstrap sample [31.56211238  0.98464978 -2.0202036  -1.61930462]\n",
      "bootstrap sample [30.22194368  0.95710547 -1.78563548 -0.06531763]\n",
      "bootstrap sample [31.54053723  0.90216552 -1.92874226  0.17090924]\n",
      "bootstrap sample [29.89955854  0.97341514 -1.7599185   1.07495819]\n",
      "bootstrap sample [29.82046596  1.10159911 -2.00768789  2.18607594]\n",
      "bootstrap sample [29.61596075  0.95988021 -1.719295    0.88667752]\n",
      "bootstrap sample [30.92661629  0.88875378 -1.76717895  0.9920636 ]\n",
      "bootstrap sample [30.64094137  0.93878884 -1.89342781  1.21097001]\n",
      "bootstrap sample [32.28397193  0.91062516 -1.89782808 -0.03617572]\n",
      "bootstrap sample [30.99317612  0.9661792  -1.83173208  1.09954545]\n",
      "bootstrap sample [30.56416664  0.95988531 -1.8139402   0.98820395]\n",
      "bootstrap sample [ 3.14153537e+01  9.00532945e-01 -1.81103790e+00 -3.03571341e-02]\n",
      "bootstrap sample [31.14665667  0.97473733 -1.95857281  0.68116921]\n",
      "bootstrap sample [30.08350189  1.01621882 -1.85567253  2.12044309]\n",
      "bootstrap sample [30.92324777  0.95122768 -1.88033218  0.59690737]\n",
      "bootstrap sample [29.88691072  0.9796443  -1.74556106  0.68790523]\n",
      "bootstrap sample [31.01071273  0.9729354  -1.92594753  1.39052056]\n",
      "bootstrap sample [29.60638202  0.97641087 -1.80336459  1.05155955]\n",
      "bootstrap sample [31.2382382   1.039534   -2.10527429  0.44844466]\n",
      "bootstrap sample [29.995068    0.99617282 -1.97248542  2.74681519]\n",
      "bootstrap sample [29.80998865  1.04410452 -1.88003206  0.57058818]\n",
      "bootstrap sample [31.7270947   0.9030095  -1.92755151  0.21619579]\n",
      "bootstrap sample [30.27284299  1.04703429 -2.00015506  2.47389462]\n",
      "bootstrap sample [30.80356591  0.97209252 -1.91861069  1.43934033]\n",
      "bootstrap sample [30.54668445  1.00930119 -1.88267446  0.70052527]\n",
      "bootstrap sample [29.08396111  1.01448633 -1.81614427  2.23458827]\n",
      "bootstrap sample [ 3.08513918e+01  9.08591142e-01 -1.84462594e+00 -2.13534798e-02]\n",
      "bootstrap sample [29.37422057  1.15458579 -1.9185513   2.56373371]\n",
      "bootstrap sample [30.88605112  0.98556532 -1.95599415  0.55921645]\n",
      "bootstrap sample [28.95006684  1.02646793 -1.79966023  2.07098061]\n",
      "bootstrap sample [31.43574111  0.9212371  -1.76126186  0.19851575]\n",
      "bootstrap sample [29.42564282  1.1401611  -1.99657433  2.20523331]\n",
      "bootstrap sample [31.58597817  0.91031616 -1.85908076 -0.41749676]\n",
      "bootstrap sample [30.55160782  0.94217826 -1.90223172  1.14516614]\n",
      "bootstrap sample [31.15968733  0.98288657 -2.01685779  1.34821517]\n"
     ]
    }
   ],
   "source": [
    "from typing import Tuple\n",
    "\n",
    "def estimate_sample_beta(pairs: List[Tuple[Vector, float]]):\n",
    "    x_sample = [x for x, _ in pairs]\n",
    "    y_sample = [y for _, y in pairs]\n",
    "    beta = least_squares_fit(x_sample, y_sample)\n",
    "    print(\"bootstrap sample\", beta)\n",
    "    return beta\n",
    "\n",
    "random.seed(0) # so that you get the same results when you run this code\n",
    "\n",
    "# This might take a little while\n",
    "bootstrap_betas = bootstrap_statistic(list(zip(inputs, daily_minutes_good)),\n",
    "                                      estimate_sample_beta,\n",
    "                                      100)"
   ]
  },
  {
   "cell_type": "markdown",
   "metadata": {},
   "source": [
    "After which we can estimate the standard deviation of each coefficient:"
   ]
  },
  {
   "cell_type": "code",
   "execution_count": 4,
   "metadata": {},
   "outputs": [
    {
     "name": "stdout",
     "output_type": "stream",
     "text": [
      "[30.55408300846275, 0.9850730066827625, -1.8758456514309334, 0.9532287844812876]\n",
      "[0.8464395054173437, 0.06587067787018257, 0.10759600504197035, 0.8852940607411107]\n"
     ]
    }
   ],
   "source": [
    "from statistics import mean\n",
    "\n",
    "bootstrap_standard_errors = [stdev([beta[i] for beta in bootstrap_betas])\n",
    "                             for i in range(4)]\n",
    "\n",
    "bootstrap_param_means = [mean([beta[i] for beta in bootstrap_betas])\n",
    "                             for i in range(4)]\n",
    "\n",
    "print(bootstrap_param_means)\n",
    "print(bootstrap_standard_errors)"
   ]
  },
  {
   "cell_type": "markdown",
   "metadata": {},
   "source": [
    "```python\n",
    "# [0.846, # constant term, actual error = 1.19\n",
    "#  0.066, # num_friends,   actual error = 0.080\n",
    "#  0.107, # work_hours,    actual error = 0.127\n",
    "#  0.885] # phd,           actual error = 0.998\n",
    "```\n",
    "\n",
    "(We would likely get better estimates if we collected a lot more samples to estimate each `beta`, but we don’t have all day.)\n",
    "\n",
    "If you have some background in statistics, you could also go ahead and try to perform a hypothesis test to see if each $\\beta_i$ parameter equals to 0 or not. For which you may be able to compute a \"p-value\", which is the probablility value that has the following interpretation: if we assume that the true $\\beta_i$ parameter is essentially 0, what is the probability of obtaining an actual $\\beta_i$ this extreme from the sample?\n",
    "\n",
    "Or put it simply, **if the p-value for a parameter lower than some signficance threshold (e.g., 0.05 is a common one), then we assume that parameter is actually significant** in predicting the response variable. Please keep this in mind when you use some regression software and it outputs the p-values for the parameters."
   ]
  },
  {
   "cell_type": "markdown",
   "metadata": {},
   "source": [
    "## Regularization"
   ]
  },
  {
   "cell_type": "markdown",
   "metadata": {},
   "source": [
    "In practice, you’d often like to apply linear regression to datasets with large numbers\n",
    "of variables. This creates a couple of extra wrinkles.\n",
    "- First, the more variables you use, the more likely you are to overfit your model to the training set.\n",
    "- Second, the more nonzero coefficients you have, the harder it is to make sense of them (If the goal is to explain some phenomenon, a sparse model with three factors might be more useful than a slightly better model with hundreds).\n",
    "\n",
    "*Regularization* is an approach in which we add to the error term a penalty that gets\n",
    "larger as beta gets larger. We then minimize the combined error and penalty. The\n",
    "more importance we place on the penalty term, the more we discourage large coefficients.\n",
    "\n",
    "For example, in *ridge regression*, we add a penalty proportional to the sum of the\n",
    "squares of the `beta_i` (except that typically we don’t penalize `beta_0`, the constant\n",
    "term):"
   ]
  },
  {
   "cell_type": "code",
   "execution_count": 5,
   "metadata": {},
   "outputs": [],
   "source": [
    "# alpha is a *hyperparameter* controlling how harsh the penalty is\n",
    "# sometimes it's called \"lambda\" but that already means something in Python\n",
    "def ridge_penalty(beta: Vector, alpha: float) -> float:\n",
    "    return alpha * dot(beta[1:], beta[1:])\n",
    "\n",
    "def squared_error_ridge(x: Vector,\n",
    "                        y: float,\n",
    "                        beta: Vector,\n",
    "                        alpha: float) -> float:\n",
    "    \"\"\"estimate error plus ridge penalty on beta\"\"\"\n",
    "    return error(x, y, beta) ** 2 + ridge_penalty(beta, alpha)\n",
    "\n",
    "def sum_of_sqerrors_ridge(xs: List[Vector], ys: Vector, beta: Vector, alpha) -> float:\n",
    "    return sum(squared_error_ridge(x_i, y_i, beta, alpha) for x_i, y_i in zip(xs, ys))"
   ]
  },
  {
   "cell_type": "markdown",
   "metadata": {},
   "source": [
    "We can then plug this into an optimizer in the usual way:"
   ]
  },
  {
   "cell_type": "code",
   "execution_count": 6,
   "metadata": {},
   "outputs": [],
   "source": [
    "def least_squares_fit_ridge(xs: List[Vector], ys: Vector, alpha: float) -> Vector:\n",
    "    \"\"\"\n",
    "    Find the beta that minimizes the sum of squared errors\n",
    "    assuming the model y = dot(x, beta).\n",
    "    \"\"\"\n",
    "    def object_fun (beta: Vector):\n",
    "        return sum_of_sqerrors_ridge (xs, ys, beta, alpha)\n",
    "    \n",
    "    # Start with a random guess\n",
    "    guess = [random.random() for _ in xs[0]]\n",
    "\n",
    "    optim = minimize (object_fun, guess, method='BFGS')\n",
    "    \n",
    "    return optim.x"
   ]
  },
  {
   "cell_type": "markdown",
   "metadata": {},
   "source": [
    "With `alpha` set to 0, there’s no penalty at all and we get the same results as before:"
   ]
  },
  {
   "cell_type": "code",
   "execution_count": 7,
   "metadata": {},
   "outputs": [
    {
     "name": "stdout",
     "output_type": "stream",
     "text": [
      "beta = [30.57901795  0.97250514 -1.86503625  0.92319992]\n",
      "sum of squared betas = 5.276424566658393\n",
      "R^2 = 0.6800110181375747\n"
     ]
    }
   ],
   "source": [
    "random.seed(0)\n",
    "beta_0 = least_squares_fit_ridge(inputs, daily_minutes_good, 0.0)\n",
    "\n",
    "print(f\"beta = {beta_0}\")\n",
    "print(f\"sum of squared betas = {dot(beta_0[1:], beta_0[1:])}\")\n",
    "print(f\"R^2 = {multiple_r_squared(inputs, daily_minutes_good, beta_0)}\")"
   ]
  },
  {
   "cell_type": "markdown",
   "metadata": {},
   "source": [
    "As we increase `alpha`, the goodness of fit gets worse, but the size of `beta` gets smaller:"
   ]
  },
  {
   "cell_type": "code",
   "execution_count": 8,
   "metadata": {
    "scrolled": true
   },
   "outputs": [
    {
     "name": "stdout",
     "output_type": "stream",
     "text": [
      "beta = [30.83476977  0.95146517 -1.84689046  0.54706714]\n",
      "sum of squared betas = 4.615572784013092\n",
      "R^2 = 0.6797434135107308\n"
     ]
    }
   ],
   "source": [
    "beta_0_1 = least_squares_fit_ridge(inputs, daily_minutes_good, 0.1)\n",
    "\n",
    "print(f\"beta = {beta_0_1}\")\n",
    "print(f\"sum of squared betas = {dot(beta_0_1[1:], beta_0_1[1:])}\")\n",
    "print(f\"R^2 = {multiple_r_squared(inputs, daily_minutes_good, beta_0_1)}\")"
   ]
  },
  {
   "cell_type": "code",
   "execution_count": 9,
   "metadata": {},
   "outputs": [
    {
     "name": "stdout",
     "output_type": "stream",
     "text": [
      "beta = [30.66730883  0.90642357 -1.69184946  0.09053743]\n",
      "sum of squared betas = 3.6921553253518407\n",
      "R^2 = 0.6755909879053199\n"
     ]
    }
   ],
   "source": [
    "beta_1 = least_squares_fit_ridge(inputs, daily_minutes_good, 1)\n",
    "\n",
    "print(f\"beta = {beta_1}\")\n",
    "print(f\"sum of squared betas = {dot(beta_1[1:], beta_1[1:])}\")\n",
    "print(f\"R^2 = {multiple_r_squared(inputs, daily_minutes_good, beta_1)}\")"
   ]
  },
  {
   "cell_type": "code",
   "execution_count": 10,
   "metadata": {},
   "outputs": [
    {
     "name": "stdout",
     "output_type": "stream",
     "text": [
      "beta = [ 2.83782374e+01  7.28016018e-01 -9.15431147e-01 -1.83800348e-02]\n",
      "sum of squared betas = 1.3683593325404881\n",
      "R^2 = 0.5737151109381915\n"
     ]
    }
   ],
   "source": [
    "beta_10 = least_squares_fit_ridge(inputs, daily_minutes_good, 10)\n",
    "\n",
    "print(f\"beta = {beta_10}\")\n",
    "print(f\"sum of squared betas = {dot(beta_10[1:], beta_10[1:])}\")\n",
    "print(f\"R^2 = {multiple_r_squared(inputs, daily_minutes_good, beta_10)}\")"
   ]
  },
  {
   "cell_type": "markdown",
   "metadata": {},
   "source": [
    "In particular, the coefficient on “PhD” vanishes as we increase the penalty, which\n",
    "accords with our previous result that it wasn’t significantly different from 0.\n",
    "\n",
    "Note: usually you’d want to rescale your data before using this\n",
    "approach. After all, if you changed years of experience to centuries\n",
    "of experience, its least squares coefficient would increase by a factor\n",
    "of 100 and suddenly get penalized much more, even though it’s\n",
    "the same model.\n",
    "\n",
    "Another approach is *lasso regression*, which uses the penalty:"
   ]
  },
  {
   "cell_type": "code",
   "execution_count": 11,
   "metadata": {},
   "outputs": [],
   "source": [
    "def lasso_penalty(beta, alpha):\n",
    "    return alpha * sum(abs(beta_i) for beta_i in beta[1:])"
   ]
  },
  {
   "cell_type": "markdown",
   "metadata": {},
   "source": [
    "Whereas the ridge penalty shrank the coefficients overall, the lasso penalty tends to\n",
    "force coefficients to be 0, which makes it good for learning sparse models."
   ]
  },
  {
   "cell_type": "markdown",
   "metadata": {},
   "source": [
    "## Linear Regression in scikit-learn"
   ]
  },
  {
   "cell_type": "markdown",
   "metadata": {},
   "source": [
    "Documentation Link: https://scikit-learn.org/stable/modules/linear_model.html\n",
    "\n",
    "This example uses the only the first feature of the `diabetes` dataset, in order to illustrate a two-dimensional plot of this regression technique. The straight line can be seen in the plot, showing how linear regression attempts to draw a straight line that will best minimize the residual sum of squares between the observed responses in the dataset, and the responses predicted by the linear approximation."
   ]
  },
  {
   "cell_type": "code",
   "execution_count": 12,
   "metadata": {},
   "outputs": [
    {
     "name": "stdout",
     "output_type": "stream",
     "text": [
      "Intercept: \n",
      " 152.91886182616167\n",
      "Coefficients: \n",
      " [938.23786125]\n",
      "Mean squared error: 2548.07\n",
      "R-Squared: 0.47\n"
     ]
    },
    {
     "data": {
      "image/png": "[encoded data removed]",
      "text/plain": [
       "<Figure size 432x288 with 1 Axes>"
      ]
     },
     "metadata": {},
     "output_type": "display_data"
    }
   ],
   "source": [
    "# https://scikit-learn.org/stable/auto_examples/linear_model/plot_ols.html#sphx-glr-auto-examples-linear-model-plot-ols-py\n",
    "# Code source: Jaques Grobler\n",
    "# License: BSD 3 clause\n",
    "\n",
    "import matplotlib.pyplot as plt\n",
    "import numpy as np\n",
    "from sklearn import datasets, linear_model\n",
    "from sklearn.metrics import mean_squared_error, r2_score\n",
    "\n",
    "# Load the diabetes dataset\n",
    "diabetes_X, diabetes_y = datasets.load_diabetes(return_X_y=True)\n",
    "\n",
    "# Use only one feature at column 2, for illustrative purposes only so that it's easy to plot the graph later\n",
    "# Note that in scikit-learn, there's no inherent distinction between Simple Linear Regression and Multiple Linear Regression\n",
    "# Just pass in the desired X, which contains your features (1 feature: simple linear regression. n features: multiple regression)\n",
    "# There's no need to include a column of 1's in your X here, it can be controlled by a parameter named \"fit_intercept\",\n",
    "# when creating the LinearRegression object later.\n",
    "diabetes_X = diabetes_X[:, 2:3]\n",
    "\n",
    "# Split the data into training/testing sets\n",
    "diabetes_X_train = diabetes_X[:-20]\n",
    "diabetes_X_test = diabetes_X[-20:]\n",
    "\n",
    "# Split the targets into training/testing sets\n",
    "diabetes_y_train = diabetes_y[:-20]\n",
    "diabetes_y_test = diabetes_y[-20:]\n",
    "\n",
    "# Create linear regression object\n",
    "regr = linear_model.LinearRegression()\n",
    "\n",
    "# Train the model using the training sets\n",
    "regr.fit(diabetes_X_train, diabetes_y_train)\n",
    "\n",
    "# Make predictions using the testing set\n",
    "diabetes_y_pred = regr.predict(diabetes_X_test)\n",
    "\n",
    "# The intercept:\n",
    "print('Intercept: \\n', regr.intercept_)\n",
    "# The coefficients\n",
    "print('Coefficients: \\n', regr.coef_)\n",
    "# The mean squared error\n",
    "print('Mean squared error: %.2f'\n",
    "      % mean_squared_error(diabetes_y_test, diabetes_y_pred))\n",
    "# The coefficient of determination: 1 is perfect prediction\n",
    "print('R-Squared: %.2f'\n",
    "      % r2_score(diabetes_y_test, diabetes_y_pred))\n",
    "\n",
    "# Plot outputs\n",
    "plt.scatter(diabetes_X_test, diabetes_y_test,  color='black')\n",
    "plt.plot(diabetes_X_test, diabetes_y_pred, color='blue', linewidth=3)\n",
    "\n",
    "plt.xticks(())\n",
    "plt.yticks(())\n",
    "\n",
    "plt.show()"
   ]
  },
  {
   "cell_type": "code",
   "execution_count": 13,
   "metadata": {},
   "outputs": [
    {
     "name": "stdout",
     "output_type": "stream",
     "text": [
      "R-Squared: 0.96\n"
     ]
    }
   ],
   "source": [
    "y_true = [1, 1.5, 3, 2.7]\n",
    "y_pred = [0.9, 1.4, 2.9, 3]\n",
    "print('R-Squared: %.2f'\n",
    "      % r2_score(y_true, y_pred))"
   ]
  },
  {
   "cell_type": "markdown",
   "metadata": {},
   "source": [
    "And here's a super simple example to fit ridge regression:"
   ]
  },
  {
   "cell_type": "code",
   "execution_count": 14,
   "metadata": {},
   "outputs": [
    {
     "name": "stdout",
     "output_type": "stream",
     "text": [
      "0.07275541795665635\n",
      "[0.49226006 0.14551084]\n"
     ]
    }
   ],
   "source": [
    "reg = linear_model.Ridge(alpha=.5)\n",
    "reg.fit([[0, 0], [0.2, 1], [1, 1]], [0, .1, 1])\n",
    "print(reg.intercept_)\n",
    "print(reg.coef_)"
   ]
  },
  {
   "cell_type": "markdown",
   "metadata": {},
   "source": [
    "And here's lasso regression:"
   ]
  },
  {
   "cell_type": "code",
   "execution_count": 9,
   "metadata": {},
   "outputs": [
    {
     "name": "stdout",
     "output_type": "stream",
     "text": [
      "0.1666666666666667\n",
      "[0.5 0. ]\n"
     ]
    }
   ],
   "source": [
    "reg = linear_model.Lasso(alpha=0.1)\n",
    "reg.fit([[0, 0], [0.2, 1], [1, 1]], [0, .1, 1])\n",
    "print(reg.intercept_)\n",
    "print(reg.coef_)"
   ]
  },
  {
   "cell_type": "markdown",
   "metadata": {},
   "source": [
    "which can be compared with simple linear regression:"
   ]
  },
  {
   "cell_type": "code",
   "execution_count": 10,
   "metadata": {},
   "outputs": [
    {
     "name": "stdout",
     "output_type": "stream",
     "text": [
      "2.220446049250313e-16\n",
      "[ 1.125 -0.125]\n"
     ]
    }
   ],
   "source": [
    "reg = linear_model.LinearRegression()\n",
    "reg.fit([[0, 0], [0.2, 1], [1, 1]], [0, .1, 1])\n",
    "print(reg.intercept_)\n",
    "print(reg.coef_)"
   ]
  },
  {
   "cell_type": "markdown",
   "metadata": {},
   "source": [
    "You can also do polynomial regressions (e.g., quadratic regression, cubic regression, with or without any interaction terms) by expanding the design matrix x with new columns representing the polynomial powers or products of the original columns and then pass the new X to a linear regression object."
   ]
  },
  {
   "cell_type": "code",
   "execution_count": 11,
   "metadata": {},
   "outputs": [
    {
     "name": "stdout",
     "output_type": "stream",
     "text": [
      "[[ 0  1]\n",
      " [ 2  3]\n",
      " [ 4  5]\n",
      " [ 6  7]\n",
      " [ 8  9]\n",
      " [10 11]\n",
      " [12 13]\n",
      " [14 15]\n",
      " [16 17]\n",
      " [18 19]]\n",
      "[[  0.   1.   0.   0.   1.]\n",
      " [  2.   3.   4.   6.   9.]\n",
      " [  4.   5.  16.  20.  25.]\n",
      " [  6.   7.  36.  42.  49.]\n",
      " [  8.   9.  64.  72.  81.]\n",
      " [ 10.  11. 100. 110. 121.]\n",
      " [ 12.  13. 144. 156. 169.]\n",
      " [ 14.  15. 196. 210. 225.]\n",
      " [ 16.  17. 256. 272. 289.]\n",
      " [ 18.  19. 324. 342. 361.]]\n",
      "intercept = -239.81975637033054\n",
      "coefficients = [38.34184337 38.34184337]\n",
      "Linear Regression R-Squared = 0.9126048017061228\n",
      "intercept = 16.969375715729825\n",
      "coefficients = [-2.16578462 -2.16578462  3.66309735  1.49731272 -0.6684719 ]\n",
      "Quadratic Regression R-Squared = 0.9927697073095132\n"
     ]
    }
   ],
   "source": [
    "import numpy as np\n",
    "from sklearn.preprocessing import PolynomialFeatures\n",
    "\n",
    "X = np.arange(20).reshape(10, 2)\n",
    "print(X)\n",
    "\n",
    "y = [(x_i[0] + x_i[1] + np.random.randn()) ** 2  for x_i in X]\n",
    "\n",
    "poly = PolynomialFeatures(2, include_bias = False) # the initial columns of 1's not needed for LinearRegression()\n",
    "X2 = poly.fit_transform(X)\n",
    "\n",
    "print(X2)\n",
    "\n",
    "reg = linear_model.LinearRegression()\n",
    "reg.fit(X, y)\n",
    "print(f\"intercept = {reg.intercept_}\")\n",
    "print(f\"coefficients = {reg.coef_}\")\n",
    "print(f\"Linear Regression R-Squared = {r2_score(y, reg.predict(X))}\")\n",
    "\n",
    "reg.fit(X2, y)\n",
    "print(f\"intercept = {reg.intercept_}\")\n",
    "print(f\"coefficients = {reg.coef_}\")\n",
    "print(f\"Quadratic Regression R-Squared = {r2_score(y, reg.predict(X2))}\")"
   ]
  },
  {
   "cell_type": "markdown",
   "metadata": {},
   "source": [
    "## Linear Regression in statsmodels"
   ]
  },
  {
   "cell_type": "code",
   "execution_count": 12,
   "metadata": {},
   "outputs": [
    {
     "name": "stdout",
     "output_type": "stream",
     "text": [
      "[0. 0. 0. 0. 1. 0. 0. 0. 0. 1. 0. 0. 0. 1. 0. 0. 0. 0. 0. 1. 0. 1. 0. 0.\n",
      " 1. 1. 1. 0. 1. 1. 0. 1.]\n",
      "[[ 1.    2.66 20.    0.  ]\n",
      " [ 1.    2.89 22.    0.  ]\n",
      " [ 1.    3.28 24.    0.  ]\n",
      " [ 1.    2.92 12.    0.  ]\n",
      " [ 1.    4.   21.    0.  ]\n",
      " [ 1.    2.86 17.    0.  ]\n",
      " [ 1.    2.76 17.    0.  ]\n",
      " [ 1.    2.87 21.    0.  ]\n",
      " [ 1.    3.03 25.    0.  ]\n",
      " [ 1.    3.92 29.    0.  ]\n",
      " [ 1.    2.63 20.    0.  ]\n",
      " [ 1.    3.32 23.    0.  ]\n",
      " [ 1.    3.57 23.    0.  ]\n",
      " [ 1.    3.26 25.    0.  ]\n",
      " [ 1.    3.53 26.    0.  ]\n",
      " [ 1.    2.74 19.    0.  ]\n",
      " [ 1.    2.75 25.    0.  ]\n",
      " [ 1.    2.83 19.    0.  ]\n",
      " [ 1.    3.12 23.    1.  ]\n",
      " [ 1.    3.16 25.    1.  ]\n",
      " [ 1.    2.06 22.    1.  ]\n",
      " [ 1.    3.62 28.    1.  ]\n",
      " [ 1.    2.89 14.    1.  ]\n",
      " [ 1.    3.51 26.    1.  ]\n",
      " [ 1.    3.54 24.    1.  ]\n",
      " [ 1.    2.83 27.    1.  ]\n",
      " [ 1.    3.39 17.    1.  ]\n",
      " [ 1.    2.67 24.    1.  ]\n",
      " [ 1.    3.65 21.    1.  ]\n",
      " [ 1.    4.   23.    1.  ]\n",
      " [ 1.    3.1  21.    1.  ]\n",
      " [ 1.    2.39 19.    1.  ]]\n",
      "                            OLS Regression Results                            \n",
      "==============================================================================\n",
      "Dep. Variable:                      y   R-squared:                       0.416\n",
      "Model:                            OLS   Adj. R-squared:                  0.353\n",
      "Method:                 Least Squares   F-statistic:                     6.646\n",
      "Date:                Mon, 02 Nov 2020   Prob (F-statistic):            0.00157\n",
      "Time:                        19:00:16   Log-Likelihood:                -12.978\n",
      "No. Observations:                  32   AIC:                             33.96\n",
      "Df Residuals:                      28   BIC:                             39.82\n",
      "Df Model:                           3                                         \n",
      "Covariance Type:            nonrobust                                         \n",
      "==============================================================================\n",
      "                 coef    std err          t      P>|t|      [0.025      0.975]\n",
      "------------------------------------------------------------------------------\n",
      "const         -1.4980      0.524     -2.859      0.008      -2.571      -0.425\n",
      "x1             0.4639      0.162      2.864      0.008       0.132       0.796\n",
      "x2             0.0105      0.019      0.539      0.594      -0.029       0.050\n",
      "x3             0.3786      0.139      2.720      0.011       0.093       0.664\n",
      "==============================================================================\n",
      "Omnibus:                        0.176   Durbin-Watson:                   2.346\n",
      "Prob(Omnibus):                  0.916   Jarque-Bera (JB):                0.167\n",
      "Skew:                           0.141   Prob(JB):                        0.920\n",
      "Kurtosis:                       2.786   Cond. No.                         176.\n",
      "==============================================================================\n",
      "\n",
      "Warnings:\n",
      "[1] Standard Errors assume that the covariance matrix of the errors is correctly specified.\n"
     ]
    }
   ],
   "source": [
    "import statsmodels.api as sm\n",
    "\n",
    "spector_data = sm.datasets.spector.load()\n",
    "\n",
    "# unlike scikit-learn, you are required to add a column of 1's if you want to fit the intercept\n",
    "spector_data.exog1 = sm.add_constant(spector_data.exog) \n",
    "\n",
    "print(spector_data.endog) # endogeneous/response/dependent/y variable\n",
    "print(spector_data.exog1)  # exogenous/explanatory/independent/x variable\n",
    "\n",
    "# Fit and summarize Ordinary Least Squares (OLS) model\n",
    "# Be sure to pass in y first, followed by X!\n",
    "mod = sm.OLS(spector_data.endog, spector_data.exog1)\n",
    "res = mod.fit()\n",
    "print(res.summary())"
   ]
  },
  {
   "cell_type": "code",
   "execution_count": 13,
   "metadata": {},
   "outputs": [
    {
     "name": "stdout",
     "output_type": "stream",
     "text": [
      "[[  1.       2.66    20.       0.       7.0756  53.2      0.     400.\n",
      "    0.       0.    ]\n",
      " [  1.       2.89    22.       0.       8.3521  63.58     0.     484.\n",
      "    0.       0.    ]\n",
      " [  1.       3.28    24.       0.      10.7584  78.72     0.     576.\n",
      "    0.       0.    ]\n",
      " [  1.       2.92    12.       0.       8.5264  35.04     0.     144.\n",
      "    0.       0.    ]\n",
      " [  1.       4.      21.       0.      16.      84.       0.     441.\n",
      "    0.       0.    ]\n",
      " [  1.       2.86    17.       0.       8.1796  48.62     0.     289.\n",
      "    0.       0.    ]\n",
      " [  1.       2.76    17.       0.       7.6176  46.92     0.     289.\n",
      "    0.       0.    ]\n",
      " [  1.       2.87    21.       0.       8.2369  60.27     0.     441.\n",
      "    0.       0.    ]\n",
      " [  1.       3.03    25.       0.       9.1809  75.75     0.     625.\n",
      "    0.       0.    ]\n",
      " [  1.       3.92    29.       0.      15.3664 113.68     0.     841.\n",
      "    0.       0.    ]\n",
      " [  1.       2.63    20.       0.       6.9169  52.6      0.     400.\n",
      "    0.       0.    ]\n",
      " [  1.       3.32    23.       0.      11.0224  76.36     0.     529.\n",
      "    0.       0.    ]\n",
      " [  1.       3.57    23.       0.      12.7449  82.11     0.     529.\n",
      "    0.       0.    ]\n",
      " [  1.       3.26    25.       0.      10.6276  81.5      0.     625.\n",
      "    0.       0.    ]\n",
      " [  1.       3.53    26.       0.      12.4609  91.78     0.     676.\n",
      "    0.       0.    ]\n",
      " [  1.       2.74    19.       0.       7.5076  52.06     0.     361.\n",
      "    0.       0.    ]\n",
      " [  1.       2.75    25.       0.       7.5625  68.75     0.     625.\n",
      "    0.       0.    ]\n",
      " [  1.       2.83    19.       0.       8.0089  53.77     0.     361.\n",
      "    0.       0.    ]\n",
      " [  1.       3.12    23.       1.       9.7344  71.76     3.12   529.\n",
      "   23.       1.    ]\n",
      " [  1.       3.16    25.       1.       9.9856  79.       3.16   625.\n",
      "   25.       1.    ]\n",
      " [  1.       2.06    22.       1.       4.2436  45.32     2.06   484.\n",
      "   22.       1.    ]\n",
      " [  1.       3.62    28.       1.      13.1044 101.36     3.62   784.\n",
      "   28.       1.    ]\n",
      " [  1.       2.89    14.       1.       8.3521  40.46     2.89   196.\n",
      "   14.       1.    ]\n",
      " [  1.       3.51    26.       1.      12.3201  91.26     3.51   676.\n",
      "   26.       1.    ]\n",
      " [  1.       3.54    24.       1.      12.5316  84.96     3.54   576.\n",
      "   24.       1.    ]\n",
      " [  1.       2.83    27.       1.       8.0089  76.41     2.83   729.\n",
      "   27.       1.    ]\n",
      " [  1.       3.39    17.       1.      11.4921  57.63     3.39   289.\n",
      "   17.       1.    ]\n",
      " [  1.       2.67    24.       1.       7.1289  64.08     2.67   576.\n",
      "   24.       1.    ]\n",
      " [  1.       3.65    21.       1.      13.3225  76.65     3.65   441.\n",
      "   21.       1.    ]\n",
      " [  1.       4.      23.       1.      16.      92.       4.     529.\n",
      "   23.       1.    ]\n",
      " [  1.       3.1     21.       1.       9.61    65.1      3.1    441.\n",
      "   21.       1.    ]\n",
      " [  1.       2.39    19.       1.       5.7121  45.41     2.39   361.\n",
      "   19.       1.    ]]\n",
      "                            OLS Regression Results                            \n",
      "==============================================================================\n",
      "Dep. Variable:                      y   R-squared:                       0.471\n",
      "Model:                            OLS   Adj. R-squared:                  0.286\n",
      "Method:                 Least Squares   F-statistic:                     2.556\n",
      "Date:                Mon, 02 Nov 2020   Prob (F-statistic):             0.0373\n",
      "Time:                        19:00:16   Log-Likelihood:                -11.404\n",
      "No. Observations:                  32   AIC:                             40.81\n",
      "Df Residuals:                      23   BIC:                             54.00\n",
      "Df Model:                           8                                         \n",
      "Covariance Type:            nonrobust                                         \n",
      "==============================================================================\n",
      "                 coef    std err          t      P>|t|      [0.025      0.975]\n",
      "------------------------------------------------------------------------------\n",
      "const          2.6072      4.700      0.555      0.584      -7.115      12.329\n",
      "x1            -1.8482      2.251     -0.821      0.420      -6.504       2.808\n",
      "x2            -0.0427      0.185     -0.231      0.820      -0.426       0.341\n",
      "x3             0.0797      0.625      0.128      0.900      -1.212       1.372\n",
      "x4             0.4713      0.343      1.372      0.183      -0.239       1.182\n",
      "x5            -0.0324      0.070     -0.462      0.649      -0.178       0.113\n",
      "x6             0.0896      0.414      0.216      0.831      -0.768       0.947\n",
      "x7             0.0037      0.005      0.749      0.462      -0.007       0.014\n",
      "x8            -0.0054      0.044     -0.124      0.902      -0.096       0.085\n",
      "x9             0.0797      0.625      0.128      0.900      -1.212       1.372\n",
      "==============================================================================\n",
      "Omnibus:                        1.220   Durbin-Watson:                   2.482\n",
      "Prob(Omnibus):                  0.543   Jarque-Bera (JB):                0.836\n",
      "Skew:                           0.394   Prob(JB):                        0.659\n",
      "Kurtosis:                       2.918   Cond. No.                     3.42e+18\n",
      "==============================================================================\n",
      "\n",
      "Warnings:\n",
      "[1] Standard Errors assume that the covariance matrix of the errors is correctly specified.\n",
      "[2] The smallest eigenvalue is 7.62e-31. This might indicate that there are\n",
      "strong multicollinearity problems or that the design matrix is singular.\n"
     ]
    }
   ],
   "source": [
    "# Quadratic Regression\n",
    "# We will just borrow PolynomialFeatures from scikit-learn to generate the appropriate columns for polynomial regression\n",
    "poly = PolynomialFeatures(2, include_bias = True)\n",
    "spector_data.exog2 = poly.fit_transform (spector_data.exog)\n",
    "\n",
    "print(spector_data.exog2)\n",
    "\n",
    "mod2 = sm.OLS(spector_data.endog, spector_data.exog2)\n",
    "res2 = mod2.fit()\n",
    "print(res2.summary())"
   ]
  },
  {
   "cell_type": "code",
   "execution_count": 14,
   "metadata": {},
   "outputs": [
    {
     "name": "stdout",
     "output_type": "stream",
     "text": [
      "[-0.35026798  0.2020077  -0.00237391  0.30608729]\n"
     ]
    }
   ],
   "source": [
    "# Ridge Regression, call fit_regularized instead of fit, set L1_wt = 0\n",
    "res_ridge = mod.fit_regularized(alpha = 0.05, L1_wt = 0)\n",
    "print(res_ridge.params)"
   ]
  },
  {
   "cell_type": "code",
   "execution_count": 15,
   "metadata": {},
   "outputs": [
    {
     "name": "stdout",
     "output_type": "stream",
     "text": [
      "[0.         0.04180365 0.00709658 0.16680278]\n"
     ]
    }
   ],
   "source": [
    "# Lasso Regression, call fit_regularized instead of fit, set L1_wt = 1\n",
    "res_lasso = mod.fit_regularized(alpha = 0.05, L1_wt = 1) # Lasso\n",
    "print(res_lasso.params)"
   ]
  }
 ],
 "metadata": {
  "kernelspec": {
   "display_name": "Python 3",
   "language": "python",
   "name": "python3"
  },
  "language_info": {
   "codemirror_mode": {
    "name": "ipython",
    "version": 3
   },
   "file_extension": ".py",
   "mimetype": "text/x-python",
   "name": "python",
   "nbconvert_exporter": "python",
   "pygments_lexer": "ipython3",
   "version": "3.8.3"
  }
 },
 "nbformat": 4,
 "nbformat_minor": 4
}
