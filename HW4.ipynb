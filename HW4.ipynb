{
 "cells": [
  {
   "cell_type": "markdown",
   "metadata": {},
   "source": [
    "# CSCI 3360 Homework 4 - Brandon Amirouche"
   ]
  },
  {
   "cell_type": "markdown",
   "metadata": {},
   "source": [
    "## Instructions"
   ]
  },
  {
   "cell_type": "markdown",
   "metadata": {},
   "source": [
    "consider the concrete compressive strength dataset (https://archive.ics.uci.edu/ml/datasets/Concrete+Compressive+Strength). I have already separated the training and testing sets for you, so please directly work with \\concretetraining.csv\" and \\concretetesting.csv\" downloaded from eLC and answer the following questions.\n",
    "\n",
    "Note:  you are strongly encouraged to use regression models from either scikit-learn or statsmodels.\n",
    "\n",
    "1.\tUsing the training set, plot histograms of the eight input features/variables as well as the response variable, which represents concrete compressive strength.\n",
    "\n",
    "\n",
    "2.\tUsing the training set, obtain the mean and standard deviation of each input feature as well as the response variable.\n",
    "\n",
    "\n",
    "3.\tUsing the training set, report the correlation between each input feature and the response variable.\n",
    "\n",
    "\n",
    "4.\tBased  on  the correlation values from the previous question, which three input features exhibit the greatest correlation with the response variable?  Create scatter plots of the response variable vs. each of the three input features.\n",
    "\n",
    "\n",
    "5.\tTrain the multiple linear regression  model using the training set, predict on  both the training and testing set, and report the R2 values on both the training and testing set.\n",
    "\n",
    "\n",
    "6.\tTrain the ridge regression model using the training set. Train multiple times  by trying different values and observe how the coefficients and the R2 values change. Are there any coefficients that are rapidly moving towards (or becoming) 0 as you increase? Do not go beyond a value that causes significant reduction in R2.\n",
    "\n",
    "\n",
    "7.\tTrain the lasso regression model using the training set. Train multiple times  by  trying  different values and observe how the coefficients and the R2 values change. Are there any coefficients that are rapidly moving towards (or becoming) 0 as you increase? Do not go beyond an value that causes significant reduction in R2.\n",
    "\n",
    "\n",
    "8.\tTrain the quadratic regression model (including the interaction terms) using the training set. Report the R2 values on both the training and testing set.\n",
    "\n",
    "\n",
    "9.\tTrain the cubic regression model (including the interaction terms) using the training set. Report the R2 values on both the training and testing set.\n",
    "\n",
    "\n",
    "10.\tBased on everything that you have observed so far, which is the best model?  Please justify your answer.\n"
   ]
  },
  {
   "cell_type": "markdown",
   "metadata": {},
   "source": [
    "## Academic Honesty Statement"
   ]
  },
  {
   "cell_type": "code",
   "execution_count": 1,
   "metadata": {},
   "outputs": [
    {
     "name": "stdout",
     "output_type": "stream",
     "text": [
      "****************************************************************\n",
      "CSCI 3360 Homework 4\n",
      "completed by Brandon Amirouche\n",
      "\n",
      "I, Brandon Amirouche, certify that the following code\n",
      "represents my own work. I have neither received nor given \n",
      "inappropriate assistance. I have not consulted with another\n",
      "individual, other than a member of the teaching staff, regarding\n",
      "the specific problems in this homework. I recognize that any \n",
      "unauthorized assistance or plagiarism will be handled in \n",
      "accordance with the University of Georgia's Academic Honesty\n",
      "Policy and the policies of this course.\n",
      "\n",
      "****************************************************************\n"
     ]
    }
   ],
   "source": [
    "# first fill in your name\n",
    "first_name = \"Brandon\"\n",
    "last_name  = \"Amirouche\"\n",
    "\n",
    "print(\"****************************************************************\")\n",
    "print(\"CSCI 3360 Homework 4\")\n",
    "print(f\"completed by {first_name} {last_name}\")\n",
    "print(f\"\"\"\n",
    "I, {first_name} {last_name}, certify that the following code\n",
    "represents my own work. I have neither received nor given \n",
    "inappropriate assistance. I have not consulted with another\n",
    "individual, other than a member of the teaching staff, regarding\n",
    "the specific problems in this homework. I recognize that any \n",
    "unauthorized assistance or plagiarism will be handled in \n",
    "accordance with the University of Georgia's Academic Honesty\n",
    "Policy and the policies of this course.\n",
    "\"\"\")\n",
    "print(\"****************************************************************\")"
   ]
  },
  {
   "cell_type": "markdown",
   "metadata": {},
   "source": [
    "## Problem 1"
   ]
  },
  {
   "cell_type": "markdown",
   "metadata": {},
   "source": [
    "Using the training set, plot histograms of the eight input features/variables as well as the response variable, which represents concrete compressive strength."
   ]
  },
  {
   "cell_type": "code",
   "execution_count": 2,
   "metadata": {},
   "outputs": [
    {
     "name": "stdout",
     "output_type": "stream",
     "text": [
      "     Cement  Blast Furnace Slag  Fly Ash  Water  Superplasticizer  \\\n",
      "0     152.7               144.7      0.0  178.1               8.0   \n",
      "1     500.0                 0.0      0.0  200.0               0.0   \n",
      "2     166.0               259.7      0.0  183.2              12.7   \n",
      "3     212.1                 0.0    121.6  180.3               5.7   \n",
      "4     480.0                 0.0      0.0  192.0               0.0   \n",
      "..      ...                 ...      ...    ...               ...   \n",
      "819   236.9                91.7     71.5  246.9               6.0   \n",
      "820   142.0               167.0    130.0  174.0              11.0   \n",
      "821   251.4                 0.0    118.3  192.9               5.8   \n",
      "822   427.5                47.5      0.0  228.0               0.0   \n",
      "823   355.0                19.0     97.0  145.0              13.1   \n",
      "\n",
      "     Coarse Aggregate  Fine Aggregate  Age  Concrete compressive strength  \n",
      "0               999.7           822.2   28                          19.01  \n",
      "1              1125.0           613.0   90                          47.22  \n",
      "2               858.8           826.8   28                          37.92  \n",
      "3              1057.6           779.3   14                          20.92  \n",
      "4               936.2           712.2   90                          54.32  \n",
      "..                ...             ...  ...                            ...  \n",
      "819             852.9           695.4   28                          28.63  \n",
      "820             883.0           785.0   28                          44.61  \n",
      "821            1043.6           754.3   28                          33.27  \n",
      "822             932.0           594.0  365                          43.70  \n",
      "823             967.0           871.0   28                          44.03  \n",
      "\n",
      "[824 rows x 9 columns]\n",
      "[[<matplotlib.axes._subplots.AxesSubplot object at 0x00000194EA0B5550>\n",
      "  <matplotlib.axes._subplots.AxesSubplot object at 0x00000194EA793A00>\n",
      "  <matplotlib.axes._subplots.AxesSubplot object at 0x00000194EA7C3E50>]\n",
      " [<matplotlib.axes._subplots.AxesSubplot object at 0x00000194EA7FE310>\n",
      "  <matplotlib.axes._subplots.AxesSubplot object at 0x00000194EA82A760>\n",
      "  <matplotlib.axes._subplots.AxesSubplot object at 0x00000194EA854AF0>]\n",
      " [<matplotlib.axes._subplots.AxesSubplot object at 0x00000194EA854BE0>\n",
      "  <matplotlib.axes._subplots.AxesSubplot object at 0x00000194EA88E0D0>\n",
      "  <matplotlib.axes._subplots.AxesSubplot object at 0x00000194EA8E58E0>]]\n"
     ]
    },
    {
     "data": {
      "image/png": "[encoded data removed]",
      "text/plain": [
       "<Figure size 432x288 with 9 Axes>"
      ]
     },
     "metadata": {
      "needs_background": "light"
     },
     "output_type": "display_data"
    }
   ],
   "source": [
    "from typing import List\n",
    "from collections import Counter\n",
    "from typing import Dict\n",
    "import csv\n",
    "from collections import defaultdict\n",
    "import pandas as pd\n",
    "import numpy as np\n",
    "from matplotlib import pyplot as plt\n",
    "from typing import NamedTuple\n",
    "from scipy.spatial import distance\n",
    "from sklearn import datasets\n",
    "from sklearn import metrics\n",
    "from sklearn.neighbors import KNeighborsClassifier\n",
    "from sklearn.naive_bayes import GaussianNB\n",
    "import seaborn as sns\n",
    "\n",
    "header_list = ['Cement', 'Blast Furnace Slag', 'Fly Ash', 'Water', 'Superplasticizer', \n",
    "               'Coarse Aggregate', 'Fine Aggregate', 'Age', 'Concrete compressive strength']\n",
    "data = pd.read_csv('concrete_training.csv', names=header_list)\n",
    "df = pd.DataFrame(data)\n",
    "print(df)\n",
    "print(df.hist())"
   ]
  },
  {
   "cell_type": "markdown",
   "metadata": {},
   "source": [
    "## Problem 2"
   ]
  },
  {
   "cell_type": "markdown",
   "metadata": {},
   "source": [
    "Using the training set, obtain the mean and standard deviation of each input feature as well as the response variable."
   ]
  },
  {
   "cell_type": "code",
   "execution_count": 3,
   "metadata": {},
   "outputs": [
    {
     "name": "stdout",
     "output_type": "stream",
     "text": [
      "(a)\n",
      "\n",
      "\tThe Mean value of each input feature in the Training Set:\n",
      "\t\tThe mean of the Cement input feature = 281.2898058252426\n",
      "\t\tThe mean of the Blast Furnace Slag input feature = 73.5757281553398\n",
      "\t\tThe mean of the Fly Ash input feature = 54.12354368932043\n",
      "\t\tThe mean of the Water input feature = 181.86638349514575\n",
      "\t\tThe mean of the Superplasticizer input feature = 6.194660194174749\n",
      "\t\tThe mean of the Coarse Aggregate input feature = 973.015169902912\n",
      "\t\tThe mean of the Fine Aggregate input feature = 773.462742718447\n",
      "\t\tThe mean of the Age input feature = 46.445388349514566\n",
      "\t\tThe mean of the Concrete compressive strength response variable = 36.01469660194177\n",
      "(b)\n",
      "\n",
      "\tThe Standard Deviation value of each input feature in the Training Set:\n",
      "\t\tThe standard deviation of the Cement input feature = 105.14357293129875\n",
      "\t\tThe standard deviation of the Blast Furnace Slag input feature = 85.51223495104125\n",
      "\t\tThe standard deviation of the Fly Ash input feature = 64.56738662714788\n",
      "\t\tThe standard deviation of the Water input feature = 21.64337031335555\n",
      "\t\tThe standard deviation of the Superplasticizer input feature = 6.02040440030407\n",
      "\t\tThe standard deviation of the Coarse Aggregate input feature = 78.12297888808234\n",
      "\t\tThe standard deviation of the Fine Aggregate input feature = 81.42449757056545\n",
      "\t\tThe standard deviation of the Age input feature = 64.12337688798445\n",
      "\t\tThe standard deviation of the Concrete compressive strength response variable = 16.90453178306211\n",
      "\n",
      "\n"
     ]
    }
   ],
   "source": [
    "print(f\"(a)\\n\")\n",
    "#Mean by Column\n",
    "print(f\"\\tThe Mean value of each input feature in the Training Set:\")\n",
    "print(f\"\\t\\tThe mean of the Cement input feature = {df.mean()[0]}\")\n",
    "print(f\"\\t\\tThe mean of the Blast Furnace Slag input feature = {df.mean()[1]}\")\n",
    "print(f\"\\t\\tThe mean of the Fly Ash input feature = {df.mean()[2]}\")\n",
    "print(f\"\\t\\tThe mean of the Water input feature = {df.mean()[3]}\")\n",
    "print(f\"\\t\\tThe mean of the Superplasticizer input feature = {df.mean()[4]}\")\n",
    "print(f\"\\t\\tThe mean of the Coarse Aggregate input feature = {df.mean()[5]}\")\n",
    "print(f\"\\t\\tThe mean of the Fine Aggregate input feature = {df.mean()[6]}\")\n",
    "print(f\"\\t\\tThe mean of the Age input feature = {df.mean()[7]}\")\n",
    "print(f\"\\t\\tThe mean of the Concrete compressive strength response variable = {df.mean()[8]}\")\n",
    "\n",
    "\n",
    "print(f\"(b)\\n\")\n",
    "#Standard Deviation by Column\n",
    "print(f\"\\tThe Standard Deviation value of each input feature in the Training Set:\")\n",
    "print(f\"\\t\\tThe standard deviation of the Cement input feature = {df.std(axis=0)[0]}\")\n",
    "print(f\"\\t\\tThe standard deviation of the Blast Furnace Slag input feature = {df.std(axis=0)[1]}\")\n",
    "print(f\"\\t\\tThe standard deviation of the Fly Ash input feature = {df.std(axis=0)[2]}\")\n",
    "print(f\"\\t\\tThe standard deviation of the Water input feature = {df.std(axis=0)[3]}\")\n",
    "print(f\"\\t\\tThe standard deviation of the Superplasticizer input feature = {df.std(axis=0)[4]}\")\n",
    "print(f\"\\t\\tThe standard deviation of the Coarse Aggregate input feature = {df.std(axis=0)[5]}\")\n",
    "print(f\"\\t\\tThe standard deviation of the Fine Aggregate input feature = {df.std(axis=0)[6]}\")\n",
    "print(f\"\\t\\tThe standard deviation of the Age input feature = {df.std(axis=0)[7]}\")\n",
    "print(f\"\\t\\tThe standard deviation of the Concrete compressive strength response variable = {df.std(axis=0)[8]}\")\n",
    "print(f\"\\n\")"
   ]
  },
  {
   "cell_type": "markdown",
   "metadata": {},
   "source": [
    "## Problem 3"
   ]
  },
  {
   "cell_type": "markdown",
   "metadata": {},
   "source": [
    "Using the training set, report the correlation between each input feature and the response variable."
   ]
  },
  {
   "cell_type": "code",
   "execution_count": 4,
   "metadata": {},
   "outputs": [
    {
     "name": "stdout",
     "output_type": "stream",
     "text": [
      "\tThe correlation between each input feature and the response variable in the Training Set:\n"
     ]
    },
    {
     "data": {
      "text/html": [
       "<div>\n",
       "<style scoped>\n",
       "    .dataframe tbody tr th:only-of-type {\n",
       "        vertical-align: middle;\n",
       "    }\n",
       "\n",
       "    .dataframe tbody tr th {\n",
       "        vertical-align: top;\n",
       "    }\n",
       "\n",
       "    .dataframe thead th {\n",
       "        text-align: right;\n",
       "    }\n",
       "</style>\n",
       "<table border=\"1\" class=\"dataframe\">\n",
       "  <thead>\n",
       "    <tr style=\"text-align: right;\">\n",
       "      <th></th>\n",
       "      <th>Cement</th>\n",
       "      <th>Blast Furnace Slag</th>\n",
       "      <th>Fly Ash</th>\n",
       "      <th>Water</th>\n",
       "      <th>Superplasticizer</th>\n",
       "      <th>Coarse Aggregate</th>\n",
       "      <th>Fine Aggregate</th>\n",
       "      <th>Age</th>\n",
       "      <th>Concrete compressive strength</th>\n",
       "    </tr>\n",
       "  </thead>\n",
       "  <tbody>\n",
       "    <tr>\n",
       "      <th>Cement</th>\n",
       "      <td>1.000000</td>\n",
       "      <td>0.274385</td>\n",
       "      <td>0.408453</td>\n",
       "      <td>0.071663</td>\n",
       "      <td>0.089378</td>\n",
       "      <td>0.116268</td>\n",
       "      <td>0.236120</td>\n",
       "      <td>0.101991</td>\n",
       "      <td>0.494396</td>\n",
       "    </tr>\n",
       "    <tr>\n",
       "      <th>Blast Furnace Slag</th>\n",
       "      <td>0.274385</td>\n",
       "      <td>1.000000</td>\n",
       "      <td>0.329157</td>\n",
       "      <td>0.103441</td>\n",
       "      <td>0.054396</td>\n",
       "      <td>0.301407</td>\n",
       "      <td>0.247048</td>\n",
       "      <td>0.027303</td>\n",
       "      <td>0.141783</td>\n",
       "    </tr>\n",
       "    <tr>\n",
       "      <th>Fly Ash</th>\n",
       "      <td>0.408453</td>\n",
       "      <td>0.329157</td>\n",
       "      <td>1.000000</td>\n",
       "      <td>0.260429</td>\n",
       "      <td>0.369399</td>\n",
       "      <td>0.019326</td>\n",
       "      <td>0.080510</td>\n",
       "      <td>0.161881</td>\n",
       "      <td>0.109297</td>\n",
       "    </tr>\n",
       "    <tr>\n",
       "      <th>Water</th>\n",
       "      <td>0.071663</td>\n",
       "      <td>0.103441</td>\n",
       "      <td>0.260429</td>\n",
       "      <td>1.000000</td>\n",
       "      <td>0.670943</td>\n",
       "      <td>0.171579</td>\n",
       "      <td>0.488354</td>\n",
       "      <td>0.293440</td>\n",
       "      <td>0.280377</td>\n",
       "    </tr>\n",
       "    <tr>\n",
       "      <th>Superplasticizer</th>\n",
       "      <td>0.089378</td>\n",
       "      <td>0.054396</td>\n",
       "      <td>0.369399</td>\n",
       "      <td>0.670943</td>\n",
       "      <td>1.000000</td>\n",
       "      <td>0.276023</td>\n",
       "      <td>0.245619</td>\n",
       "      <td>0.196009</td>\n",
       "      <td>0.360785</td>\n",
       "    </tr>\n",
       "    <tr>\n",
       "      <th>Coarse Aggregate</th>\n",
       "      <td>0.116268</td>\n",
       "      <td>0.301407</td>\n",
       "      <td>0.019326</td>\n",
       "      <td>0.171579</td>\n",
       "      <td>0.276023</td>\n",
       "      <td>1.000000</td>\n",
       "      <td>0.169604</td>\n",
       "      <td>0.003390</td>\n",
       "      <td>0.182048</td>\n",
       "    </tr>\n",
       "    <tr>\n",
       "      <th>Fine Aggregate</th>\n",
       "      <td>0.236120</td>\n",
       "      <td>0.247048</td>\n",
       "      <td>0.080510</td>\n",
       "      <td>0.488354</td>\n",
       "      <td>0.245619</td>\n",
       "      <td>0.169604</td>\n",
       "      <td>1.000000</td>\n",
       "      <td>0.192997</td>\n",
       "      <td>0.161608</td>\n",
       "    </tr>\n",
       "    <tr>\n",
       "      <th>Age</th>\n",
       "      <td>0.101991</td>\n",
       "      <td>0.027303</td>\n",
       "      <td>0.161881</td>\n",
       "      <td>0.293440</td>\n",
       "      <td>0.196009</td>\n",
       "      <td>0.003390</td>\n",
       "      <td>0.192997</td>\n",
       "      <td>1.000000</td>\n",
       "      <td>0.346848</td>\n",
       "    </tr>\n",
       "    <tr>\n",
       "      <th>Concrete compressive strength</th>\n",
       "      <td>0.494396</td>\n",
       "      <td>0.141783</td>\n",
       "      <td>0.109297</td>\n",
       "      <td>0.280377</td>\n",
       "      <td>0.360785</td>\n",
       "      <td>0.182048</td>\n",
       "      <td>0.161608</td>\n",
       "      <td>0.346848</td>\n",
       "      <td>1.000000</td>\n",
       "    </tr>\n",
       "  </tbody>\n",
       "</table>\n",
       "</div>"
      ],
      "text/plain": [
       "                                 Cement  Blast Furnace Slag   Fly Ash  \\\n",
       "Cement                         1.000000            0.274385  0.408453   \n",
       "Blast Furnace Slag             0.274385            1.000000  0.329157   \n",
       "Fly Ash                        0.408453            0.329157  1.000000   \n",
       "Water                          0.071663            0.103441  0.260429   \n",
       "Superplasticizer               0.089378            0.054396  0.369399   \n",
       "Coarse Aggregate               0.116268            0.301407  0.019326   \n",
       "Fine Aggregate                 0.236120            0.247048  0.080510   \n",
       "Age                            0.101991            0.027303  0.161881   \n",
       "Concrete compressive strength  0.494396            0.141783  0.109297   \n",
       "\n",
       "                                  Water  Superplasticizer  Coarse Aggregate  \\\n",
       "Cement                         0.071663          0.089378          0.116268   \n",
       "Blast Furnace Slag             0.103441          0.054396          0.301407   \n",
       "Fly Ash                        0.260429          0.369399          0.019326   \n",
       "Water                          1.000000          0.670943          0.171579   \n",
       "Superplasticizer               0.670943          1.000000          0.276023   \n",
       "Coarse Aggregate               0.171579          0.276023          1.000000   \n",
       "Fine Aggregate                 0.488354          0.245619          0.169604   \n",
       "Age                            0.293440          0.196009          0.003390   \n",
       "Concrete compressive strength  0.280377          0.360785          0.182048   \n",
       "\n",
       "                               Fine Aggregate       Age  \\\n",
       "Cement                               0.236120  0.101991   \n",
       "Blast Furnace Slag                   0.247048  0.027303   \n",
       "Fly Ash                              0.080510  0.161881   \n",
       "Water                                0.488354  0.293440   \n",
       "Superplasticizer                     0.245619  0.196009   \n",
       "Coarse Aggregate                     0.169604  0.003390   \n",
       "Fine Aggregate                       1.000000  0.192997   \n",
       "Age                                  0.192997  1.000000   \n",
       "Concrete compressive strength        0.161608  0.346848   \n",
       "\n",
       "                               Concrete compressive strength  \n",
       "Cement                                              0.494396  \n",
       "Blast Furnace Slag                                  0.141783  \n",
       "Fly Ash                                             0.109297  \n",
       "Water                                               0.280377  \n",
       "Superplasticizer                                    0.360785  \n",
       "Coarse Aggregate                                    0.182048  \n",
       "Fine Aggregate                                      0.161608  \n",
       "Age                                                 0.346848  \n",
       "Concrete compressive strength                       1.000000  "
      ]
     },
     "execution_count": 4,
     "metadata": {},
     "output_type": "execute_result"
    }
   ],
   "source": [
    "#Correlation between each input feature and the response variable\n",
    "print(f\"\\tThe correlation between each input feature and the response variable in the Training Set:\")\n",
    "(df.corr().abs())"
   ]
  },
  {
   "cell_type": "markdown",
   "metadata": {},
   "source": [
    "## Problem 4"
   ]
  },
  {
   "cell_type": "markdown",
   "metadata": {},
   "source": [
    "Based  on  the correlation values from the previous question, which three input features exhibit the greatest correlation with the response variable?  Create scatter plots of the response variable vs. each of the three input features."
   ]
  },
  {
   "cell_type": "code",
   "execution_count": 5,
   "metadata": {},
   "outputs": [
    {
     "name": "stdout",
     "output_type": "stream",
     "text": [
      "\tScatter Plot for Concrete Compressive Strength(response variable) vs Cement(input variable):\n",
      "\n",
      "AxesSubplot(0.125,0.125;0.775x0.755)\n"
     ]
    },
    {
     "data": {
      "image/png": "[encoded data removed]",
      "text/plain": [
       "<Figure size 432x288 with 1 Axes>"
      ]
     },
     "metadata": {
      "needs_background": "light"
     },
     "output_type": "display_data"
    }
   ],
   "source": [
    "print(f\"\\tScatter Plot for Concrete Compressive Strength(response variable) vs Cement(input variable):\\n\")\n",
    "print(sns.scatterplot(x = 'Cement', y = 'Concrete compressive strength', data = df, color = 'r'))"
   ]
  },
  {
   "cell_type": "code",
   "execution_count": 6,
   "metadata": {},
   "outputs": [
    {
     "name": "stdout",
     "output_type": "stream",
     "text": [
      "\tScatter Plot for Concrete Compressive Strength(response variable) vs Superplasticizer(input variable):\n",
      "\n",
      "AxesSubplot(0.125,0.125;0.775x0.755)\n"
     ]
    },
    {
     "data": {
      "image/png": "[encoded data removed]",
      "text/plain": [
       "<Figure size 432x288 with 1 Axes>"
      ]
     },
     "metadata": {
      "needs_background": "light"
     },
     "output_type": "display_data"
    }
   ],
   "source": [
    "print(f\"\\tScatter Plot for Concrete Compressive Strength(response variable) vs Superplasticizer(input variable):\\n\")\n",
    "print(sns.scatterplot(x = 'Superplasticizer', y = 'Concrete compressive strength', data = df, color = 'g'))"
   ]
  },
  {
   "cell_type": "code",
   "execution_count": 7,
   "metadata": {},
   "outputs": [
    {
     "name": "stdout",
     "output_type": "stream",
     "text": [
      "\tScatter Plot for Concrete Compressive Strength(response variable) vs Age(input variable):\n",
      "\n",
      "AxesSubplot(0.125,0.125;0.775x0.755)\n"
     ]
    },
    {
     "data": {
      "image/png": "[encoded data removed]",
      "text/plain": [
       "<Figure size 432x288 with 1 Axes>"
      ]
     },
     "metadata": {
      "needs_background": "light"
     },
     "output_type": "display_data"
    }
   ],
   "source": [
    "print(f\"\\tScatter Plot for Concrete Compressive Strength(response variable) vs Age(input variable):\\n\")\n",
    "print(sns.scatterplot(x = 'Age', y = 'Concrete compressive strength', data = df, color = 'c'))"
   ]
  },
  {
   "cell_type": "markdown",
   "metadata": {},
   "source": [
    "## Problem 5"
   ]
  },
  {
   "cell_type": "markdown",
   "metadata": {},
   "source": [
    "Train the multiple linear regression  model using the training set, predict on  both the training and testing set, and report the R2 values on both the training and testing set."
   ]
  },
  {
   "cell_type": "code",
   "execution_count": 8,
   "metadata": {},
   "outputs": [
    {
     "name": "stdout",
     "output_type": "stream",
     "text": [
      "R2 Value of the training set:\n",
      "\n",
      "\tR-Squared: 0.62\n",
      "\n",
      "\n",
      "R2 Value of the testing set:\n",
      "\n",
      "\tR-Squared: 0.60\n"
     ]
    }
   ],
   "source": [
    "from typing import Tuple\n",
    "from statistics import mean, stdev\n",
    "from scipy.stats import pearsonr\n",
    "from sklearn import datasets, linear_model\n",
    "from sklearn.metrics import mean_squared_error, r2_score\n",
    "\n",
    "data1 = pd.read_csv('concrete_testing.csv', names=header_list)\n",
    "df1 = pd.DataFrame(data1)\n",
    "\n",
    "# Create linear regression object\n",
    "regr = linear_model.LinearRegression()\n",
    "\n",
    "# Train the model using the training se\n",
    "regr.fit(df[['Cement', 'Blast Furnace Slag', 'Fly Ash', 'Water', 'Superplasticizer', 'Coarse Aggregate', 'Fine Aggregate', 'Age']], df['Concrete compressive strength'])\n",
    "\n",
    "# Make predictions using the training set\n",
    "concrete_prediction = regr.predict(df[['Cement', 'Blast Furnace Slag', 'Fly Ash', 'Water', 'Superplasticizer', 'Coarse Aggregate', 'Fine Aggregate', 'Age']])\n",
    "#R2 Value of the training set\n",
    "print(f\"R2 Value of the training set:\\n\")\n",
    "print('\\tR-Squared: %.2f'\n",
    "      % r2_score(df['Concrete compressive strength'], concrete_prediction))\n",
    "\n",
    "print(f\"\\n\")\n",
    "\n",
    "# Make predictions using the testing set\n",
    "concrete_prediction = regr.predict(df1[['Cement', 'Blast Furnace Slag', 'Fly Ash', 'Water', 'Superplasticizer', 'Coarse Aggregate', 'Fine Aggregate', 'Age']])\n",
    "#R2 Value of the testing set\n",
    "print(f\"R2 Value of the testing set:\\n\")\n",
    "print('\\tR-Squared: %.2f'\n",
    "      % r2_score(df1['Concrete compressive strength'], concrete_prediction))"
   ]
  },
  {
   "cell_type": "markdown",
   "metadata": {},
   "source": [
    "## Problem 6"
   ]
  },
  {
   "cell_type": "markdown",
   "metadata": {},
   "source": [
    "Train the ridge regression model using the training set. Train multiple times  by trying different values and observe how the coefficients and the R2 values change. Are there any coefficients that are rapidly moving towards (or becoming) 0 as you increase? Do not go beyond a value that causes significant reduction in R2."
   ]
  },
  {
   "cell_type": "code",
   "execution_count": 9,
   "metadata": {},
   "outputs": [
    {
     "name": "stdout",
     "output_type": "stream",
     "text": [
      "Ridge Regression when Alpha is .3:\n",
      "\n",
      "0.07315371991247233\n",
      "[ 2.31933807 -0.14742888]\n",
      "\n",
      "\n",
      "Ridge Regression when Alpha is .5:\n",
      "\n",
      "0.1216981132075472\n",
      "[ 2.22704403 -0.11194969]\n",
      "\n",
      "\n",
      "Ridge Regression when Alpha is .7:\n",
      "\n",
      "0.16963539247561554\n",
      "[ 2.14247562 -0.08151417]\n",
      "\n",
      "\n",
      "Ridge Regression when Alpha is .9:\n",
      "\n",
      "0.21672402667240265\n",
      "[ 2.06463756 -0.05528071]\n",
      "\n",
      "\n",
      "Ridge Regression when Alpha is .05:\n",
      "\n",
      "[ 0.11632284  0.10111796  0.0871791  -0.18817924  0.17870211  0.00843508\n",
      "  0.01382485  0.1152273 ]\n",
      "\n",
      "\n",
      "Ridge Regression when Alpha is .03:\n",
      "\n",
      "[ 0.11631696  0.10111142  0.08716704 -0.18816246  0.17892485  0.00843679\n",
      "  0.01382054  0.11522801]\n",
      "\n",
      "\n",
      "Ridge Regression when Alpha is .07:\n",
      "\n",
      "[ 0.11632871  0.10112448  0.08719111 -0.18819595  0.17848005  0.00843338\n",
      "  0.01382915  0.11522658]\n",
      "\n",
      "\n",
      "\n",
      "\n",
      "Both the first and second coefficient seems to be moving towards 0 as alpha increases.\n",
      "\n"
     ]
    }
   ],
   "source": [
    "import statsmodels.api as sm\n",
    "mod = sm.OLS(df['Concrete compressive strength'], df[['Cement', 'Blast Furnace Slag', 'Fly Ash', 'Water', 'Superplasticizer', 'Coarse Aggregate', 'Fine Aggregate', 'Age']])\n",
    "res = mod.fit()\n",
    "\n",
    "print(f\"Ridge Regression when Alpha is .3:\\n\")\n",
    "reg = linear_model.Ridge(alpha=.3)\n",
    "reg.fit([[0, 0], [0.5, 3], [3, 2]], [0, .6, 7])\n",
    "print(reg.intercept_)\n",
    "print(reg.coef_)\n",
    "print(f\"\\n\")\n",
    "\n",
    "print(f\"Ridge Regression when Alpha is .5:\\n\")\n",
    "reg = linear_model.Ridge(alpha=.5)\n",
    "reg.fit([[0, 0], [0.5, 3], [3, 2]], [0, .6, 7])\n",
    "print(reg.intercept_)\n",
    "print(reg.coef_)\n",
    "print(f\"\\n\")\n",
    "\n",
    "print(f\"Ridge Regression when Alpha is .7:\\n\")\n",
    "reg = linear_model.Ridge(alpha=.7)\n",
    "reg.fit([[0, 0], [0.5, 3], [3, 2]], [0, .6, 7])\n",
    "print(reg.intercept_)\n",
    "print(reg.coef_)\n",
    "print(f\"\\n\")\n",
    "\n",
    "print(f\"Ridge Regression when Alpha is .9:\\n\")\n",
    "reg = linear_model.Ridge(alpha=.9)\n",
    "reg.fit([[0, 0], [0.5, 3], [3, 2]], [0, .6, 7])\n",
    "print(reg.intercept_)\n",
    "print(reg.coef_)\n",
    "print(f\"\\n\")\n",
    "\n",
    "print(f\"Ridge Regression when Alpha is .05:\\n\")\n",
    "# alpha is .05\n",
    "res_ridge = mod.fit_regularized(alpha = 0.05, L1_wt = 0)\n",
    "print(res_ridge.params)\n",
    "print(f\"\\n\")\n",
    "\n",
    "print(f\"Ridge Regression when Alpha is .03:\\n\")\n",
    "# alpha is .03\n",
    "res_ridge = mod.fit_regularized(alpha = 0.03, L1_wt = 0)\n",
    "print(res_ridge.params)\n",
    "print(f\"\\n\")\n",
    "\n",
    "print(f\"Ridge Regression when Alpha is .07:\\n\")\n",
    "# alpha is .07\n",
    "res_ridge = mod.fit_regularized(alpha = 0.07, L1_wt = 0)\n",
    "print(res_ridge.params)\n",
    "print(f\"\\n\")\n",
    "print(f\"\\n\")\n",
    "\n",
    "print(f\"Both the first and second coefficient seems to be moving towards 0 as alpha increases.\\n\")"
   ]
  },
  {
   "cell_type": "markdown",
   "metadata": {},
   "source": [
    "## Problem 7"
   ]
  },
  {
   "cell_type": "markdown",
   "metadata": {},
   "source": [
    "Train the lasso regression model using the training set. Train multiple times  by  trying  different values and observe how the coefficients and the R2 values change. Are there any coefficients that are rapidly moving towards (or becoming) 0 as you increase? Do not go beyond an value that causes significant reduction in R2."
   ]
  },
  {
   "cell_type": "code",
   "execution_count": 10,
   "metadata": {},
   "outputs": [
    {
     "name": "stdout",
     "output_type": "stream",
     "text": [
      "Lasso Regression when Alpha is .3:\n",
      "\n",
      "-0.07096774193548416\n",
      "[ 2.23225806 -0.        ]\n",
      "\n",
      "\n",
      "Lasso Regression when Alpha is .5:\n",
      "\n",
      "0.06451612903225756\n",
      "[ 2.11612903 -0.        ]\n",
      "\n",
      "\n",
      "Lasso Regression when Alpha is .7:\n",
      "\n",
      "0.1999999999999993\n",
      "[ 2. -0.]\n",
      "\n",
      "\n",
      "Lasso Regression when Alpha is .9:\n",
      "\n",
      "0.33548387096774146\n",
      "[ 1.88387097 -0.        ]\n",
      "\n",
      "\n",
      "Lasso Regression when Alpha is .07:\n",
      "\n",
      "Cement                0.099701\n",
      "Blast Furnace Slag    0.080407\n",
      "Fly Ash               0.059248\n",
      "Water                -0.102124\n",
      "Superplasticizer      0.586758\n",
      "Coarse Aggregate      0.008167\n",
      "Fine Aggregate        0.001148\n",
      "Age                   0.107881\n",
      "dtype: float64\n",
      "\n",
      "\n",
      "Lasso Regression when Alpha is .03:\n",
      "\n",
      "Cement                0.099686\n",
      "Blast Furnace Slag    0.080390\n",
      "Fly Ash               0.059214\n",
      "Water                -0.102061\n",
      "Superplasticizer      0.587663\n",
      "Coarse Aggregate      0.008165\n",
      "Fine Aggregate        0.001139\n",
      "Age                   0.107890\n",
      "dtype: float64\n",
      "\n",
      "\n",
      "Lasso Regression when Alpha is .07:\n",
      "\n",
      "Cement                0.099715\n",
      "Blast Furnace Slag    0.080424\n",
      "Fly Ash               0.059282\n",
      "Water                -0.102186\n",
      "Superplasticizer      0.585853\n",
      "Coarse Aggregate      0.008170\n",
      "Fine Aggregate        0.001158\n",
      "Age                   0.107872\n",
      "dtype: float64\n",
      "\n",
      "\n",
      "\n",
      "\n",
      "The first coefficient is slowly approaching zero as alpha increases.\n",
      "\n",
      "The second coefficient seems to be remaining at 0 regardless of alpha.\n",
      "\n"
     ]
    }
   ],
   "source": [
    "print(f\"Lasso Regression when Alpha is .3:\\n\")\n",
    "reg = linear_model.Lasso(alpha=0.3)\n",
    "reg.fit([[0, 0], [0.5, 3], [3, 2]], [0, .6, 7])\n",
    "print(reg.intercept_)\n",
    "print(reg.coef_)\n",
    "print(f\"\\n\")\n",
    "\n",
    "print(f\"Lasso Regression when Alpha is .5:\\n\")\n",
    "reg = linear_model.Lasso(alpha=0.5)\n",
    "reg.fit([[0, 0], [0.5, 3], [3, 2]], [0, .6, 7])\n",
    "print(reg.intercept_)\n",
    "print(reg.coef_)\n",
    "print(f\"\\n\")\n",
    "\n",
    "print(f\"Lasso Regression when Alpha is .7:\\n\")\n",
    "reg = linear_model.Lasso(alpha=0.7)\n",
    "reg.fit([[0, 0], [0.5, 3], [3, 2]], [0, .6, 7])\n",
    "print(reg.intercept_)\n",
    "print(reg.coef_)\n",
    "print(f\"\\n\")\n",
    "\n",
    "print(f\"Lasso Regression when Alpha is .9:\\n\")\n",
    "reg = linear_model.Lasso(alpha=0.9)\n",
    "reg.fit([[0, 0], [0.5, 3], [3, 2]], [0, .6, 7])\n",
    "print(reg.intercept_)\n",
    "print(reg.coef_)\n",
    "print(f\"\\n\")\n",
    "\n",
    "print(f\"Lasso Regression when Alpha is .07:\\n\")\n",
    "res_lasso = mod.fit_regularized(alpha = 0.05, L1_wt = 1) # Lasso\n",
    "print(res_lasso.params)\n",
    "print(f\"\\n\")\n",
    "\n",
    "print(f\"Lasso Regression when Alpha is .03:\\n\")\n",
    "# alpha is .03\n",
    "res_lasso = mod.fit_regularized(alpha = 0.03, L1_wt = 1) # Lasso\n",
    "print(res_lasso.params)\n",
    "print(f\"\\n\")\n",
    "\n",
    "print(f\"Lasso Regression when Alpha is .07:\\n\")\n",
    "# alpha is .07\n",
    "res_lasso = mod.fit_regularized(alpha = 0.07, L1_wt = 1) # Lasso\n",
    "print(res_lasso.params)\n",
    "print(f\"\\n\")\n",
    "print(f\"\\n\")\n",
    "\n",
    "print(f\"The first coefficient is slowly approaching zero as alpha increases.\\n\") \n",
    "print(f\"The second coefficient seems to be remaining at 0 regardless of alpha.\\n\")"
   ]
  },
  {
   "cell_type": "markdown",
   "metadata": {},
   "source": [
    "## Problem 8"
   ]
  },
  {
   "cell_type": "markdown",
   "metadata": {},
   "source": [
    "Train the quadratic regression model (including the interaction terms) using the training set. Report the R2 values on both the training and testing set."
   ]
  },
  {
   "cell_type": "code",
   "execution_count": 11,
   "metadata": {},
   "outputs": [
    {
     "name": "stdout",
     "output_type": "stream",
     "text": [
      "[[ 0  1]\n",
      " [ 2  3]\n",
      " [ 4  5]\n",
      " [ 6  7]\n",
      " [ 8  9]\n",
      " [10 11]\n",
      " [12 13]\n",
      " [14 15]\n",
      " [16 17]\n",
      " [18 19]]\n",
      "[[  0.   1.   0.   0.   1.]\n",
      " [  2.   3.   4.   6.   9.]\n",
      " [  4.   5.  16.  20.  25.]\n",
      " [  6.   7.  36.  42.  49.]\n",
      " [  8.   9.  64.  72.  81.]\n",
      " [ 10.  11. 100. 110. 121.]\n",
      " [ 12.  13. 144. 156. 169.]\n",
      " [ 14.  15. 196. 210. 225.]\n",
      " [ 16.  17. 256. 272. 289.]\n",
      " [ 18.  19. 324. 342. 361.]]\n",
      "intercept = -196.34290610886904\n",
      "coefficients = [36.98986999 36.98986999]\n",
      "Linear Regression R-Squared = 0.9604949242359153\n",
      "intercept = -40.58071594721997\n",
      "coefficients = [ 5.55259558  5.55259558 -4.64436124  0.90823434  6.46082993]\n",
      "Quadratic Regression R-Squared = 0.9938489138529745\n",
      "\n",
      "\n",
      "\n",
      "\n",
      "Summary of the training set including R2:\n",
      "\n",
      "                                      OLS Regression Results                                      \n",
      "==================================================================================================\n",
      "Dep. Variable:     Concrete compressive strength   R-squared (uncentered):                   0.931\n",
      "Model:                                       OLS   Adj. R-squared (uncentered):              0.930\n",
      "Method:                            Least Squares   F-statistic:                              1379.\n",
      "Date:                           Mon, 02 Nov 2020   Prob (F-statistic):                        0.00\n",
      "Time:                                   20:56:02   Log-Likelihood:                         -3102.1\n",
      "No. Observations:                            824   AIC:                                      6220.\n",
      "Df Residuals:                                816   BIC:                                      6258.\n",
      "Df Model:                                      8                                                  \n",
      "Covariance Type:                       nonrobust                                                  \n",
      "======================================================================================\n",
      "                         coef    std err          t      P>|t|      [0.025      0.975]\n",
      "--------------------------------------------------------------------------------------\n",
      "Cement                 0.1163      0.005     23.793      0.000       0.107       0.126\n",
      "Blast Furnace Slag     0.1011      0.006     16.808      0.000       0.089       0.113\n",
      "Fly Ash                0.0871      0.009      9.664      0.000       0.069       0.105\n",
      "Water                 -0.1881      0.018    -10.403      0.000      -0.224      -0.153\n",
      "Superplasticizer       0.1793      0.101      1.773      0.077      -0.019       0.378\n",
      "Coarse Aggregate       0.0084      0.003      2.412      0.016       0.002       0.015\n",
      "Fine Aggregate         0.0138      0.004      3.455      0.001       0.006       0.022\n",
      "Age                    0.1152      0.006     19.032      0.000       0.103       0.127\n",
      "==============================================================================\n",
      "Omnibus:                        6.718   Durbin-Watson:                   1.992\n",
      "Prob(Omnibus):                  0.035   Jarque-Bera (JB):                6.659\n",
      "Skew:                          -0.219   Prob(JB):                       0.0358\n",
      "Kurtosis:                       3.054   Cond. No.                         361.\n",
      "==============================================================================\n",
      "\n",
      "Warnings:\n",
      "[1] Standard Errors assume that the covariance matrix of the errors is correctly specified.\n",
      "\n",
      "\n",
      "\n",
      "\n",
      "Summary of the testing set including R2:\n",
      "\n",
      "                                      OLS Regression Results                                      \n",
      "==================================================================================================\n",
      "Dep. Variable:     Concrete compressive strength   R-squared (uncentered):                   0.934\n",
      "Model:                                       OLS   Adj. R-squared (uncentered):              0.932\n",
      "Method:                            Least Squares   F-statistic:                              352.1\n",
      "Date:                           Mon, 02 Nov 2020   Prob (F-statistic):                   1.18e-112\n",
      "Time:                                   20:56:02   Log-Likelihood:                         -763.62\n",
      "No. Observations:                            206   AIC:                                      1543.\n",
      "Df Residuals:                                198   BIC:                                      1570.\n",
      "Df Model:                                      8                                                  \n",
      "Covariance Type:                       nonrobust                                                  \n",
      "======================================================================================\n",
      "                         coef    std err          t      P>|t|      [0.025      0.975]\n",
      "--------------------------------------------------------------------------------------\n",
      "Cement                 0.1054      0.009     12.211      0.000       0.088       0.122\n",
      "Blast Furnace Slag     0.0810      0.010      7.722      0.000       0.060       0.102\n",
      "Fly Ash                0.0545      0.016      3.336      0.001       0.022       0.087\n",
      "Water                 -0.1647      0.036     -4.607      0.000      -0.235      -0.094\n",
      "Superplasticizer       0.5293      0.180      2.941      0.004       0.174       0.884\n",
      "Coarse Aggregate       0.0161      0.006      2.524      0.012       0.004       0.029\n",
      "Fine Aggregate         0.0033      0.008      0.412      0.681      -0.013       0.019\n",
      "Age                    0.1079      0.012      8.705      0.000       0.083       0.132\n",
      "==============================================================================\n",
      "Omnibus:                        0.496   Durbin-Watson:                   1.993\n",
      "Prob(Omnibus):                  0.780   Jarque-Bera (JB):                0.624\n",
      "Skew:                           0.002   Prob(JB):                        0.732\n",
      "Kurtosis:                       2.730   Cond. No.                         335.\n",
      "==============================================================================\n",
      "\n",
      "Warnings:\n",
      "[1] Standard Errors assume that the covariance matrix of the errors is correctly specified.\n"
     ]
    }
   ],
   "source": [
    "import numpy as np\n",
    "from sklearn.preprocessing import PolynomialFeatures\n",
    "import statsmodels.api as sm\n",
    "\n",
    "X = np.arange(20).reshape(10, 2)\n",
    "print(X)\n",
    "\n",
    "y = [(x_i[0] + x_i[1] + np.random.randn()) ** 2  for x_i in X]\n",
    "\n",
    "poly = PolynomialFeatures(2, include_bias = False)\n",
    "X2 = poly.fit_transform(X)\n",
    "\n",
    "print(X2)\n",
    "\n",
    "reg = linear_model.LinearRegression()\n",
    "reg.fit(X, y)\n",
    "print(f\"intercept = {reg.intercept_}\")\n",
    "print(f\"coefficients = {reg.coef_}\")\n",
    "print(f\"Linear Regression R-Squared = {r2_score(y, reg.predict(X))}\")\n",
    "\n",
    "reg.fit(X2, y)\n",
    "print(f\"intercept = {reg.intercept_}\")\n",
    "print(f\"coefficients = {reg.coef_}\")\n",
    "print(f\"Quadratic Regression R-Squared = {r2_score(y, reg.predict(X2))}\")\n",
    "\n",
    "print(f\"\\n\")\n",
    "print(f\"\\n\")\n",
    "\n",
    "# Summary of the training set\n",
    "print(f\"Summary of the training set including R2:\\n\")\n",
    "mod = sm.OLS(df['Concrete compressive strength'], df[['Cement', 'Blast Furnace Slag', 'Fly Ash', 'Water', 'Superplasticizer', 'Coarse Aggregate', 'Fine Aggregate', 'Age']])\n",
    "res = mod.fit()\n",
    "print(res.summary())\n",
    "\n",
    "print(f\"\\n\")\n",
    "print(f\"\\n\")\n",
    "\n",
    "# Summary of the testing set\n",
    "print(f\"Summary of the testing set including R2:\\n\")\n",
    "mod1 = sm.OLS(df1['Concrete compressive strength'], df1[['Cement', 'Blast Furnace Slag', 'Fly Ash', 'Water', 'Superplasticizer', 'Coarse Aggregate', 'Fine Aggregate', 'Age']])\n",
    "res1 = mod1.fit()\n",
    "print(res1.summary())"
   ]
  },
  {
   "cell_type": "markdown",
   "metadata": {},
   "source": [
    "## Problem 9"
   ]
  },
  {
   "cell_type": "markdown",
   "metadata": {},
   "source": [
    "Train the cubic regression model (including the interaction terms) using the training set. Report the R2 values on both the training and testing set."
   ]
  },
  {
   "cell_type": "code",
   "execution_count": 12,
   "metadata": {},
   "outputs": [
    {
     "name": "stdout",
     "output_type": "stream",
     "text": [
      "[[ 0  1]\n",
      " [ 2  3]\n",
      " [ 4  5]\n",
      " [ 6  7]\n",
      " [ 8  9]\n",
      " [10 11]\n",
      " [12 13]\n",
      " [14 15]\n",
      " [16 17]\n",
      " [18 19]]\n",
      "[[0.000e+00 1.000e+00 0.000e+00 0.000e+00 1.000e+00 0.000e+00 0.000e+00\n",
      "  0.000e+00 1.000e+00]\n",
      " [2.000e+00 3.000e+00 4.000e+00 6.000e+00 9.000e+00 8.000e+00 1.200e+01\n",
      "  1.800e+01 2.700e+01]\n",
      " [4.000e+00 5.000e+00 1.600e+01 2.000e+01 2.500e+01 6.400e+01 8.000e+01\n",
      "  1.000e+02 1.250e+02]\n",
      " [6.000e+00 7.000e+00 3.600e+01 4.200e+01 4.900e+01 2.160e+02 2.520e+02\n",
      "  2.940e+02 3.430e+02]\n",
      " [8.000e+00 9.000e+00 6.400e+01 7.200e+01 8.100e+01 5.120e+02 5.760e+02\n",
      "  6.480e+02 7.290e+02]\n",
      " [1.000e+01 1.100e+01 1.000e+02 1.100e+02 1.210e+02 1.000e+03 1.100e+03\n",
      "  1.210e+03 1.331e+03]\n",
      " [1.200e+01 1.300e+01 1.440e+02 1.560e+02 1.690e+02 1.728e+03 1.872e+03\n",
      "  2.028e+03 2.197e+03]\n",
      " [1.400e+01 1.500e+01 1.960e+02 2.100e+02 2.250e+02 2.744e+03 2.940e+03\n",
      "  3.150e+03 3.375e+03]\n",
      " [1.600e+01 1.700e+01 2.560e+02 2.720e+02 2.890e+02 4.096e+03 4.352e+03\n",
      "  4.624e+03 4.913e+03]\n",
      " [1.800e+01 1.900e+01 3.240e+02 3.420e+02 3.610e+02 5.832e+03 6.156e+03\n",
      "  6.498e+03 6.859e+03]]\n",
      "intercept = -9223.099379274121\n",
      "coefficients = [1182.39083672 1182.39083672]\n",
      "Linear Regression R-Squared = 0.8496502061987063\n",
      "intercept = 621.3400568384677\n",
      "coefficients = [-94.34299327 -94.34299327 104.64163912  10.29864585 -84.04434742\n",
      " -61.65534036  42.98629876  53.28494461 -30.7594028 ]\n",
      "Quadratic Regression R-Squared = 0.9948353323801049\n",
      "\n",
      "\n",
      "\n",
      "\n",
      "Summary of the training set including R2:\n",
      "\n",
      "                                      OLS Regression Results                                      \n",
      "==================================================================================================\n",
      "Dep. Variable:     Concrete compressive strength   R-squared (uncentered):                   0.931\n",
      "Model:                                       OLS   Adj. R-squared (uncentered):              0.930\n",
      "Method:                            Least Squares   F-statistic:                              1379.\n",
      "Date:                           Mon, 02 Nov 2020   Prob (F-statistic):                        0.00\n",
      "Time:                                   20:56:02   Log-Likelihood:                         -3102.1\n",
      "No. Observations:                            824   AIC:                                      6220.\n",
      "Df Residuals:                                816   BIC:                                      6258.\n",
      "Df Model:                                      8                                                  \n",
      "Covariance Type:                       nonrobust                                                  \n",
      "======================================================================================\n",
      "                         coef    std err          t      P>|t|      [0.025      0.975]\n",
      "--------------------------------------------------------------------------------------\n",
      "Cement                 0.1163      0.005     23.793      0.000       0.107       0.126\n",
      "Blast Furnace Slag     0.1011      0.006     16.808      0.000       0.089       0.113\n",
      "Fly Ash                0.0871      0.009      9.664      0.000       0.069       0.105\n",
      "Water                 -0.1881      0.018    -10.403      0.000      -0.224      -0.153\n",
      "Superplasticizer       0.1793      0.101      1.773      0.077      -0.019       0.378\n",
      "Coarse Aggregate       0.0084      0.003      2.412      0.016       0.002       0.015\n",
      "Fine Aggregate         0.0138      0.004      3.455      0.001       0.006       0.022\n",
      "Age                    0.1152      0.006     19.032      0.000       0.103       0.127\n",
      "==============================================================================\n",
      "Omnibus:                        6.718   Durbin-Watson:                   1.992\n",
      "Prob(Omnibus):                  0.035   Jarque-Bera (JB):                6.659\n",
      "Skew:                          -0.219   Prob(JB):                       0.0358\n",
      "Kurtosis:                       3.054   Cond. No.                         361.\n",
      "==============================================================================\n",
      "\n",
      "Warnings:\n",
      "[1] Standard Errors assume that the covariance matrix of the errors is correctly specified.\n",
      "\n",
      "\n",
      "\n",
      "\n",
      "Summary of the testing set including R2:\n",
      "\n",
      "                                      OLS Regression Results                                      \n",
      "==================================================================================================\n",
      "Dep. Variable:     Concrete compressive strength   R-squared (uncentered):                   0.934\n",
      "Model:                                       OLS   Adj. R-squared (uncentered):              0.932\n",
      "Method:                            Least Squares   F-statistic:                              352.1\n",
      "Date:                           Mon, 02 Nov 2020   Prob (F-statistic):                   1.18e-112\n",
      "Time:                                   20:56:02   Log-Likelihood:                         -763.62\n",
      "No. Observations:                            206   AIC:                                      1543.\n",
      "Df Residuals:                                198   BIC:                                      1570.\n",
      "Df Model:                                      8                                                  \n",
      "Covariance Type:                       nonrobust                                                  \n",
      "======================================================================================\n",
      "                         coef    std err          t      P>|t|      [0.025      0.975]\n",
      "--------------------------------------------------------------------------------------\n",
      "Cement                 0.1054      0.009     12.211      0.000       0.088       0.122\n",
      "Blast Furnace Slag     0.0810      0.010      7.722      0.000       0.060       0.102\n",
      "Fly Ash                0.0545      0.016      3.336      0.001       0.022       0.087\n",
      "Water                 -0.1647      0.036     -4.607      0.000      -0.235      -0.094\n",
      "Superplasticizer       0.5293      0.180      2.941      0.004       0.174       0.884\n",
      "Coarse Aggregate       0.0161      0.006      2.524      0.012       0.004       0.029\n",
      "Fine Aggregate         0.0033      0.008      0.412      0.681      -0.013       0.019\n",
      "Age                    0.1079      0.012      8.705      0.000       0.083       0.132\n",
      "==============================================================================\n",
      "Omnibus:                        0.496   Durbin-Watson:                   1.993\n",
      "Prob(Omnibus):                  0.780   Jarque-Bera (JB):                0.624\n",
      "Skew:                           0.002   Prob(JB):                        0.732\n",
      "Kurtosis:                       2.730   Cond. No.                         335.\n",
      "==============================================================================\n",
      "\n",
      "Warnings:\n",
      "[1] Standard Errors assume that the covariance matrix of the errors is correctly specified.\n"
     ]
    }
   ],
   "source": [
    "X = np.arange(20).reshape(10, 2)\n",
    "print(X)\n",
    "\n",
    "y = [(x_i[0] + x_i[1] + np.random.randn()) ** 3  for x_i in X]\n",
    "\n",
    "poly1 = PolynomialFeatures(3, include_bias = False)\n",
    "X3 = poly1.fit_transform(X)\n",
    "\n",
    "print(X3)\n",
    "\n",
    "reg = linear_model.LinearRegression()\n",
    "reg.fit(X, y)\n",
    "print(f\"intercept = {reg.intercept_}\")\n",
    "print(f\"coefficients = {reg.coef_}\")\n",
    "print(f\"Linear Regression R-Squared = {r2_score(y, reg.predict(X))}\")\n",
    "\n",
    "reg.fit(X3, y)\n",
    "print(f\"intercept = {reg.intercept_}\")\n",
    "print(f\"coefficients = {reg.coef_}\")\n",
    "print(f\"Quadratic Regression R-Squared = {r2_score(y, reg.predict(X3))}\")\n",
    "\n",
    "print(f\"\\n\")\n",
    "print(f\"\\n\")\n",
    "\n",
    "# Summary of the training set\n",
    "print(f\"Summary of the training set including R2:\\n\")\n",
    "mod = sm.OLS(df['Concrete compressive strength'], df[['Cement', 'Blast Furnace Slag', 'Fly Ash', 'Water', 'Superplasticizer', 'Coarse Aggregate', 'Fine Aggregate', 'Age']])\n",
    "res = mod.fit()\n",
    "print(res.summary())\n",
    "\n",
    "print(f\"\\n\")\n",
    "print(f\"\\n\")\n",
    "\n",
    "# Summary of the testing set\n",
    "print(f\"Summary of the testing set including R2:\\n\")\n",
    "mod1 = sm.OLS(df1['Concrete compressive strength'], df1[['Cement', 'Blast Furnace Slag', 'Fly Ash', 'Water', 'Superplasticizer', 'Coarse Aggregate', 'Fine Aggregate', 'Age']])\n",
    "res1 = mod1.fit()\n",
    "print(res1.summary())"
   ]
  },
  {
   "cell_type": "markdown",
   "metadata": {},
   "source": [
    "## Problem 10"
   ]
  },
  {
   "cell_type": "markdown",
   "metadata": {},
   "source": [
    "Based on everything that you have observed so far, which is the best model?  Please justify your answer."
   ]
  },
  {
   "cell_type": "markdown",
   "metadata": {},
   "source": [
    "Based on all of the information I have observed and tests ran, I believe the best model is the quadratic regression model. This is because it retains a high R2 number with a changing alpha, and doesn't seem to have the significant drop off. Also, the coefficients tend to approach zero at a more consistent rate."
   ]
  }
 ],
 "metadata": {
  "kernelspec": {
   "display_name": "Python 3",
   "language": "python",
   "name": "python3"
  },
  "language_info": {
   "codemirror_mode": {
    "name": "ipython",
    "version": 3
   },
   "file_extension": ".py",
   "mimetype": "text/x-python",
   "name": "python",
   "nbconvert_exporter": "python",
   "pygments_lexer": "ipython3",
   "version": "3.8.8"
  }
 },
 "nbformat": 4,
 "nbformat_minor": 4
}
