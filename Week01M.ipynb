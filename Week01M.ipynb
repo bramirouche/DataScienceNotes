{
 "cells": [
  {
   "cell_type": "markdown",
   "metadata": {
    "slideshow": {
     "slide_type": "-"
    }
   },
   "source": [
    "# A Crash Course in Python"
   ]
  },
  {
   "cell_type": "markdown",
   "metadata": {},
   "source": [
    "## Whitespace Formatting"
   ]
  },
  {
   "cell_type": "markdown",
   "metadata": {},
   "source": [
    "Many languages use curly braces to delimit blocks of code. Python uses **indentation**\n",
    "\n",
    "Python considers tabs and spaces **different indentation** and will not be able to run your code if you mix the two.\n",
    "\n",
    "When writing Python you should **always use spaces**, never tabs (Jupyter Notebook, by default, converts tabs to spaces. Other editors should be configured to do the same)."
   ]
  },
  {
   "cell_type": "code",
   "execution_count": 2,
   "metadata": {
    "scrolled": true
   },
   "outputs": [
    {
     "name": "stdout",
     "output_type": "stream",
     "text": [
      "i =  1\n",
      "j =  1\n",
      "i + j =  2\n",
      "j =  2\n",
      "i + j =  3\n",
      "j =  3\n",
      "i + j =  4\n",
      "j =  4\n",
      "i + j =  5\n",
      "j =  5\n",
      "i + j =  6\n",
      "i =  1\n",
      "i =  2\n",
      "j =  1\n",
      "i + j =  3\n",
      "j =  2\n",
      "i + j =  4\n",
      "j =  3\n",
      "i + j =  5\n",
      "j =  4\n",
      "i + j =  6\n",
      "j =  5\n",
      "i + j =  7\n",
      "i =  2\n",
      "i =  3\n",
      "j =  1\n",
      "i + j =  4\n",
      "j =  2\n",
      "i + j =  5\n",
      "j =  3\n",
      "i + j =  6\n",
      "j =  4\n",
      "i + j =  7\n",
      "j =  5\n",
      "i + j =  8\n",
      "i =  3\n",
      "i =  4\n",
      "j =  1\n",
      "i + j =  5\n",
      "j =  2\n",
      "i + j =  6\n",
      "j =  3\n",
      "i + j =  7\n",
      "j =  4\n",
      "i + j =  8\n",
      "j =  5\n",
      "i + j =  9\n",
      "i =  4\n",
      "i =  5\n",
      "j =  1\n",
      "i + j =  6\n",
      "j =  2\n",
      "i + j =  7\n",
      "j =  3\n",
      "i + j =  8\n",
      "j =  4\n",
      "i + j =  9\n",
      "j =  5\n",
      "i + j =  10\n",
      "i =  5\n",
      "done looping\n"
     ]
    }
   ],
   "source": [
    "# The pound sign marks the start of a comment. Python itself\n",
    "# ignores the comments, but they're helpful for anyone reading the code.\n",
    "for i in [1, 2, 3, 4, 5]:\n",
    "    print(\"i = \", i)                    # first line in \"for i\" block\n",
    "    for j in [1, 2, 3, 4, 5]:\n",
    "        print(\"j = \", j)                # first line in \"for j\" block\n",
    "        print(\"i + j = \", i + j)        # last line in \"for j\" block\n",
    "    print(\"i = \", i)                    # last line in \"for i\" block\n",
    "print(\"done looping\")"
   ]
  },
  {
   "cell_type": "markdown",
   "metadata": {},
   "source": [
    "Whitespace is ignored inside parentheses and brackets, which can be helpful for longwinded computations:"
   ]
  },
  {
   "cell_type": "code",
   "execution_count": 3,
   "metadata": {
    "scrolled": true
   },
   "outputs": [
    {
     "name": "stdout",
     "output_type": "stream",
     "text": [
      "same 2D list:\n",
      "[[1, 2, 3], [4, 5, 6], [7, 8, 9]]\n",
      "[[1, 2, 3], [4, 5, 6], [7, 8, 9]]\n"
     ]
    }
   ],
   "source": [
    "long_winded_computation = (1 + 2 + 3 + 4 + 5 + 6 + 7 + 8 + 9 + 10 + 11 + 12 +\n",
    "                           13 + 14 + 15 + 16 + 17 + 18 + 19 + 20)\n",
    "\n",
    "list_of_lists = [[1, 2, 3], [4, 5, 6], [7, 8, 9]]\n",
    "\n",
    "easier_to_read_list_of_lists = [[1, 2, 3],\n",
    "                                [4, 5, 6],\n",
    "                                [7, 8, 9]]\n",
    "\n",
    "print(\"same 2D list:\")\n",
    "print(list_of_lists)\n",
    "print(easier_to_read_list_of_lists)"
   ]
  },
  {
   "cell_type": "markdown",
   "metadata": {},
   "source": [
    "You can also use a backslash to indicate that a statement continues onto the next line, although we’ll rarely do this:"
   ]
  },
  {
   "cell_type": "code",
   "execution_count": 14,
   "metadata": {},
   "outputs": [
    {
     "name": "stdout",
     "output_type": "stream",
     "text": [
      "rs\n"
     ]
    }
   ],
   "source": [
    "two_plus_three = 2 + \\\n",
    "                 3\n",
    "\n",
    "print(two_plus_three)"
   ]
  },
  {
   "cell_type": "markdown",
   "metadata": {},
   "source": [
    "## Modules"
   ]
  },
  {
   "cell_type": "markdown",
   "metadata": {},
   "source": [
    "Modules not loaded by default can be imported."
   ]
  },
  {
   "cell_type": "code",
   "execution_count": 5,
   "metadata": {},
   "outputs": [
    {
     "name": "stdout",
     "output_type": "stream",
     "text": [
      "Windows\n"
     ]
    }
   ],
   "source": [
    "import platform\n",
    "\n",
    "x = platform.system()\n",
    "print(x)"
   ]
  },
  {
   "cell_type": "markdown",
   "metadata": {},
   "source": [
    "Alias may also be used, especially for long package names"
   ]
  },
  {
   "cell_type": "code",
   "execution_count": 6,
   "metadata": {},
   "outputs": [
    {
     "name": "stdout",
     "output_type": "stream",
     "text": [
      "Windows\n"
     ]
    }
   ],
   "source": [
    "import platform as pl\n",
    "\n",
    "x = pl.system()\n",
    "print(x)"
   ]
  },
  {
   "cell_type": "markdown",
   "metadata": {},
   "source": [
    "If you need a few specific values from a module, you can import them explicitly and use them without qualification:"
   ]
  },
  {
   "cell_type": "code",
   "execution_count": 7,
   "metadata": {},
   "outputs": [
    {
     "name": "stdout",
     "output_type": "stream",
     "text": [
      "Windows\n"
     ]
    }
   ],
   "source": [
    "from platform import system\n",
    "x = system()\n",
    "print(x)"
   ]
  },
  {
   "cell_type": "markdown",
   "metadata": {},
   "source": [
    "## Functions"
   ]
  },
  {
   "cell_type": "markdown",
   "metadata": {},
   "source": [
    "A function is a rule for taking zero or more inputs and returning a corresponding output.\n",
    "\n",
    "In Python, we typically define functions using `def`:"
   ]
  },
  {
   "cell_type": "code",
   "execution_count": 8,
   "metadata": {},
   "outputs": [],
   "source": [
    "def double(x):\n",
    "    \"\"\"\n",
    "    This is where you put an optional docstring that explains what the\n",
    "    function does. For example, this function multiplies its input by 2.\n",
    "    \"\"\"\n",
    "    return x * 2"
   ]
  },
  {
   "cell_type": "markdown",
   "metadata": {},
   "source": [
    "Python functions are *first-class*, which means that we can assign them to variables and pass them into functions just like any other arguments:"
   ]
  },
  {
   "cell_type": "code",
   "execution_count": 9,
   "metadata": {},
   "outputs": [],
   "source": [
    "def apply_to_one(f):\n",
    "    \"\"\"Calls the function f with 1 as its argument\"\"\"\n",
    "    return f(1)"
   ]
  },
  {
   "cell_type": "code",
   "execution_count": 10,
   "metadata": {},
   "outputs": [
    {
     "name": "stdout",
     "output_type": "stream",
     "text": [
      "2\n"
     ]
    }
   ],
   "source": [
    "my_double = double          # refers to the previously defined function\n",
    "x = apply_to_one(my_double) # equals 2\n",
    "print(x)"
   ]
  },
  {
   "cell_type": "markdown",
   "metadata": {},
   "source": [
    "Function parameters can also be given default arguments, which only need to be specified when you want a value other than the default:"
   ]
  },
  {
   "cell_type": "code",
   "execution_count": 11,
   "metadata": {},
   "outputs": [
    {
     "name": "stdout",
     "output_type": "stream",
     "text": [
      "hello\n",
      "my default message\n"
     ]
    }
   ],
   "source": [
    "def my_print(message = \"my default message\"):\n",
    "    print(message)\n",
    "\n",
    "my_print(\"hello\")   # prints 'hello'\n",
    "my_print()          # prints 'my default message'"
   ]
  },
  {
   "cell_type": "markdown",
   "metadata": {},
   "source": [
    "It is sometimes useful to specify arguments by name:"
   ]
  },
  {
   "cell_type": "code",
   "execution_count": 12,
   "metadata": {},
   "outputs": [
    {
     "name": "stdout",
     "output_type": "stream",
     "text": [
      "Joel Grus\n",
      "Joel Something\n",
      "First Grus\n"
     ]
    }
   ],
   "source": [
    "def full_name(first = \"What's-his-name\", last = \"Something\"):\n",
    "    return first + \" \" + last\n",
    "\n",
    "print(full_name(\"Joel\", \"Grus\"))     # \"Joel Grus\"\n",
    "print(full_name(\"Joel\"))             # \"Joel Something\"\n",
    "print(full_name(last=\"Grus\", first=\"First\"))        # \"What's-his-name Grus\""
   ]
  },
  {
   "cell_type": "markdown",
   "metadata": {},
   "source": [
    "## Strings"
   ]
  },
  {
   "cell_type": "markdown",
   "metadata": {},
   "source": [
    "Strings can be delimited by single or double quotation marks (but the quotes have to match):"
   ]
  },
  {
   "cell_type": "code",
   "execution_count": null,
   "metadata": {},
   "outputs": [],
   "source": [
    "single_quoted_string = 'data science'\n",
    "double_quoted_string = \"data science\"\n",
    "#invalid_string = 'data science\"\n",
    "\n",
    "print(single_quoted_string)\n",
    "print(double_quoted_string)"
   ]
  },
  {
   "cell_type": "markdown",
   "metadata": {},
   "source": [
    "Python uses backslashes to encode special characters. For example:"
   ]
  },
  {
   "cell_type": "code",
   "execution_count": null,
   "metadata": {},
   "outputs": [],
   "source": [
    "tab_string = \"\\t\"       # represents the tab character\n",
    "print(\"before tab\", tab_string, \"after tab\")\n",
    "print(len(tab_string))  # is 1"
   ]
  },
  {
   "cell_type": "markdown",
   "metadata": {},
   "source": [
    "If you want backslashes as backslashes (which you might in Windows directory names or in regular expressions), you can create raw strings using `r\"\"`:"
   ]
  },
  {
   "cell_type": "code",
   "execution_count": null,
   "metadata": {},
   "outputs": [],
   "source": [
    "not_tab_string = r\"\\t\"         # represents the characters '\\' and 't'\n",
    "print(not_tab_string)\n",
    "print(len(not_tab_string))     # is 2"
   ]
  },
  {
   "cell_type": "markdown",
   "metadata": {},
   "source": [
    "You can create multiline strings using three double quotes:"
   ]
  },
  {
   "cell_type": "code",
   "execution_count": null,
   "metadata": {},
   "outputs": [],
   "source": [
    "multi_line_string = \"\"\"This is the first line.\n",
    "and this is the second line\n",
    "and this is the third line\"\"\"\n",
    "\n",
    "print(multi_line_string)"
   ]
  },
  {
   "cell_type": "markdown",
   "metadata": {},
   "source": [
    "A new feature since Python 3.6 is the *f-string*, which provides a simple way to substitute values into strings. For example, if we had the first name and last name given separately:"
   ]
  },
  {
   "cell_type": "code",
   "execution_count": null,
   "metadata": {},
   "outputs": [],
   "source": [
    "first_name = \"Joel\"\n",
    "last_name  = \"Grus\""
   ]
  },
  {
   "cell_type": "markdown",
   "metadata": {},
   "source": [
    "we might want to combine them into a full name. There are multiple ways to construct such a full_name string:"
   ]
  },
  {
   "cell_type": "code",
   "execution_count": null,
   "metadata": {},
   "outputs": [],
   "source": [
    "full_name1 = first_name + \" \" + last_name             # string addition\n",
    "full_name2 = \"{0} {1}\".format(first_name, last_name)  # string.format\n",
    "full_name3 = f\"{first_name} {last_name}\"              # f-string, preferred\n",
    "\n",
    "print(full_name1)\n",
    "print(full_name2)\n",
    "print(full_name3)"
   ]
  },
  {
   "cell_type": "markdown",
   "metadata": {},
   "source": [
    "## Exceptions"
   ]
  },
  {
   "cell_type": "markdown",
   "metadata": {},
   "source": [
    "When something goes wrong, Python raises an exception. Unhandled, exceptions will cause your program to crash. You can handle them using try and except:"
   ]
  },
  {
   "cell_type": "code",
   "execution_count": null,
   "metadata": {},
   "outputs": [],
   "source": [
    "try:\n",
    "    print(0 / 0)\n",
    "except ZeroDivisionError:\n",
    "    print(\"cannot divide by zero\")"
   ]
  }
 ],
 "metadata": {
  "kernelspec": {
   "display_name": "Python 3",
   "language": "python",
   "name": "python3"
  },
  "language_info": {
   "codemirror_mode": {
    "name": "ipython",
    "version": 3
   },
   "file_extension": ".py",
   "mimetype": "text/x-python",
   "name": "python",
   "nbconvert_exporter": "python",
   "pygments_lexer": "ipython3",
   "version": "3.8.3"
  }
 },
 "nbformat": 4,
 "nbformat_minor": 4
}
