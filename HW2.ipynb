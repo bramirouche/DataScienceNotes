{
 "cells": [
  {
   "cell_type": "markdown",
   "metadata": {},
   "source": [
    "# CSCI 3360 Homework 2 - Brandon Amirouche"
   ]
  },
  {
   "cell_type": "markdown",
   "metadata": {},
   "source": [
    "## Instructions"
   ]
  },
  {
   "cell_type": "markdown",
   "metadata": {},
   "source": [
    "Consider  the  Iris  dataset  (https://archive.ics.uci.edu/ml/datasets/iris)  and  answer  the  following questions.\n",
    "1.  How many data samples/instances/rows does the Iris dataset contain?\n",
    "\n",
    "2.  How many columns does the dataset contain?  What does each column represent?\n",
    "\n",
    "3.  For each column that contains numeric data, obtain the following: \n",
    "(a)minimum value  (b)maximum value  (c)median  (d)mean  (e)variance  (f)standard deviation\n",
    "\n",
    "4.  For all possible pairs of numeric data columns, obtain the following:\n",
    "    (a)covariance matrix  (b)correlation matrix\n",
    "\n",
    "5.  Based on your correlation matrix in 4 (b), which pair of distinct data columns has the strongest positive correlation?  \n",
    "    Which pair has the strongest negative correlation?  \n",
    "    What do strong positive and negative correlations actually mean?  \n",
    "    What do correlations near 0 mean?\n",
    "\n",
    "6.  Now separate the data samples by different iris species.  \n",
    "    For each iris species, create a histogram foreach numeric data column of a given iris species.\n",
    "\n",
    "7.  For each iris species, and for each numeric data column of a given iris species, obtain the following:\n",
    "    (a)minimum value  (b)maximum value  (c)median  (d)mean  (e)variance  (f)standard deviation\n",
    "\n",
    "8.  For each iris species, and for all possible pairs of numeric data columns of a given iris species, obtainthe following:\n",
    "    (a)  covariance matrix(b)  correlation matrix\n",
    "\n",
    "9.  Based on your correlation matrices in 8 (b), describe their similarities and differences. \n",
    "    In particular, highlight any pair of data columns/features that exhibit strong correlations\n",
    "    in some iris species but weak  correlations  in  others. Now compare with the correlation matrix  \n",
    "    that you obtained in 4 (b).\n",
    "    What knowledge/information was hidden by the correlation matrix in 4 (b) when no distinctions ofthe iris species were made?\n",
    "    \n",
    "10. Based on the various statistics and plots that you have obtained so far, which data column(s)/feature(s)\n",
    "    can be used to distinguish di erent iris species?  Explain how.\n"
   ]
  },
  {
   "cell_type": "markdown",
   "metadata": {},
   "source": [
    "## Academic Honesty Statement"
   ]
  },
  {
   "cell_type": "code",
   "execution_count": 1,
   "metadata": {},
   "outputs": [
    {
     "name": "stdout",
     "output_type": "stream",
     "text": [
      "****************************************************************\n",
      "CSCI 3360 Homework 2\n",
      "completed by Brandon Amirouche\n",
      "\n",
      "I, Brandon Amirouche, certify that the following code\n",
      "represents my own work. I have neither received nor given \n",
      "inappropriate assistance. I have not consulted with another\n",
      "individual, other than a member of the teaching staff, regarding\n",
      "the specific problems in this homework. I recognize that any \n",
      "unauthorized assistance or plagiarism will be handled in \n",
      "accordance with the University of Georgia's Academic Honesty\n",
      "Policy and the policies of this course.\n",
      "\n",
      "****************************************************************\n"
     ]
    }
   ],
   "source": [
    "# first fill in your name\n",
    "first_name = \"Brandon\"\n",
    "last_name  = \"Amirouche\"\n",
    "\n",
    "print(\"****************************************************************\")\n",
    "print(\"CSCI 3360 Homework 2\")\n",
    "print(f\"completed by {first_name} {last_name}\")\n",
    "print(f\"\"\"\n",
    "I, {first_name} {last_name}, certify that the following code\n",
    "represents my own work. I have neither received nor given \n",
    "inappropriate assistance. I have not consulted with another\n",
    "individual, other than a member of the teaching staff, regarding\n",
    "the specific problems in this homework. I recognize that any \n",
    "unauthorized assistance or plagiarism will be handled in \n",
    "accordance with the University of Georgia's Academic Honesty\n",
    "Policy and the policies of this course.\n",
    "\"\"\")\n",
    "print(\"****************************************************************\")"
   ]
  },
  {
   "cell_type": "markdown",
   "metadata": {},
   "source": [
    "## Problem 1"
   ]
  },
  {
   "cell_type": "markdown",
   "metadata": {},
   "source": [
    "1.  How many data samples/instances/rows does the Iris dataset contain?"
   ]
  },
  {
   "cell_type": "markdown",
   "metadata": {},
   "source": [
    "The iris dataset contains 150 data samples/instances/rows"
   ]
  },
  {
   "cell_type": "markdown",
   "metadata": {},
   "source": [
    "## Problem 2"
   ]
  },
  {
   "cell_type": "markdown",
   "metadata": {},
   "source": [
    "2.  How many columns does the dataset contain?  What does each column represent?"
   ]
  },
  {
   "cell_type": "markdown",
   "metadata": {},
   "source": [
    "There are 5 columns. Each column represents the 5 attributes including:\n",
    "    sepal length in cm, \n",
    "    sepal width in cm, \n",
    "    petal length in cm, \n",
    "    petal width in cm, \n",
    "    classification:\n",
    "        -- Iris Setosa\n",
    "        -- Iris Versicolour\n",
    "        -- Iris Virginica"
   ]
  },
  {
   "cell_type": "markdown",
   "metadata": {},
   "source": [
    "## Problem 3"
   ]
  },
  {
   "cell_type": "markdown",
   "metadata": {},
   "source": [
    "3.  For each column that contains numeric data, obtain the following: \n",
    "(a)minimum value  (b)maximum value  (c)median  (d)mean  (e)variance  (f)standard deviation"
   ]
  },
  {
   "cell_type": "code",
   "execution_count": 12,
   "metadata": {
    "scrolled": true
   },
   "outputs": [],
   "source": [
    "import pandas as pd\n",
    "import numpy as np\n",
    "header_list = ['sepal length in cm', 'sepal width in cm','petal length in cm', 'petal width in cm', 'classification']\n",
    "data = pd.read_csv('iris.data', names=header_list)\n",
    "df = pd.DataFrame(data)"
   ]
  },
  {
   "cell_type": "code",
   "execution_count": 13,
   "metadata": {
    "scrolled": true
   },
   "outputs": [
    {
     "name": "stdout",
     "output_type": "stream",
     "text": [
      "(a)\n",
      "\n",
      "\tThe Minimum value of the Iris dataset by Column:\n",
      "\tFirst column minimum value = 4.3\n",
      "\tSecond column minimum value = 2.0\n",
      "\tThird column minimum value = 1.0\n",
      "\tFourth column minimum value = 0.1\n",
      "\n",
      "(b)\n",
      "\n",
      "\tThe Maximum value of the Iris dataset by Column:\n",
      "\tFirst column maximum value = 7.9\n",
      "\tSecond column maximum value = 4.4\n",
      "\tThird column maximum value = 6.9\n",
      "\tFourth column maximum value = 2.5\n",
      "\n",
      "(c)\n",
      "\n",
      "\tThe Median value of the Iris dataset by Column:\n"
     ]
    },
    {
     "ename": "TypeError",
     "evalue": "could not convert string to float: 'Iris-setosa'",
     "output_type": "error",
     "traceback": [
      "\u001b[1;31m---------------------------------------------------------------------------\u001b[0m",
      "\u001b[1;31mValueError\u001b[0m                                Traceback (most recent call last)",
      "File \u001b[1;32mF:\\Documents\\PythonFolder\\Lib\\site-packages\\pandas\\core\\nanops.py:786\u001b[0m, in \u001b[0;36mnanmedian\u001b[1;34m(values, axis, skipna, mask)\u001b[0m\n\u001b[0;32m    785\u001b[0m \u001b[38;5;28;01mtry\u001b[39;00m:\n\u001b[1;32m--> 786\u001b[0m     values \u001b[38;5;241m=\u001b[39m values\u001b[38;5;241m.\u001b[39mastype(\u001b[38;5;124m\"\u001b[39m\u001b[38;5;124mf8\u001b[39m\u001b[38;5;124m\"\u001b[39m)\n\u001b[0;32m    787\u001b[0m \u001b[38;5;28;01mexcept\u001b[39;00m \u001b[38;5;167;01mValueError\u001b[39;00m \u001b[38;5;28;01mas\u001b[39;00m err:\n\u001b[0;32m    788\u001b[0m     \u001b[38;5;66;03m# e.g. \"could not convert string to float: 'a'\"\u001b[39;00m\n",
      "\u001b[1;31mValueError\u001b[0m: could not convert string to float: 'Iris-setosa'",
      "\nThe above exception was the direct cause of the following exception:\n",
      "\u001b[1;31mTypeError\u001b[0m                                 Traceback (most recent call last)",
      "Cell \u001b[1;32mIn[13], line 24\u001b[0m\n\u001b[0;32m     22\u001b[0m \u001b[38;5;28mprint\u001b[39m(\u001b[38;5;124mf\u001b[39m\u001b[38;5;124m\"\u001b[39m\u001b[38;5;124m(c)\u001b[39m\u001b[38;5;130;01m\\n\u001b[39;00m\u001b[38;5;124m\"\u001b[39m)\n\u001b[0;32m     23\u001b[0m \u001b[38;5;28mprint\u001b[39m(\u001b[38;5;124mf\u001b[39m\u001b[38;5;124m\"\u001b[39m\u001b[38;5;130;01m\\t\u001b[39;00m\u001b[38;5;124mThe Median value of the Iris dataset by Column:\u001b[39m\u001b[38;5;124m\"\u001b[39m)\n\u001b[1;32m---> 24\u001b[0m \u001b[38;5;28mprint\u001b[39m(\u001b[38;5;124mf\u001b[39m\u001b[38;5;124m\"\u001b[39m\u001b[38;5;130;01m\\t\u001b[39;00m\u001b[38;5;124mFirst column median value = \u001b[39m\u001b[38;5;132;01m{\u001b[39;00mdf\u001b[38;5;241m.\u001b[39mmedian(axis\u001b[38;5;241m=\u001b[39m\u001b[38;5;241m0\u001b[39m)[\u001b[38;5;241m0\u001b[39m]\u001b[38;5;132;01m}\u001b[39;00m\u001b[38;5;124m\"\u001b[39m)\n\u001b[0;32m     25\u001b[0m \u001b[38;5;28mprint\u001b[39m(\u001b[38;5;124mf\u001b[39m\u001b[38;5;124m\"\u001b[39m\u001b[38;5;130;01m\\t\u001b[39;00m\u001b[38;5;124mSecond column median value = \u001b[39m\u001b[38;5;132;01m{\u001b[39;00mdf\u001b[38;5;241m.\u001b[39mmedian(axis\u001b[38;5;241m=\u001b[39m\u001b[38;5;241m0\u001b[39m)[\u001b[38;5;241m1\u001b[39m]\u001b[38;5;132;01m}\u001b[39;00m\u001b[38;5;124m\"\u001b[39m)\n\u001b[0;32m     26\u001b[0m \u001b[38;5;28mprint\u001b[39m(\u001b[38;5;124mf\u001b[39m\u001b[38;5;124m\"\u001b[39m\u001b[38;5;130;01m\\t\u001b[39;00m\u001b[38;5;124mThird column median value = \u001b[39m\u001b[38;5;132;01m{\u001b[39;00mdf\u001b[38;5;241m.\u001b[39mmedian(axis\u001b[38;5;241m=\u001b[39m\u001b[38;5;241m0\u001b[39m)[\u001b[38;5;241m2\u001b[39m]\u001b[38;5;132;01m}\u001b[39;00m\u001b[38;5;124m\"\u001b[39m)\n",
      "File \u001b[1;32mF:\\Documents\\PythonFolder\\Lib\\site-packages\\pandas\\core\\generic.py:11623\u001b[0m, in \u001b[0;36mNDFrame._add_numeric_operations.<locals>.median\u001b[1;34m(self, axis, skipna, numeric_only, **kwargs)\u001b[0m\n\u001b[0;32m  11606\u001b[0m \u001b[38;5;129m@doc\u001b[39m(\n\u001b[0;32m  11607\u001b[0m     _num_doc,\n\u001b[0;32m  11608\u001b[0m     desc\u001b[38;5;241m=\u001b[39m\u001b[38;5;124m\"\u001b[39m\u001b[38;5;124mReturn the median of the values over the requested axis.\u001b[39m\u001b[38;5;124m\"\u001b[39m,\n\u001b[1;32m   (...)\u001b[0m\n\u001b[0;32m  11621\u001b[0m     \u001b[38;5;241m*\u001b[39m\u001b[38;5;241m*\u001b[39mkwargs,\n\u001b[0;32m  11622\u001b[0m ):\n\u001b[1;32m> 11623\u001b[0m     \u001b[38;5;28;01mreturn\u001b[39;00m NDFrame\u001b[38;5;241m.\u001b[39mmedian(\u001b[38;5;28mself\u001b[39m, axis, skipna, numeric_only, \u001b[38;5;241m*\u001b[39m\u001b[38;5;241m*\u001b[39mkwargs)\n",
      "File \u001b[1;32mF:\\Documents\\PythonFolder\\Lib\\site-packages\\pandas\\core\\generic.py:11212\u001b[0m, in \u001b[0;36mNDFrame.median\u001b[1;34m(self, axis, skipna, numeric_only, **kwargs)\u001b[0m\n\u001b[0;32m  11205\u001b[0m \u001b[38;5;28;01mdef\u001b[39;00m \u001b[38;5;21mmedian\u001b[39m(\n\u001b[0;32m  11206\u001b[0m     \u001b[38;5;28mself\u001b[39m,\n\u001b[0;32m  11207\u001b[0m     axis: Axis \u001b[38;5;241m|\u001b[39m \u001b[38;5;28;01mNone\u001b[39;00m \u001b[38;5;241m=\u001b[39m \u001b[38;5;241m0\u001b[39m,\n\u001b[1;32m   (...)\u001b[0m\n\u001b[0;32m  11210\u001b[0m     \u001b[38;5;241m*\u001b[39m\u001b[38;5;241m*\u001b[39mkwargs,\n\u001b[0;32m  11211\u001b[0m ) \u001b[38;5;241m-\u001b[39m\u001b[38;5;241m>\u001b[39m Series \u001b[38;5;241m|\u001b[39m \u001b[38;5;28mfloat\u001b[39m:\n\u001b[1;32m> 11212\u001b[0m     \u001b[38;5;28;01mreturn\u001b[39;00m \u001b[38;5;28mself\u001b[39m\u001b[38;5;241m.\u001b[39m_stat_function(\n\u001b[0;32m  11213\u001b[0m         \u001b[38;5;124m\"\u001b[39m\u001b[38;5;124mmedian\u001b[39m\u001b[38;5;124m\"\u001b[39m, nanops\u001b[38;5;241m.\u001b[39mnanmedian, axis, skipna, numeric_only, \u001b[38;5;241m*\u001b[39m\u001b[38;5;241m*\u001b[39mkwargs\n\u001b[0;32m  11214\u001b[0m     )\n",
      "File \u001b[1;32mF:\\Documents\\PythonFolder\\Lib\\site-packages\\pandas\\core\\generic.py:11158\u001b[0m, in \u001b[0;36mNDFrame._stat_function\u001b[1;34m(self, name, func, axis, skipna, numeric_only, **kwargs)\u001b[0m\n\u001b[0;32m  11154\u001b[0m     nv\u001b[38;5;241m.\u001b[39mvalidate_stat_func((), kwargs, fname\u001b[38;5;241m=\u001b[39mname)\n\u001b[0;32m  11156\u001b[0m validate_bool_kwarg(skipna, \u001b[38;5;124m\"\u001b[39m\u001b[38;5;124mskipna\u001b[39m\u001b[38;5;124m\"\u001b[39m, none_allowed\u001b[38;5;241m=\u001b[39m\u001b[38;5;28;01mFalse\u001b[39;00m)\n\u001b[1;32m> 11158\u001b[0m \u001b[38;5;28;01mreturn\u001b[39;00m \u001b[38;5;28mself\u001b[39m\u001b[38;5;241m.\u001b[39m_reduce(\n\u001b[0;32m  11159\u001b[0m     func, name\u001b[38;5;241m=\u001b[39mname, axis\u001b[38;5;241m=\u001b[39maxis, skipna\u001b[38;5;241m=\u001b[39mskipna, numeric_only\u001b[38;5;241m=\u001b[39mnumeric_only\n\u001b[0;32m  11160\u001b[0m )\n",
      "File \u001b[1;32mF:\\Documents\\PythonFolder\\Lib\\site-packages\\pandas\\core\\frame.py:10519\u001b[0m, in \u001b[0;36mDataFrame._reduce\u001b[1;34m(self, op, name, axis, skipna, numeric_only, filter_type, **kwds)\u001b[0m\n\u001b[0;32m  10515\u001b[0m     df \u001b[38;5;241m=\u001b[39m df\u001b[38;5;241m.\u001b[39mT\n\u001b[0;32m  10517\u001b[0m \u001b[38;5;66;03m# After possibly _get_data and transposing, we are now in the\u001b[39;00m\n\u001b[0;32m  10518\u001b[0m \u001b[38;5;66;03m#  simple case where we can use BlockManager.reduce\u001b[39;00m\n\u001b[1;32m> 10519\u001b[0m res \u001b[38;5;241m=\u001b[39m df\u001b[38;5;241m.\u001b[39m_mgr\u001b[38;5;241m.\u001b[39mreduce(blk_func)\n\u001b[0;32m  10520\u001b[0m out \u001b[38;5;241m=\u001b[39m df\u001b[38;5;241m.\u001b[39m_constructor(res)\u001b[38;5;241m.\u001b[39miloc[\u001b[38;5;241m0\u001b[39m]\n\u001b[0;32m  10521\u001b[0m \u001b[38;5;28;01mif\u001b[39;00m out_dtype \u001b[38;5;129;01mis\u001b[39;00m \u001b[38;5;129;01mnot\u001b[39;00m \u001b[38;5;28;01mNone\u001b[39;00m:\n",
      "File \u001b[1;32mF:\\Documents\\PythonFolder\\Lib\\site-packages\\pandas\\core\\internals\\managers.py:1534\u001b[0m, in \u001b[0;36mBlockManager.reduce\u001b[1;34m(self, func)\u001b[0m\n\u001b[0;32m   1532\u001b[0m res_blocks: \u001b[38;5;28mlist\u001b[39m[Block] \u001b[38;5;241m=\u001b[39m []\n\u001b[0;32m   1533\u001b[0m \u001b[38;5;28;01mfor\u001b[39;00m blk \u001b[38;5;129;01min\u001b[39;00m \u001b[38;5;28mself\u001b[39m\u001b[38;5;241m.\u001b[39mblocks:\n\u001b[1;32m-> 1534\u001b[0m     nbs \u001b[38;5;241m=\u001b[39m blk\u001b[38;5;241m.\u001b[39mreduce(func)\n\u001b[0;32m   1535\u001b[0m     res_blocks\u001b[38;5;241m.\u001b[39mextend(nbs)\n\u001b[0;32m   1537\u001b[0m index \u001b[38;5;241m=\u001b[39m Index([\u001b[38;5;28;01mNone\u001b[39;00m])  \u001b[38;5;66;03m# placeholder\u001b[39;00m\n",
      "File \u001b[1;32mF:\\Documents\\PythonFolder\\Lib\\site-packages\\pandas\\core\\internals\\blocks.py:339\u001b[0m, in \u001b[0;36mBlock.reduce\u001b[1;34m(self, func)\u001b[0m\n\u001b[0;32m    333\u001b[0m \u001b[38;5;129m@final\u001b[39m\n\u001b[0;32m    334\u001b[0m \u001b[38;5;28;01mdef\u001b[39;00m \u001b[38;5;21mreduce\u001b[39m(\u001b[38;5;28mself\u001b[39m, func) \u001b[38;5;241m-\u001b[39m\u001b[38;5;241m>\u001b[39m \u001b[38;5;28mlist\u001b[39m[Block]:\n\u001b[0;32m    335\u001b[0m     \u001b[38;5;66;03m# We will apply the function and reshape the result into a single-row\u001b[39;00m\n\u001b[0;32m    336\u001b[0m     \u001b[38;5;66;03m#  Block with the same mgr_locs; squeezing will be done at a higher level\u001b[39;00m\n\u001b[0;32m    337\u001b[0m     \u001b[38;5;28;01massert\u001b[39;00m \u001b[38;5;28mself\u001b[39m\u001b[38;5;241m.\u001b[39mndim \u001b[38;5;241m==\u001b[39m \u001b[38;5;241m2\u001b[39m\n\u001b[1;32m--> 339\u001b[0m     result \u001b[38;5;241m=\u001b[39m func(\u001b[38;5;28mself\u001b[39m\u001b[38;5;241m.\u001b[39mvalues)\n\u001b[0;32m    341\u001b[0m     \u001b[38;5;28;01mif\u001b[39;00m \u001b[38;5;28mself\u001b[39m\u001b[38;5;241m.\u001b[39mvalues\u001b[38;5;241m.\u001b[39mndim \u001b[38;5;241m==\u001b[39m \u001b[38;5;241m1\u001b[39m:\n\u001b[0;32m    342\u001b[0m         \u001b[38;5;66;03m# TODO(EA2D): special case not needed with 2D EAs\u001b[39;00m\n\u001b[0;32m    343\u001b[0m         res_values \u001b[38;5;241m=\u001b[39m np\u001b[38;5;241m.\u001b[39marray([[result]])\n",
      "File \u001b[1;32mF:\\Documents\\PythonFolder\\Lib\\site-packages\\pandas\\core\\frame.py:10482\u001b[0m, in \u001b[0;36mDataFrame._reduce.<locals>.blk_func\u001b[1;34m(values, axis)\u001b[0m\n\u001b[0;32m  10480\u001b[0m     \u001b[38;5;28;01mreturn\u001b[39;00m values\u001b[38;5;241m.\u001b[39m_reduce(name, skipna\u001b[38;5;241m=\u001b[39mskipna, \u001b[38;5;241m*\u001b[39m\u001b[38;5;241m*\u001b[39mkwds)\n\u001b[0;32m  10481\u001b[0m \u001b[38;5;28;01melse\u001b[39;00m:\n\u001b[1;32m> 10482\u001b[0m     \u001b[38;5;28;01mreturn\u001b[39;00m op(values, axis\u001b[38;5;241m=\u001b[39maxis, skipna\u001b[38;5;241m=\u001b[39mskipna, \u001b[38;5;241m*\u001b[39m\u001b[38;5;241m*\u001b[39mkwds)\n",
      "File \u001b[1;32mF:\\Documents\\PythonFolder\\Lib\\site-packages\\pandas\\core\\nanops.py:158\u001b[0m, in \u001b[0;36mbottleneck_switch.__call__.<locals>.f\u001b[1;34m(values, axis, skipna, **kwds)\u001b[0m\n\u001b[0;32m    156\u001b[0m         result \u001b[38;5;241m=\u001b[39m alt(values, axis\u001b[38;5;241m=\u001b[39maxis, skipna\u001b[38;5;241m=\u001b[39mskipna, \u001b[38;5;241m*\u001b[39m\u001b[38;5;241m*\u001b[39mkwds)\n\u001b[0;32m    157\u001b[0m \u001b[38;5;28;01melse\u001b[39;00m:\n\u001b[1;32m--> 158\u001b[0m     result \u001b[38;5;241m=\u001b[39m alt(values, axis\u001b[38;5;241m=\u001b[39maxis, skipna\u001b[38;5;241m=\u001b[39mskipna, \u001b[38;5;241m*\u001b[39m\u001b[38;5;241m*\u001b[39mkwds)\n\u001b[0;32m    160\u001b[0m \u001b[38;5;28;01mreturn\u001b[39;00m result\n",
      "File \u001b[1;32mF:\\Documents\\PythonFolder\\Lib\\site-packages\\pandas\\core\\nanops.py:789\u001b[0m, in \u001b[0;36mnanmedian\u001b[1;34m(values, axis, skipna, mask)\u001b[0m\n\u001b[0;32m    786\u001b[0m         values \u001b[38;5;241m=\u001b[39m values\u001b[38;5;241m.\u001b[39mastype(\u001b[38;5;124m\"\u001b[39m\u001b[38;5;124mf8\u001b[39m\u001b[38;5;124m\"\u001b[39m)\n\u001b[0;32m    787\u001b[0m     \u001b[38;5;28;01mexcept\u001b[39;00m \u001b[38;5;167;01mValueError\u001b[39;00m \u001b[38;5;28;01mas\u001b[39;00m err:\n\u001b[0;32m    788\u001b[0m         \u001b[38;5;66;03m# e.g. \"could not convert string to float: 'a'\"\u001b[39;00m\n\u001b[1;32m--> 789\u001b[0m         \u001b[38;5;28;01mraise\u001b[39;00m \u001b[38;5;167;01mTypeError\u001b[39;00m(\u001b[38;5;28mstr\u001b[39m(err)) \u001b[38;5;28;01mfrom\u001b[39;00m \u001b[38;5;21;01merr\u001b[39;00m\n\u001b[0;32m    790\u001b[0m \u001b[38;5;28;01mif\u001b[39;00m mask \u001b[38;5;129;01mis\u001b[39;00m \u001b[38;5;129;01mnot\u001b[39;00m \u001b[38;5;28;01mNone\u001b[39;00m:\n\u001b[0;32m    791\u001b[0m     values[mask] \u001b[38;5;241m=\u001b[39m np\u001b[38;5;241m.\u001b[39mnan\n",
      "\u001b[1;31mTypeError\u001b[0m: could not convert string to float: 'Iris-setosa'"
     ]
    }
   ],
   "source": [
    "#print(df.columns)\n",
    "\n",
    "#df.rename(columns = {'Code':'Code-Name',  'Weight':'Weight in kgs'},  inplace = True) \n",
    "#df.rename(columns={df()[1]: \"attribute\", \"B\": \"c\"})\n",
    "#df.columns ['sepal length in cm', 'sepal width in cm','petal length in cm', 'petal width in cm', 'classification']\n",
    "#clmn = list(df) \n",
    "#df = pd.DataFrame(df, columns = ['a', 'b', 'c', 'd', 'e'])\n",
    "print(f\"(a)\\n\")\n",
    "print(f\"\\tThe Minimum value of the Iris dataset by Column:\")\n",
    "print(f\"\\tFirst column minimum value = {df.min()[0]}\")\n",
    "print(f\"\\tSecond column minimum value = {df.min()[1]}\")\n",
    "print(f\"\\tThird column minimum value = {df.min()[2]}\")\n",
    "print(f\"\\tFourth column minimum value = {df.min()[3]}\\n\")\n",
    "\n",
    "print(f\"(b)\\n\")\n",
    "print(f\"\\tThe Maximum value of the Iris dataset by Column:\")\n",
    "print(f\"\\tFirst column maximum value = {df.max()[0]}\")\n",
    "print(f\"\\tSecond column maximum value = {df.max()[1]}\")\n",
    "print(f\"\\tThird column maximum value = {df.max()[2]}\")\n",
    "print(f\"\\tFourth column maximum value = {df.max()[3]}\\n\")\n",
    "\n",
    "print(f\"(c)\\n\")\n",
    "print(f\"\\tThe Median value of the Iris dataset by Column:\")\n",
    "print(f\"\\tFirst column median value = {df.median(axis=0)[0]}\")\n",
    "print(f\"\\tSecond column median value = {df.median(axis=0)[1]}\")\n",
    "print(f\"\\tThird column median value = {df.median(axis=0)[2]}\")\n",
    "print(f\"\\tFourth column median value = {df.median(axis=0)[3]}\")\n",
    "\n",
    "print(f\"(d)\\n\")\n",
    "print(f\"\\tThe Mean value of the Iris dataset by Column:\")\n",
    "print(f\"\\tFirst column mean value = {df.mean(axis=0)[0]}\")\n",
    "print(f\"\\tSecond column mean value = {df.mean(axis=0)[1]}\")\n",
    "print(f\"\\tThird column mean value = {df.mean(axis=0)[2]}\")\n",
    "print(f\"\\tFourth column mean value = {df.mean(axis=0)[3]}\")\n",
    "\n",
    "print(f\"(e)\\n\")\n",
    "print(f\"\\tThe Variance value of the Iris dataset by Column:\")\n",
    "print(f\"\\tFirst column variance value = {df.var(axis=0)[0]}\")\n",
    "print(f\"\\tSecond column variance value = {df.var(axis=0)[1]}\")\n",
    "print(f\"\\tThird column variance value = {df.var(axis=0)[2]}\")\n",
    "print(f\"\\tFourth column variance value = {df.var(axis=0)[3]}\")\n",
    "\n",
    "print(f\"(f)\\n\")\n",
    "print(f\"\\tThe Standard Deviation value of the Iris dataset by Column:\")\n",
    "print(f\"\\tFirst column standard deviation = {df.std(axis=0)[0]}\")\n",
    "print(f\"\\tSecond column standard deviation = {df.std(axis=0)[1]}\")\n",
    "print(f\"\\tThird column standard deviation = {df.std(axis=0)[2]}\")\n",
    "print(f\"\\tFourth column standard deviation = {df.std(axis=0)[3]}\")\n",
    "\n",
    "\n",
    "#print(f\"First column minimum value = {df.min()[4]}\")\n",
    "\n",
    "#print(df.min()[1]) \n",
    "\n",
    "#print(df)"
   ]
  },
  {
   "cell_type": "markdown",
   "metadata": {},
   "source": [
    "## Problem 4"
   ]
  },
  {
   "cell_type": "markdown",
   "metadata": {},
   "source": [
    "4.  For all possible pairs of numeric data columns, obtain the following:\n",
    "    (a)covariance matrix  (b)correlation matrix"
   ]
  },
  {
   "cell_type": "code",
   "execution_count": 4,
   "metadata": {
    "scrolled": true
   },
   "outputs": [
    {
     "name": "stdout",
     "output_type": "stream",
     "text": [
      "(a)\n",
      "\n",
      "The covariance matrix of the Iris Dataframe:\n"
     ]
    },
    {
     "ename": "ValueError",
     "evalue": "could not convert string to float: 'Iris-setosa'",
     "output_type": "error",
     "traceback": [
      "\u001b[1;31m---------------------------------------------------------------------------\u001b[0m",
      "\u001b[1;31mValueError\u001b[0m                                Traceback (most recent call last)",
      "Cell \u001b[1;32mIn[4], line 3\u001b[0m\n\u001b[0;32m      1\u001b[0m \u001b[38;5;28mprint\u001b[39m(\u001b[38;5;124mf\u001b[39m\u001b[38;5;124m\"\u001b[39m\u001b[38;5;124m(a)\u001b[39m\u001b[38;5;130;01m\\n\u001b[39;00m\u001b[38;5;124m\"\u001b[39m)\n\u001b[0;32m      2\u001b[0m \u001b[38;5;28mprint\u001b[39m(\u001b[38;5;124mf\u001b[39m\u001b[38;5;124m\"\u001b[39m\u001b[38;5;124mThe covariance matrix of the Iris Dataframe:\u001b[39m\u001b[38;5;124m\"\u001b[39m)\n\u001b[1;32m----> 3\u001b[0m \u001b[38;5;28mprint\u001b[39m(df\u001b[38;5;241m.\u001b[39mcov(min_periods\u001b[38;5;241m=\u001b[39m\u001b[38;5;28;01mNone\u001b[39;00m))\n\u001b[0;32m      4\u001b[0m \u001b[38;5;66;03m#def covariance(xs: List[float], ys: List[float]) -> float:\u001b[39;00m\n\u001b[0;32m      5\u001b[0m  \u001b[38;5;66;03m#   assert len(xs) == len(ys), \"xs and ys must have same number of elements\"\u001b[39;00m\n\u001b[0;32m      6\u001b[0m \u001b[38;5;28mprint\u001b[39m(\u001b[38;5;124mf\u001b[39m\u001b[38;5;124m\"\u001b[39m\u001b[38;5;124m(b)\u001b[39m\u001b[38;5;130;01m\\n\u001b[39;00m\u001b[38;5;124m\"\u001b[39m)\n",
      "File \u001b[1;32mF:\\Documents\\PythonFolder\\Lib\\site-packages\\pandas\\core\\frame.py:10210\u001b[0m, in \u001b[0;36mDataFrame.cov\u001b[1;34m(self, min_periods, ddof, numeric_only)\u001b[0m\n\u001b[0;32m  10208\u001b[0m cols \u001b[38;5;241m=\u001b[39m data\u001b[38;5;241m.\u001b[39mcolumns\n\u001b[0;32m  10209\u001b[0m idx \u001b[38;5;241m=\u001b[39m cols\u001b[38;5;241m.\u001b[39mcopy()\n\u001b[1;32m> 10210\u001b[0m mat \u001b[38;5;241m=\u001b[39m data\u001b[38;5;241m.\u001b[39mto_numpy(dtype\u001b[38;5;241m=\u001b[39m\u001b[38;5;28mfloat\u001b[39m, na_value\u001b[38;5;241m=\u001b[39mnp\u001b[38;5;241m.\u001b[39mnan, copy\u001b[38;5;241m=\u001b[39m\u001b[38;5;28;01mFalse\u001b[39;00m)\n\u001b[0;32m  10212\u001b[0m \u001b[38;5;28;01mif\u001b[39;00m notna(mat)\u001b[38;5;241m.\u001b[39mall():\n\u001b[0;32m  10213\u001b[0m     \u001b[38;5;28;01mif\u001b[39;00m min_periods \u001b[38;5;129;01mis\u001b[39;00m \u001b[38;5;129;01mnot\u001b[39;00m \u001b[38;5;28;01mNone\u001b[39;00m \u001b[38;5;129;01mand\u001b[39;00m min_periods \u001b[38;5;241m>\u001b[39m \u001b[38;5;28mlen\u001b[39m(mat):\n",
      "File \u001b[1;32mF:\\Documents\\PythonFolder\\Lib\\site-packages\\pandas\\core\\frame.py:1838\u001b[0m, in \u001b[0;36mDataFrame.to_numpy\u001b[1;34m(self, dtype, copy, na_value)\u001b[0m\n\u001b[0;32m   1836\u001b[0m \u001b[38;5;28;01mif\u001b[39;00m dtype \u001b[38;5;129;01mis\u001b[39;00m \u001b[38;5;129;01mnot\u001b[39;00m \u001b[38;5;28;01mNone\u001b[39;00m:\n\u001b[0;32m   1837\u001b[0m     dtype \u001b[38;5;241m=\u001b[39m np\u001b[38;5;241m.\u001b[39mdtype(dtype)\n\u001b[1;32m-> 1838\u001b[0m result \u001b[38;5;241m=\u001b[39m \u001b[38;5;28mself\u001b[39m\u001b[38;5;241m.\u001b[39m_mgr\u001b[38;5;241m.\u001b[39mas_array(dtype\u001b[38;5;241m=\u001b[39mdtype, copy\u001b[38;5;241m=\u001b[39mcopy, na_value\u001b[38;5;241m=\u001b[39mna_value)\n\u001b[0;32m   1839\u001b[0m \u001b[38;5;28;01mif\u001b[39;00m result\u001b[38;5;241m.\u001b[39mdtype \u001b[38;5;129;01mis\u001b[39;00m \u001b[38;5;129;01mnot\u001b[39;00m dtype:\n\u001b[0;32m   1840\u001b[0m     result \u001b[38;5;241m=\u001b[39m np\u001b[38;5;241m.\u001b[39marray(result, dtype\u001b[38;5;241m=\u001b[39mdtype, copy\u001b[38;5;241m=\u001b[39m\u001b[38;5;28;01mFalse\u001b[39;00m)\n",
      "File \u001b[1;32mF:\\Documents\\PythonFolder\\Lib\\site-packages\\pandas\\core\\internals\\managers.py:1732\u001b[0m, in \u001b[0;36mBlockManager.as_array\u001b[1;34m(self, dtype, copy, na_value)\u001b[0m\n\u001b[0;32m   1730\u001b[0m         arr\u001b[38;5;241m.\u001b[39mflags\u001b[38;5;241m.\u001b[39mwriteable \u001b[38;5;241m=\u001b[39m \u001b[38;5;28;01mFalse\u001b[39;00m\n\u001b[0;32m   1731\u001b[0m \u001b[38;5;28;01melse\u001b[39;00m:\n\u001b[1;32m-> 1732\u001b[0m     arr \u001b[38;5;241m=\u001b[39m \u001b[38;5;28mself\u001b[39m\u001b[38;5;241m.\u001b[39m_interleave(dtype\u001b[38;5;241m=\u001b[39mdtype, na_value\u001b[38;5;241m=\u001b[39mna_value)\n\u001b[0;32m   1733\u001b[0m     \u001b[38;5;66;03m# The underlying data was copied within _interleave, so no need\u001b[39;00m\n\u001b[0;32m   1734\u001b[0m     \u001b[38;5;66;03m# to further copy if copy=True or setting na_value\u001b[39;00m\n\u001b[0;32m   1736\u001b[0m \u001b[38;5;28;01mif\u001b[39;00m na_value \u001b[38;5;129;01mis\u001b[39;00m \u001b[38;5;129;01mnot\u001b[39;00m lib\u001b[38;5;241m.\u001b[39mno_default:\n",
      "File \u001b[1;32mF:\\Documents\\PythonFolder\\Lib\\site-packages\\pandas\\core\\internals\\managers.py:1794\u001b[0m, in \u001b[0;36mBlockManager._interleave\u001b[1;34m(self, dtype, na_value)\u001b[0m\n\u001b[0;32m   1792\u001b[0m     \u001b[38;5;28;01melse\u001b[39;00m:\n\u001b[0;32m   1793\u001b[0m         arr \u001b[38;5;241m=\u001b[39m blk\u001b[38;5;241m.\u001b[39mget_values(dtype)\n\u001b[1;32m-> 1794\u001b[0m     result[rl\u001b[38;5;241m.\u001b[39mindexer] \u001b[38;5;241m=\u001b[39m arr\n\u001b[0;32m   1795\u001b[0m     itemmask[rl\u001b[38;5;241m.\u001b[39mindexer] \u001b[38;5;241m=\u001b[39m \u001b[38;5;241m1\u001b[39m\n\u001b[0;32m   1797\u001b[0m \u001b[38;5;28;01mif\u001b[39;00m \u001b[38;5;129;01mnot\u001b[39;00m itemmask\u001b[38;5;241m.\u001b[39mall():\n",
      "\u001b[1;31mValueError\u001b[0m: could not convert string to float: 'Iris-setosa'"
     ]
    }
   ],
   "source": [
    "print(f\"(a)\\n\")\n",
    "print(f\"The covariance matrix of the Iris Dataframe:\")\n",
    "print(df.cov(min_periods=None))\n",
    "#def covariance(xs: List[float], ys: List[float]) -> float:\n",
    " #   assert len(xs) == len(ys), \"xs and ys must have same number of elements\"\n",
    "print(f\"(b)\\n\")\n",
    "print(f\"The correlation matrix of the Iris Dataframe:\")\n",
    "print(df.corr(min_periods=None))"
   ]
  },
  {
   "cell_type": "markdown",
   "metadata": {},
   "source": [
    "## Problem 5"
   ]
  },
  {
   "cell_type": "markdown",
   "metadata": {},
   "source": [
    "5.  Based on your correlation matrix in 4 (b), which pair of distinct data columns has the strongest positive correlation?  \n",
    "    Which pair has the strongest negative correlation?  \n",
    "    What do strong positive and negative correlations actually mean?  \n",
    "    What do correlations near 0 mean?"
   ]
  },
  {
   "cell_type": "markdown",
   "metadata": {},
   "source": [
    "(a) The pair of columns regarding petal length and petal width (both in cm) have the strongest positive correlation (negating the perfect 1 that appears when a column is being compared to itself).\n",
    "\n",
    "(b) The pair of columns regarding petal length and sepal width (both in cm) have the strongest negative correlation.\n",
    "\n",
    "(c) A positive correlation means that the relationship between the two are in unison of appearance. This means that if they have a strong relationship (close to 1) then the more of one columns measured appearance, the more of the other columns measured appearance (i.e. the larger the petal width the larger the petal length). A negative correlation means that the two measured column attributes have an inversed relationship. This means that if they have a strong relationship (close to -1) then the more of one columns measured appearance, the less of the other columns measured appearance (i.e. the larger the sepal width the smaller the petal length).\n",
    "\n",
    "(d) A correlation near 0 means that it is a weak relationship. This means that the two columns of measure being compared have nearly no correlation at all."
   ]
  },
  {
   "cell_type": "markdown",
   "metadata": {},
   "source": [
    "## Problem 6"
   ]
  },
  {
   "cell_type": "markdown",
   "metadata": {},
   "source": [
    "6.  Now separate the data samples by different iris species.  \n",
    "    For each iris species, create a histogram for each numeric data column of a given iris species."
   ]
  },
  {
   "cell_type": "code",
   "execution_count": 14,
   "metadata": {},
   "outputs": [],
   "source": [
    "setosa_class = df[df['classification'] == \"Iris-setosa\"]\n",
    "versicolor_class = df[df['classification'] == \"Iris-versicolor\"]\n",
    "virginica_class = df[df['classification'] == \"Iris-virginica\"]\n",
    "setosa_df = pd.DataFrame(setosa_class)\n",
    "versicolor_df = pd.DataFrame(versicolor_class)\n",
    "virginica_df = pd.DataFrame(virginica_class)"
   ]
  },
  {
   "cell_type": "code",
   "execution_count": 15,
   "metadata": {},
   "outputs": [
    {
     "name": "stdout",
     "output_type": "stream",
     "text": [
      "\tSetosa Histogram:\n",
      "\n",
      "[[<Axes: title={'center': 'sepal length in cm'}>\n",
      "  <Axes: title={'center': 'sepal width in cm'}>]\n",
      " [<Axes: title={'center': 'petal length in cm'}>\n",
      "  <Axes: title={'center': 'petal width in cm'}>]]\n"
     ]
    },
    {
     "data": {
      "image/png": "[encoded data removed]",
      "text/plain": [
       "<Figure size 640x480 with 4 Axes>"
      ]
     },
     "metadata": {},
     "output_type": "display_data"
    }
   ],
   "source": [
    "print(f\"\\tSetosa Histogram:\\n\")\n",
    "print(setosa_df.hist())"
   ]
  },
  {
   "cell_type": "code",
   "execution_count": 7,
   "metadata": {},
   "outputs": [
    {
     "name": "stdout",
     "output_type": "stream",
     "text": [
      "\tVersicolor Histogram:\n",
      "\n",
      "[[<Axes: title={'center': 'sepal length in cm'}>\n",
      "  <Axes: title={'center': 'sepal width in cm'}>]\n",
      " [<Axes: title={'center': 'petal length in cm'}>\n",
      "  <Axes: title={'center': 'petal width in cm'}>]]\n"
     ]
    },
    {
     "data": {
      "image/png": "[encoded data removed]",
      "text/plain": [
       "<Figure size 640x480 with 4 Axes>"
      ]
     },
     "metadata": {},
     "output_type": "display_data"
    }
   ],
   "source": [
    "print(f\"\\tVersicolor Histogram:\\n\")\n",
    "print(versicolor_df.hist())"
   ]
  },
  {
   "cell_type": "code",
   "execution_count": 8,
   "metadata": {},
   "outputs": [
    {
     "name": "stdout",
     "output_type": "stream",
     "text": [
      "\tVirginica Histogram:\n",
      "\n",
      "[[<Axes: title={'center': 'sepal length in cm'}>\n",
      "  <Axes: title={'center': 'sepal width in cm'}>]\n",
      " [<Axes: title={'center': 'petal length in cm'}>\n",
      "  <Axes: title={'center': 'petal width in cm'}>]]\n"
     ]
    },
    {
     "data": {
      "image/png": "[encoded data removed]",
      "text/plain": [
       "<Figure size 640x480 with 4 Axes>"
      ]
     },
     "metadata": {},
     "output_type": "display_data"
    }
   ],
   "source": [
    "print(f\"\\tVirginica Histogram:\\n\")\n",
    "print(virginica_df.hist())"
   ]
  },
  {
   "cell_type": "markdown",
   "metadata": {},
   "source": [
    "## Problem 7"
   ]
  },
  {
   "cell_type": "markdown",
   "metadata": {},
   "source": [
    "7.  For each iris species, and for each numeric data column of a given iris species, obtain the following:\n",
    "    (a)minimum value  (b)maximum value  (c)median  (d)mean  (e)variance  (f)standard deviation"
   ]
  },
  {
   "cell_type": "code",
   "execution_count": 9,
   "metadata": {},
   "outputs": [
    {
     "name": "stdout",
     "output_type": "stream",
     "text": [
      "(a)\n",
      "\n",
      "\tThe Minimum value of Setosa by Column:\n",
      "\t\tFirst column minimum value = 4.3\n",
      "\t\tSecond column minimum value = 2.3\n",
      "\t\tThird column minimum value = 1.0\n",
      "\t\tFourth column minimum value = 0.1\n",
      "\n",
      "\tThe Minimum value of Versicolor by Column:\n",
      "\t\tFirst column minimum value = 4.9\n",
      "\t\tSecond column minimum value = 2.0\n",
      "\t\tThird column minimum value = 3.0\n",
      "\t\tFourth column minimum value = 1.0\n",
      "\n",
      "\tThe Minimum value of Virginica by Column:\n",
      "\t\tFirst column minimum value = 4.9\n",
      "\t\tSecond column minimum value = 2.2\n",
      "\t\tThird column minimum value = 4.5\n",
      "\t\tFourth column minimum value = 1.4\n",
      "\n",
      "(b)\n",
      "\n",
      "\tThe Maximum value of Setosa by Column:\n",
      "\t\tFirst column maximum value = 5.8\n",
      "\t\tSecond column maximum value = 4.4\n",
      "\t\tThird column maximum value = 1.9\n",
      "\t\tFourth column maximum value = 0.6\n",
      "\n",
      "\tThe Maximum value of Versicolor by Column:\n",
      "\t\tFirst column maximum value = 7.0\n",
      "\t\tSecond column maximum value = 3.4\n",
      "\t\tThird column maximum value = 5.1\n",
      "\t\tFourth column maximum value = 1.8\n",
      "\n",
      "\tThe Maximum value of Virginica by Column:\n",
      "\t\tFirst column maximum value = 7.9\n",
      "\t\tSecond column maximum value = 3.8\n",
      "\t\tThird column maximum value = 6.9\n",
      "\t\tFourth column maximum value = 2.5\n",
      "\n",
      "(c)\n",
      "\n",
      "\tThe Median value of Setosa by Column:\n"
     ]
    },
    {
     "ename": "TypeError",
     "evalue": "could not convert string to float: 'Iris-setosa'",
     "output_type": "error",
     "traceback": [
      "\u001b[1;31m---------------------------------------------------------------------------\u001b[0m",
      "\u001b[1;31mValueError\u001b[0m                                Traceback (most recent call last)",
      "File \u001b[1;32mF:\\Documents\\PythonFolder\\Lib\\site-packages\\pandas\\core\\nanops.py:786\u001b[0m, in \u001b[0;36mnanmedian\u001b[1;34m(values, axis, skipna, mask)\u001b[0m\n\u001b[0;32m    785\u001b[0m \u001b[38;5;28;01mtry\u001b[39;00m:\n\u001b[1;32m--> 786\u001b[0m     values \u001b[38;5;241m=\u001b[39m values\u001b[38;5;241m.\u001b[39mastype(\u001b[38;5;124m\"\u001b[39m\u001b[38;5;124mf8\u001b[39m\u001b[38;5;124m\"\u001b[39m)\n\u001b[0;32m    787\u001b[0m \u001b[38;5;28;01mexcept\u001b[39;00m \u001b[38;5;167;01mValueError\u001b[39;00m \u001b[38;5;28;01mas\u001b[39;00m err:\n\u001b[0;32m    788\u001b[0m     \u001b[38;5;66;03m# e.g. \"could not convert string to float: 'a'\"\u001b[39;00m\n",
      "\u001b[1;31mValueError\u001b[0m: could not convert string to float: 'Iris-setosa'",
      "\nThe above exception was the direct cause of the following exception:\n",
      "\u001b[1;31mTypeError\u001b[0m                                 Traceback (most recent call last)",
      "Cell \u001b[1;32mIn[9], line 51\u001b[0m\n\u001b[0;32m     49\u001b[0m \u001b[38;5;66;03m#Median Setosa\u001b[39;00m\n\u001b[0;32m     50\u001b[0m \u001b[38;5;28mprint\u001b[39m(\u001b[38;5;124mf\u001b[39m\u001b[38;5;124m\"\u001b[39m\u001b[38;5;130;01m\\t\u001b[39;00m\u001b[38;5;124mThe Median value of Setosa by Column:\u001b[39m\u001b[38;5;124m\"\u001b[39m)\n\u001b[1;32m---> 51\u001b[0m \u001b[38;5;28mprint\u001b[39m(\u001b[38;5;124mf\u001b[39m\u001b[38;5;124m\"\u001b[39m\u001b[38;5;130;01m\\t\u001b[39;00m\u001b[38;5;130;01m\\t\u001b[39;00m\u001b[38;5;124mFirst column median value = \u001b[39m\u001b[38;5;132;01m{\u001b[39;00msetosa_df\u001b[38;5;241m.\u001b[39mmedian(axis\u001b[38;5;241m=\u001b[39m\u001b[38;5;241m0\u001b[39m)[\u001b[38;5;241m0\u001b[39m]\u001b[38;5;132;01m}\u001b[39;00m\u001b[38;5;124m\"\u001b[39m)\n\u001b[0;32m     52\u001b[0m \u001b[38;5;28mprint\u001b[39m(\u001b[38;5;124mf\u001b[39m\u001b[38;5;124m\"\u001b[39m\u001b[38;5;130;01m\\t\u001b[39;00m\u001b[38;5;130;01m\\t\u001b[39;00m\u001b[38;5;124mSecond column median value = \u001b[39m\u001b[38;5;132;01m{\u001b[39;00msetosa_df\u001b[38;5;241m.\u001b[39mmedian(axis\u001b[38;5;241m=\u001b[39m\u001b[38;5;241m0\u001b[39m)[\u001b[38;5;241m1\u001b[39m]\u001b[38;5;132;01m}\u001b[39;00m\u001b[38;5;124m\"\u001b[39m)\n\u001b[0;32m     53\u001b[0m \u001b[38;5;28mprint\u001b[39m(\u001b[38;5;124mf\u001b[39m\u001b[38;5;124m\"\u001b[39m\u001b[38;5;130;01m\\t\u001b[39;00m\u001b[38;5;130;01m\\t\u001b[39;00m\u001b[38;5;124mThird column median value = \u001b[39m\u001b[38;5;132;01m{\u001b[39;00msetosa_df\u001b[38;5;241m.\u001b[39mmedian(axis\u001b[38;5;241m=\u001b[39m\u001b[38;5;241m0\u001b[39m)[\u001b[38;5;241m2\u001b[39m]\u001b[38;5;132;01m}\u001b[39;00m\u001b[38;5;124m\"\u001b[39m)\n",
      "File \u001b[1;32mF:\\Documents\\PythonFolder\\Lib\\site-packages\\pandas\\core\\generic.py:11623\u001b[0m, in \u001b[0;36mNDFrame._add_numeric_operations.<locals>.median\u001b[1;34m(self, axis, skipna, numeric_only, **kwargs)\u001b[0m\n\u001b[0;32m  11606\u001b[0m \u001b[38;5;129m@doc\u001b[39m(\n\u001b[0;32m  11607\u001b[0m     _num_doc,\n\u001b[0;32m  11608\u001b[0m     desc\u001b[38;5;241m=\u001b[39m\u001b[38;5;124m\"\u001b[39m\u001b[38;5;124mReturn the median of the values over the requested axis.\u001b[39m\u001b[38;5;124m\"\u001b[39m,\n\u001b[1;32m   (...)\u001b[0m\n\u001b[0;32m  11621\u001b[0m     \u001b[38;5;241m*\u001b[39m\u001b[38;5;241m*\u001b[39mkwargs,\n\u001b[0;32m  11622\u001b[0m ):\n\u001b[1;32m> 11623\u001b[0m     \u001b[38;5;28;01mreturn\u001b[39;00m NDFrame\u001b[38;5;241m.\u001b[39mmedian(\u001b[38;5;28mself\u001b[39m, axis, skipna, numeric_only, \u001b[38;5;241m*\u001b[39m\u001b[38;5;241m*\u001b[39mkwargs)\n",
      "File \u001b[1;32mF:\\Documents\\PythonFolder\\Lib\\site-packages\\pandas\\core\\generic.py:11212\u001b[0m, in \u001b[0;36mNDFrame.median\u001b[1;34m(self, axis, skipna, numeric_only, **kwargs)\u001b[0m\n\u001b[0;32m  11205\u001b[0m \u001b[38;5;28;01mdef\u001b[39;00m \u001b[38;5;21mmedian\u001b[39m(\n\u001b[0;32m  11206\u001b[0m     \u001b[38;5;28mself\u001b[39m,\n\u001b[0;32m  11207\u001b[0m     axis: Axis \u001b[38;5;241m|\u001b[39m \u001b[38;5;28;01mNone\u001b[39;00m \u001b[38;5;241m=\u001b[39m \u001b[38;5;241m0\u001b[39m,\n\u001b[1;32m   (...)\u001b[0m\n\u001b[0;32m  11210\u001b[0m     \u001b[38;5;241m*\u001b[39m\u001b[38;5;241m*\u001b[39mkwargs,\n\u001b[0;32m  11211\u001b[0m ) \u001b[38;5;241m-\u001b[39m\u001b[38;5;241m>\u001b[39m Series \u001b[38;5;241m|\u001b[39m \u001b[38;5;28mfloat\u001b[39m:\n\u001b[1;32m> 11212\u001b[0m     \u001b[38;5;28;01mreturn\u001b[39;00m \u001b[38;5;28mself\u001b[39m\u001b[38;5;241m.\u001b[39m_stat_function(\n\u001b[0;32m  11213\u001b[0m         \u001b[38;5;124m\"\u001b[39m\u001b[38;5;124mmedian\u001b[39m\u001b[38;5;124m\"\u001b[39m, nanops\u001b[38;5;241m.\u001b[39mnanmedian, axis, skipna, numeric_only, \u001b[38;5;241m*\u001b[39m\u001b[38;5;241m*\u001b[39mkwargs\n\u001b[0;32m  11214\u001b[0m     )\n",
      "File \u001b[1;32mF:\\Documents\\PythonFolder\\Lib\\site-packages\\pandas\\core\\generic.py:11158\u001b[0m, in \u001b[0;36mNDFrame._stat_function\u001b[1;34m(self, name, func, axis, skipna, numeric_only, **kwargs)\u001b[0m\n\u001b[0;32m  11154\u001b[0m     nv\u001b[38;5;241m.\u001b[39mvalidate_stat_func((), kwargs, fname\u001b[38;5;241m=\u001b[39mname)\n\u001b[0;32m  11156\u001b[0m validate_bool_kwarg(skipna, \u001b[38;5;124m\"\u001b[39m\u001b[38;5;124mskipna\u001b[39m\u001b[38;5;124m\"\u001b[39m, none_allowed\u001b[38;5;241m=\u001b[39m\u001b[38;5;28;01mFalse\u001b[39;00m)\n\u001b[1;32m> 11158\u001b[0m \u001b[38;5;28;01mreturn\u001b[39;00m \u001b[38;5;28mself\u001b[39m\u001b[38;5;241m.\u001b[39m_reduce(\n\u001b[0;32m  11159\u001b[0m     func, name\u001b[38;5;241m=\u001b[39mname, axis\u001b[38;5;241m=\u001b[39maxis, skipna\u001b[38;5;241m=\u001b[39mskipna, numeric_only\u001b[38;5;241m=\u001b[39mnumeric_only\n\u001b[0;32m  11160\u001b[0m )\n",
      "File \u001b[1;32mF:\\Documents\\PythonFolder\\Lib\\site-packages\\pandas\\core\\frame.py:10519\u001b[0m, in \u001b[0;36mDataFrame._reduce\u001b[1;34m(self, op, name, axis, skipna, numeric_only, filter_type, **kwds)\u001b[0m\n\u001b[0;32m  10515\u001b[0m     df \u001b[38;5;241m=\u001b[39m df\u001b[38;5;241m.\u001b[39mT\n\u001b[0;32m  10517\u001b[0m \u001b[38;5;66;03m# After possibly _get_data and transposing, we are now in the\u001b[39;00m\n\u001b[0;32m  10518\u001b[0m \u001b[38;5;66;03m#  simple case where we can use BlockManager.reduce\u001b[39;00m\n\u001b[1;32m> 10519\u001b[0m res \u001b[38;5;241m=\u001b[39m df\u001b[38;5;241m.\u001b[39m_mgr\u001b[38;5;241m.\u001b[39mreduce(blk_func)\n\u001b[0;32m  10520\u001b[0m out \u001b[38;5;241m=\u001b[39m df\u001b[38;5;241m.\u001b[39m_constructor(res)\u001b[38;5;241m.\u001b[39miloc[\u001b[38;5;241m0\u001b[39m]\n\u001b[0;32m  10521\u001b[0m \u001b[38;5;28;01mif\u001b[39;00m out_dtype \u001b[38;5;129;01mis\u001b[39;00m \u001b[38;5;129;01mnot\u001b[39;00m \u001b[38;5;28;01mNone\u001b[39;00m:\n",
      "File \u001b[1;32mF:\\Documents\\PythonFolder\\Lib\\site-packages\\pandas\\core\\internals\\managers.py:1534\u001b[0m, in \u001b[0;36mBlockManager.reduce\u001b[1;34m(self, func)\u001b[0m\n\u001b[0;32m   1532\u001b[0m res_blocks: \u001b[38;5;28mlist\u001b[39m[Block] \u001b[38;5;241m=\u001b[39m []\n\u001b[0;32m   1533\u001b[0m \u001b[38;5;28;01mfor\u001b[39;00m blk \u001b[38;5;129;01min\u001b[39;00m \u001b[38;5;28mself\u001b[39m\u001b[38;5;241m.\u001b[39mblocks:\n\u001b[1;32m-> 1534\u001b[0m     nbs \u001b[38;5;241m=\u001b[39m blk\u001b[38;5;241m.\u001b[39mreduce(func)\n\u001b[0;32m   1535\u001b[0m     res_blocks\u001b[38;5;241m.\u001b[39mextend(nbs)\n\u001b[0;32m   1537\u001b[0m index \u001b[38;5;241m=\u001b[39m Index([\u001b[38;5;28;01mNone\u001b[39;00m])  \u001b[38;5;66;03m# placeholder\u001b[39;00m\n",
      "File \u001b[1;32mF:\\Documents\\PythonFolder\\Lib\\site-packages\\pandas\\core\\internals\\blocks.py:339\u001b[0m, in \u001b[0;36mBlock.reduce\u001b[1;34m(self, func)\u001b[0m\n\u001b[0;32m    333\u001b[0m \u001b[38;5;129m@final\u001b[39m\n\u001b[0;32m    334\u001b[0m \u001b[38;5;28;01mdef\u001b[39;00m \u001b[38;5;21mreduce\u001b[39m(\u001b[38;5;28mself\u001b[39m, func) \u001b[38;5;241m-\u001b[39m\u001b[38;5;241m>\u001b[39m \u001b[38;5;28mlist\u001b[39m[Block]:\n\u001b[0;32m    335\u001b[0m     \u001b[38;5;66;03m# We will apply the function and reshape the result into a single-row\u001b[39;00m\n\u001b[0;32m    336\u001b[0m     \u001b[38;5;66;03m#  Block with the same mgr_locs; squeezing will be done at a higher level\u001b[39;00m\n\u001b[0;32m    337\u001b[0m     \u001b[38;5;28;01massert\u001b[39;00m \u001b[38;5;28mself\u001b[39m\u001b[38;5;241m.\u001b[39mndim \u001b[38;5;241m==\u001b[39m \u001b[38;5;241m2\u001b[39m\n\u001b[1;32m--> 339\u001b[0m     result \u001b[38;5;241m=\u001b[39m func(\u001b[38;5;28mself\u001b[39m\u001b[38;5;241m.\u001b[39mvalues)\n\u001b[0;32m    341\u001b[0m     \u001b[38;5;28;01mif\u001b[39;00m \u001b[38;5;28mself\u001b[39m\u001b[38;5;241m.\u001b[39mvalues\u001b[38;5;241m.\u001b[39mndim \u001b[38;5;241m==\u001b[39m \u001b[38;5;241m1\u001b[39m:\n\u001b[0;32m    342\u001b[0m         \u001b[38;5;66;03m# TODO(EA2D): special case not needed with 2D EAs\u001b[39;00m\n\u001b[0;32m    343\u001b[0m         res_values \u001b[38;5;241m=\u001b[39m np\u001b[38;5;241m.\u001b[39marray([[result]])\n",
      "File \u001b[1;32mF:\\Documents\\PythonFolder\\Lib\\site-packages\\pandas\\core\\frame.py:10482\u001b[0m, in \u001b[0;36mDataFrame._reduce.<locals>.blk_func\u001b[1;34m(values, axis)\u001b[0m\n\u001b[0;32m  10480\u001b[0m     \u001b[38;5;28;01mreturn\u001b[39;00m values\u001b[38;5;241m.\u001b[39m_reduce(name, skipna\u001b[38;5;241m=\u001b[39mskipna, \u001b[38;5;241m*\u001b[39m\u001b[38;5;241m*\u001b[39mkwds)\n\u001b[0;32m  10481\u001b[0m \u001b[38;5;28;01melse\u001b[39;00m:\n\u001b[1;32m> 10482\u001b[0m     \u001b[38;5;28;01mreturn\u001b[39;00m op(values, axis\u001b[38;5;241m=\u001b[39maxis, skipna\u001b[38;5;241m=\u001b[39mskipna, \u001b[38;5;241m*\u001b[39m\u001b[38;5;241m*\u001b[39mkwds)\n",
      "File \u001b[1;32mF:\\Documents\\PythonFolder\\Lib\\site-packages\\pandas\\core\\nanops.py:158\u001b[0m, in \u001b[0;36mbottleneck_switch.__call__.<locals>.f\u001b[1;34m(values, axis, skipna, **kwds)\u001b[0m\n\u001b[0;32m    156\u001b[0m         result \u001b[38;5;241m=\u001b[39m alt(values, axis\u001b[38;5;241m=\u001b[39maxis, skipna\u001b[38;5;241m=\u001b[39mskipna, \u001b[38;5;241m*\u001b[39m\u001b[38;5;241m*\u001b[39mkwds)\n\u001b[0;32m    157\u001b[0m \u001b[38;5;28;01melse\u001b[39;00m:\n\u001b[1;32m--> 158\u001b[0m     result \u001b[38;5;241m=\u001b[39m alt(values, axis\u001b[38;5;241m=\u001b[39maxis, skipna\u001b[38;5;241m=\u001b[39mskipna, \u001b[38;5;241m*\u001b[39m\u001b[38;5;241m*\u001b[39mkwds)\n\u001b[0;32m    160\u001b[0m \u001b[38;5;28;01mreturn\u001b[39;00m result\n",
      "File \u001b[1;32mF:\\Documents\\PythonFolder\\Lib\\site-packages\\pandas\\core\\nanops.py:789\u001b[0m, in \u001b[0;36mnanmedian\u001b[1;34m(values, axis, skipna, mask)\u001b[0m\n\u001b[0;32m    786\u001b[0m         values \u001b[38;5;241m=\u001b[39m values\u001b[38;5;241m.\u001b[39mastype(\u001b[38;5;124m\"\u001b[39m\u001b[38;5;124mf8\u001b[39m\u001b[38;5;124m\"\u001b[39m)\n\u001b[0;32m    787\u001b[0m     \u001b[38;5;28;01mexcept\u001b[39;00m \u001b[38;5;167;01mValueError\u001b[39;00m \u001b[38;5;28;01mas\u001b[39;00m err:\n\u001b[0;32m    788\u001b[0m         \u001b[38;5;66;03m# e.g. \"could not convert string to float: 'a'\"\u001b[39;00m\n\u001b[1;32m--> 789\u001b[0m         \u001b[38;5;28;01mraise\u001b[39;00m \u001b[38;5;167;01mTypeError\u001b[39;00m(\u001b[38;5;28mstr\u001b[39m(err)) \u001b[38;5;28;01mfrom\u001b[39;00m \u001b[38;5;21;01merr\u001b[39;00m\n\u001b[0;32m    790\u001b[0m \u001b[38;5;28;01mif\u001b[39;00m mask \u001b[38;5;129;01mis\u001b[39;00m \u001b[38;5;129;01mnot\u001b[39;00m \u001b[38;5;28;01mNone\u001b[39;00m:\n\u001b[0;32m    791\u001b[0m     values[mask] \u001b[38;5;241m=\u001b[39m np\u001b[38;5;241m.\u001b[39mnan\n",
      "\u001b[1;31mTypeError\u001b[0m: could not convert string to float: 'Iris-setosa'"
     ]
    }
   ],
   "source": [
    "#print(setosa_df)\n",
    "#min_setosa = setosa_class['sepal length in cm'].min()\n",
    "\n",
    "print(f\"(a)\\n\")\n",
    "#Minimum Setosa\n",
    "print(f\"\\tThe Minimum value of Setosa by Column:\")\n",
    "print(f\"\\t\\tFirst column minimum value = {setosa_df.min()[0]}\")\n",
    "print(f\"\\t\\tSecond column minimum value = {setosa_df.min()[1]}\")\n",
    "print(f\"\\t\\tThird column minimum value = {setosa_df.min()[2]}\")\n",
    "print(f\"\\t\\tFourth column minimum value = {setosa_df.min()[3]}\\n\")\n",
    "\n",
    "#Minimum Versicolor\n",
    "print(f\"\\tThe Minimum value of Versicolor by Column:\")\n",
    "print(f\"\\t\\tFirst column minimum value = {versicolor_df.min()[0]}\")\n",
    "print(f\"\\t\\tSecond column minimum value = {versicolor_df.min()[1]}\")\n",
    "print(f\"\\t\\tThird column minimum value = {versicolor_df.min()[2]}\")\n",
    "print(f\"\\t\\tFourth column minimum value = {versicolor_df.min()[3]}\\n\")\n",
    "\n",
    "#Minimum Virginica\n",
    "print(f\"\\tThe Minimum value of Virginica by Column:\")\n",
    "print(f\"\\t\\tFirst column minimum value = {virginica_df.min()[0]}\")\n",
    "print(f\"\\t\\tSecond column minimum value = {virginica_df.min()[1]}\")\n",
    "print(f\"\\t\\tThird column minimum value = {virginica_df.min()[2]}\")\n",
    "print(f\"\\t\\tFourth column minimum value = {virginica_df.min()[3]}\\n\")\n",
    "\n",
    "print(f\"(b)\\n\")\n",
    "#Maximum Setosa\n",
    "print(f\"\\tThe Maximum value of Setosa by Column:\")\n",
    "print(f\"\\t\\tFirst column maximum value = {setosa_df.max()[0]}\")\n",
    "print(f\"\\t\\tSecond column maximum value = {setosa_df.max()[1]}\")\n",
    "print(f\"\\t\\tThird column maximum value = {setosa_df.max()[2]}\")\n",
    "print(f\"\\t\\tFourth column maximum value = {setosa_df.max()[3]}\\n\")\n",
    "\n",
    "#Maximum Versicolor\n",
    "print(f\"\\tThe Maximum value of Versicolor by Column:\")\n",
    "print(f\"\\t\\tFirst column maximum value = {versicolor_df.max()[0]}\")\n",
    "print(f\"\\t\\tSecond column maximum value = {versicolor_df.max()[1]}\")\n",
    "print(f\"\\t\\tThird column maximum value = {versicolor_df.max()[2]}\")\n",
    "print(f\"\\t\\tFourth column maximum value = {versicolor_df.max()[3]}\\n\")\n",
    "\n",
    "#Maximum Virginica\n",
    "print(f\"\\tThe Maximum value of Virginica by Column:\")\n",
    "print(f\"\\t\\tFirst column maximum value = {virginica_df.max()[0]}\")\n",
    "print(f\"\\t\\tSecond column maximum value = {virginica_df.max()[1]}\")\n",
    "print(f\"\\t\\tThird column maximum value = {virginica_df.max()[2]}\")\n",
    "print(f\"\\t\\tFourth column maximum value = {virginica_df.max()[3]}\\n\")\n",
    "\n",
    "print(f\"(c)\\n\")\n",
    "#Median Setosa\n",
    "print(f\"\\tThe Median value of Setosa by Column:\")\n",
    "print(f\"\\t\\tFirst column median value = {setosa_df.median(axis=0)[0]}\")\n",
    "print(f\"\\t\\tSecond column median value = {setosa_df.median(axis=0)[1]}\")\n",
    "print(f\"\\t\\tThird column median value = {setosa_df.median(axis=0)[2]}\")\n",
    "print(f\"\\t\\tFourth column median value = {setosa_df.median(axis=0)[3]}\\n\")\n",
    "\n",
    "#Median Versicolor\n",
    "print(f\"\\tThe Median value of Versicolor by Column:\")\n",
    "print(f\"\\t\\tFirst column median value = {versicolor_df.median(axis=0)[0]}\")\n",
    "print(f\"\\t\\tSecond column median value = {versicolor_df.median(axis=0)[1]}\")\n",
    "print(f\"\\t\\tThird column median value = {versicolor_df.median(axis=0)[2]}\")\n",
    "print(f\"\\t\\tFourth column median value = {versicolor_df.median(axis=0)[3]}\\n\")\n",
    "\n",
    "#Median Virginica\n",
    "print(f\"\\tThe Median value of Virginica by Column:\")\n",
    "print(f\"\\t\\tFirst column median value = {virginica_df.median(axis=0)[0]}\")\n",
    "print(f\"\\t\\tSecond column median value = {virginica_df.median(axis=0)[1]}\")\n",
    "print(f\"\\t\\tThird column median value = {virginica_df.median(axis=0)[2]}\")\n",
    "print(f\"\\t\\tFourth column median value = {virginica_df.median(axis=0)[3]}\\n\")\n",
    "\n",
    "print(f\"(d)\\n\")\n",
    "#Mean Setosa\n",
    "print(f\"\\tThe Mean value of Setosa by Column:\")\n",
    "print(f\"\\t\\tFirst column mean value = {setosa_df.mean(axis=0)[0]}\")\n",
    "print(f\"\\t\\tSecond column mean value = {setosa_df.mean(axis=0)[1]}\")\n",
    "print(f\"\\t\\tThird column mean value = {setosa_df.mean(axis=0)[2]}\")\n",
    "print(f\"\\t\\tFourth column mean value = {setosa_df.mean(axis=0)[3]}\\n\")\n",
    "\n",
    "#Mean Versicolor\n",
    "print(f\"\\tThe Mean value of Versicolor by Column:\")\n",
    "print(f\"\\t\\tFirst column mean value = {versicolor_df.mean(axis=0)[0]}\")\n",
    "print(f\"\\t\\tSecond column mean value = {versicolor_df.mean(axis=0)[1]}\")\n",
    "print(f\"\\t\\tThird column mean value = {versicolor_df.mean(axis=0)[2]}\")\n",
    "print(f\"\\t\\tFourth column mean value = {versicolor_df.mean(axis=0)[3]}\\n\")\n",
    "\n",
    "#Mean Virginica\n",
    "print(f\"\\tThe Mean value of Virginica by Column:\")\n",
    "print(f\"\\t\\tFirst column mean value = {virginica_df.mean(axis=0)[0]}\")\n",
    "print(f\"\\t\\tSecond column mean value = {virginica_df.mean(axis=0)[1]}\")\n",
    "print(f\"\\t\\tThird column mean value = {virginica_df.mean(axis=0)[2]}\")\n",
    "print(f\"\\t\\tFourth column mean value = {virginica_df.mean(axis=0)[3]}\\n\")\n",
    "\n",
    "print(f\"(e)\\n\")\n",
    "#Variance Setosa\n",
    "print(f\"\\tThe Variance value of Setosa by Column:\")\n",
    "print(f\"\\t\\tFirst column variance value = {setosa_df.var(axis=0)[0]}\")\n",
    "print(f\"\\t\\tSecond column variance value = {setosa_df.var(axis=0)[1]}\")\n",
    "print(f\"\\t\\tThird column variance value = {setosa_df.var(axis=0)[2]}\")\n",
    "print(f\"\\t\\tFourth column variance value = {setosa_df.var(axis=0)[3]}\\n\")\n",
    "\n",
    "#Variance Versicolor\n",
    "print(f\"\\tThe Variance value of Versicolor by Column:\")\n",
    "print(f\"\\t\\tFirst column variance value = {versicolor_df.var(axis=0)[0]}\")\n",
    "print(f\"\\t\\tSecond column variance value = {versicolor_df.var(axis=0)[1]}\")\n",
    "print(f\"\\t\\tThird column variance value = {versicolor_df.var(axis=0)[2]}\")\n",
    "print(f\"\\t\\tFourth column variance value = {versicolor_df.var(axis=0)[3]}\\n\")\n",
    "\n",
    "#Variance Virginica\n",
    "print(f\"\\tThe Variance value of Virginica by Column:\")\n",
    "print(f\"\\t\\tFirst column variance value = {virginica_df.var(axis=0)[0]}\")\n",
    "print(f\"\\t\\tSecond column variance value = {virginica_df.var(axis=0)[1]}\")\n",
    "print(f\"\\t\\tThird column variance value = {virginica_df.var(axis=0)[2]}\")\n",
    "print(f\"\\t\\tFourth column variance value = {virginica_df.var(axis=0)[3]}\\n\")\n",
    "\n",
    "print(f\"(f)\\n\")\n",
    "#Standard Deviation Setosa\n",
    "print(f\"\\tThe Standard Deviation value of Setosa by Column:\")\n",
    "print(f\"\\t\\tFirst column standard deviation value = {setosa_df.std(axis=0)[0]}\")\n",
    "print(f\"\\t\\tSecond column standard deviation value = {setosa_df.std(axis=0)[1]}\")\n",
    "print(f\"\\t\\tThird column standard deviation value = {setosa_df.std(axis=0)[2]}\")\n",
    "print(f\"\\t\\tFourth column standard deviation value = {setosa_df.std(axis=0)[3]}\\n\")\n",
    "\n",
    "#Variance Versicolor\n",
    "print(f\"\\tThe Standard Deviation value of Versicolor by Column:\")\n",
    "print(f\"\\t\\tFirst column standard deviation value = {versicolor_df.std(axis=0)[0]}\")\n",
    "print(f\"\\t\\tSecond column standard deviation value = {versicolor_df.std(axis=0)[1]}\")\n",
    "print(f\"\\t\\tThird column standard deviation value = {versicolor_df.std(axis=0)[2]}\")\n",
    "print(f\"\\t\\tFourth column standard deviation value = {versicolor_df.std(axis=0)[3]}\\n\")\n",
    "\n",
    "#Variance Virginica\n",
    "print(f\"\\tThe Standard Deviation value of Virginica by Column:\")\n",
    "print(f\"\\t\\tFirst column standard deviation value = {virginica_df.std(axis=0)[0]}\")\n",
    "print(f\"\\t\\tSecond column standard deviation value = {virginica_df.std(axis=0)[1]}\")\n",
    "print(f\"\\t\\tThird column standard deviation value = {virginica_df.std(axis=0)[2]}\")\n",
    "print(f\"\\t\\tFourth column standard deviation value = {virginica_df.std(axis=0)[3]}\\n\")\n",
    "\n",
    "#min_versicolor = versicolor_class['sepal length in cm'].min()\n",
    "#print(f\"\\tMinimum Value of versicolor = {min_versicolor}\")\n",
    "\n",
    "#min_virginica = virginica_class['sepal length in cm'].min()\n",
    "#print(f\"\\tMinimum Value of virginica = {min_virginica}\")\n"
   ]
  },
  {
   "cell_type": "markdown",
   "metadata": {},
   "source": [
    "## Problem 8"
   ]
  },
  {
   "cell_type": "markdown",
   "metadata": {},
   "source": [
    "8.  For each iris species, and for all possible pairs of numeric data columns of a given iris species, obtain the following:\n",
    "    (a)  covariance matrix(b)  correlation matrix"
   ]
  },
  {
   "cell_type": "code",
   "execution_count": 10,
   "metadata": {
    "scrolled": true
   },
   "outputs": [
    {
     "name": "stdout",
     "output_type": "stream",
     "text": [
      "(a)\n",
      "\n",
      "The covariance matrix of the Setosa Dataframe:\n"
     ]
    },
    {
     "ename": "ValueError",
     "evalue": "could not convert string to float: 'Iris-setosa'",
     "output_type": "error",
     "traceback": [
      "\u001b[1;31m---------------------------------------------------------------------------\u001b[0m",
      "\u001b[1;31mValueError\u001b[0m                                Traceback (most recent call last)",
      "Cell \u001b[1;32mIn[10], line 6\u001b[0m\n\u001b[0;32m      2\u001b[0m \u001b[38;5;66;03m#setosa_df.cov(min_periods=None)\u001b[39;00m\n\u001b[0;32m      3\u001b[0m \u001b[38;5;66;03m#versicolor_df.cov(min_periods=None)\u001b[39;00m\n\u001b[0;32m      4\u001b[0m \u001b[38;5;66;03m#virginica_df.cov(min_periods=None)\u001b[39;00m\n\u001b[0;32m      5\u001b[0m \u001b[38;5;28mprint\u001b[39m(\u001b[38;5;124mf\u001b[39m\u001b[38;5;124m\"\u001b[39m\u001b[38;5;124mThe covariance matrix of the Setosa Dataframe:\u001b[39m\u001b[38;5;124m\"\u001b[39m)\n\u001b[1;32m----> 6\u001b[0m \u001b[38;5;28mprint\u001b[39m(setosa_df\u001b[38;5;241m.\u001b[39mcov(min_periods\u001b[38;5;241m=\u001b[39m\u001b[38;5;28;01mNone\u001b[39;00m))\n\u001b[0;32m      8\u001b[0m \u001b[38;5;28mprint\u001b[39m(\u001b[38;5;124mf\u001b[39m\u001b[38;5;124m\"\u001b[39m\u001b[38;5;130;01m\\n\u001b[39;00m\u001b[38;5;124m\"\u001b[39m)\n\u001b[0;32m      9\u001b[0m \u001b[38;5;28mprint\u001b[39m(\u001b[38;5;124mf\u001b[39m\u001b[38;5;124m\"\u001b[39m\u001b[38;5;124mThe covariance matrix of the Versicolor Dataframe:\u001b[39m\u001b[38;5;124m\"\u001b[39m)\n",
      "File \u001b[1;32mF:\\Documents\\PythonFolder\\Lib\\site-packages\\pandas\\core\\frame.py:10210\u001b[0m, in \u001b[0;36mDataFrame.cov\u001b[1;34m(self, min_periods, ddof, numeric_only)\u001b[0m\n\u001b[0;32m  10208\u001b[0m cols \u001b[38;5;241m=\u001b[39m data\u001b[38;5;241m.\u001b[39mcolumns\n\u001b[0;32m  10209\u001b[0m idx \u001b[38;5;241m=\u001b[39m cols\u001b[38;5;241m.\u001b[39mcopy()\n\u001b[1;32m> 10210\u001b[0m mat \u001b[38;5;241m=\u001b[39m data\u001b[38;5;241m.\u001b[39mto_numpy(dtype\u001b[38;5;241m=\u001b[39m\u001b[38;5;28mfloat\u001b[39m, na_value\u001b[38;5;241m=\u001b[39mnp\u001b[38;5;241m.\u001b[39mnan, copy\u001b[38;5;241m=\u001b[39m\u001b[38;5;28;01mFalse\u001b[39;00m)\n\u001b[0;32m  10212\u001b[0m \u001b[38;5;28;01mif\u001b[39;00m notna(mat)\u001b[38;5;241m.\u001b[39mall():\n\u001b[0;32m  10213\u001b[0m     \u001b[38;5;28;01mif\u001b[39;00m min_periods \u001b[38;5;129;01mis\u001b[39;00m \u001b[38;5;129;01mnot\u001b[39;00m \u001b[38;5;28;01mNone\u001b[39;00m \u001b[38;5;129;01mand\u001b[39;00m min_periods \u001b[38;5;241m>\u001b[39m \u001b[38;5;28mlen\u001b[39m(mat):\n",
      "File \u001b[1;32mF:\\Documents\\PythonFolder\\Lib\\site-packages\\pandas\\core\\frame.py:1838\u001b[0m, in \u001b[0;36mDataFrame.to_numpy\u001b[1;34m(self, dtype, copy, na_value)\u001b[0m\n\u001b[0;32m   1836\u001b[0m \u001b[38;5;28;01mif\u001b[39;00m dtype \u001b[38;5;129;01mis\u001b[39;00m \u001b[38;5;129;01mnot\u001b[39;00m \u001b[38;5;28;01mNone\u001b[39;00m:\n\u001b[0;32m   1837\u001b[0m     dtype \u001b[38;5;241m=\u001b[39m np\u001b[38;5;241m.\u001b[39mdtype(dtype)\n\u001b[1;32m-> 1838\u001b[0m result \u001b[38;5;241m=\u001b[39m \u001b[38;5;28mself\u001b[39m\u001b[38;5;241m.\u001b[39m_mgr\u001b[38;5;241m.\u001b[39mas_array(dtype\u001b[38;5;241m=\u001b[39mdtype, copy\u001b[38;5;241m=\u001b[39mcopy, na_value\u001b[38;5;241m=\u001b[39mna_value)\n\u001b[0;32m   1839\u001b[0m \u001b[38;5;28;01mif\u001b[39;00m result\u001b[38;5;241m.\u001b[39mdtype \u001b[38;5;129;01mis\u001b[39;00m \u001b[38;5;129;01mnot\u001b[39;00m dtype:\n\u001b[0;32m   1840\u001b[0m     result \u001b[38;5;241m=\u001b[39m np\u001b[38;5;241m.\u001b[39marray(result, dtype\u001b[38;5;241m=\u001b[39mdtype, copy\u001b[38;5;241m=\u001b[39m\u001b[38;5;28;01mFalse\u001b[39;00m)\n",
      "File \u001b[1;32mF:\\Documents\\PythonFolder\\Lib\\site-packages\\pandas\\core\\internals\\managers.py:1732\u001b[0m, in \u001b[0;36mBlockManager.as_array\u001b[1;34m(self, dtype, copy, na_value)\u001b[0m\n\u001b[0;32m   1730\u001b[0m         arr\u001b[38;5;241m.\u001b[39mflags\u001b[38;5;241m.\u001b[39mwriteable \u001b[38;5;241m=\u001b[39m \u001b[38;5;28;01mFalse\u001b[39;00m\n\u001b[0;32m   1731\u001b[0m \u001b[38;5;28;01melse\u001b[39;00m:\n\u001b[1;32m-> 1732\u001b[0m     arr \u001b[38;5;241m=\u001b[39m \u001b[38;5;28mself\u001b[39m\u001b[38;5;241m.\u001b[39m_interleave(dtype\u001b[38;5;241m=\u001b[39mdtype, na_value\u001b[38;5;241m=\u001b[39mna_value)\n\u001b[0;32m   1733\u001b[0m     \u001b[38;5;66;03m# The underlying data was copied within _interleave, so no need\u001b[39;00m\n\u001b[0;32m   1734\u001b[0m     \u001b[38;5;66;03m# to further copy if copy=True or setting na_value\u001b[39;00m\n\u001b[0;32m   1736\u001b[0m \u001b[38;5;28;01mif\u001b[39;00m na_value \u001b[38;5;129;01mis\u001b[39;00m \u001b[38;5;129;01mnot\u001b[39;00m lib\u001b[38;5;241m.\u001b[39mno_default:\n",
      "File \u001b[1;32mF:\\Documents\\PythonFolder\\Lib\\site-packages\\pandas\\core\\internals\\managers.py:1794\u001b[0m, in \u001b[0;36mBlockManager._interleave\u001b[1;34m(self, dtype, na_value)\u001b[0m\n\u001b[0;32m   1792\u001b[0m     \u001b[38;5;28;01melse\u001b[39;00m:\n\u001b[0;32m   1793\u001b[0m         arr \u001b[38;5;241m=\u001b[39m blk\u001b[38;5;241m.\u001b[39mget_values(dtype)\n\u001b[1;32m-> 1794\u001b[0m     result[rl\u001b[38;5;241m.\u001b[39mindexer] \u001b[38;5;241m=\u001b[39m arr\n\u001b[0;32m   1795\u001b[0m     itemmask[rl\u001b[38;5;241m.\u001b[39mindexer] \u001b[38;5;241m=\u001b[39m \u001b[38;5;241m1\u001b[39m\n\u001b[0;32m   1797\u001b[0m \u001b[38;5;28;01mif\u001b[39;00m \u001b[38;5;129;01mnot\u001b[39;00m itemmask\u001b[38;5;241m.\u001b[39mall():\n",
      "\u001b[1;31mValueError\u001b[0m: could not convert string to float: 'Iris-setosa'"
     ]
    }
   ],
   "source": [
    "print(f\"(a)\\n\")\n",
    "#setosa_df.cov(min_periods=None)\n",
    "#versicolor_df.cov(min_periods=None)\n",
    "#virginica_df.cov(min_periods=None)\n",
    "print(f\"The covariance matrix of the Setosa Dataframe:\")\n",
    "print(setosa_df.cov(min_periods=None))\n",
    "\n",
    "print(f\"\\n\")\n",
    "print(f\"The covariance matrix of the Versicolor Dataframe:\")\n",
    "print(versicolor_df.cov(min_periods=None))\n",
    "\n",
    "print(f\"\\n\")\n",
    "print(f\"The covariance matrix of the Virginica Dataframe:\")\n",
    "print(virginica_df.cov(min_periods=None))\n",
    "\n",
    "print(f\"\\n\")\n",
    "print(f\"\\n\")\n",
    "\n",
    "\n",
    "\n",
    "print(f\"(b)\\n\")\n",
    "print(f\"The correlation matrix of the Setosa Dataframe:\")\n",
    "print(setosa_df.corr(min_periods=None))\n",
    "\n",
    "print(f\"\\n\")\n",
    "print(f\"The correlation matrix of the Versicolor Dataframe:\")\n",
    "print(versicolor_df.corr(min_periods=None))\n",
    "\n",
    "print(f\"\\n\")\n",
    "print(f\"The correlation matrix of the Virginica Dataframe:\")\n",
    "print(virginica_df.corr(min_periods=None))"
   ]
  },
  {
   "cell_type": "markdown",
   "metadata": {},
   "source": [
    "## Problem 9"
   ]
  },
  {
   "cell_type": "markdown",
   "metadata": {},
   "source": [
    "9.  Based on your correlation matrices in 8 (b), describe their similarities and differences. \n",
    "    In particular, highlight any pair of data columns/features that exhibit strong correlations\n",
    "    in some iris species but weak  correlations  in  others. Now compare with the correlation matrix  \n",
    "    that you obtained in 4 (b).\n",
    "    What knowledge/information was hidden by the correlation matrix in 4 (b) when no distinctions of the iris species were         made?"
   ]
  },
  {
   "cell_type": "markdown",
   "metadata": {},
   "source": [
    "The versicolor and Viginica correlation tables both have a relatively high correlation for sepal length and petal length, however the setosa species seems to have a low correlation measured for this comparison. Petal length and petal width have a high correlation within only the versicolor species. \n",
    "\n",
    "\n",
    "Interestingly, petal length and petal width had the highest positive overall correlation in the overall iris dataframe, however, only the versicolor dataframe shows any real possible correlation here. Even within the versicolor dataframe, the correlation is still not as high as in the original dataframe. Also, there seems to be no negative correlations in each of the species dataframes while the overall iris dataframe showed a couple of negative correlations."
   ]
  },
  {
   "cell_type": "markdown",
   "metadata": {},
   "source": [
    "## Problem 10"
   ]
  },
  {
   "cell_type": "markdown",
   "metadata": {},
   "source": [
    "10. Based on the various statistics and plots that you have obtained so far, which data column(s)/feature(s)\n",
    "    can be used to distinguish different iris species?  Explain how."
   ]
  },
  {
   "cell_type": "markdown",
   "metadata": {},
   "source": [
    "Columns and Features that can be used to distinguish different iris species include large petal length and petal width for versicolor species. A low correlation between petal length and sepal length seems to be a sign for Setosa. A large correlation between sepal length and sepal width seems to be a sign that a large measure for both can also be a sign for Setosa. "
   ]
  }
 ],
 "metadata": {
  "kernelspec": {
   "display_name": "Python 3 (ipykernel)",
   "language": "python",
   "name": "python3"
  },
  "language_info": {
   "codemirror_mode": {
    "name": "ipython",
    "version": 3
   },
   "file_extension": ".py",
   "mimetype": "text/x-python",
   "name": "python",
   "nbconvert_exporter": "python",
   "pygments_lexer": "ipython3",
   "version": "3.11.5"
  }
 },
 "nbformat": 4,
 "nbformat_minor": 4
}
