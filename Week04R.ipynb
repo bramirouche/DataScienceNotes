{
 "cells": [
  {
   "cell_type": "markdown",
   "metadata": {},
   "source": [
    "# Introduction to pandas"
   ]
  },
  {
   "cell_type": "markdown",
   "metadata": {},
   "source": [
    "Adapted from [Julia Evans](https://jvns.ca/)'s [pandas cookbook](https://github.com/jvns/pandas-cookbook).\n",
    "\n",
    "This work is licensed under a [Creative Commons Attribution-ShareAlike 4.0 International License](https://creativecommons.org/licenses/by-sa/4.0/)"
   ]
  },
  {
   "cell_type": "markdown",
   "metadata": {},
   "source": [
    "\"[Pandas](https://pandas.pydata.org/) *is a fast, powerful, flexible and easy to use open source data analysis and manipulation tool, built on top of the Python programming language.*\"\n",
    "\n",
    "If you installed Anaconda, pandas should have already been installed. Otherwise, you may need to install it yourself."
   ]
  },
  {
   "cell_type": "code",
   "execution_count": 1,
   "metadata": {},
   "outputs": [
    {
     "name": "stdout",
     "output_type": "stream",
     "text": [
      "Requirement already satisfied: pandas in c:\\users\\brandon\\anaconda3\\lib\\site-packages (1.0.5)\n",
      "Requirement already satisfied: pytz>=2017.2 in c:\\users\\brandon\\anaconda3\\lib\\site-packages (from pandas) (2020.1)\n",
      "Requirement already satisfied: python-dateutil>=2.6.1 in c:\\users\\brandon\\anaconda3\\lib\\site-packages (from pandas) (2.8.1)\n",
      "Requirement already satisfied: numpy>=1.13.3 in c:\\users\\brandon\\anaconda3\\lib\\site-packages (from pandas) (1.18.5)\n",
      "Requirement already satisfied: six>=1.5 in c:\\users\\brandon\\anaconda3\\lib\\site-packages (from python-dateutil>=2.6.1->pandas) (1.15.0)\n"
     ]
    }
   ],
   "source": [
    "!pip install pandas"
   ]
  },
  {
   "cell_type": "code",
   "execution_count": 2,
   "metadata": {},
   "outputs": [],
   "source": [
    "import pandas as pd\n",
    "import matplotlib.pyplot as plt\n",
    "\n",
    "# Make the graphs a bit prettier, and bigger\n",
    "plt.style.use('ggplot')\n",
    "plt.rcParams['figure.figsize'] = (15, 5) # resize plots to be 15 in by 5 in"
   ]
  },
  {
   "cell_type": "markdown",
   "metadata": {},
   "source": [
    "## Reading data from a csv file"
   ]
  },
  {
   "cell_type": "markdown",
   "metadata": {},
   "source": [
    "You can read data from a CSV file using the `read_csv` function. By default, it assumes that the fields are comma-separated.\n",
    "\n",
    "We're going to be looking some cyclist data from Montréal. Here's the [original page](http://donnees.ville.montreal.qc.ca/dataset/velos-comptage) (in French). I have already downloaded and place the csv file in the current directory. We will be using the data from 2012.\n",
    "\n",
    "This dataset is a list of how many people were on 7 different bike paths in Montreal, each day."
   ]
  },
  {
   "cell_type": "code",
   "execution_count": 7,
   "metadata": {},
   "outputs": [],
   "source": [
    "broken_df = pd.read_csv('bikes.csv', encoding = \"ISO-8859-1\")"
   ]
  },
  {
   "cell_type": "code",
   "execution_count": 8,
   "metadata": {},
   "outputs": [
    {
     "data": {
      "text/html": [
       "<div>\n",
       "<style scoped>\n",
       "    .dataframe tbody tr th:only-of-type {\n",
       "        vertical-align: middle;\n",
       "    }\n",
       "\n",
       "    .dataframe tbody tr th {\n",
       "        vertical-align: top;\n",
       "    }\n",
       "\n",
       "    .dataframe thead th {\n",
       "        text-align: right;\n",
       "    }\n",
       "</style>\n",
       "<table border=\"1\" class=\"dataframe\">\n",
       "  <thead>\n",
       "    <tr style=\"text-align: right;\">\n",
       "      <th></th>\n",
       "      <th>Date;Berri 1;Brébeuf (données non disponibles);Côte-Sainte-Catherine;Maisonneuve 1;Maisonneuve 2;du Parc;Pierre-Dupuy;Rachel1;St-Urbain (données non disponibles)</th>\n",
       "    </tr>\n",
       "  </thead>\n",
       "  <tbody>\n",
       "    <tr>\n",
       "      <th>0</th>\n",
       "      <td>01/01/2012;35;;0;38;51;26;10;16;</td>\n",
       "    </tr>\n",
       "    <tr>\n",
       "      <th>1</th>\n",
       "      <td>02/01/2012;83;;1;68;153;53;6;43;</td>\n",
       "    </tr>\n",
       "    <tr>\n",
       "      <th>2</th>\n",
       "      <td>03/01/2012;135;;2;104;248;89;3;58;</td>\n",
       "    </tr>\n",
       "    <tr>\n",
       "      <th>3</th>\n",
       "      <td>04/01/2012;144;;1;116;318;111;8;61;</td>\n",
       "    </tr>\n",
       "    <tr>\n",
       "      <th>4</th>\n",
       "      <td>05/01/2012;197;;2;124;330;97;13;95;</td>\n",
       "    </tr>\n",
       "    <tr>\n",
       "      <th>...</th>\n",
       "      <td>...</td>\n",
       "    </tr>\n",
       "    <tr>\n",
       "      <th>305</th>\n",
       "      <td>01/11/2012;2405;;1208;1701;3082;2076;165;2461</td>\n",
       "    </tr>\n",
       "    <tr>\n",
       "      <th>306</th>\n",
       "      <td>02/11/2012;1582;;737;1109;2277;1392;97;1888</td>\n",
       "    </tr>\n",
       "    <tr>\n",
       "      <th>307</th>\n",
       "      <td>03/11/2012;844;;380;612;1137;713;105;1302</td>\n",
       "    </tr>\n",
       "    <tr>\n",
       "      <th>308</th>\n",
       "      <td>04/11/2012;966;;446;710;1277;692;197;1374</td>\n",
       "    </tr>\n",
       "    <tr>\n",
       "      <th>309</th>\n",
       "      <td>05/11/2012;2247;;1170;1705;3221;2143;179;2430</td>\n",
       "    </tr>\n",
       "  </tbody>\n",
       "</table>\n",
       "<p>310 rows × 1 columns</p>\n",
       "</div>"
      ],
      "text/plain": [
       "    Date;Berri 1;Brébeuf (données non disponibles);Côte-Sainte-Catherine;Maisonneuve 1;Maisonneuve 2;du Parc;Pierre-Dupuy;Rachel1;St-Urbain (données non disponibles)\n",
       "0                     01/01/2012;35;;0;38;51;26;10;16;                                                                                                               \n",
       "1                     02/01/2012;83;;1;68;153;53;6;43;                                                                                                               \n",
       "2                   03/01/2012;135;;2;104;248;89;3;58;                                                                                                               \n",
       "3                  04/01/2012;144;;1;116;318;111;8;61;                                                                                                               \n",
       "4                  05/01/2012;197;;2;124;330;97;13;95;                                                                                                               \n",
       "..                                                 ...                                                                                                               \n",
       "305      01/11/2012;2405;;1208;1701;3082;2076;165;2461                                                                                                               \n",
       "306        02/11/2012;1582;;737;1109;2277;1392;97;1888                                                                                                               \n",
       "307          03/11/2012;844;;380;612;1137;713;105;1302                                                                                                               \n",
       "308          04/11/2012;966;;446;710;1277;692;197;1374                                                                                                               \n",
       "309      05/11/2012;2247;;1170;1705;3221;2143;179;2430                                                                                                               \n",
       "\n",
       "[310 rows x 1 columns]"
      ]
     },
     "execution_count": 8,
     "metadata": {},
     "output_type": "execute_result"
    }
   ],
   "source": [
    "# examine the dataframe\n",
    "broken_df"
   ]
  },
  {
   "cell_type": "markdown",
   "metadata": {},
   "source": [
    "You'll notice that this is totally broken! `read_csv` has a bunch of options that will let us fix that, though. Here we'll\n",
    "\n",
    "* change the column separator to a `;`\n",
    "* Set the encoding to `'latin1'` (the default is `'utf8'`)\n",
    "* Parse the dates in the 'Date' column\n",
    "* Tell it that our dates have the day first instead of the month first\n",
    "* Set the index to be the 'Date' column"
   ]
  },
  {
   "cell_type": "code",
   "execution_count": 9,
   "metadata": {},
   "outputs": [
    {
     "data": {
      "text/html": [
       "<div>\n",
       "<style scoped>\n",
       "    .dataframe tbody tr th:only-of-type {\n",
       "        vertical-align: middle;\n",
       "    }\n",
       "\n",
       "    .dataframe tbody tr th {\n",
       "        vertical-align: top;\n",
       "    }\n",
       "\n",
       "    .dataframe thead th {\n",
       "        text-align: right;\n",
       "    }\n",
       "</style>\n",
       "<table border=\"1\" class=\"dataframe\">\n",
       "  <thead>\n",
       "    <tr style=\"text-align: right;\">\n",
       "      <th></th>\n",
       "      <th>Berri 1</th>\n",
       "      <th>Brébeuf (données non disponibles)</th>\n",
       "      <th>Côte-Sainte-Catherine</th>\n",
       "      <th>Maisonneuve 1</th>\n",
       "      <th>Maisonneuve 2</th>\n",
       "      <th>du Parc</th>\n",
       "      <th>Pierre-Dupuy</th>\n",
       "      <th>Rachel1</th>\n",
       "      <th>St-Urbain (données non disponibles)</th>\n",
       "    </tr>\n",
       "    <tr>\n",
       "      <th>Date</th>\n",
       "      <th></th>\n",
       "      <th></th>\n",
       "      <th></th>\n",
       "      <th></th>\n",
       "      <th></th>\n",
       "      <th></th>\n",
       "      <th></th>\n",
       "      <th></th>\n",
       "      <th></th>\n",
       "    </tr>\n",
       "  </thead>\n",
       "  <tbody>\n",
       "    <tr>\n",
       "      <th>2012-01-01</th>\n",
       "      <td>35</td>\n",
       "      <td>NaN</td>\n",
       "      <td>0</td>\n",
       "      <td>38</td>\n",
       "      <td>51</td>\n",
       "      <td>26</td>\n",
       "      <td>10</td>\n",
       "      <td>16</td>\n",
       "      <td>NaN</td>\n",
       "    </tr>\n",
       "    <tr>\n",
       "      <th>2012-01-02</th>\n",
       "      <td>83</td>\n",
       "      <td>NaN</td>\n",
       "      <td>1</td>\n",
       "      <td>68</td>\n",
       "      <td>153</td>\n",
       "      <td>53</td>\n",
       "      <td>6</td>\n",
       "      <td>43</td>\n",
       "      <td>NaN</td>\n",
       "    </tr>\n",
       "    <tr>\n",
       "      <th>2012-01-03</th>\n",
       "      <td>135</td>\n",
       "      <td>NaN</td>\n",
       "      <td>2</td>\n",
       "      <td>104</td>\n",
       "      <td>248</td>\n",
       "      <td>89</td>\n",
       "      <td>3</td>\n",
       "      <td>58</td>\n",
       "      <td>NaN</td>\n",
       "    </tr>\n",
       "    <tr>\n",
       "      <th>2012-01-04</th>\n",
       "      <td>144</td>\n",
       "      <td>NaN</td>\n",
       "      <td>1</td>\n",
       "      <td>116</td>\n",
       "      <td>318</td>\n",
       "      <td>111</td>\n",
       "      <td>8</td>\n",
       "      <td>61</td>\n",
       "      <td>NaN</td>\n",
       "    </tr>\n",
       "    <tr>\n",
       "      <th>2012-01-05</th>\n",
       "      <td>197</td>\n",
       "      <td>NaN</td>\n",
       "      <td>2</td>\n",
       "      <td>124</td>\n",
       "      <td>330</td>\n",
       "      <td>97</td>\n",
       "      <td>13</td>\n",
       "      <td>95</td>\n",
       "      <td>NaN</td>\n",
       "    </tr>\n",
       "    <tr>\n",
       "      <th>...</th>\n",
       "      <td>...</td>\n",
       "      <td>...</td>\n",
       "      <td>...</td>\n",
       "      <td>...</td>\n",
       "      <td>...</td>\n",
       "      <td>...</td>\n",
       "      <td>...</td>\n",
       "      <td>...</td>\n",
       "      <td>...</td>\n",
       "    </tr>\n",
       "    <tr>\n",
       "      <th>2012-11-01</th>\n",
       "      <td>2405</td>\n",
       "      <td>NaN</td>\n",
       "      <td>1208</td>\n",
       "      <td>1701</td>\n",
       "      <td>3082</td>\n",
       "      <td>2076</td>\n",
       "      <td>165</td>\n",
       "      <td>2461</td>\n",
       "      <td>NaN</td>\n",
       "    </tr>\n",
       "    <tr>\n",
       "      <th>2012-11-02</th>\n",
       "      <td>1582</td>\n",
       "      <td>NaN</td>\n",
       "      <td>737</td>\n",
       "      <td>1109</td>\n",
       "      <td>2277</td>\n",
       "      <td>1392</td>\n",
       "      <td>97</td>\n",
       "      <td>1888</td>\n",
       "      <td>NaN</td>\n",
       "    </tr>\n",
       "    <tr>\n",
       "      <th>2012-11-03</th>\n",
       "      <td>844</td>\n",
       "      <td>NaN</td>\n",
       "      <td>380</td>\n",
       "      <td>612</td>\n",
       "      <td>1137</td>\n",
       "      <td>713</td>\n",
       "      <td>105</td>\n",
       "      <td>1302</td>\n",
       "      <td>NaN</td>\n",
       "    </tr>\n",
       "    <tr>\n",
       "      <th>2012-11-04</th>\n",
       "      <td>966</td>\n",
       "      <td>NaN</td>\n",
       "      <td>446</td>\n",
       "      <td>710</td>\n",
       "      <td>1277</td>\n",
       "      <td>692</td>\n",
       "      <td>197</td>\n",
       "      <td>1374</td>\n",
       "      <td>NaN</td>\n",
       "    </tr>\n",
       "    <tr>\n",
       "      <th>2012-11-05</th>\n",
       "      <td>2247</td>\n",
       "      <td>NaN</td>\n",
       "      <td>1170</td>\n",
       "      <td>1705</td>\n",
       "      <td>3221</td>\n",
       "      <td>2143</td>\n",
       "      <td>179</td>\n",
       "      <td>2430</td>\n",
       "      <td>NaN</td>\n",
       "    </tr>\n",
       "  </tbody>\n",
       "</table>\n",
       "<p>310 rows × 9 columns</p>\n",
       "</div>"
      ],
      "text/plain": [
       "            Berri 1  Brébeuf (données non disponibles)  Côte-Sainte-Catherine  \\\n",
       "Date                                                                            \n",
       "2012-01-01       35                                NaN                      0   \n",
       "2012-01-02       83                                NaN                      1   \n",
       "2012-01-03      135                                NaN                      2   \n",
       "2012-01-04      144                                NaN                      1   \n",
       "2012-01-05      197                                NaN                      2   \n",
       "...             ...                                ...                    ...   \n",
       "2012-11-01     2405                                NaN                   1208   \n",
       "2012-11-02     1582                                NaN                    737   \n",
       "2012-11-03      844                                NaN                    380   \n",
       "2012-11-04      966                                NaN                    446   \n",
       "2012-11-05     2247                                NaN                   1170   \n",
       "\n",
       "            Maisonneuve 1  Maisonneuve 2  du Parc  Pierre-Dupuy  Rachel1  \\\n",
       "Date                                                                       \n",
       "2012-01-01             38             51       26            10       16   \n",
       "2012-01-02             68            153       53             6       43   \n",
       "2012-01-03            104            248       89             3       58   \n",
       "2012-01-04            116            318      111             8       61   \n",
       "2012-01-05            124            330       97            13       95   \n",
       "...                   ...            ...      ...           ...      ...   \n",
       "2012-11-01           1701           3082     2076           165     2461   \n",
       "2012-11-02           1109           2277     1392            97     1888   \n",
       "2012-11-03            612           1137      713           105     1302   \n",
       "2012-11-04            710           1277      692           197     1374   \n",
       "2012-11-05           1705           3221     2143           179     2430   \n",
       "\n",
       "            St-Urbain (données non disponibles)  \n",
       "Date                                             \n",
       "2012-01-01                                  NaN  \n",
       "2012-01-02                                  NaN  \n",
       "2012-01-03                                  NaN  \n",
       "2012-01-04                                  NaN  \n",
       "2012-01-05                                  NaN  \n",
       "...                                         ...  \n",
       "2012-11-01                                  NaN  \n",
       "2012-11-02                                  NaN  \n",
       "2012-11-03                                  NaN  \n",
       "2012-11-04                                  NaN  \n",
       "2012-11-05                                  NaN  \n",
       "\n",
       "[310 rows x 9 columns]"
      ]
     },
     "execution_count": 9,
     "metadata": {},
     "output_type": "execute_result"
    }
   ],
   "source": [
    "fixed_df = pd.read_csv('bikes.csv', sep=';', encoding='latin1', parse_dates=['Date'], dayfirst=True, index_col='Date')\n",
    "fixed_df"
   ]
  },
  {
   "cell_type": "code",
   "execution_count": 10,
   "metadata": {},
   "outputs": [
    {
     "data": {
      "text/html": [
       "<div>\n",
       "<style scoped>\n",
       "    .dataframe tbody tr th:only-of-type {\n",
       "        vertical-align: middle;\n",
       "    }\n",
       "\n",
       "    .dataframe tbody tr th {\n",
       "        vertical-align: top;\n",
       "    }\n",
       "\n",
       "    .dataframe thead th {\n",
       "        text-align: right;\n",
       "    }\n",
       "</style>\n",
       "<table border=\"1\" class=\"dataframe\">\n",
       "  <thead>\n",
       "    <tr style=\"text-align: right;\">\n",
       "      <th></th>\n",
       "      <th>Berri 1</th>\n",
       "      <th>Brébeuf (données non disponibles)</th>\n",
       "      <th>Côte-Sainte-Catherine</th>\n",
       "      <th>Maisonneuve 1</th>\n",
       "      <th>Maisonneuve 2</th>\n",
       "      <th>du Parc</th>\n",
       "      <th>Pierre-Dupuy</th>\n",
       "      <th>Rachel1</th>\n",
       "      <th>St-Urbain (données non disponibles)</th>\n",
       "    </tr>\n",
       "    <tr>\n",
       "      <th>Date</th>\n",
       "      <th></th>\n",
       "      <th></th>\n",
       "      <th></th>\n",
       "      <th></th>\n",
       "      <th></th>\n",
       "      <th></th>\n",
       "      <th></th>\n",
       "      <th></th>\n",
       "      <th></th>\n",
       "    </tr>\n",
       "  </thead>\n",
       "  <tbody>\n",
       "    <tr>\n",
       "      <th>2012-01-03</th>\n",
       "      <td>135</td>\n",
       "      <td>NaN</td>\n",
       "      <td>2</td>\n",
       "      <td>104</td>\n",
       "      <td>248</td>\n",
       "      <td>89</td>\n",
       "      <td>3</td>\n",
       "      <td>58</td>\n",
       "      <td>NaN</td>\n",
       "    </tr>\n",
       "    <tr>\n",
       "      <th>2012-01-04</th>\n",
       "      <td>144</td>\n",
       "      <td>NaN</td>\n",
       "      <td>1</td>\n",
       "      <td>116</td>\n",
       "      <td>318</td>\n",
       "      <td>111</td>\n",
       "      <td>8</td>\n",
       "      <td>61</td>\n",
       "      <td>NaN</td>\n",
       "    </tr>\n",
       "    <tr>\n",
       "      <th>2012-01-05</th>\n",
       "      <td>197</td>\n",
       "      <td>NaN</td>\n",
       "      <td>2</td>\n",
       "      <td>124</td>\n",
       "      <td>330</td>\n",
       "      <td>97</td>\n",
       "      <td>13</td>\n",
       "      <td>95</td>\n",
       "      <td>NaN</td>\n",
       "    </tr>\n",
       "    <tr>\n",
       "      <th>2012-01-06</th>\n",
       "      <td>146</td>\n",
       "      <td>NaN</td>\n",
       "      <td>0</td>\n",
       "      <td>98</td>\n",
       "      <td>244</td>\n",
       "      <td>86</td>\n",
       "      <td>4</td>\n",
       "      <td>75</td>\n",
       "      <td>NaN</td>\n",
       "    </tr>\n",
       "  </tbody>\n",
       "</table>\n",
       "</div>"
      ],
      "text/plain": [
       "            Berri 1  Brébeuf (données non disponibles)  Côte-Sainte-Catherine  \\\n",
       "Date                                                                            \n",
       "2012-01-03      135                                NaN                      2   \n",
       "2012-01-04      144                                NaN                      1   \n",
       "2012-01-05      197                                NaN                      2   \n",
       "2012-01-06      146                                NaN                      0   \n",
       "\n",
       "            Maisonneuve 1  Maisonneuve 2  du Parc  Pierre-Dupuy  Rachel1  \\\n",
       "Date                                                                       \n",
       "2012-01-03            104            248       89             3       58   \n",
       "2012-01-04            116            318      111             8       61   \n",
       "2012-01-05            124            330       97            13       95   \n",
       "2012-01-06             98            244       86             4       75   \n",
       "\n",
       "            St-Urbain (données non disponibles)  \n",
       "Date                                             \n",
       "2012-01-03                                  NaN  \n",
       "2012-01-04                                  NaN  \n",
       "2012-01-05                                  NaN  \n",
       "2012-01-06                                  NaN  "
      ]
     },
     "execution_count": 10,
     "metadata": {},
     "output_type": "execute_result"
    }
   ],
   "source": [
    "# Examine data from a specific date range.\n",
    "# This can be done because we've indicated that the \"Date\" column should be treated as an index column\n",
    "fixed_df['2012-01-03':'2012-01-06']"
   ]
  },
  {
   "cell_type": "markdown",
   "metadata": {},
   "source": [
    "## Selecting a column"
   ]
  },
  {
   "cell_type": "markdown",
   "metadata": {},
   "source": [
    "When you read a CSV, you get a kind of object called a `DataFrame`, which is made up of rows and columns. You get columns out of a DataFrame the same way you get elements out of a dictionary.\n",
    "\n",
    "Here's an example:"
   ]
  },
  {
   "cell_type": "code",
   "execution_count": 11,
   "metadata": {},
   "outputs": [
    {
     "name": "stdout",
     "output_type": "stream",
     "text": [
      "<class 'pandas.core.frame.DataFrame'>\n"
     ]
    },
    {
     "data": {
      "text/plain": [
       "Date\n",
       "2012-01-01      35\n",
       "2012-01-02      83\n",
       "2012-01-03     135\n",
       "2012-01-04     144\n",
       "2012-01-05     197\n",
       "              ... \n",
       "2012-11-01    2405\n",
       "2012-11-02    1582\n",
       "2012-11-03     844\n",
       "2012-11-04     966\n",
       "2012-11-05    2247\n",
       "Name: Berri 1, Length: 310, dtype: int64"
      ]
     },
     "execution_count": 11,
     "metadata": {},
     "output_type": "execute_result"
    }
   ],
   "source": [
    "print(type(fixed_df))\n",
    "fixed_df['Berri 1']"
   ]
  },
  {
   "cell_type": "markdown",
   "metadata": {},
   "source": [
    "## Plotting a column"
   ]
  },
  {
   "cell_type": "markdown",
   "metadata": {},
   "source": [
    "Just add `.plot()` to the end! How could it be easier? =)\n",
    "\n",
    "We can see that, unsurprisingly, not many people are biking in January, February, and March, "
   ]
  },
  {
   "cell_type": "code",
   "execution_count": 12,
   "metadata": {},
   "outputs": [
    {
     "data": {
      "text/plain": [
       "<matplotlib.axes._subplots.AxesSubplot at 0x255d2655c10>"
      ]
     },
     "execution_count": 12,
     "metadata": {},
     "output_type": "execute_result"
    },
    {
     "data": {
      "image/png": "[encoded data removed]",
      "text/plain": [
       "<Figure size 1080x360 with 1 Axes>"
      ]
     },
     "metadata": {},
     "output_type": "display_data"
    }
   ],
   "source": [
    "fixed_df['Berri 1'].plot()"
   ]
  },
  {
   "cell_type": "markdown",
   "metadata": {},
   "source": [
    "We can also plot all the columns just as easily. We'll make it a little bigger, too.\n",
    "You can see that it's more squished together, but all the bike paths behave basically the same -- if it's a bad day for cyclists, it's a bad day everywhere."
   ]
  },
  {
   "cell_type": "code",
   "execution_count": 17,
   "metadata": {},
   "outputs": [
    {
     "data": {
      "text/plain": [
       "<matplotlib.axes._subplots.AxesSubplot at 0x255d345bbe0>"
      ]
     },
     "execution_count": 17,
     "metadata": {},
     "output_type": "execute_result"
    },
    {
     "data": {
      "image/png": "[encoded data removed]",
      "text/plain": [
       "<Figure size 1080x720 with 1 Axes>"
      ]
     },
     "metadata": {},
     "output_type": "display_data"
    }
   ],
   "source": [
    "fixed_df.plot(figsize=(15, 10))"
   ]
  },
  {
   "cell_type": "markdown",
   "metadata": {},
   "source": [
    "# Dealing with Large Datasets"
   ]
  },
  {
   "cell_type": "markdown",
   "metadata": {},
   "source": [
    "We're going to use a new dataset here, to demonstrate how to deal with larger datasets. This is a subset of the of 311 service requests from [NYC Open Data](https://nycopendata.socrata.com/Social-Services/311-Service-Requests-from-2010-to-Present/erm2-nwe9). "
   ]
  },
  {
   "cell_type": "code",
   "execution_count": 18,
   "metadata": {},
   "outputs": [],
   "source": [
    "# because of mixed types we specify dtype to prevent any errors\n",
    "complaints = pd.read_csv('311-service-requests.csv', dtype='object')"
   ]
  },
  {
   "cell_type": "markdown",
   "metadata": {},
   "source": [
    "Without specifying the `dtype` (data type for columns) parameter, you might see a warning like \"DtypeWarning: Columns (8) have mixed types\". This means that it's encountered a problem reading in our data. In this case it almost certainly means that it has columns where some of the entries are strings and some are integers.\n",
    "\n",
    "For now we're going to ignore it and hope we don't run into a problem, but in the long run we'd need to investigate this warning."
   ]
  },
  {
   "cell_type": "markdown",
   "metadata": {},
   "source": [
    "## What's even in it?"
   ]
  },
  {
   "cell_type": "markdown",
   "metadata": {},
   "source": [
    "When you print a large dataframe, it will only show you the first few rows."
   ]
  },
  {
   "cell_type": "code",
   "execution_count": 19,
   "metadata": {},
   "outputs": [
    {
     "data": {
      "text/html": [
       "<div>\n",
       "<style scoped>\n",
       "    .dataframe tbody tr th:only-of-type {\n",
       "        vertical-align: middle;\n",
       "    }\n",
       "\n",
       "    .dataframe tbody tr th {\n",
       "        vertical-align: top;\n",
       "    }\n",
       "\n",
       "    .dataframe thead th {\n",
       "        text-align: right;\n",
       "    }\n",
       "</style>\n",
       "<table border=\"1\" class=\"dataframe\">\n",
       "  <thead>\n",
       "    <tr style=\"text-align: right;\">\n",
       "      <th></th>\n",
       "      <th>Unique Key</th>\n",
       "      <th>Created Date</th>\n",
       "      <th>Closed Date</th>\n",
       "      <th>Agency</th>\n",
       "      <th>Agency Name</th>\n",
       "      <th>Complaint Type</th>\n",
       "      <th>Descriptor</th>\n",
       "      <th>Location Type</th>\n",
       "      <th>Incident Zip</th>\n",
       "      <th>Incident Address</th>\n",
       "      <th>...</th>\n",
       "      <th>Bridge Highway Name</th>\n",
       "      <th>Bridge Highway Direction</th>\n",
       "      <th>Road Ramp</th>\n",
       "      <th>Bridge Highway Segment</th>\n",
       "      <th>Garage Lot Name</th>\n",
       "      <th>Ferry Direction</th>\n",
       "      <th>Ferry Terminal Name</th>\n",
       "      <th>Latitude</th>\n",
       "      <th>Longitude</th>\n",
       "      <th>Location</th>\n",
       "    </tr>\n",
       "  </thead>\n",
       "  <tbody>\n",
       "    <tr>\n",
       "      <th>0</th>\n",
       "      <td>26589651</td>\n",
       "      <td>10/31/2013 02:08:41 AM</td>\n",
       "      <td>NaN</td>\n",
       "      <td>NYPD</td>\n",
       "      <td>New York City Police Department</td>\n",
       "      <td>Noise - Street/Sidewalk</td>\n",
       "      <td>Loud Talking</td>\n",
       "      <td>Street/Sidewalk</td>\n",
       "      <td>11432</td>\n",
       "      <td>90-03 169 STREET</td>\n",
       "      <td>...</td>\n",
       "      <td>NaN</td>\n",
       "      <td>NaN</td>\n",
       "      <td>NaN</td>\n",
       "      <td>NaN</td>\n",
       "      <td>NaN</td>\n",
       "      <td>NaN</td>\n",
       "      <td>NaN</td>\n",
       "      <td>40.70827532593202</td>\n",
       "      <td>-73.79160395779721</td>\n",
       "      <td>(40.70827532593202, -73.79160395779721)</td>\n",
       "    </tr>\n",
       "    <tr>\n",
       "      <th>1</th>\n",
       "      <td>26593698</td>\n",
       "      <td>10/31/2013 02:01:04 AM</td>\n",
       "      <td>NaN</td>\n",
       "      <td>NYPD</td>\n",
       "      <td>New York City Police Department</td>\n",
       "      <td>Illegal Parking</td>\n",
       "      <td>Commercial Overnight Parking</td>\n",
       "      <td>Street/Sidewalk</td>\n",
       "      <td>11378</td>\n",
       "      <td>58 AVENUE</td>\n",
       "      <td>...</td>\n",
       "      <td>NaN</td>\n",
       "      <td>NaN</td>\n",
       "      <td>NaN</td>\n",
       "      <td>NaN</td>\n",
       "      <td>NaN</td>\n",
       "      <td>NaN</td>\n",
       "      <td>NaN</td>\n",
       "      <td>40.721040535628305</td>\n",
       "      <td>-73.90945306791765</td>\n",
       "      <td>(40.721040535628305, -73.90945306791765)</td>\n",
       "    </tr>\n",
       "    <tr>\n",
       "      <th>2</th>\n",
       "      <td>26594139</td>\n",
       "      <td>10/31/2013 02:00:24 AM</td>\n",
       "      <td>10/31/2013 02:40:32 AM</td>\n",
       "      <td>NYPD</td>\n",
       "      <td>New York City Police Department</td>\n",
       "      <td>Noise - Commercial</td>\n",
       "      <td>Loud Music/Party</td>\n",
       "      <td>Club/Bar/Restaurant</td>\n",
       "      <td>10032</td>\n",
       "      <td>4060 BROADWAY</td>\n",
       "      <td>...</td>\n",
       "      <td>NaN</td>\n",
       "      <td>NaN</td>\n",
       "      <td>NaN</td>\n",
       "      <td>NaN</td>\n",
       "      <td>NaN</td>\n",
       "      <td>NaN</td>\n",
       "      <td>NaN</td>\n",
       "      <td>40.84332975466513</td>\n",
       "      <td>-73.93914371913482</td>\n",
       "      <td>(40.84332975466513, -73.93914371913482)</td>\n",
       "    </tr>\n",
       "    <tr>\n",
       "      <th>3</th>\n",
       "      <td>26595721</td>\n",
       "      <td>10/31/2013 01:56:23 AM</td>\n",
       "      <td>10/31/2013 02:21:48 AM</td>\n",
       "      <td>NYPD</td>\n",
       "      <td>New York City Police Department</td>\n",
       "      <td>Noise - Vehicle</td>\n",
       "      <td>Car/Truck Horn</td>\n",
       "      <td>Street/Sidewalk</td>\n",
       "      <td>10023</td>\n",
       "      <td>WEST 72 STREET</td>\n",
       "      <td>...</td>\n",
       "      <td>NaN</td>\n",
       "      <td>NaN</td>\n",
       "      <td>NaN</td>\n",
       "      <td>NaN</td>\n",
       "      <td>NaN</td>\n",
       "      <td>NaN</td>\n",
       "      <td>NaN</td>\n",
       "      <td>40.7780087446372</td>\n",
       "      <td>-73.98021349023975</td>\n",
       "      <td>(40.7780087446372, -73.98021349023975)</td>\n",
       "    </tr>\n",
       "    <tr>\n",
       "      <th>4</th>\n",
       "      <td>26590930</td>\n",
       "      <td>10/31/2013 01:53:44 AM</td>\n",
       "      <td>NaN</td>\n",
       "      <td>DOHMH</td>\n",
       "      <td>Department of Health and Mental Hygiene</td>\n",
       "      <td>Rodent</td>\n",
       "      <td>Condition Attracting Rodents</td>\n",
       "      <td>Vacant Lot</td>\n",
       "      <td>10027</td>\n",
       "      <td>WEST 124 STREET</td>\n",
       "      <td>...</td>\n",
       "      <td>NaN</td>\n",
       "      <td>NaN</td>\n",
       "      <td>NaN</td>\n",
       "      <td>NaN</td>\n",
       "      <td>NaN</td>\n",
       "      <td>NaN</td>\n",
       "      <td>NaN</td>\n",
       "      <td>40.80769092704951</td>\n",
       "      <td>-73.94738703491433</td>\n",
       "      <td>(40.80769092704951, -73.94738703491433)</td>\n",
       "    </tr>\n",
       "    <tr>\n",
       "      <th>...</th>\n",
       "      <td>...</td>\n",
       "      <td>...</td>\n",
       "      <td>...</td>\n",
       "      <td>...</td>\n",
       "      <td>...</td>\n",
       "      <td>...</td>\n",
       "      <td>...</td>\n",
       "      <td>...</td>\n",
       "      <td>...</td>\n",
       "      <td>...</td>\n",
       "      <td>...</td>\n",
       "      <td>...</td>\n",
       "      <td>...</td>\n",
       "      <td>...</td>\n",
       "      <td>...</td>\n",
       "      <td>...</td>\n",
       "      <td>...</td>\n",
       "      <td>...</td>\n",
       "      <td>...</td>\n",
       "      <td>...</td>\n",
       "      <td>...</td>\n",
       "    </tr>\n",
       "    <tr>\n",
       "      <th>111064</th>\n",
       "      <td>26426013</td>\n",
       "      <td>10/04/2013 12:01:13 AM</td>\n",
       "      <td>10/07/2013 04:07:16 PM</td>\n",
       "      <td>DPR</td>\n",
       "      <td>Department of Parks and Recreation</td>\n",
       "      <td>Maintenance or Facility</td>\n",
       "      <td>Structure - Outdoors</td>\n",
       "      <td>Park</td>\n",
       "      <td>11213</td>\n",
       "      <td>NaN</td>\n",
       "      <td>...</td>\n",
       "      <td>NaN</td>\n",
       "      <td>NaN</td>\n",
       "      <td>NaN</td>\n",
       "      <td>NaN</td>\n",
       "      <td>NaN</td>\n",
       "      <td>NaN</td>\n",
       "      <td>NaN</td>\n",
       "      <td>NaN</td>\n",
       "      <td>NaN</td>\n",
       "      <td>NaN</td>\n",
       "    </tr>\n",
       "    <tr>\n",
       "      <th>111065</th>\n",
       "      <td>26428083</td>\n",
       "      <td>10/04/2013 12:01:05 AM</td>\n",
       "      <td>10/04/2013 02:13:50 AM</td>\n",
       "      <td>NYPD</td>\n",
       "      <td>New York City Police Department</td>\n",
       "      <td>Illegal Parking</td>\n",
       "      <td>Posted Parking Sign Violation</td>\n",
       "      <td>Street/Sidewalk</td>\n",
       "      <td>11434</td>\n",
       "      <td>NaN</td>\n",
       "      <td>...</td>\n",
       "      <td>NaN</td>\n",
       "      <td>NaN</td>\n",
       "      <td>NaN</td>\n",
       "      <td>NaN</td>\n",
       "      <td>NaN</td>\n",
       "      <td>NaN</td>\n",
       "      <td>NaN</td>\n",
       "      <td>40.656160351546845</td>\n",
       "      <td>-73.76735262738222</td>\n",
       "      <td>(40.656160351546845, -73.76735262738222)</td>\n",
       "    </tr>\n",
       "    <tr>\n",
       "      <th>111066</th>\n",
       "      <td>26428987</td>\n",
       "      <td>10/04/2013 12:00:45 AM</td>\n",
       "      <td>10/04/2013 01:25:01 AM</td>\n",
       "      <td>NYPD</td>\n",
       "      <td>New York City Police Department</td>\n",
       "      <td>Noise - Street/Sidewalk</td>\n",
       "      <td>Loud Talking</td>\n",
       "      <td>Street/Sidewalk</td>\n",
       "      <td>10016</td>\n",
       "      <td>344 EAST 28 STREET</td>\n",
       "      <td>...</td>\n",
       "      <td>NaN</td>\n",
       "      <td>NaN</td>\n",
       "      <td>NaN</td>\n",
       "      <td>NaN</td>\n",
       "      <td>NaN</td>\n",
       "      <td>NaN</td>\n",
       "      <td>NaN</td>\n",
       "      <td>40.740295354643706</td>\n",
       "      <td>-73.97695165980414</td>\n",
       "      <td>(40.740295354643706, -73.97695165980414)</td>\n",
       "    </tr>\n",
       "    <tr>\n",
       "      <th>111067</th>\n",
       "      <td>26426115</td>\n",
       "      <td>10/04/2013 12:00:28 AM</td>\n",
       "      <td>10/04/2013 04:17:32 AM</td>\n",
       "      <td>NYPD</td>\n",
       "      <td>New York City Police Department</td>\n",
       "      <td>Noise - Commercial</td>\n",
       "      <td>Loud Talking</td>\n",
       "      <td>Club/Bar/Restaurant</td>\n",
       "      <td>11226</td>\n",
       "      <td>1233 FLATBUSH AVENUE</td>\n",
       "      <td>...</td>\n",
       "      <td>NaN</td>\n",
       "      <td>NaN</td>\n",
       "      <td>NaN</td>\n",
       "      <td>NaN</td>\n",
       "      <td>NaN</td>\n",
       "      <td>NaN</td>\n",
       "      <td>NaN</td>\n",
       "      <td>40.64018174662485</td>\n",
       "      <td>-73.95530566958138</td>\n",
       "      <td>(40.64018174662485, -73.95530566958138)</td>\n",
       "    </tr>\n",
       "    <tr>\n",
       "      <th>111068</th>\n",
       "      <td>26428033</td>\n",
       "      <td>10/04/2013 12:00:10 AM</td>\n",
       "      <td>10/04/2013 01:20:52 AM</td>\n",
       "      <td>NYPD</td>\n",
       "      <td>New York City Police Department</td>\n",
       "      <td>Blocked Driveway</td>\n",
       "      <td>Partial Access</td>\n",
       "      <td>Street/Sidewalk</td>\n",
       "      <td>11236</td>\n",
       "      <td>1259 EAST 94 STREET</td>\n",
       "      <td>...</td>\n",
       "      <td>NaN</td>\n",
       "      <td>NaN</td>\n",
       "      <td>NaN</td>\n",
       "      <td>NaN</td>\n",
       "      <td>NaN</td>\n",
       "      <td>NaN</td>\n",
       "      <td>NaN</td>\n",
       "      <td>40.640024057399216</td>\n",
       "      <td>-73.90071711703163</td>\n",
       "      <td>(40.640024057399216, -73.90071711703163)</td>\n",
       "    </tr>\n",
       "  </tbody>\n",
       "</table>\n",
       "<p>111069 rows × 52 columns</p>\n",
       "</div>"
      ],
      "text/plain": [
       "       Unique Key            Created Date             Closed Date Agency  \\\n",
       "0        26589651  10/31/2013 02:08:41 AM                     NaN   NYPD   \n",
       "1        26593698  10/31/2013 02:01:04 AM                     NaN   NYPD   \n",
       "2        26594139  10/31/2013 02:00:24 AM  10/31/2013 02:40:32 AM   NYPD   \n",
       "3        26595721  10/31/2013 01:56:23 AM  10/31/2013 02:21:48 AM   NYPD   \n",
       "4        26590930  10/31/2013 01:53:44 AM                     NaN  DOHMH   \n",
       "...           ...                     ...                     ...    ...   \n",
       "111064   26426013  10/04/2013 12:01:13 AM  10/07/2013 04:07:16 PM    DPR   \n",
       "111065   26428083  10/04/2013 12:01:05 AM  10/04/2013 02:13:50 AM   NYPD   \n",
       "111066   26428987  10/04/2013 12:00:45 AM  10/04/2013 01:25:01 AM   NYPD   \n",
       "111067   26426115  10/04/2013 12:00:28 AM  10/04/2013 04:17:32 AM   NYPD   \n",
       "111068   26428033  10/04/2013 12:00:10 AM  10/04/2013 01:20:52 AM   NYPD   \n",
       "\n",
       "                                    Agency Name           Complaint Type  \\\n",
       "0               New York City Police Department  Noise - Street/Sidewalk   \n",
       "1               New York City Police Department          Illegal Parking   \n",
       "2               New York City Police Department       Noise - Commercial   \n",
       "3               New York City Police Department          Noise - Vehicle   \n",
       "4       Department of Health and Mental Hygiene                   Rodent   \n",
       "...                                         ...                      ...   \n",
       "111064       Department of Parks and Recreation  Maintenance or Facility   \n",
       "111065          New York City Police Department          Illegal Parking   \n",
       "111066          New York City Police Department  Noise - Street/Sidewalk   \n",
       "111067          New York City Police Department       Noise - Commercial   \n",
       "111068          New York City Police Department         Blocked Driveway   \n",
       "\n",
       "                           Descriptor        Location Type Incident Zip  \\\n",
       "0                        Loud Talking      Street/Sidewalk        11432   \n",
       "1        Commercial Overnight Parking      Street/Sidewalk        11378   \n",
       "2                    Loud Music/Party  Club/Bar/Restaurant        10032   \n",
       "3                      Car/Truck Horn      Street/Sidewalk        10023   \n",
       "4        Condition Attracting Rodents           Vacant Lot        10027   \n",
       "...                               ...                  ...          ...   \n",
       "111064           Structure - Outdoors                 Park        11213   \n",
       "111065  Posted Parking Sign Violation      Street/Sidewalk        11434   \n",
       "111066                   Loud Talking      Street/Sidewalk        10016   \n",
       "111067                   Loud Talking  Club/Bar/Restaurant        11226   \n",
       "111068                 Partial Access      Street/Sidewalk        11236   \n",
       "\n",
       "            Incident Address  ... Bridge Highway Name  \\\n",
       "0           90-03 169 STREET  ...                 NaN   \n",
       "1                  58 AVENUE  ...                 NaN   \n",
       "2              4060 BROADWAY  ...                 NaN   \n",
       "3             WEST 72 STREET  ...                 NaN   \n",
       "4            WEST 124 STREET  ...                 NaN   \n",
       "...                      ...  ...                 ...   \n",
       "111064                   NaN  ...                 NaN   \n",
       "111065                   NaN  ...                 NaN   \n",
       "111066    344 EAST 28 STREET  ...                 NaN   \n",
       "111067  1233 FLATBUSH AVENUE  ...                 NaN   \n",
       "111068   1259 EAST 94 STREET  ...                 NaN   \n",
       "\n",
       "       Bridge Highway Direction Road Ramp Bridge Highway Segment  \\\n",
       "0                           NaN       NaN                    NaN   \n",
       "1                           NaN       NaN                    NaN   \n",
       "2                           NaN       NaN                    NaN   \n",
       "3                           NaN       NaN                    NaN   \n",
       "4                           NaN       NaN                    NaN   \n",
       "...                         ...       ...                    ...   \n",
       "111064                      NaN       NaN                    NaN   \n",
       "111065                      NaN       NaN                    NaN   \n",
       "111066                      NaN       NaN                    NaN   \n",
       "111067                      NaN       NaN                    NaN   \n",
       "111068                      NaN       NaN                    NaN   \n",
       "\n",
       "       Garage Lot Name Ferry Direction Ferry Terminal Name  \\\n",
       "0                  NaN             NaN                 NaN   \n",
       "1                  NaN             NaN                 NaN   \n",
       "2                  NaN             NaN                 NaN   \n",
       "3                  NaN             NaN                 NaN   \n",
       "4                  NaN             NaN                 NaN   \n",
       "...                ...             ...                 ...   \n",
       "111064             NaN             NaN                 NaN   \n",
       "111065             NaN             NaN                 NaN   \n",
       "111066             NaN             NaN                 NaN   \n",
       "111067             NaN             NaN                 NaN   \n",
       "111068             NaN             NaN                 NaN   \n",
       "\n",
       "                  Latitude           Longitude  \\\n",
       "0        40.70827532593202  -73.79160395779721   \n",
       "1       40.721040535628305  -73.90945306791765   \n",
       "2        40.84332975466513  -73.93914371913482   \n",
       "3         40.7780087446372  -73.98021349023975   \n",
       "4        40.80769092704951  -73.94738703491433   \n",
       "...                    ...                 ...   \n",
       "111064                 NaN                 NaN   \n",
       "111065  40.656160351546845  -73.76735262738222   \n",
       "111066  40.740295354643706  -73.97695165980414   \n",
       "111067   40.64018174662485  -73.95530566958138   \n",
       "111068  40.640024057399216  -73.90071711703163   \n",
       "\n",
       "                                        Location  \n",
       "0        (40.70827532593202, -73.79160395779721)  \n",
       "1       (40.721040535628305, -73.90945306791765)  \n",
       "2        (40.84332975466513, -73.93914371913482)  \n",
       "3         (40.7780087446372, -73.98021349023975)  \n",
       "4        (40.80769092704951, -73.94738703491433)  \n",
       "...                                          ...  \n",
       "111064                                       NaN  \n",
       "111065  (40.656160351546845, -73.76735262738222)  \n",
       "111066  (40.740295354643706, -73.97695165980414)  \n",
       "111067   (40.64018174662485, -73.95530566958138)  \n",
       "111068  (40.640024057399216, -73.90071711703163)  \n",
       "\n",
       "[111069 rows x 52 columns]"
      ]
     },
     "execution_count": 19,
     "metadata": {},
     "output_type": "execute_result"
    }
   ],
   "source": [
    "complaints"
   ]
  },
  {
   "cell_type": "markdown",
   "metadata": {},
   "source": [
    "## Selecting columns and rows"
   ]
  },
  {
   "cell_type": "markdown",
   "metadata": {},
   "source": [
    "To select a column, we index with the name of the column, like this:"
   ]
  },
  {
   "cell_type": "code",
   "execution_count": 20,
   "metadata": {},
   "outputs": [
    {
     "data": {
      "text/plain": [
       "0         Noise - Street/Sidewalk\n",
       "1                 Illegal Parking\n",
       "2              Noise - Commercial\n",
       "3                 Noise - Vehicle\n",
       "4                          Rodent\n",
       "                   ...           \n",
       "111064    Maintenance or Facility\n",
       "111065            Illegal Parking\n",
       "111066    Noise - Street/Sidewalk\n",
       "111067         Noise - Commercial\n",
       "111068           Blocked Driveway\n",
       "Name: Complaint Type, Length: 111069, dtype: object"
      ]
     },
     "execution_count": 20,
     "metadata": {},
     "output_type": "execute_result"
    }
   ],
   "source": [
    "complaints['Complaint Type']"
   ]
  },
  {
   "cell_type": "markdown",
   "metadata": {},
   "source": [
    "To get the first 5 rows of a dataframe, we can use a slice: `df[:5]`.\n",
    "\n",
    "This is a great way to get a sense for what kind of information is in the dataframe -- take a minute to look at the contents and get a feel for this dataset."
   ]
  },
  {
   "cell_type": "code",
   "execution_count": 21,
   "metadata": {},
   "outputs": [
    {
     "data": {
      "text/html": [
       "<div>\n",
       "<style scoped>\n",
       "    .dataframe tbody tr th:only-of-type {\n",
       "        vertical-align: middle;\n",
       "    }\n",
       "\n",
       "    .dataframe tbody tr th {\n",
       "        vertical-align: top;\n",
       "    }\n",
       "\n",
       "    .dataframe thead th {\n",
       "        text-align: right;\n",
       "    }\n",
       "</style>\n",
       "<table border=\"1\" class=\"dataframe\">\n",
       "  <thead>\n",
       "    <tr style=\"text-align: right;\">\n",
       "      <th></th>\n",
       "      <th>Unique Key</th>\n",
       "      <th>Created Date</th>\n",
       "      <th>Closed Date</th>\n",
       "      <th>Agency</th>\n",
       "      <th>Agency Name</th>\n",
       "      <th>Complaint Type</th>\n",
       "      <th>Descriptor</th>\n",
       "      <th>Location Type</th>\n",
       "      <th>Incident Zip</th>\n",
       "      <th>Incident Address</th>\n",
       "      <th>...</th>\n",
       "      <th>Bridge Highway Name</th>\n",
       "      <th>Bridge Highway Direction</th>\n",
       "      <th>Road Ramp</th>\n",
       "      <th>Bridge Highway Segment</th>\n",
       "      <th>Garage Lot Name</th>\n",
       "      <th>Ferry Direction</th>\n",
       "      <th>Ferry Terminal Name</th>\n",
       "      <th>Latitude</th>\n",
       "      <th>Longitude</th>\n",
       "      <th>Location</th>\n",
       "    </tr>\n",
       "  </thead>\n",
       "  <tbody>\n",
       "    <tr>\n",
       "      <th>0</th>\n",
       "      <td>26589651</td>\n",
       "      <td>10/31/2013 02:08:41 AM</td>\n",
       "      <td>NaN</td>\n",
       "      <td>NYPD</td>\n",
       "      <td>New York City Police Department</td>\n",
       "      <td>Noise - Street/Sidewalk</td>\n",
       "      <td>Loud Talking</td>\n",
       "      <td>Street/Sidewalk</td>\n",
       "      <td>11432</td>\n",
       "      <td>90-03 169 STREET</td>\n",
       "      <td>...</td>\n",
       "      <td>NaN</td>\n",
       "      <td>NaN</td>\n",
       "      <td>NaN</td>\n",
       "      <td>NaN</td>\n",
       "      <td>NaN</td>\n",
       "      <td>NaN</td>\n",
       "      <td>NaN</td>\n",
       "      <td>40.70827532593202</td>\n",
       "      <td>-73.79160395779721</td>\n",
       "      <td>(40.70827532593202, -73.79160395779721)</td>\n",
       "    </tr>\n",
       "    <tr>\n",
       "      <th>1</th>\n",
       "      <td>26593698</td>\n",
       "      <td>10/31/2013 02:01:04 AM</td>\n",
       "      <td>NaN</td>\n",
       "      <td>NYPD</td>\n",
       "      <td>New York City Police Department</td>\n",
       "      <td>Illegal Parking</td>\n",
       "      <td>Commercial Overnight Parking</td>\n",
       "      <td>Street/Sidewalk</td>\n",
       "      <td>11378</td>\n",
       "      <td>58 AVENUE</td>\n",
       "      <td>...</td>\n",
       "      <td>NaN</td>\n",
       "      <td>NaN</td>\n",
       "      <td>NaN</td>\n",
       "      <td>NaN</td>\n",
       "      <td>NaN</td>\n",
       "      <td>NaN</td>\n",
       "      <td>NaN</td>\n",
       "      <td>40.721040535628305</td>\n",
       "      <td>-73.90945306791765</td>\n",
       "      <td>(40.721040535628305, -73.90945306791765)</td>\n",
       "    </tr>\n",
       "    <tr>\n",
       "      <th>2</th>\n",
       "      <td>26594139</td>\n",
       "      <td>10/31/2013 02:00:24 AM</td>\n",
       "      <td>10/31/2013 02:40:32 AM</td>\n",
       "      <td>NYPD</td>\n",
       "      <td>New York City Police Department</td>\n",
       "      <td>Noise - Commercial</td>\n",
       "      <td>Loud Music/Party</td>\n",
       "      <td>Club/Bar/Restaurant</td>\n",
       "      <td>10032</td>\n",
       "      <td>4060 BROADWAY</td>\n",
       "      <td>...</td>\n",
       "      <td>NaN</td>\n",
       "      <td>NaN</td>\n",
       "      <td>NaN</td>\n",
       "      <td>NaN</td>\n",
       "      <td>NaN</td>\n",
       "      <td>NaN</td>\n",
       "      <td>NaN</td>\n",
       "      <td>40.84332975466513</td>\n",
       "      <td>-73.93914371913482</td>\n",
       "      <td>(40.84332975466513, -73.93914371913482)</td>\n",
       "    </tr>\n",
       "    <tr>\n",
       "      <th>3</th>\n",
       "      <td>26595721</td>\n",
       "      <td>10/31/2013 01:56:23 AM</td>\n",
       "      <td>10/31/2013 02:21:48 AM</td>\n",
       "      <td>NYPD</td>\n",
       "      <td>New York City Police Department</td>\n",
       "      <td>Noise - Vehicle</td>\n",
       "      <td>Car/Truck Horn</td>\n",
       "      <td>Street/Sidewalk</td>\n",
       "      <td>10023</td>\n",
       "      <td>WEST 72 STREET</td>\n",
       "      <td>...</td>\n",
       "      <td>NaN</td>\n",
       "      <td>NaN</td>\n",
       "      <td>NaN</td>\n",
       "      <td>NaN</td>\n",
       "      <td>NaN</td>\n",
       "      <td>NaN</td>\n",
       "      <td>NaN</td>\n",
       "      <td>40.7780087446372</td>\n",
       "      <td>-73.98021349023975</td>\n",
       "      <td>(40.7780087446372, -73.98021349023975)</td>\n",
       "    </tr>\n",
       "    <tr>\n",
       "      <th>4</th>\n",
       "      <td>26590930</td>\n",
       "      <td>10/31/2013 01:53:44 AM</td>\n",
       "      <td>NaN</td>\n",
       "      <td>DOHMH</td>\n",
       "      <td>Department of Health and Mental Hygiene</td>\n",
       "      <td>Rodent</td>\n",
       "      <td>Condition Attracting Rodents</td>\n",
       "      <td>Vacant Lot</td>\n",
       "      <td>10027</td>\n",
       "      <td>WEST 124 STREET</td>\n",
       "      <td>...</td>\n",
       "      <td>NaN</td>\n",
       "      <td>NaN</td>\n",
       "      <td>NaN</td>\n",
       "      <td>NaN</td>\n",
       "      <td>NaN</td>\n",
       "      <td>NaN</td>\n",
       "      <td>NaN</td>\n",
       "      <td>40.80769092704951</td>\n",
       "      <td>-73.94738703491433</td>\n",
       "      <td>(40.80769092704951, -73.94738703491433)</td>\n",
       "    </tr>\n",
       "  </tbody>\n",
       "</table>\n",
       "<p>5 rows × 52 columns</p>\n",
       "</div>"
      ],
      "text/plain": [
       "  Unique Key            Created Date             Closed Date Agency  \\\n",
       "0   26589651  10/31/2013 02:08:41 AM                     NaN   NYPD   \n",
       "1   26593698  10/31/2013 02:01:04 AM                     NaN   NYPD   \n",
       "2   26594139  10/31/2013 02:00:24 AM  10/31/2013 02:40:32 AM   NYPD   \n",
       "3   26595721  10/31/2013 01:56:23 AM  10/31/2013 02:21:48 AM   NYPD   \n",
       "4   26590930  10/31/2013 01:53:44 AM                     NaN  DOHMH   \n",
       "\n",
       "                               Agency Name           Complaint Type  \\\n",
       "0          New York City Police Department  Noise - Street/Sidewalk   \n",
       "1          New York City Police Department          Illegal Parking   \n",
       "2          New York City Police Department       Noise - Commercial   \n",
       "3          New York City Police Department          Noise - Vehicle   \n",
       "4  Department of Health and Mental Hygiene                   Rodent   \n",
       "\n",
       "                     Descriptor        Location Type Incident Zip  \\\n",
       "0                  Loud Talking      Street/Sidewalk        11432   \n",
       "1  Commercial Overnight Parking      Street/Sidewalk        11378   \n",
       "2              Loud Music/Party  Club/Bar/Restaurant        10032   \n",
       "3                Car/Truck Horn      Street/Sidewalk        10023   \n",
       "4  Condition Attracting Rodents           Vacant Lot        10027   \n",
       "\n",
       "   Incident Address  ... Bridge Highway Name Bridge Highway Direction  \\\n",
       "0  90-03 169 STREET  ...                 NaN                      NaN   \n",
       "1         58 AVENUE  ...                 NaN                      NaN   \n",
       "2     4060 BROADWAY  ...                 NaN                      NaN   \n",
       "3    WEST 72 STREET  ...                 NaN                      NaN   \n",
       "4   WEST 124 STREET  ...                 NaN                      NaN   \n",
       "\n",
       "  Road Ramp Bridge Highway Segment Garage Lot Name Ferry Direction  \\\n",
       "0       NaN                    NaN             NaN             NaN   \n",
       "1       NaN                    NaN             NaN             NaN   \n",
       "2       NaN                    NaN             NaN             NaN   \n",
       "3       NaN                    NaN             NaN             NaN   \n",
       "4       NaN                    NaN             NaN             NaN   \n",
       "\n",
       "  Ferry Terminal Name            Latitude           Longitude  \\\n",
       "0                 NaN   40.70827532593202  -73.79160395779721   \n",
       "1                 NaN  40.721040535628305  -73.90945306791765   \n",
       "2                 NaN   40.84332975466513  -73.93914371913482   \n",
       "3                 NaN    40.7780087446372  -73.98021349023975   \n",
       "4                 NaN   40.80769092704951  -73.94738703491433   \n",
       "\n",
       "                                   Location  \n",
       "0   (40.70827532593202, -73.79160395779721)  \n",
       "1  (40.721040535628305, -73.90945306791765)  \n",
       "2   (40.84332975466513, -73.93914371913482)  \n",
       "3    (40.7780087446372, -73.98021349023975)  \n",
       "4   (40.80769092704951, -73.94738703491433)  \n",
       "\n",
       "[5 rows x 52 columns]"
      ]
     },
     "execution_count": 21,
     "metadata": {},
     "output_type": "execute_result"
    }
   ],
   "source": [
    "complaints[:5]"
   ]
  },
  {
   "cell_type": "markdown",
   "metadata": {},
   "source": [
    "We can combine these to get the first 5 rows of a column:"
   ]
  },
  {
   "cell_type": "code",
   "execution_count": 22,
   "metadata": {},
   "outputs": [
    {
     "data": {
      "text/plain": [
       "0    Noise - Street/Sidewalk\n",
       "1            Illegal Parking\n",
       "2         Noise - Commercial\n",
       "3            Noise - Vehicle\n",
       "4                     Rodent\n",
       "Name: Complaint Type, dtype: object"
      ]
     },
     "execution_count": 22,
     "metadata": {},
     "output_type": "execute_result"
    }
   ],
   "source": [
    "complaints['Complaint Type'][:5]"
   ]
  },
  {
   "cell_type": "markdown",
   "metadata": {},
   "source": [
    "and it doesn't matter which direction we do it in:"
   ]
  },
  {
   "cell_type": "code",
   "execution_count": 23,
   "metadata": {},
   "outputs": [
    {
     "data": {
      "text/plain": [
       "0    Noise - Street/Sidewalk\n",
       "1            Illegal Parking\n",
       "2         Noise - Commercial\n",
       "3            Noise - Vehicle\n",
       "4                     Rodent\n",
       "Name: Complaint Type, dtype: object"
      ]
     },
     "execution_count": 23,
     "metadata": {},
     "output_type": "execute_result"
    }
   ],
   "source": [
    "complaints[:5]['Complaint Type']"
   ]
  },
  {
   "cell_type": "markdown",
   "metadata": {},
   "source": [
    "## Selecting multiple columns"
   ]
  },
  {
   "cell_type": "markdown",
   "metadata": {},
   "source": [
    "What if we just want to know the complaint type and the borough, but not the rest of the information? Pandas makes it really easy to select a subset of the columns: just index with list of columns you want."
   ]
  },
  {
   "cell_type": "code",
   "execution_count": 24,
   "metadata": {},
   "outputs": [
    {
     "data": {
      "text/html": [
       "<div>\n",
       "<style scoped>\n",
       "    .dataframe tbody tr th:only-of-type {\n",
       "        vertical-align: middle;\n",
       "    }\n",
       "\n",
       "    .dataframe tbody tr th {\n",
       "        vertical-align: top;\n",
       "    }\n",
       "\n",
       "    .dataframe thead th {\n",
       "        text-align: right;\n",
       "    }\n",
       "</style>\n",
       "<table border=\"1\" class=\"dataframe\">\n",
       "  <thead>\n",
       "    <tr style=\"text-align: right;\">\n",
       "      <th></th>\n",
       "      <th>Complaint Type</th>\n",
       "      <th>Borough</th>\n",
       "    </tr>\n",
       "  </thead>\n",
       "  <tbody>\n",
       "    <tr>\n",
       "      <th>0</th>\n",
       "      <td>Noise - Street/Sidewalk</td>\n",
       "      <td>QUEENS</td>\n",
       "    </tr>\n",
       "    <tr>\n",
       "      <th>1</th>\n",
       "      <td>Illegal Parking</td>\n",
       "      <td>QUEENS</td>\n",
       "    </tr>\n",
       "    <tr>\n",
       "      <th>2</th>\n",
       "      <td>Noise - Commercial</td>\n",
       "      <td>MANHATTAN</td>\n",
       "    </tr>\n",
       "    <tr>\n",
       "      <th>3</th>\n",
       "      <td>Noise - Vehicle</td>\n",
       "      <td>MANHATTAN</td>\n",
       "    </tr>\n",
       "    <tr>\n",
       "      <th>4</th>\n",
       "      <td>Rodent</td>\n",
       "      <td>MANHATTAN</td>\n",
       "    </tr>\n",
       "    <tr>\n",
       "      <th>...</th>\n",
       "      <td>...</td>\n",
       "      <td>...</td>\n",
       "    </tr>\n",
       "    <tr>\n",
       "      <th>111064</th>\n",
       "      <td>Maintenance or Facility</td>\n",
       "      <td>BROOKLYN</td>\n",
       "    </tr>\n",
       "    <tr>\n",
       "      <th>111065</th>\n",
       "      <td>Illegal Parking</td>\n",
       "      <td>QUEENS</td>\n",
       "    </tr>\n",
       "    <tr>\n",
       "      <th>111066</th>\n",
       "      <td>Noise - Street/Sidewalk</td>\n",
       "      <td>MANHATTAN</td>\n",
       "    </tr>\n",
       "    <tr>\n",
       "      <th>111067</th>\n",
       "      <td>Noise - Commercial</td>\n",
       "      <td>BROOKLYN</td>\n",
       "    </tr>\n",
       "    <tr>\n",
       "      <th>111068</th>\n",
       "      <td>Blocked Driveway</td>\n",
       "      <td>BROOKLYN</td>\n",
       "    </tr>\n",
       "  </tbody>\n",
       "</table>\n",
       "<p>111069 rows × 2 columns</p>\n",
       "</div>"
      ],
      "text/plain": [
       "                 Complaint Type    Borough\n",
       "0       Noise - Street/Sidewalk     QUEENS\n",
       "1               Illegal Parking     QUEENS\n",
       "2            Noise - Commercial  MANHATTAN\n",
       "3               Noise - Vehicle  MANHATTAN\n",
       "4                        Rodent  MANHATTAN\n",
       "...                         ...        ...\n",
       "111064  Maintenance or Facility   BROOKLYN\n",
       "111065          Illegal Parking     QUEENS\n",
       "111066  Noise - Street/Sidewalk  MANHATTAN\n",
       "111067       Noise - Commercial   BROOKLYN\n",
       "111068         Blocked Driveway   BROOKLYN\n",
       "\n",
       "[111069 rows x 2 columns]"
      ]
     },
     "execution_count": 24,
     "metadata": {},
     "output_type": "execute_result"
    }
   ],
   "source": [
    "complaints[['Complaint Type', 'Borough']]"
   ]
  },
  {
   "cell_type": "markdown",
   "metadata": {},
   "source": [
    "That showed us a summary, and then we can look at the first 10 rows:"
   ]
  },
  {
   "cell_type": "code",
   "execution_count": 25,
   "metadata": {},
   "outputs": [
    {
     "data": {
      "text/html": [
       "<div>\n",
       "<style scoped>\n",
       "    .dataframe tbody tr th:only-of-type {\n",
       "        vertical-align: middle;\n",
       "    }\n",
       "\n",
       "    .dataframe tbody tr th {\n",
       "        vertical-align: top;\n",
       "    }\n",
       "\n",
       "    .dataframe thead th {\n",
       "        text-align: right;\n",
       "    }\n",
       "</style>\n",
       "<table border=\"1\" class=\"dataframe\">\n",
       "  <thead>\n",
       "    <tr style=\"text-align: right;\">\n",
       "      <th></th>\n",
       "      <th>Complaint Type</th>\n",
       "      <th>Borough</th>\n",
       "    </tr>\n",
       "  </thead>\n",
       "  <tbody>\n",
       "    <tr>\n",
       "      <th>0</th>\n",
       "      <td>Noise - Street/Sidewalk</td>\n",
       "      <td>QUEENS</td>\n",
       "    </tr>\n",
       "    <tr>\n",
       "      <th>1</th>\n",
       "      <td>Illegal Parking</td>\n",
       "      <td>QUEENS</td>\n",
       "    </tr>\n",
       "    <tr>\n",
       "      <th>2</th>\n",
       "      <td>Noise - Commercial</td>\n",
       "      <td>MANHATTAN</td>\n",
       "    </tr>\n",
       "    <tr>\n",
       "      <th>3</th>\n",
       "      <td>Noise - Vehicle</td>\n",
       "      <td>MANHATTAN</td>\n",
       "    </tr>\n",
       "    <tr>\n",
       "      <th>4</th>\n",
       "      <td>Rodent</td>\n",
       "      <td>MANHATTAN</td>\n",
       "    </tr>\n",
       "    <tr>\n",
       "      <th>5</th>\n",
       "      <td>Noise - Commercial</td>\n",
       "      <td>QUEENS</td>\n",
       "    </tr>\n",
       "    <tr>\n",
       "      <th>6</th>\n",
       "      <td>Blocked Driveway</td>\n",
       "      <td>QUEENS</td>\n",
       "    </tr>\n",
       "    <tr>\n",
       "      <th>7</th>\n",
       "      <td>Noise - Commercial</td>\n",
       "      <td>QUEENS</td>\n",
       "    </tr>\n",
       "    <tr>\n",
       "      <th>8</th>\n",
       "      <td>Noise - Commercial</td>\n",
       "      <td>MANHATTAN</td>\n",
       "    </tr>\n",
       "    <tr>\n",
       "      <th>9</th>\n",
       "      <td>Noise - Commercial</td>\n",
       "      <td>BROOKLYN</td>\n",
       "    </tr>\n",
       "  </tbody>\n",
       "</table>\n",
       "</div>"
      ],
      "text/plain": [
       "            Complaint Type    Borough\n",
       "0  Noise - Street/Sidewalk     QUEENS\n",
       "1          Illegal Parking     QUEENS\n",
       "2       Noise - Commercial  MANHATTAN\n",
       "3          Noise - Vehicle  MANHATTAN\n",
       "4                   Rodent  MANHATTAN\n",
       "5       Noise - Commercial     QUEENS\n",
       "6         Blocked Driveway     QUEENS\n",
       "7       Noise - Commercial     QUEENS\n",
       "8       Noise - Commercial  MANHATTAN\n",
       "9       Noise - Commercial   BROOKLYN"
      ]
     },
     "execution_count": 25,
     "metadata": {},
     "output_type": "execute_result"
    }
   ],
   "source": [
    "complaints[['Complaint Type', 'Borough']][:10]"
   ]
  },
  {
   "cell_type": "markdown",
   "metadata": {},
   "source": [
    "## What's the most common complaint type?"
   ]
  },
  {
   "cell_type": "markdown",
   "metadata": {},
   "source": [
    "This is a really easy question to answer! There's a `.value_counts()` method that we can use:"
   ]
  },
  {
   "cell_type": "code",
   "execution_count": 26,
   "metadata": {},
   "outputs": [
    {
     "data": {
      "text/plain": [
       "HEATING                       14200\n",
       "GENERAL CONSTRUCTION           7471\n",
       "Street Light Condition         7117\n",
       "DOF Literature Request         5797\n",
       "PLUMBING                       5373\n",
       "                              ...  \n",
       "Snow                              1\n",
       "Ferry Permit                      1\n",
       "X-Ray Machine/Equipment           1\n",
       "Municipal Parking Facility        1\n",
       "Open Flame Permit                 1\n",
       "Name: Complaint Type, Length: 165, dtype: int64"
      ]
     },
     "execution_count": 26,
     "metadata": {},
     "output_type": "execute_result"
    }
   ],
   "source": [
    "complaints['Complaint Type'].value_counts()"
   ]
  },
  {
   "cell_type": "markdown",
   "metadata": {},
   "source": [
    "If we just wanted the top 10 most common complaints, we can do this:"
   ]
  },
  {
   "cell_type": "code",
   "execution_count": 27,
   "metadata": {},
   "outputs": [
    {
     "data": {
      "text/plain": [
       "HEATING                   14200\n",
       "GENERAL CONSTRUCTION       7471\n",
       "Street Light Condition     7117\n",
       "DOF Literature Request     5797\n",
       "PLUMBING                   5373\n",
       "PAINT - PLASTER            5149\n",
       "Blocked Driveway           4590\n",
       "NONCONST                   3998\n",
       "Street Condition           3473\n",
       "Illegal Parking            3343\n",
       "Name: Complaint Type, dtype: int64"
      ]
     },
     "execution_count": 27,
     "metadata": {},
     "output_type": "execute_result"
    }
   ],
   "source": [
    "complaint_counts = complaints['Complaint Type'].value_counts()\n",
    "complaint_counts[:10]"
   ]
  },
  {
   "cell_type": "markdown",
   "metadata": {},
   "source": [
    "But it gets better! We can plot them!"
   ]
  },
  {
   "cell_type": "code",
   "execution_count": 28,
   "metadata": {},
   "outputs": [
    {
     "data": {
      "text/plain": [
       "<matplotlib.axes._subplots.AxesSubplot at 0x255d47453a0>"
      ]
     },
     "execution_count": 28,
     "metadata": {},
     "output_type": "execute_result"
    },
    {
     "data": {
      "image/png": "[encoded data removed]",
      "text/plain": [
       "<Figure size 1080x360 with 1 Axes>"
      ]
     },
     "metadata": {},
     "output_type": "display_data"
    }
   ],
   "source": [
    "complaint_counts[:10].plot(kind='bar')"
   ]
  },
  {
   "cell_type": "markdown",
   "metadata": {},
   "source": [
    "## Selecting only noise complaints"
   ]
  },
  {
   "cell_type": "markdown",
   "metadata": {},
   "source": [
    "I'd like to know which borough has the most noise complaints. First, let's remind ourselves what the data look like."
   ]
  },
  {
   "cell_type": "code",
   "execution_count": 29,
   "metadata": {},
   "outputs": [
    {
     "data": {
      "text/html": [
       "<div>\n",
       "<style scoped>\n",
       "    .dataframe tbody tr th:only-of-type {\n",
       "        vertical-align: middle;\n",
       "    }\n",
       "\n",
       "    .dataframe tbody tr th {\n",
       "        vertical-align: top;\n",
       "    }\n",
       "\n",
       "    .dataframe thead th {\n",
       "        text-align: right;\n",
       "    }\n",
       "</style>\n",
       "<table border=\"1\" class=\"dataframe\">\n",
       "  <thead>\n",
       "    <tr style=\"text-align: right;\">\n",
       "      <th></th>\n",
       "      <th>Unique Key</th>\n",
       "      <th>Created Date</th>\n",
       "      <th>Closed Date</th>\n",
       "      <th>Agency</th>\n",
       "      <th>Agency Name</th>\n",
       "      <th>Complaint Type</th>\n",
       "      <th>Descriptor</th>\n",
       "      <th>Location Type</th>\n",
       "      <th>Incident Zip</th>\n",
       "      <th>Incident Address</th>\n",
       "      <th>...</th>\n",
       "      <th>Bridge Highway Name</th>\n",
       "      <th>Bridge Highway Direction</th>\n",
       "      <th>Road Ramp</th>\n",
       "      <th>Bridge Highway Segment</th>\n",
       "      <th>Garage Lot Name</th>\n",
       "      <th>Ferry Direction</th>\n",
       "      <th>Ferry Terminal Name</th>\n",
       "      <th>Latitude</th>\n",
       "      <th>Longitude</th>\n",
       "      <th>Location</th>\n",
       "    </tr>\n",
       "  </thead>\n",
       "  <tbody>\n",
       "    <tr>\n",
       "      <th>0</th>\n",
       "      <td>26589651</td>\n",
       "      <td>10/31/2013 02:08:41 AM</td>\n",
       "      <td>NaN</td>\n",
       "      <td>NYPD</td>\n",
       "      <td>New York City Police Department</td>\n",
       "      <td>Noise - Street/Sidewalk</td>\n",
       "      <td>Loud Talking</td>\n",
       "      <td>Street/Sidewalk</td>\n",
       "      <td>11432</td>\n",
       "      <td>90-03 169 STREET</td>\n",
       "      <td>...</td>\n",
       "      <td>NaN</td>\n",
       "      <td>NaN</td>\n",
       "      <td>NaN</td>\n",
       "      <td>NaN</td>\n",
       "      <td>NaN</td>\n",
       "      <td>NaN</td>\n",
       "      <td>NaN</td>\n",
       "      <td>40.70827532593202</td>\n",
       "      <td>-73.79160395779721</td>\n",
       "      <td>(40.70827532593202, -73.79160395779721)</td>\n",
       "    </tr>\n",
       "    <tr>\n",
       "      <th>1</th>\n",
       "      <td>26593698</td>\n",
       "      <td>10/31/2013 02:01:04 AM</td>\n",
       "      <td>NaN</td>\n",
       "      <td>NYPD</td>\n",
       "      <td>New York City Police Department</td>\n",
       "      <td>Illegal Parking</td>\n",
       "      <td>Commercial Overnight Parking</td>\n",
       "      <td>Street/Sidewalk</td>\n",
       "      <td>11378</td>\n",
       "      <td>58 AVENUE</td>\n",
       "      <td>...</td>\n",
       "      <td>NaN</td>\n",
       "      <td>NaN</td>\n",
       "      <td>NaN</td>\n",
       "      <td>NaN</td>\n",
       "      <td>NaN</td>\n",
       "      <td>NaN</td>\n",
       "      <td>NaN</td>\n",
       "      <td>40.721040535628305</td>\n",
       "      <td>-73.90945306791765</td>\n",
       "      <td>(40.721040535628305, -73.90945306791765)</td>\n",
       "    </tr>\n",
       "    <tr>\n",
       "      <th>2</th>\n",
       "      <td>26594139</td>\n",
       "      <td>10/31/2013 02:00:24 AM</td>\n",
       "      <td>10/31/2013 02:40:32 AM</td>\n",
       "      <td>NYPD</td>\n",
       "      <td>New York City Police Department</td>\n",
       "      <td>Noise - Commercial</td>\n",
       "      <td>Loud Music/Party</td>\n",
       "      <td>Club/Bar/Restaurant</td>\n",
       "      <td>10032</td>\n",
       "      <td>4060 BROADWAY</td>\n",
       "      <td>...</td>\n",
       "      <td>NaN</td>\n",
       "      <td>NaN</td>\n",
       "      <td>NaN</td>\n",
       "      <td>NaN</td>\n",
       "      <td>NaN</td>\n",
       "      <td>NaN</td>\n",
       "      <td>NaN</td>\n",
       "      <td>40.84332975466513</td>\n",
       "      <td>-73.93914371913482</td>\n",
       "      <td>(40.84332975466513, -73.93914371913482)</td>\n",
       "    </tr>\n",
       "    <tr>\n",
       "      <th>3</th>\n",
       "      <td>26595721</td>\n",
       "      <td>10/31/2013 01:56:23 AM</td>\n",
       "      <td>10/31/2013 02:21:48 AM</td>\n",
       "      <td>NYPD</td>\n",
       "      <td>New York City Police Department</td>\n",
       "      <td>Noise - Vehicle</td>\n",
       "      <td>Car/Truck Horn</td>\n",
       "      <td>Street/Sidewalk</td>\n",
       "      <td>10023</td>\n",
       "      <td>WEST 72 STREET</td>\n",
       "      <td>...</td>\n",
       "      <td>NaN</td>\n",
       "      <td>NaN</td>\n",
       "      <td>NaN</td>\n",
       "      <td>NaN</td>\n",
       "      <td>NaN</td>\n",
       "      <td>NaN</td>\n",
       "      <td>NaN</td>\n",
       "      <td>40.7780087446372</td>\n",
       "      <td>-73.98021349023975</td>\n",
       "      <td>(40.7780087446372, -73.98021349023975)</td>\n",
       "    </tr>\n",
       "    <tr>\n",
       "      <th>4</th>\n",
       "      <td>26590930</td>\n",
       "      <td>10/31/2013 01:53:44 AM</td>\n",
       "      <td>NaN</td>\n",
       "      <td>DOHMH</td>\n",
       "      <td>Department of Health and Mental Hygiene</td>\n",
       "      <td>Rodent</td>\n",
       "      <td>Condition Attracting Rodents</td>\n",
       "      <td>Vacant Lot</td>\n",
       "      <td>10027</td>\n",
       "      <td>WEST 124 STREET</td>\n",
       "      <td>...</td>\n",
       "      <td>NaN</td>\n",
       "      <td>NaN</td>\n",
       "      <td>NaN</td>\n",
       "      <td>NaN</td>\n",
       "      <td>NaN</td>\n",
       "      <td>NaN</td>\n",
       "      <td>NaN</td>\n",
       "      <td>40.80769092704951</td>\n",
       "      <td>-73.94738703491433</td>\n",
       "      <td>(40.80769092704951, -73.94738703491433)</td>\n",
       "    </tr>\n",
       "  </tbody>\n",
       "</table>\n",
       "<p>5 rows × 52 columns</p>\n",
       "</div>"
      ],
      "text/plain": [
       "  Unique Key            Created Date             Closed Date Agency  \\\n",
       "0   26589651  10/31/2013 02:08:41 AM                     NaN   NYPD   \n",
       "1   26593698  10/31/2013 02:01:04 AM                     NaN   NYPD   \n",
       "2   26594139  10/31/2013 02:00:24 AM  10/31/2013 02:40:32 AM   NYPD   \n",
       "3   26595721  10/31/2013 01:56:23 AM  10/31/2013 02:21:48 AM   NYPD   \n",
       "4   26590930  10/31/2013 01:53:44 AM                     NaN  DOHMH   \n",
       "\n",
       "                               Agency Name           Complaint Type  \\\n",
       "0          New York City Police Department  Noise - Street/Sidewalk   \n",
       "1          New York City Police Department          Illegal Parking   \n",
       "2          New York City Police Department       Noise - Commercial   \n",
       "3          New York City Police Department          Noise - Vehicle   \n",
       "4  Department of Health and Mental Hygiene                   Rodent   \n",
       "\n",
       "                     Descriptor        Location Type Incident Zip  \\\n",
       "0                  Loud Talking      Street/Sidewalk        11432   \n",
       "1  Commercial Overnight Parking      Street/Sidewalk        11378   \n",
       "2              Loud Music/Party  Club/Bar/Restaurant        10032   \n",
       "3                Car/Truck Horn      Street/Sidewalk        10023   \n",
       "4  Condition Attracting Rodents           Vacant Lot        10027   \n",
       "\n",
       "   Incident Address  ... Bridge Highway Name Bridge Highway Direction  \\\n",
       "0  90-03 169 STREET  ...                 NaN                      NaN   \n",
       "1         58 AVENUE  ...                 NaN                      NaN   \n",
       "2     4060 BROADWAY  ...                 NaN                      NaN   \n",
       "3    WEST 72 STREET  ...                 NaN                      NaN   \n",
       "4   WEST 124 STREET  ...                 NaN                      NaN   \n",
       "\n",
       "  Road Ramp Bridge Highway Segment Garage Lot Name Ferry Direction  \\\n",
       "0       NaN                    NaN             NaN             NaN   \n",
       "1       NaN                    NaN             NaN             NaN   \n",
       "2       NaN                    NaN             NaN             NaN   \n",
       "3       NaN                    NaN             NaN             NaN   \n",
       "4       NaN                    NaN             NaN             NaN   \n",
       "\n",
       "  Ferry Terminal Name            Latitude           Longitude  \\\n",
       "0                 NaN   40.70827532593202  -73.79160395779721   \n",
       "1                 NaN  40.721040535628305  -73.90945306791765   \n",
       "2                 NaN   40.84332975466513  -73.93914371913482   \n",
       "3                 NaN    40.7780087446372  -73.98021349023975   \n",
       "4                 NaN   40.80769092704951  -73.94738703491433   \n",
       "\n",
       "                                   Location  \n",
       "0   (40.70827532593202, -73.79160395779721)  \n",
       "1  (40.721040535628305, -73.90945306791765)  \n",
       "2   (40.84332975466513, -73.93914371913482)  \n",
       "3    (40.7780087446372, -73.98021349023975)  \n",
       "4   (40.80769092704951, -73.94738703491433)  \n",
       "\n",
       "[5 rows x 52 columns]"
      ]
     },
     "execution_count": 29,
     "metadata": {},
     "output_type": "execute_result"
    }
   ],
   "source": [
    "complaints[:5]"
   ]
  },
  {
   "cell_type": "markdown",
   "metadata": {},
   "source": [
    "To get the noise complaints, we need to find the rows where the \"Complaint Type\" column is \"Noise - Street/Sidewalk\". I'll show you how to do that, and then explain what's going on."
   ]
  },
  {
   "cell_type": "code",
   "execution_count": 30,
   "metadata": {},
   "outputs": [
    {
     "data": {
      "text/html": [
       "<div>\n",
       "<style scoped>\n",
       "    .dataframe tbody tr th:only-of-type {\n",
       "        vertical-align: middle;\n",
       "    }\n",
       "\n",
       "    .dataframe tbody tr th {\n",
       "        vertical-align: top;\n",
       "    }\n",
       "\n",
       "    .dataframe thead th {\n",
       "        text-align: right;\n",
       "    }\n",
       "</style>\n",
       "<table border=\"1\" class=\"dataframe\">\n",
       "  <thead>\n",
       "    <tr style=\"text-align: right;\">\n",
       "      <th></th>\n",
       "      <th>Unique Key</th>\n",
       "      <th>Created Date</th>\n",
       "      <th>Closed Date</th>\n",
       "      <th>Agency</th>\n",
       "      <th>Agency Name</th>\n",
       "      <th>Complaint Type</th>\n",
       "      <th>Descriptor</th>\n",
       "      <th>Location Type</th>\n",
       "      <th>Incident Zip</th>\n",
       "      <th>Incident Address</th>\n",
       "      <th>...</th>\n",
       "      <th>Bridge Highway Name</th>\n",
       "      <th>Bridge Highway Direction</th>\n",
       "      <th>Road Ramp</th>\n",
       "      <th>Bridge Highway Segment</th>\n",
       "      <th>Garage Lot Name</th>\n",
       "      <th>Ferry Direction</th>\n",
       "      <th>Ferry Terminal Name</th>\n",
       "      <th>Latitude</th>\n",
       "      <th>Longitude</th>\n",
       "      <th>Location</th>\n",
       "    </tr>\n",
       "  </thead>\n",
       "  <tbody>\n",
       "    <tr>\n",
       "      <th>0</th>\n",
       "      <td>26589651</td>\n",
       "      <td>10/31/2013 02:08:41 AM</td>\n",
       "      <td>NaN</td>\n",
       "      <td>NYPD</td>\n",
       "      <td>New York City Police Department</td>\n",
       "      <td>Noise - Street/Sidewalk</td>\n",
       "      <td>Loud Talking</td>\n",
       "      <td>Street/Sidewalk</td>\n",
       "      <td>11432</td>\n",
       "      <td>90-03 169 STREET</td>\n",
       "      <td>...</td>\n",
       "      <td>NaN</td>\n",
       "      <td>NaN</td>\n",
       "      <td>NaN</td>\n",
       "      <td>NaN</td>\n",
       "      <td>NaN</td>\n",
       "      <td>NaN</td>\n",
       "      <td>NaN</td>\n",
       "      <td>40.70827532593202</td>\n",
       "      <td>-73.79160395779721</td>\n",
       "      <td>(40.70827532593202, -73.79160395779721)</td>\n",
       "    </tr>\n",
       "    <tr>\n",
       "      <th>16</th>\n",
       "      <td>26594086</td>\n",
       "      <td>10/31/2013 12:54:03 AM</td>\n",
       "      <td>10/31/2013 02:16:39 AM</td>\n",
       "      <td>NYPD</td>\n",
       "      <td>New York City Police Department</td>\n",
       "      <td>Noise - Street/Sidewalk</td>\n",
       "      <td>Loud Music/Party</td>\n",
       "      <td>Street/Sidewalk</td>\n",
       "      <td>10310</td>\n",
       "      <td>173 CAMPBELL AVENUE</td>\n",
       "      <td>...</td>\n",
       "      <td>NaN</td>\n",
       "      <td>NaN</td>\n",
       "      <td>NaN</td>\n",
       "      <td>NaN</td>\n",
       "      <td>NaN</td>\n",
       "      <td>NaN</td>\n",
       "      <td>NaN</td>\n",
       "      <td>40.63618202176914</td>\n",
       "      <td>-74.1161500428337</td>\n",
       "      <td>(40.63618202176914, -74.1161500428337)</td>\n",
       "    </tr>\n",
       "    <tr>\n",
       "      <th>25</th>\n",
       "      <td>26591573</td>\n",
       "      <td>10/31/2013 12:35:18 AM</td>\n",
       "      <td>10/31/2013 02:41:35 AM</td>\n",
       "      <td>NYPD</td>\n",
       "      <td>New York City Police Department</td>\n",
       "      <td>Noise - Street/Sidewalk</td>\n",
       "      <td>Loud Talking</td>\n",
       "      <td>Street/Sidewalk</td>\n",
       "      <td>10312</td>\n",
       "      <td>24 PRINCETON LANE</td>\n",
       "      <td>...</td>\n",
       "      <td>NaN</td>\n",
       "      <td>NaN</td>\n",
       "      <td>NaN</td>\n",
       "      <td>NaN</td>\n",
       "      <td>NaN</td>\n",
       "      <td>NaN</td>\n",
       "      <td>NaN</td>\n",
       "      <td>40.55342078716953</td>\n",
       "      <td>-74.19674315017886</td>\n",
       "      <td>(40.55342078716953, -74.19674315017886)</td>\n",
       "    </tr>\n",
       "  </tbody>\n",
       "</table>\n",
       "<p>3 rows × 52 columns</p>\n",
       "</div>"
      ],
      "text/plain": [
       "   Unique Key            Created Date             Closed Date Agency  \\\n",
       "0    26589651  10/31/2013 02:08:41 AM                     NaN   NYPD   \n",
       "16   26594086  10/31/2013 12:54:03 AM  10/31/2013 02:16:39 AM   NYPD   \n",
       "25   26591573  10/31/2013 12:35:18 AM  10/31/2013 02:41:35 AM   NYPD   \n",
       "\n",
       "                        Agency Name           Complaint Type  \\\n",
       "0   New York City Police Department  Noise - Street/Sidewalk   \n",
       "16  New York City Police Department  Noise - Street/Sidewalk   \n",
       "25  New York City Police Department  Noise - Street/Sidewalk   \n",
       "\n",
       "          Descriptor    Location Type Incident Zip     Incident Address  ...  \\\n",
       "0       Loud Talking  Street/Sidewalk        11432     90-03 169 STREET  ...   \n",
       "16  Loud Music/Party  Street/Sidewalk        10310  173 CAMPBELL AVENUE  ...   \n",
       "25      Loud Talking  Street/Sidewalk        10312    24 PRINCETON LANE  ...   \n",
       "\n",
       "   Bridge Highway Name Bridge Highway Direction Road Ramp  \\\n",
       "0                  NaN                      NaN       NaN   \n",
       "16                 NaN                      NaN       NaN   \n",
       "25                 NaN                      NaN       NaN   \n",
       "\n",
       "   Bridge Highway Segment Garage Lot Name Ferry Direction Ferry Terminal Name  \\\n",
       "0                     NaN             NaN             NaN                 NaN   \n",
       "16                    NaN             NaN             NaN                 NaN   \n",
       "25                    NaN             NaN             NaN                 NaN   \n",
       "\n",
       "             Latitude           Longitude  \\\n",
       "0   40.70827532593202  -73.79160395779721   \n",
       "16  40.63618202176914   -74.1161500428337   \n",
       "25  40.55342078716953  -74.19674315017886   \n",
       "\n",
       "                                   Location  \n",
       "0   (40.70827532593202, -73.79160395779721)  \n",
       "16   (40.63618202176914, -74.1161500428337)  \n",
       "25  (40.55342078716953, -74.19674315017886)  \n",
       "\n",
       "[3 rows x 52 columns]"
      ]
     },
     "execution_count": 30,
     "metadata": {},
     "output_type": "execute_result"
    }
   ],
   "source": [
    "noise_complaints = complaints[complaints['Complaint Type'] == \"Noise - Street/Sidewalk\"]\n",
    "noise_complaints[:3]"
   ]
  },
  {
   "cell_type": "markdown",
   "metadata": {},
   "source": [
    "If you look at `noise_complaints`, you'll see that this worked, and it only contains complaints with the right complaint type. But how does this work? Let's deconstruct it into two pieces"
   ]
  },
  {
   "cell_type": "code",
   "execution_count": 31,
   "metadata": {},
   "outputs": [
    {
     "data": {
      "text/plain": [
       "0          True\n",
       "1         False\n",
       "2         False\n",
       "3         False\n",
       "4         False\n",
       "          ...  \n",
       "111064    False\n",
       "111065    False\n",
       "111066     True\n",
       "111067    False\n",
       "111068    False\n",
       "Name: Complaint Type, Length: 111069, dtype: bool"
      ]
     },
     "execution_count": 31,
     "metadata": {},
     "output_type": "execute_result"
    }
   ],
   "source": [
    "complaints['Complaint Type'] == \"Noise - Street/Sidewalk\""
   ]
  },
  {
   "cell_type": "markdown",
   "metadata": {},
   "source": [
    "This is a big array of `True`s and `False`s, one for each row in our dataframe. When we index our dataframe with this array, we get just the rows where our boolean array evaluated to `True`.  It's important to note that for row filtering by a boolean array the length of our dataframe's index must be the same length as the boolean array used for filtering.\n",
    "\n",
    "You can also combine more than one condition with the `&` operator like this:"
   ]
  },
  {
   "cell_type": "code",
   "execution_count": 32,
   "metadata": {},
   "outputs": [
    {
     "data": {
      "text/html": [
       "<div>\n",
       "<style scoped>\n",
       "    .dataframe tbody tr th:only-of-type {\n",
       "        vertical-align: middle;\n",
       "    }\n",
       "\n",
       "    .dataframe tbody tr th {\n",
       "        vertical-align: top;\n",
       "    }\n",
       "\n",
       "    .dataframe thead th {\n",
       "        text-align: right;\n",
       "    }\n",
       "</style>\n",
       "<table border=\"1\" class=\"dataframe\">\n",
       "  <thead>\n",
       "    <tr style=\"text-align: right;\">\n",
       "      <th></th>\n",
       "      <th>Unique Key</th>\n",
       "      <th>Created Date</th>\n",
       "      <th>Closed Date</th>\n",
       "      <th>Agency</th>\n",
       "      <th>Agency Name</th>\n",
       "      <th>Complaint Type</th>\n",
       "      <th>Descriptor</th>\n",
       "      <th>Location Type</th>\n",
       "      <th>Incident Zip</th>\n",
       "      <th>Incident Address</th>\n",
       "      <th>...</th>\n",
       "      <th>Bridge Highway Name</th>\n",
       "      <th>Bridge Highway Direction</th>\n",
       "      <th>Road Ramp</th>\n",
       "      <th>Bridge Highway Segment</th>\n",
       "      <th>Garage Lot Name</th>\n",
       "      <th>Ferry Direction</th>\n",
       "      <th>Ferry Terminal Name</th>\n",
       "      <th>Latitude</th>\n",
       "      <th>Longitude</th>\n",
       "      <th>Location</th>\n",
       "    </tr>\n",
       "  </thead>\n",
       "  <tbody>\n",
       "    <tr>\n",
       "      <th>31</th>\n",
       "      <td>26595564</td>\n",
       "      <td>10/31/2013 12:30:36 AM</td>\n",
       "      <td>NaN</td>\n",
       "      <td>NYPD</td>\n",
       "      <td>New York City Police Department</td>\n",
       "      <td>Noise - Street/Sidewalk</td>\n",
       "      <td>Loud Music/Party</td>\n",
       "      <td>Street/Sidewalk</td>\n",
       "      <td>11236</td>\n",
       "      <td>AVENUE J</td>\n",
       "      <td>...</td>\n",
       "      <td>NaN</td>\n",
       "      <td>NaN</td>\n",
       "      <td>NaN</td>\n",
       "      <td>NaN</td>\n",
       "      <td>NaN</td>\n",
       "      <td>NaN</td>\n",
       "      <td>NaN</td>\n",
       "      <td>40.634103775951736</td>\n",
       "      <td>-73.91105541883589</td>\n",
       "      <td>(40.634103775951736, -73.91105541883589)</td>\n",
       "    </tr>\n",
       "    <tr>\n",
       "      <th>49</th>\n",
       "      <td>26595553</td>\n",
       "      <td>10/31/2013 12:05:10 AM</td>\n",
       "      <td>10/31/2013 02:43:43 AM</td>\n",
       "      <td>NYPD</td>\n",
       "      <td>New York City Police Department</td>\n",
       "      <td>Noise - Street/Sidewalk</td>\n",
       "      <td>Loud Talking</td>\n",
       "      <td>Street/Sidewalk</td>\n",
       "      <td>11225</td>\n",
       "      <td>25 LEFFERTS AVENUE</td>\n",
       "      <td>...</td>\n",
       "      <td>NaN</td>\n",
       "      <td>NaN</td>\n",
       "      <td>NaN</td>\n",
       "      <td>NaN</td>\n",
       "      <td>NaN</td>\n",
       "      <td>NaN</td>\n",
       "      <td>NaN</td>\n",
       "      <td>40.6617931276793</td>\n",
       "      <td>-73.95993363978067</td>\n",
       "      <td>(40.6617931276793, -73.95993363978067)</td>\n",
       "    </tr>\n",
       "    <tr>\n",
       "      <th>109</th>\n",
       "      <td>26594653</td>\n",
       "      <td>10/30/2013 11:26:32 PM</td>\n",
       "      <td>10/31/2013 12:18:54 AM</td>\n",
       "      <td>NYPD</td>\n",
       "      <td>New York City Police Department</td>\n",
       "      <td>Noise - Street/Sidewalk</td>\n",
       "      <td>Loud Music/Party</td>\n",
       "      <td>Street/Sidewalk</td>\n",
       "      <td>11222</td>\n",
       "      <td>NaN</td>\n",
       "      <td>...</td>\n",
       "      <td>NaN</td>\n",
       "      <td>NaN</td>\n",
       "      <td>NaN</td>\n",
       "      <td>NaN</td>\n",
       "      <td>NaN</td>\n",
       "      <td>NaN</td>\n",
       "      <td>NaN</td>\n",
       "      <td>40.724599563793525</td>\n",
       "      <td>-73.95427134534344</td>\n",
       "      <td>(40.724599563793525, -73.95427134534344)</td>\n",
       "    </tr>\n",
       "    <tr>\n",
       "      <th>236</th>\n",
       "      <td>26591992</td>\n",
       "      <td>10/30/2013 10:02:58 PM</td>\n",
       "      <td>10/30/2013 10:23:20 PM</td>\n",
       "      <td>NYPD</td>\n",
       "      <td>New York City Police Department</td>\n",
       "      <td>Noise - Street/Sidewalk</td>\n",
       "      <td>Loud Talking</td>\n",
       "      <td>Street/Sidewalk</td>\n",
       "      <td>11218</td>\n",
       "      <td>DITMAS AVENUE</td>\n",
       "      <td>...</td>\n",
       "      <td>NaN</td>\n",
       "      <td>NaN</td>\n",
       "      <td>NaN</td>\n",
       "      <td>NaN</td>\n",
       "      <td>NaN</td>\n",
       "      <td>NaN</td>\n",
       "      <td>NaN</td>\n",
       "      <td>40.63616876563881</td>\n",
       "      <td>-73.97245504682485</td>\n",
       "      <td>(40.63616876563881, -73.97245504682485)</td>\n",
       "    </tr>\n",
       "    <tr>\n",
       "      <th>370</th>\n",
       "      <td>26594167</td>\n",
       "      <td>10/30/2013 08:38:25 PM</td>\n",
       "      <td>10/30/2013 10:26:28 PM</td>\n",
       "      <td>NYPD</td>\n",
       "      <td>New York City Police Department</td>\n",
       "      <td>Noise - Street/Sidewalk</td>\n",
       "      <td>Loud Music/Party</td>\n",
       "      <td>Street/Sidewalk</td>\n",
       "      <td>11218</td>\n",
       "      <td>126 BEVERLY ROAD</td>\n",
       "      <td>...</td>\n",
       "      <td>NaN</td>\n",
       "      <td>NaN</td>\n",
       "      <td>NaN</td>\n",
       "      <td>NaN</td>\n",
       "      <td>NaN</td>\n",
       "      <td>NaN</td>\n",
       "      <td>NaN</td>\n",
       "      <td>40.6429222774404</td>\n",
       "      <td>-73.97876175474585</td>\n",
       "      <td>(40.6429222774404, -73.97876175474585)</td>\n",
       "    </tr>\n",
       "  </tbody>\n",
       "</table>\n",
       "<p>5 rows × 52 columns</p>\n",
       "</div>"
      ],
      "text/plain": [
       "    Unique Key            Created Date             Closed Date Agency  \\\n",
       "31    26595564  10/31/2013 12:30:36 AM                     NaN   NYPD   \n",
       "49    26595553  10/31/2013 12:05:10 AM  10/31/2013 02:43:43 AM   NYPD   \n",
       "109   26594653  10/30/2013 11:26:32 PM  10/31/2013 12:18:54 AM   NYPD   \n",
       "236   26591992  10/30/2013 10:02:58 PM  10/30/2013 10:23:20 PM   NYPD   \n",
       "370   26594167  10/30/2013 08:38:25 PM  10/30/2013 10:26:28 PM   NYPD   \n",
       "\n",
       "                         Agency Name           Complaint Type  \\\n",
       "31   New York City Police Department  Noise - Street/Sidewalk   \n",
       "49   New York City Police Department  Noise - Street/Sidewalk   \n",
       "109  New York City Police Department  Noise - Street/Sidewalk   \n",
       "236  New York City Police Department  Noise - Street/Sidewalk   \n",
       "370  New York City Police Department  Noise - Street/Sidewalk   \n",
       "\n",
       "           Descriptor    Location Type Incident Zip    Incident Address  ...  \\\n",
       "31   Loud Music/Party  Street/Sidewalk        11236            AVENUE J  ...   \n",
       "49       Loud Talking  Street/Sidewalk        11225  25 LEFFERTS AVENUE  ...   \n",
       "109  Loud Music/Party  Street/Sidewalk        11222                 NaN  ...   \n",
       "236      Loud Talking  Street/Sidewalk        11218       DITMAS AVENUE  ...   \n",
       "370  Loud Music/Party  Street/Sidewalk        11218    126 BEVERLY ROAD  ...   \n",
       "\n",
       "    Bridge Highway Name Bridge Highway Direction Road Ramp  \\\n",
       "31                  NaN                      NaN       NaN   \n",
       "49                  NaN                      NaN       NaN   \n",
       "109                 NaN                      NaN       NaN   \n",
       "236                 NaN                      NaN       NaN   \n",
       "370                 NaN                      NaN       NaN   \n",
       "\n",
       "    Bridge Highway Segment Garage Lot Name Ferry Direction  \\\n",
       "31                     NaN             NaN             NaN   \n",
       "49                     NaN             NaN             NaN   \n",
       "109                    NaN             NaN             NaN   \n",
       "236                    NaN             NaN             NaN   \n",
       "370                    NaN             NaN             NaN   \n",
       "\n",
       "    Ferry Terminal Name            Latitude           Longitude  \\\n",
       "31                  NaN  40.634103775951736  -73.91105541883589   \n",
       "49                  NaN    40.6617931276793  -73.95993363978067   \n",
       "109                 NaN  40.724599563793525  -73.95427134534344   \n",
       "236                 NaN   40.63616876563881  -73.97245504682485   \n",
       "370                 NaN    40.6429222774404  -73.97876175474585   \n",
       "\n",
       "                                     Location  \n",
       "31   (40.634103775951736, -73.91105541883589)  \n",
       "49     (40.6617931276793, -73.95993363978067)  \n",
       "109  (40.724599563793525, -73.95427134534344)  \n",
       "236   (40.63616876563881, -73.97245504682485)  \n",
       "370    (40.6429222774404, -73.97876175474585)  \n",
       "\n",
       "[5 rows x 52 columns]"
      ]
     },
     "execution_count": 32,
     "metadata": {},
     "output_type": "execute_result"
    }
   ],
   "source": [
    "is_noise = complaints['Complaint Type'] == \"Noise - Street/Sidewalk\"\n",
    "in_brooklyn = complaints['Borough'] == \"BROOKLYN\"\n",
    "complaints[is_noise & in_brooklyn][:5]"
   ]
  },
  {
   "cell_type": "markdown",
   "metadata": {},
   "source": [
    "Or if we just wanted a few columns:"
   ]
  },
  {
   "cell_type": "code",
   "execution_count": 33,
   "metadata": {},
   "outputs": [
    {
     "data": {
      "text/html": [
       "<div>\n",
       "<style scoped>\n",
       "    .dataframe tbody tr th:only-of-type {\n",
       "        vertical-align: middle;\n",
       "    }\n",
       "\n",
       "    .dataframe tbody tr th {\n",
       "        vertical-align: top;\n",
       "    }\n",
       "\n",
       "    .dataframe thead th {\n",
       "        text-align: right;\n",
       "    }\n",
       "</style>\n",
       "<table border=\"1\" class=\"dataframe\">\n",
       "  <thead>\n",
       "    <tr style=\"text-align: right;\">\n",
       "      <th></th>\n",
       "      <th>Complaint Type</th>\n",
       "      <th>Borough</th>\n",
       "      <th>Created Date</th>\n",
       "      <th>Descriptor</th>\n",
       "    </tr>\n",
       "  </thead>\n",
       "  <tbody>\n",
       "    <tr>\n",
       "      <th>31</th>\n",
       "      <td>Noise - Street/Sidewalk</td>\n",
       "      <td>BROOKLYN</td>\n",
       "      <td>10/31/2013 12:30:36 AM</td>\n",
       "      <td>Loud Music/Party</td>\n",
       "    </tr>\n",
       "    <tr>\n",
       "      <th>49</th>\n",
       "      <td>Noise - Street/Sidewalk</td>\n",
       "      <td>BROOKLYN</td>\n",
       "      <td>10/31/2013 12:05:10 AM</td>\n",
       "      <td>Loud Talking</td>\n",
       "    </tr>\n",
       "    <tr>\n",
       "      <th>109</th>\n",
       "      <td>Noise - Street/Sidewalk</td>\n",
       "      <td>BROOKLYN</td>\n",
       "      <td>10/30/2013 11:26:32 PM</td>\n",
       "      <td>Loud Music/Party</td>\n",
       "    </tr>\n",
       "    <tr>\n",
       "      <th>236</th>\n",
       "      <td>Noise - Street/Sidewalk</td>\n",
       "      <td>BROOKLYN</td>\n",
       "      <td>10/30/2013 10:02:58 PM</td>\n",
       "      <td>Loud Talking</td>\n",
       "    </tr>\n",
       "    <tr>\n",
       "      <th>370</th>\n",
       "      <td>Noise - Street/Sidewalk</td>\n",
       "      <td>BROOKLYN</td>\n",
       "      <td>10/30/2013 08:38:25 PM</td>\n",
       "      <td>Loud Music/Party</td>\n",
       "    </tr>\n",
       "    <tr>\n",
       "      <th>378</th>\n",
       "      <td>Noise - Street/Sidewalk</td>\n",
       "      <td>BROOKLYN</td>\n",
       "      <td>10/30/2013 08:32:13 PM</td>\n",
       "      <td>Loud Talking</td>\n",
       "    </tr>\n",
       "    <tr>\n",
       "      <th>656</th>\n",
       "      <td>Noise - Street/Sidewalk</td>\n",
       "      <td>BROOKLYN</td>\n",
       "      <td>10/30/2013 06:07:39 PM</td>\n",
       "      <td>Loud Music/Party</td>\n",
       "    </tr>\n",
       "    <tr>\n",
       "      <th>1251</th>\n",
       "      <td>Noise - Street/Sidewalk</td>\n",
       "      <td>BROOKLYN</td>\n",
       "      <td>10/30/2013 03:04:51 PM</td>\n",
       "      <td>Loud Talking</td>\n",
       "    </tr>\n",
       "    <tr>\n",
       "      <th>5416</th>\n",
       "      <td>Noise - Street/Sidewalk</td>\n",
       "      <td>BROOKLYN</td>\n",
       "      <td>10/29/2013 10:07:02 PM</td>\n",
       "      <td>Loud Talking</td>\n",
       "    </tr>\n",
       "    <tr>\n",
       "      <th>5584</th>\n",
       "      <td>Noise - Street/Sidewalk</td>\n",
       "      <td>BROOKLYN</td>\n",
       "      <td>10/29/2013 08:15:59 PM</td>\n",
       "      <td>Loud Music/Party</td>\n",
       "    </tr>\n",
       "  </tbody>\n",
       "</table>\n",
       "</div>"
      ],
      "text/plain": [
       "               Complaint Type   Borough            Created Date  \\\n",
       "31    Noise - Street/Sidewalk  BROOKLYN  10/31/2013 12:30:36 AM   \n",
       "49    Noise - Street/Sidewalk  BROOKLYN  10/31/2013 12:05:10 AM   \n",
       "109   Noise - Street/Sidewalk  BROOKLYN  10/30/2013 11:26:32 PM   \n",
       "236   Noise - Street/Sidewalk  BROOKLYN  10/30/2013 10:02:58 PM   \n",
       "370   Noise - Street/Sidewalk  BROOKLYN  10/30/2013 08:38:25 PM   \n",
       "378   Noise - Street/Sidewalk  BROOKLYN  10/30/2013 08:32:13 PM   \n",
       "656   Noise - Street/Sidewalk  BROOKLYN  10/30/2013 06:07:39 PM   \n",
       "1251  Noise - Street/Sidewalk  BROOKLYN  10/30/2013 03:04:51 PM   \n",
       "5416  Noise - Street/Sidewalk  BROOKLYN  10/29/2013 10:07:02 PM   \n",
       "5584  Noise - Street/Sidewalk  BROOKLYN  10/29/2013 08:15:59 PM   \n",
       "\n",
       "            Descriptor  \n",
       "31    Loud Music/Party  \n",
       "49        Loud Talking  \n",
       "109   Loud Music/Party  \n",
       "236       Loud Talking  \n",
       "370   Loud Music/Party  \n",
       "378       Loud Talking  \n",
       "656   Loud Music/Party  \n",
       "1251      Loud Talking  \n",
       "5416      Loud Talking  \n",
       "5584  Loud Music/Party  "
      ]
     },
     "execution_count": 33,
     "metadata": {},
     "output_type": "execute_result"
    }
   ],
   "source": [
    "complaints[is_noise & in_brooklyn][['Complaint Type', 'Borough', 'Created Date', 'Descriptor']][:10]"
   ]
  },
  {
   "cell_type": "markdown",
   "metadata": {},
   "source": [
    "## So, which borough has the most noise complaints?"
   ]
  },
  {
   "cell_type": "code",
   "execution_count": 34,
   "metadata": {},
   "outputs": [
    {
     "data": {
      "text/plain": [
       "MANHATTAN        917\n",
       "BROOKLYN         456\n",
       "BRONX            292\n",
       "QUEENS           226\n",
       "STATEN ISLAND     36\n",
       "Unspecified        1\n",
       "Name: Borough, dtype: int64"
      ]
     },
     "execution_count": 34,
     "metadata": {},
     "output_type": "execute_result"
    }
   ],
   "source": [
    "is_noise = complaints['Complaint Type'] == \"Noise - Street/Sidewalk\"\n",
    "noise_complaints = complaints[is_noise]\n",
    "noise_complaints['Borough'].value_counts()"
   ]
  },
  {
   "cell_type": "markdown",
   "metadata": {},
   "source": [
    "It's Manhattan! But what if we wanted to divide by the total number of complaints, to make it make a bit more sense? That would be easy too:"
   ]
  },
  {
   "cell_type": "code",
   "execution_count": 35,
   "metadata": {},
   "outputs": [],
   "source": [
    "noise_complaint_counts = noise_complaints['Borough'].value_counts()\n",
    "complaint_counts = complaints['Borough'].value_counts()"
   ]
  },
  {
   "cell_type": "code",
   "execution_count": 36,
   "metadata": {},
   "outputs": [
    {
     "data": {
      "text/plain": [
       "BRONX            0.014833\n",
       "BROOKLYN         0.013864\n",
       "MANHATTAN        0.037755\n",
       "QUEENS           0.010143\n",
       "STATEN ISLAND    0.007474\n",
       "Unspecified      0.000141\n",
       "Name: Borough, dtype: float64"
      ]
     },
     "execution_count": 36,
     "metadata": {},
     "output_type": "execute_result"
    }
   ],
   "source": [
    "noise_complaint_counts / complaint_counts"
   ]
  },
  {
   "cell_type": "code",
   "execution_count": 37,
   "metadata": {},
   "outputs": [
    {
     "data": {
      "text/plain": [
       "<matplotlib.axes._subplots.AxesSubplot at 0x255d6047940>"
      ]
     },
     "execution_count": 37,
     "metadata": {},
     "output_type": "execute_result"
    },
    {
     "data": {
      "image/png": "[encoded data removed]",
      "text/plain": [
       "<Figure size 1080x360 with 1 Axes>"
      ]
     },
     "metadata": {},
     "output_type": "display_data"
    }
   ],
   "source": [
    "(noise_complaint_counts / complaint_counts).plot(kind='bar')"
   ]
  },
  {
   "cell_type": "markdown",
   "metadata": {},
   "source": [
    "So Manhattan really does complain more about noise than the other boroughs!"
   ]
  },
  {
   "cell_type": "markdown",
   "metadata": {},
   "source": [
    "## Adding a column to our dataframe"
   ]
  },
  {
   "cell_type": "markdown",
   "metadata": {},
   "source": [
    "Okay! We're going back to our bike path dataset here. I was curious about whether Montreal is more of a commuter city or a biking-for-fun city -- do people bike more on weekends, or on weekdays?\n",
    "\n",
    "First, we need to load up the data again."
   ]
  },
  {
   "cell_type": "code",
   "execution_count": 38,
   "metadata": {},
   "outputs": [
    {
     "data": {
      "text/plain": [
       "<matplotlib.axes._subplots.AxesSubplot at 0x255d5f00910>"
      ]
     },
     "execution_count": 38,
     "metadata": {},
     "output_type": "execute_result"
    },
    {
     "data": {
      "image/png": "[encoded data removed]",
      "text/plain": [
       "<Figure size 1080x360 with 1 Axes>"
      ]
     },
     "metadata": {},
     "output_type": "display_data"
    }
   ],
   "source": [
    "bikes = pd.read_csv('bikes.csv', sep=';', encoding='latin1', parse_dates=['Date'], dayfirst=True, index_col='Date')\n",
    "bikes['Berri 1'].plot()"
   ]
  },
  {
   "cell_type": "markdown",
   "metadata": {},
   "source": [
    "Next up, we're just going to look at the Berri bike path. So we're going to create a dataframe with just the Berri bikepath in it."
   ]
  },
  {
   "cell_type": "code",
   "execution_count": 39,
   "metadata": {},
   "outputs": [],
   "source": [
    "berri_bikes = bikes[['Berri 1']].copy()"
   ]
  },
  {
   "cell_type": "code",
   "execution_count": 40,
   "metadata": {},
   "outputs": [
    {
     "data": {
      "text/html": [
       "<div>\n",
       "<style scoped>\n",
       "    .dataframe tbody tr th:only-of-type {\n",
       "        vertical-align: middle;\n",
       "    }\n",
       "\n",
       "    .dataframe tbody tr th {\n",
       "        vertical-align: top;\n",
       "    }\n",
       "\n",
       "    .dataframe thead th {\n",
       "        text-align: right;\n",
       "    }\n",
       "</style>\n",
       "<table border=\"1\" class=\"dataframe\">\n",
       "  <thead>\n",
       "    <tr style=\"text-align: right;\">\n",
       "      <th></th>\n",
       "      <th>Berri 1</th>\n",
       "    </tr>\n",
       "    <tr>\n",
       "      <th>Date</th>\n",
       "      <th></th>\n",
       "    </tr>\n",
       "  </thead>\n",
       "  <tbody>\n",
       "    <tr>\n",
       "      <th>2012-01-01</th>\n",
       "      <td>35</td>\n",
       "    </tr>\n",
       "    <tr>\n",
       "      <th>2012-01-02</th>\n",
       "      <td>83</td>\n",
       "    </tr>\n",
       "    <tr>\n",
       "      <th>2012-01-03</th>\n",
       "      <td>135</td>\n",
       "    </tr>\n",
       "    <tr>\n",
       "      <th>2012-01-04</th>\n",
       "      <td>144</td>\n",
       "    </tr>\n",
       "    <tr>\n",
       "      <th>2012-01-05</th>\n",
       "      <td>197</td>\n",
       "    </tr>\n",
       "  </tbody>\n",
       "</table>\n",
       "</div>"
      ],
      "text/plain": [
       "            Berri 1\n",
       "Date               \n",
       "2012-01-01       35\n",
       "2012-01-02       83\n",
       "2012-01-03      135\n",
       "2012-01-04      144\n",
       "2012-01-05      197"
      ]
     },
     "execution_count": 40,
     "metadata": {},
     "output_type": "execute_result"
    }
   ],
   "source": [
    "berri_bikes[:5]"
   ]
  },
  {
   "cell_type": "markdown",
   "metadata": {},
   "source": [
    "Next, we need to add a 'weekday' column. Firstly, we can get the weekday from the index."
   ]
  },
  {
   "cell_type": "code",
   "execution_count": 41,
   "metadata": {},
   "outputs": [
    {
     "data": {
      "text/plain": [
       "DatetimeIndex(['2012-01-01', '2012-01-02', '2012-01-03', '2012-01-04',\n",
       "               '2012-01-05', '2012-01-06', '2012-01-07', '2012-01-08',\n",
       "               '2012-01-09', '2012-01-10',\n",
       "               ...\n",
       "               '2012-10-27', '2012-10-28', '2012-10-29', '2012-10-30',\n",
       "               '2012-10-31', '2012-11-01', '2012-11-02', '2012-11-03',\n",
       "               '2012-11-04', '2012-11-05'],\n",
       "              dtype='datetime64[ns]', name='Date', length=310, freq=None)"
      ]
     },
     "execution_count": 41,
     "metadata": {},
     "output_type": "execute_result"
    }
   ],
   "source": [
    "berri_bikes.index"
   ]
  },
  {
   "cell_type": "markdown",
   "metadata": {},
   "source": [
    "You can see that actually some of the days are missing -- only 310 days of the year are actually there. Who knows why.\n",
    "\n",
    "Pandas has a bunch of really great time series functionality, so if we wanted to get the day of the month for each row, we could do it like this:"
   ]
  },
  {
   "cell_type": "code",
   "execution_count": 42,
   "metadata": {},
   "outputs": [
    {
     "data": {
      "text/plain": [
       "Int64Index([ 1,  2,  3,  4,  5,  6,  7,  8,  9, 10,\n",
       "            ...\n",
       "            27, 28, 29, 30, 31,  1,  2,  3,  4,  5],\n",
       "           dtype='int64', name='Date', length=310)"
      ]
     },
     "execution_count": 42,
     "metadata": {},
     "output_type": "execute_result"
    }
   ],
   "source": [
    "berri_bikes.index.day"
   ]
  },
  {
   "cell_type": "markdown",
   "metadata": {},
   "source": [
    "We actually want the weekday, though:"
   ]
  },
  {
   "cell_type": "code",
   "execution_count": 43,
   "metadata": {},
   "outputs": [
    {
     "data": {
      "text/plain": [
       "Int64Index([6, 0, 1, 2, 3, 4, 5, 6, 0, 1,\n",
       "            ...\n",
       "            5, 6, 0, 1, 2, 3, 4, 5, 6, 0],\n",
       "           dtype='int64', name='Date', length=310)"
      ]
     },
     "execution_count": 43,
     "metadata": {},
     "output_type": "execute_result"
    }
   ],
   "source": [
    "berri_bikes.index.weekday"
   ]
  },
  {
   "cell_type": "markdown",
   "metadata": {},
   "source": [
    "These are the days of the week, where 0 is Monday. I found out that 0 was Monday by checking on a calendar.\n",
    "\n",
    "Now that we know how to *get* the weekday, we can add it as a column in our dataframe like this:"
   ]
  },
  {
   "cell_type": "code",
   "execution_count": 44,
   "metadata": {},
   "outputs": [
    {
     "data": {
      "text/html": [
       "<div>\n",
       "<style scoped>\n",
       "    .dataframe tbody tr th:only-of-type {\n",
       "        vertical-align: middle;\n",
       "    }\n",
       "\n",
       "    .dataframe tbody tr th {\n",
       "        vertical-align: top;\n",
       "    }\n",
       "\n",
       "    .dataframe thead th {\n",
       "        text-align: right;\n",
       "    }\n",
       "</style>\n",
       "<table border=\"1\" class=\"dataframe\">\n",
       "  <thead>\n",
       "    <tr style=\"text-align: right;\">\n",
       "      <th></th>\n",
       "      <th>Berri 1</th>\n",
       "      <th>weekday</th>\n",
       "    </tr>\n",
       "    <tr>\n",
       "      <th>Date</th>\n",
       "      <th></th>\n",
       "      <th></th>\n",
       "    </tr>\n",
       "  </thead>\n",
       "  <tbody>\n",
       "    <tr>\n",
       "      <th>2012-01-01</th>\n",
       "      <td>35</td>\n",
       "      <td>6</td>\n",
       "    </tr>\n",
       "    <tr>\n",
       "      <th>2012-01-02</th>\n",
       "      <td>83</td>\n",
       "      <td>0</td>\n",
       "    </tr>\n",
       "    <tr>\n",
       "      <th>2012-01-03</th>\n",
       "      <td>135</td>\n",
       "      <td>1</td>\n",
       "    </tr>\n",
       "    <tr>\n",
       "      <th>2012-01-04</th>\n",
       "      <td>144</td>\n",
       "      <td>2</td>\n",
       "    </tr>\n",
       "    <tr>\n",
       "      <th>2012-01-05</th>\n",
       "      <td>197</td>\n",
       "      <td>3</td>\n",
       "    </tr>\n",
       "  </tbody>\n",
       "</table>\n",
       "</div>"
      ],
      "text/plain": [
       "            Berri 1  weekday\n",
       "Date                        \n",
       "2012-01-01       35        6\n",
       "2012-01-02       83        0\n",
       "2012-01-03      135        1\n",
       "2012-01-04      144        2\n",
       "2012-01-05      197        3"
      ]
     },
     "execution_count": 44,
     "metadata": {},
     "output_type": "execute_result"
    }
   ],
   "source": [
    "berri_bikes.loc[:,'weekday'] = berri_bikes.index.weekday\n",
    "berri_bikes[:5]"
   ]
  },
  {
   "cell_type": "markdown",
   "metadata": {},
   "source": [
    "## Adding up the cyclists by weekday"
   ]
  },
  {
   "cell_type": "markdown",
   "metadata": {},
   "source": [
    "This turns out to be really easy!\n",
    "\n",
    "Dataframes have a `.groupby()` method that is similar to SQL groupby, if you're familiar with that. We are not going to dig into this right now -- if you want to to know more, [the documentation](http://pandas.pydata.org/pandas-docs/stable/groupby.html) is really good.\n",
    "\n",
    "In this case, `berri_bikes.groupby('weekday').aggregate(sum)` means \"Group the rows by weekday and then add up all the values with the same weekday\"."
   ]
  },
  {
   "cell_type": "code",
   "execution_count": 45,
   "metadata": {},
   "outputs": [
    {
     "data": {
      "text/html": [
       "<div>\n",
       "<style scoped>\n",
       "    .dataframe tbody tr th:only-of-type {\n",
       "        vertical-align: middle;\n",
       "    }\n",
       "\n",
       "    .dataframe tbody tr th {\n",
       "        vertical-align: top;\n",
       "    }\n",
       "\n",
       "    .dataframe thead th {\n",
       "        text-align: right;\n",
       "    }\n",
       "</style>\n",
       "<table border=\"1\" class=\"dataframe\">\n",
       "  <thead>\n",
       "    <tr style=\"text-align: right;\">\n",
       "      <th></th>\n",
       "      <th>Berri 1</th>\n",
       "    </tr>\n",
       "    <tr>\n",
       "      <th>weekday</th>\n",
       "      <th></th>\n",
       "    </tr>\n",
       "  </thead>\n",
       "  <tbody>\n",
       "    <tr>\n",
       "      <th>0</th>\n",
       "      <td>134298</td>\n",
       "    </tr>\n",
       "    <tr>\n",
       "      <th>1</th>\n",
       "      <td>135305</td>\n",
       "    </tr>\n",
       "    <tr>\n",
       "      <th>2</th>\n",
       "      <td>152972</td>\n",
       "    </tr>\n",
       "    <tr>\n",
       "      <th>3</th>\n",
       "      <td>160131</td>\n",
       "    </tr>\n",
       "    <tr>\n",
       "      <th>4</th>\n",
       "      <td>141771</td>\n",
       "    </tr>\n",
       "    <tr>\n",
       "      <th>5</th>\n",
       "      <td>101578</td>\n",
       "    </tr>\n",
       "    <tr>\n",
       "      <th>6</th>\n",
       "      <td>99310</td>\n",
       "    </tr>\n",
       "  </tbody>\n",
       "</table>\n",
       "</div>"
      ],
      "text/plain": [
       "         Berri 1\n",
       "weekday         \n",
       "0         134298\n",
       "1         135305\n",
       "2         152972\n",
       "3         160131\n",
       "4         141771\n",
       "5         101578\n",
       "6          99310"
      ]
     },
     "execution_count": 45,
     "metadata": {},
     "output_type": "execute_result"
    }
   ],
   "source": [
    "weekday_counts = berri_bikes.groupby('weekday').aggregate(sum)\n",
    "weekday_counts"
   ]
  },
  {
   "cell_type": "markdown",
   "metadata": {},
   "source": [
    "It's hard to remember what 0, 1, 2, 3, 4, 5, 6 mean, so we can fix it up and graph it:"
   ]
  },
  {
   "cell_type": "code",
   "execution_count": 46,
   "metadata": {},
   "outputs": [
    {
     "data": {
      "text/html": [
       "<div>\n",
       "<style scoped>\n",
       "    .dataframe tbody tr th:only-of-type {\n",
       "        vertical-align: middle;\n",
       "    }\n",
       "\n",
       "    .dataframe tbody tr th {\n",
       "        vertical-align: top;\n",
       "    }\n",
       "\n",
       "    .dataframe thead th {\n",
       "        text-align: right;\n",
       "    }\n",
       "</style>\n",
       "<table border=\"1\" class=\"dataframe\">\n",
       "  <thead>\n",
       "    <tr style=\"text-align: right;\">\n",
       "      <th></th>\n",
       "      <th>Berri 1</th>\n",
       "    </tr>\n",
       "  </thead>\n",
       "  <tbody>\n",
       "    <tr>\n",
       "      <th>Monday</th>\n",
       "      <td>134298</td>\n",
       "    </tr>\n",
       "    <tr>\n",
       "      <th>Tuesday</th>\n",
       "      <td>135305</td>\n",
       "    </tr>\n",
       "    <tr>\n",
       "      <th>Wednesday</th>\n",
       "      <td>152972</td>\n",
       "    </tr>\n",
       "    <tr>\n",
       "      <th>Thursday</th>\n",
       "      <td>160131</td>\n",
       "    </tr>\n",
       "    <tr>\n",
       "      <th>Friday</th>\n",
       "      <td>141771</td>\n",
       "    </tr>\n",
       "    <tr>\n",
       "      <th>Saturday</th>\n",
       "      <td>101578</td>\n",
       "    </tr>\n",
       "    <tr>\n",
       "      <th>Sunday</th>\n",
       "      <td>99310</td>\n",
       "    </tr>\n",
       "  </tbody>\n",
       "</table>\n",
       "</div>"
      ],
      "text/plain": [
       "           Berri 1\n",
       "Monday      134298\n",
       "Tuesday     135305\n",
       "Wednesday   152972\n",
       "Thursday    160131\n",
       "Friday      141771\n",
       "Saturday    101578\n",
       "Sunday       99310"
      ]
     },
     "execution_count": 46,
     "metadata": {},
     "output_type": "execute_result"
    }
   ],
   "source": [
    "weekday_counts.index = ['Monday', 'Tuesday', 'Wednesday', 'Thursday', 'Friday', 'Saturday', 'Sunday']\n",
    "weekday_counts"
   ]
  },
  {
   "cell_type": "code",
   "execution_count": 47,
   "metadata": {},
   "outputs": [
    {
     "data": {
      "text/plain": [
       "<matplotlib.axes._subplots.AxesSubplot at 0x255d5fbb550>"
      ]
     },
     "execution_count": 47,
     "metadata": {},
     "output_type": "execute_result"
    },
    {
     "data": {
      "image/png": "[encoded data removed]",
      "text/plain": [
       "<Figure size 1080x360 with 1 Axes>"
      ]
     },
     "metadata": {},
     "output_type": "display_data"
    }
   ],
   "source": [
    "weekday_counts.plot(kind='bar')"
   ]
  },
  {
   "cell_type": "markdown",
   "metadata": {},
   "source": [
    "So it looks like Montrealers are commuter cyclists -- they bike much more during the week."
   ]
  }
 ],
 "metadata": {
  "kernelspec": {
   "display_name": "Python 3",
   "language": "python",
   "name": "python3"
  },
  "language_info": {
   "codemirror_mode": {
    "name": "ipython",
    "version": 3
   },
   "file_extension": ".py",
   "mimetype": "text/x-python",
   "name": "python",
   "nbconvert_exporter": "python",
   "pygments_lexer": "ipython3",
   "version": "3.8.3"
  }
 },
 "nbformat": 4,
 "nbformat_minor": 1
}
