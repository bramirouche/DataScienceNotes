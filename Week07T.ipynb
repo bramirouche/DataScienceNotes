{
 "cells": [
  {
   "cell_type": "markdown",
   "metadata": {},
   "source": [
    "# Simple Linear Regression"
   ]
  },
  {
   "cell_type": "markdown",
   "metadata": {},
   "source": [
    "In earlier classes, we used the `correlation` function to measure the strength of the linear\n",
    "relationship between two variables. For most applications, knowing that such a linear\n",
    "relationship exists isn’t enough. We’ll want to understand the nature of the relationship.\n",
    "This is where we’ll use simple linear regression."
   ]
  },
  {
   "cell_type": "markdown",
   "metadata": {},
   "source": [
    "## The Model"
   ]
  },
  {
   "cell_type": "markdown",
   "metadata": {},
   "source": [
    "Recall that we were investigating, in the context of a social network, the relationship between a user’s\n",
    "number of friends and the amount of time the user spends on the site each day. Let’s\n",
    "assume that you’ve convinced yourself that having more friends causes people to\n",
    "spend more time on the site, rather than one of the alternative explanations we discussed.\n",
    "\n",
    "The VP of Engagement asks you to build a model describing this relationship. Since\n",
    "you found a pretty strong linear relationship, a natural place to start is a linear model.\n",
    "\n",
    "In particular, you hypothesize that there are constants $\\alpha$ (alpha) and $\\beta$ (beta) such\n",
    "that:\n",
    "\n",
    "$$ \\large y_i = \\beta x_i + \\alpha + \\epsilon_i $$\n",
    "\n",
    "where $y_i$ is the number of minutes user $i$ spends on the site daily, $x_i$ is the number of\n",
    "friends user $i$ has, and $\\epsilon$ is a (hopefully small) error term representing the fact that\n",
    "there are other factors not accounted for by this simple model.\n",
    "\n",
    "Assuming we’ve determined such an alpha and beta, then we make predictions simply\n",
    "with:"
   ]
  },
  {
   "cell_type": "code",
   "execution_count": 1,
   "metadata": {},
   "outputs": [],
   "source": [
    "def predict(alpha: float, beta: float, x_i: float) -> float:\n",
    "    return beta * x_i + alpha"
   ]
  },
  {
   "cell_type": "markdown",
   "metadata": {},
   "source": [
    "How do we choose $\\alpha$ and $\\beta$? Well, any choice of $\\alpha$ and $\\beta$ gives us a\n",
    "predicted output for each input $x_i$. Since we know the actual output $y_i$, we can\n",
    "compute the error for each pair:"
   ]
  },
  {
   "cell_type": "code",
   "execution_count": 11,
   "metadata": {},
   "outputs": [],
   "source": [
    "def error(alpha: float, beta: float, x_i: float, y_i: float) -> float:\n",
    "    \"\"\"\n",
    "    The error from predicting beta * x_i + alpha\n",
    "    when the actual value is y_i\n",
    "    \"\"\"\n",
    "    return y_i - predict(alpha, beta, x_i)"
   ]
  },
  {
   "cell_type": "code",
   "execution_count": 12,
   "metadata": {},
   "outputs": [
    {
     "ename": "TypeError",
     "evalue": "can only concatenate list (not \"int\") to list",
     "output_type": "error",
     "traceback": [
      "\u001b[1;31m---------------------------------------------------------------------------\u001b[0m",
      "\u001b[1;31mTypeError\u001b[0m                                 Traceback (most recent call last)",
      "\u001b[1;32m<ipython-input-12-28287dfc5fe0>\u001b[0m in \u001b[0;36m<module>\u001b[1;34m\u001b[0m\n\u001b[1;32m----> 1\u001b[1;33m \u001b[0merror\u001b[0m\u001b[1;33m(\u001b[0m\u001b[1;36m2\u001b[0m\u001b[1;33m,\u001b[0m\u001b[1;36m3\u001b[0m\u001b[1;33m,\u001b[0m\u001b[1;33m[\u001b[0m\u001b[1;36m1\u001b[0m\u001b[1;33m]\u001b[0m\u001b[1;33m,\u001b[0m\u001b[1;33m[\u001b[0m\u001b[1;36m6\u001b[0m\u001b[1;33m]\u001b[0m\u001b[1;33m)\u001b[0m\u001b[1;33m\u001b[0m\u001b[1;33m\u001b[0m\u001b[0m\n\u001b[0m",
      "\u001b[1;32m<ipython-input-11-4c6d4ae89773>\u001b[0m in \u001b[0;36merror\u001b[1;34m(alpha, beta, x_i, y_i)\u001b[0m\n\u001b[0;32m      4\u001b[0m     \u001b[0mwhen\u001b[0m \u001b[0mthe\u001b[0m \u001b[0mactual\u001b[0m \u001b[0mvalue\u001b[0m \u001b[1;32mis\u001b[0m \u001b[0my_i\u001b[0m\u001b[1;33m\u001b[0m\u001b[1;33m\u001b[0m\u001b[0m\n\u001b[0;32m      5\u001b[0m     \"\"\"\n\u001b[1;32m----> 6\u001b[1;33m     \u001b[1;32mreturn\u001b[0m \u001b[0my_i\u001b[0m \u001b[1;33m-\u001b[0m \u001b[0mpredict\u001b[0m\u001b[1;33m(\u001b[0m\u001b[0malpha\u001b[0m\u001b[1;33m,\u001b[0m \u001b[0mbeta\u001b[0m\u001b[1;33m,\u001b[0m \u001b[0mx_i\u001b[0m\u001b[1;33m)\u001b[0m\u001b[1;33m\u001b[0m\u001b[1;33m\u001b[0m\u001b[0m\n\u001b[0m",
      "\u001b[1;32m<ipython-input-1-3547af63fd10>\u001b[0m in \u001b[0;36mpredict\u001b[1;34m(alpha, beta, x_i)\u001b[0m\n\u001b[0;32m      1\u001b[0m \u001b[1;32mdef\u001b[0m \u001b[0mpredict\u001b[0m\u001b[1;33m(\u001b[0m\u001b[0malpha\u001b[0m\u001b[1;33m:\u001b[0m \u001b[0mfloat\u001b[0m\u001b[1;33m,\u001b[0m \u001b[0mbeta\u001b[0m\u001b[1;33m:\u001b[0m \u001b[0mfloat\u001b[0m\u001b[1;33m,\u001b[0m \u001b[0mx_i\u001b[0m\u001b[1;33m:\u001b[0m \u001b[0mfloat\u001b[0m\u001b[1;33m)\u001b[0m \u001b[1;33m->\u001b[0m \u001b[0mfloat\u001b[0m\u001b[1;33m:\u001b[0m\u001b[1;33m\u001b[0m\u001b[1;33m\u001b[0m\u001b[0m\n\u001b[1;32m----> 2\u001b[1;33m     \u001b[1;32mreturn\u001b[0m \u001b[0mbeta\u001b[0m \u001b[1;33m*\u001b[0m \u001b[0mx_i\u001b[0m \u001b[1;33m+\u001b[0m \u001b[0malpha\u001b[0m\u001b[1;33m\u001b[0m\u001b[1;33m\u001b[0m\u001b[0m\n\u001b[0m",
      "\u001b[1;31mTypeError\u001b[0m: can only concatenate list (not \"int\") to list"
     ]
    }
   ],
   "source": [
    "error(2,3,[1],[6])"
   ]
  },
  {
   "cell_type": "markdown",
   "metadata": {},
   "source": [
    "What we’d really like to know is the total error over the entire dataset. But we don’t\n",
    "want to just add the errors—if the prediction for $x_1$ is too high (causing negative error) and the prediction\n",
    "for $x_2$ is too low (causing positive error), the errors may just cancel out.\n",
    "\n",
    "So instead we add up the *squared* errors:"
   ]
  },
  {
   "cell_type": "code",
   "execution_count": 3,
   "metadata": {},
   "outputs": [],
   "source": [
    "from typing import List\n",
    "Vector = List[float]\n",
    "\n",
    "def sum_of_sqerrors(alpha: float, beta: float, x: Vector, y: Vector) -> float:\n",
    "    return sum(error(alpha, beta, x_i, y_i) ** 2\n",
    "               for x_i, y_i in zip(x, y))"
   ]
  },
  {
   "cell_type": "code",
   "execution_count": 7,
   "metadata": {},
   "outputs": [
    {
     "data": {
      "text/plain": [
       "1"
      ]
     },
     "execution_count": 7,
     "metadata": {},
     "output_type": "execute_result"
    }
   ],
   "source": [
    "sum_of_sqerrors(2,3,[1],[6])"
   ]
  },
  {
   "cell_type": "markdown",
   "metadata": {},
   "source": [
    "The *least squares solution* is to choose the alpha and beta that make `sum_of_sqerrors` as small as possible.\n",
    "\n",
    "Using calculus, the error-minimizing $\\alpha$ and $\\beta$ are given\n",
    "by:"
   ]
  },
  {
   "cell_type": "code",
   "execution_count": 4,
   "metadata": {},
   "outputs": [],
   "source": [
    "from typing import Tuple\n",
    "from statistics import mean, stdev\n",
    "from scipy.stats import pearsonr\n",
    "\n",
    "def least_squares_fit(x: Vector, y: Vector) -> Tuple[float, float]:\n",
    "    \"\"\"\n",
    "    Given two vectors x and y,\n",
    "    find the least-squares values of alpha and beta\n",
    "    \"\"\"\n",
    "    beta = pearsonr(x, y)[0] * stdev(y) / stdev(x)\n",
    "    alpha = mean(y) - beta * mean(x)\n",
    "    return alpha, beta"
   ]
  },
  {
   "cell_type": "markdown",
   "metadata": {},
   "source": [
    "Without going through the exact mathematics, let’s think about why this might be a\n",
    "reasonable solution. The choice of alpha simply says that when we see the average\n",
    "value of the independent variable `x`, we would predict the average value of the dependent\n",
    "variable `y` (to see it, consider adding to both sides of the equation `beta * mean(x)`).\n",
    "\n",
    "The choice of `beta` means that when the input value increases by `stdev(x)` (e.g., `beta * (x + stdev(x)) = beta * x + beta * stdev(x)`), the prediction then increases by `pearsonr(x, y)[0] * stdev(y)`. In the case where `x` and `y` are perfectly correlated, a one-standard-deviation increase in `x` results in a one-standard-deviation-of-`y` increase in the prediction.\n",
    "When they’re perfectly anticorrelated, the increase in `x` results in a decrease in the\n",
    "prediction. And when the correlation is 0, beta is 0, which means that changes in `x`\n",
    "don’t affect the prediction at all.\n",
    "\n",
    "As usual, let’s write a quick test for this:"
   ]
  },
  {
   "cell_type": "code",
   "execution_count": 5,
   "metadata": {},
   "outputs": [
    {
     "name": "stdout",
     "output_type": "stream",
     "text": [
      "x = [-100, -90, -80, -70, -60, -50, -40, -30, -20, -10, 0, 10, 20, 30, 40, 50, 60, 70, 80, 90, 100]\n",
      "y = [-305, -275, -245, -215, -185, -155, -125, -95, -65, -35, -5, 25, 55, 85, 115, 145, 175, 205, 235, 265, 295]\n",
      "alpha, beta = (-5.0, 3.0)\n"
     ]
    }
   ],
   "source": [
    "x = [i for i in range(-100, 110, 10)]\n",
    "y = [3 * x_i - 5 for x_i in x]\n",
    "\n",
    "print(f\"x = {x}\")\n",
    "print(f\"y = {y}\")\n",
    "print(f\"alpha, beta = {least_squares_fit(x, y)}\")"
   ]
  },
  {
   "cell_type": "markdown",
   "metadata": {},
   "source": [
    "Now it’s easy to apply this to the outlierless data about our social network users from a couple of weeks ago (week 3)."
   ]
  },
  {
   "cell_type": "code",
   "execution_count": 6,
   "metadata": {},
   "outputs": [
    {
     "name": "stdout",
     "output_type": "stream",
     "text": [
      "alpha = 22.947552413468976\n",
      "beta  = 0.9038659456058724\n"
     ]
    }
   ],
   "source": [
    "num_friends_good = [49,41,40,25,21,21,19,19,18,18,16,15,15,15,15,\n",
    "                   14,14,13,13,13,13,12,12,11,10,10,10,10,10,10,10,\n",
    "                   10,10,10,10,10,10,10,10,9,9,9,9,9,9,9,9,9,9,9,9,\n",
    "                   9,9,9,9,9,9,8,8,8,8,8,8,8,8,8,8,8,8,8,7,7,7,7,7,\n",
    "                   7,7,7,7,7,7,7,7,7,7,6,6,6,6,6,6,6,6,6,6,6,6,6,6,\n",
    "                   6,6,6,6,6,6,6,6,5,5,5,5,5,5,5,5,5,5,5,5,5,5,5,5,\n",
    "                   5,4,4,4,4,4,4,4,4,4,4,4,4,4,4,4,4,4,4,4,4,3,3,3,\n",
    "                   3,3,3,3,3,3,3,3,3,3,3,3,3,3,3,3,3,2,2,2,2,2,2,2,\n",
    "                   2,2,2,2,2,2,2,2,2,2,1,1,1,1,1,1,1,1,1,1,1,1,1,1,\n",
    "                   1,1,1,1,1,1,1,1]\n",
    "\n",
    "daily_minutes_good = [68.77,51.25,52.08,38.36,44.54,57.13,51.4,41.42,31.22,34.76,54.01,38.79,47.59,49.1,27.66,41.03,\n",
    "                     36.73,48.65,28.12,46.62,35.57,32.98,35,26.07,23.77,39.73,40.57,31.65,31.21,36.32,20.45,21.93,26.02,\n",
    "                     27.34,23.49,46.94,30.5,33.8,24.23,21.4,27.94,32.24,40.57,25.07,19.42,22.39,18.42,46.96,23.72,26.41,\n",
    "                     26.97,36.76,40.32,35.02,29.47,30.2,31,38.11,38.18,36.31,21.03,30.86,36.07,28.66,29.08,37.28,15.28,\n",
    "                     24.17,22.31,30.17,25.53,19.85,35.37,44.6,17.23,13.47,26.33,35.02,32.09,24.81,19.33,28.77,24.26,31.98,\n",
    "                     25.73,24.86,16.28,34.51,15.23,39.72,40.8,26.06,35.76,34.76,16.13,44.04,18.03,19.65,32.62,35.59,39.43,\n",
    "                     14.18,35.24,40.13,41.82,35.45,36.07,43.67,24.61,20.9,21.9,18.79,27.61,27.21,26.61,29.77,20.59,27.53,\n",
    "                     13.82,33.2,25,33.1,36.65,18.63,14.87,22.2,36.81,25.53,24.62,26.25,18.21,28.08,19.42,29.79,32.8,35.99,\n",
    "                     28.32,27.79,35.88,29.06,36.28,14.1,36.63,37.49,26.9,18.58,38.48,24.48,18.95,33.55,14.24,29.04,32.51,\n",
    "                     25.63,22.22,19,32.73,15.16,13.9,27.2,32.01,29.27,33,13.74,20.42,27.32,18.23,35.35,28.48,9.08,24.62,\n",
    "                     20.12,35.26,19.92,31.02,16.49,12.16,30.7,31.22,34.65,13.13,27.51,33.2,31.57,14.1,33.42,17.44,10.12,\n",
    "                     24.42,9.82,23.39,30.93,15.03,21.67,31.09,33.29,22.61,26.89,23.48,8.38,27.81,32.35,23.84]\n",
    "\n",
    "alpha, beta = least_squares_fit(num_friends_good, daily_minutes_good)\n",
    "print(f\"alpha = {alpha}\")\n",
    "print(f\"beta  = {beta}\")"
   ]
  },
  {
   "cell_type": "markdown",
   "metadata": {},
   "source": [
    "This gives values of `alpha` = 22.95 and `beta` = 0.904. So our model says that we expect\n",
    "a user with n friends to spend 22.95 + n * 0.904 minutes on the site each day. That is,\n",
    "we predict that a user with no friends on DataSciencester would still spend about 23\n",
    "minutes a day on the site. And for each additional friend, we expect a user to spend\n",
    "almost a minute more on the site each day.\n",
    "\n",
    "We will plot the prediction line to get a sense of how well the model fits the\n",
    "observed data."
   ]
  },
  {
   "cell_type": "code",
   "execution_count": 7,
   "metadata": {},
   "outputs": [
    {
     "data": {
      "image/png": "[encoded data removed]",
      "text/plain": [
       "<Figure size 432x288 with 1 Axes>"
      ]
     },
     "metadata": {
      "needs_background": "light"
     },
     "output_type": "display_data"
    }
   ],
   "source": [
    "import matplotlib.pyplot as plt\n",
    "\n",
    "plt.scatter(num_friends_good, daily_minutes_good)\n",
    "\n",
    "# plot the line\n",
    "x = [0, 50]\n",
    "y = [beta * x_i + alpha for x_i in x]\n",
    "plt.plot(x, y, color=\"r\")\n",
    "\n",
    "plt.title(\"Simple Linear Regression Model\")\n",
    "plt.xlabel(\"# of friends\")\n",
    "plt.ylabel(\"minutes per day\")\n",
    "plt.show()"
   ]
  },
  {
   "cell_type": "markdown",
   "metadata": {},
   "source": [
    "Of course, we need a better (more quantitative and objective) way to figure out how well we’ve fit the data than staring\n",
    "at the graph. A common measure is the *coefficient of determination* (or *R-squared*),\n",
    "which measures the fraction of the total variation in the dependent variable that is\n",
    "captured by the model:"
   ]
  },
  {
   "cell_type": "code",
   "execution_count": 8,
   "metadata": {},
   "outputs": [],
   "source": [
    "def de_mean(xs: List[float]) -> List[float]:\n",
    "    \"\"\"Translate xs by subtracting its mean (so the result has mean 0)\"\"\"\n",
    "    x_bar = mean(xs)\n",
    "    return [x - x_bar for x in xs]\n",
    "\n",
    "def total_sum_of_squares(y: Vector) -> float:\n",
    "    \"\"\"the total squared variation of y_i's from their mean\"\"\"\n",
    "    return sum(v ** 2 for v in de_mean(y))\n",
    "\n",
    "def r_squared(alpha: float, beta: float, x: Vector, y: Vector) -> float:\n",
    "    \"\"\"\n",
    "    the fraction of variation in y captured by the model, which equals\n",
    "    1 - the fraction of variation in y not captured by the model\n",
    "    \"\"\"\n",
    "    return 1.0 - (sum_of_sqerrors(alpha, beta, x, y) /\n",
    "                  total_sum_of_squares(y))"
   ]
  },
  {
   "cell_type": "code",
   "execution_count": 9,
   "metadata": {},
   "outputs": [
    {
     "name": "stdout",
     "output_type": "stream",
     "text": [
      "rsq    = 0.3291078377836305\n",
      "rsq_sk = 0.32910783778362984\n",
      "r      = 0.57367921156656\n",
      "r^2    = 0.3291078377836299\n"
     ]
    }
   ],
   "source": [
    "rsq = r_squared(alpha, beta, num_friends_good, daily_minutes_good)\n",
    "\n",
    "# Alternatively, use sklearn\n",
    "from sklearn.metrics import r2_score\n",
    "# pass in the observed vector and the predicted vector\n",
    "rsq_sk = r2_score(daily_minutes_good, [predict(alpha, beta, x_i) for x_i in num_friends_good])\n",
    "r = pearsonr(daily_minutes_good, [predict(alpha, beta, x_i) for x_i in num_friends_good])[0]\n",
    "\n",
    "# the minor difference is due to floating-point operation round-off errors\n",
    "print(f\"rsq    = {rsq}\")\n",
    "print(f\"rsq_sk = {rsq_sk}\")\n",
    "print(f\"r      = {r}\")\n",
    "print(f\"r^2    = {r ** 2}\")"
   ]
  },
  {
   "cell_type": "markdown",
   "metadata": {},
   "source": [
    "Recall that we chose the `alpha` and `beta` that minimized the sum of the squared prediction\n",
    "errors. A linear model we could have chosen is “always predict mean(y)” (corresponding\n",
    "to `alpha = mean(y)` and `beta = 0`), whose sum of squared errors exactly equals its total sum of squares. This means an R-squared of 0, which indicates a\n",
    "model that (obviously, in this case) performs no better than just predicting the mean.\n",
    "\n",
    "Clearly, the least squares model must be at least as good as that one, which means that\n",
    "the sum of the squared errors is *at most* the total sum of squares, which means that\n",
    "the R-squared must be at least 0. And the sum of squared errors must be at least 0,\n",
    "which means that the R-squared can be at most 1.\n",
    "\n",
    "The higher the number, the better our model fits the data. Here we calculate an *R-squared*\n",
    "of 0.329, which tells us that our model is only sort of okay at fitting the data,\n",
    "and that clearly there are other factors at play."
   ]
  },
  {
   "cell_type": "markdown",
   "metadata": {},
   "source": [
    "## Alternative Parameter Optimization Techniques"
   ]
  },
  {
   "cell_type": "markdown",
   "metadata": {},
   "source": [
    "The problem of optimizing the parameters of the linear regression model is actually one of few optimization problems (in the context of machine learning models) that can be directly solved via calculus. That is, we can take the derivative of the `sum_of_sqerrors` function with with respect to the parameters (alpha and beta), set it to 0, and find the parameters that can minimize `sum_of_sqerrors`. The process is well established but still requires the understanding of multivariate calculus to follow the steps, and is beyond the scope of our class (you might have to revisit this topic if you are going to take Data Science II).\n",
    "\n",
    "Now there are plenty of parameter optimization problems for various models that may not have straight-forward mathematical solutions for their minimums. Such problems may also be solved through a more general and iterative approach, for which there are many exisitng optimization algorithms (which are also usually fairly complicated and beyond the scope of our class).\n",
    "\n",
    "We will demonstrate how to use such optimizers (minimizers) to solve for the parameters `alpha` and `beta` in the simple linear regression problem and we may use them for other problems later on in the semester."
   ]
  },
  {
   "cell_type": "code",
   "execution_count": 10,
   "metadata": {},
   "outputs": [
    {
     "name": "stdout",
     "output_type": "stream",
     "text": [
      "22.947552413468976\n",
      "0.9038659456058724\n",
      "[22.94755232  0.90386594]\n"
     ]
    }
   ],
   "source": [
    "from scipy.optimize import minimize\n",
    "\n",
    "# theta = [alpha, beta]\n",
    "# the objective function to be minimized must take a single array/vector containing all of its parameters\n",
    "def object_fun (theta):\n",
    "    return sum_of_sqerrors(theta[0], theta[1], num_friends_good, daily_minutes_good)\n",
    "\n",
    "# initial guess of the parameters alpha and beta\n",
    "theta_0 = [0, 0]\n",
    "\n",
    "optim = minimize(object_fun, theta_0, method='BFGS')\n",
    "\n",
    "print(alpha)\n",
    "print(beta)\n",
    "print(optim.x)"
   ]
  }
 ],
 "metadata": {
  "kernelspec": {
   "display_name": "Python 3",
   "language": "python",
   "name": "python3"
  },
  "language_info": {
   "codemirror_mode": {
    "name": "ipython",
    "version": 3
   },
   "file_extension": ".py",
   "mimetype": "text/x-python",
   "name": "python",
   "nbconvert_exporter": "python",
   "pygments_lexer": "ipython3",
   "version": "3.8.3"
  }
 },
 "nbformat": 4,
 "nbformat_minor": 4
}
