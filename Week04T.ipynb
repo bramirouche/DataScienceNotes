{
 "cells": [
  {
   "cell_type": "markdown",
   "metadata": {},
   "source": [
    "## Scraping the Web"
   ]
  },
  {
   "cell_type": "markdown",
   "metadata": {},
   "source": [
    "Another way to get data is by scraping it from web pages. Fetching web pages, it turns out, is pretty easy; getting meaningful structured information out of them less so.\n",
    "\n",
    "Pages on the web are written in HTML, in which text is (ideally) marked up into elements and their attributes:"
   ]
  },
  {
   "cell_type": "markdown",
   "metadata": {},
   "source": [
    "```\n",
    "<html>\n",
    "    <head>\n",
    "    <title>A web page</title>\n",
    "    </head>\n",
    "    <body>\n",
    "        <p id=\"author\">Joel Grus</p>\n",
    "        <p id=\"subject\">Data Science</p>\n",
    "    </body>\n",
    "</html>\n",
    "```"
   ]
  },
  {
   "cell_type": "markdown",
   "metadata": {},
   "source": [
    "In a perfect world, where all web pages were marked up semantically for our benefit, we would be able to extract data using rules like “find the `<p>` element whose id is subject and return the text it contains.”\n",
    "\n",
    "In the actual world, HTML is not generally well formed, let alone annotated. This means we’ll need help making sense of it.\n",
    "\n",
    "We will be using a couple of packages to get data out of HTML.\n",
    "- Beautiful Soup library, which builds a tree out of the various elements on a web page and provides a simple interface for accessing them\n",
    "- Requests library, which is a much nicer way of making HTTP requests than anything that’s built into Python\n",
    "- html5lib library, which is able to handle HTML that's not perfectly formed better than Python's built-in HTML parser\n",
    "\n",
    "If you installed Anaconda, these libraries should have already been installed. Otherwise, you may need to install them yourself."
   ]
  },
  {
   "cell_type": "code",
   "execution_count": 1,
   "metadata": {},
   "outputs": [
    {
     "name": "stdout",
     "output_type": "stream",
     "text": [
      "Requirement already satisfied: beautifulsoup4 in c:\\users\\brandon\\anaconda3\\lib\\site-packages (4.9.1)\n",
      "Requirement already satisfied: requests in c:\\users\\brandon\\anaconda3\\lib\\site-packages (2.24.0)\n",
      "Requirement already satisfied: html5lib in c:\\users\\brandon\\anaconda3\\lib\\site-packages (1.1)\n",
      "Requirement already satisfied: soupsieve>1.2 in c:\\users\\brandon\\anaconda3\\lib\\site-packages (from beautifulsoup4) (2.0.1)\n",
      "Requirement already satisfied: certifi>=2017.4.17 in c:\\users\\brandon\\anaconda3\\lib\\site-packages (from requests) (2020.6.20)\n",
      "Requirement already satisfied: urllib3!=1.25.0,!=1.25.1,<1.26,>=1.21.1 in c:\\users\\brandon\\anaconda3\\lib\\site-packages (from requests) (1.25.9)\n",
      "Requirement already satisfied: chardet<4,>=3.0.2 in c:\\users\\brandon\\anaconda3\\lib\\site-packages (from requests) (3.0.4)\n",
      "Requirement already satisfied: idna<3,>=2.5 in c:\\users\\brandon\\anaconda3\\lib\\site-packages (from requests) (2.10)\n",
      "Requirement already satisfied: six>=1.9 in c:\\users\\brandon\\anaconda3\\lib\\site-packages (from html5lib) (1.15.0)\n",
      "Requirement already satisfied: webencodings in c:\\users\\brandon\\anaconda3\\lib\\site-packages (from html5lib) (0.5.1)\n"
     ]
    }
   ],
   "source": [
    "# From Jupyter Notebook, run\n",
    "!pip install beautifulsoup4 requests html5lib"
   ]
  },
  {
   "cell_type": "markdown",
   "metadata": {},
   "source": [
    "From console/shell/prompt, run\n",
    "\n",
    "`python -m pip install beautifulsoup4 requests html5lib`"
   ]
  },
  {
   "cell_type": "markdown",
   "metadata": {},
   "source": [
    "To use Beautiful Soup, we pass a string containing HTML into the BeautifulSoup function. In our examples, this will be the result of a call to `requests.get`:"
   ]
  },
  {
   "cell_type": "code",
   "execution_count": 2,
   "metadata": {},
   "outputs": [
    {
     "name": "stdout",
     "output_type": "stream",
     "text": [
      "<!doctype html>\n",
      "<html lang=\"en-US\">\n",
      "<head>\n",
      "    <title>Getting Data</title>\n",
      "    <meta charset=\"utf-8\">\n",
      "</head>\n",
      "<body>\n",
      "    <h1>Getting Data</h1>\n",
      "    <div class=\"explanation\">\n",
      "        This is an explanation.\n",
      "    </div>\n",
      "    <div class=\"comment\">\n",
      "        This is a comment.\n",
      "    </div>\n",
      "    <div class=\"content\">\n",
      "        <p id=\"p1\">This is the first paragraph.</p>\n",
      "        <p class=\"important\">This is the second paragraph.</p>\n",
      "    </div>\n",
      "    <div class=\"signature\">\n",
      "        <span id=\"name\">Joel</span>\n",
      "        <span id=\"twitter\">@joelgrus</span>\n",
      "        <span id=\"email\">joelgrus-at-gmail</span>\n",
      "    </div>\n",
      "</body>\n",
      "</html>\n",
      "\n"
     ]
    }
   ],
   "source": [
    "from bs4 import BeautifulSoup\n",
    "import requests\n",
    "\n",
    "url = (\"https://raw.githubusercontent.com/joelgrus/data/master/getting-data.html\")\n",
    "html = requests.get(url).text\n",
    "print(html)\n",
    "soup = BeautifulSoup(html, 'html5lib')"
   ]
  },
  {
   "cell_type": "markdown",
   "metadata": {},
   "source": [
    "We’ll typically work with `Tag` objects, which correspond to the tags representing the structure of an HTML page.\n",
    "\n",
    "For example, to find the first `<p>` tag (and its contents), you can use:"
   ]
  },
  {
   "cell_type": "code",
   "execution_count": 7,
   "metadata": {},
   "outputs": [
    {
     "name": "stdout",
     "output_type": "stream",
     "text": [
      "<p id=\"p1\">This is the first paragraph.</p>\n"
     ]
    }
   ],
   "source": [
    "first_paragraph = soup.find('p')        # or just soup.p\n",
    "print(first_paragraph)"
   ]
  },
  {
   "cell_type": "markdown",
   "metadata": {},
   "source": [
    "You can get the text contents of a `Tag` using its `text` property:"
   ]
  },
  {
   "cell_type": "code",
   "execution_count": 8,
   "metadata": {},
   "outputs": [
    {
     "name": "stdout",
     "output_type": "stream",
     "text": [
      "This is the first paragraph.\n",
      "['This', 'is', 'the', 'first', 'paragraph.']\n"
     ]
    }
   ],
   "source": [
    "first_paragraph_text = soup.p.text\n",
    "first_paragraph_words = soup.p.text.split()\n",
    "\n",
    "print(first_paragraph_text)\n",
    "print(first_paragraph_words)"
   ]
  },
  {
   "cell_type": "markdown",
   "metadata": {},
   "source": [
    "And you can extract a tag’s attributes by treating it like a `dict`:"
   ]
  },
  {
   "cell_type": "code",
   "execution_count": 9,
   "metadata": {},
   "outputs": [
    {
     "name": "stdout",
     "output_type": "stream",
     "text": [
      "p1\n",
      "p1\n"
     ]
    }
   ],
   "source": [
    "first_paragraph_id = soup.p['id']       # raises KeyError if no 'id'\n",
    "first_paragraph_id2 = soup.p.get('id')  # returns None if no 'id'\n",
    "\n",
    "print(first_paragraph_id)\n",
    "print(first_paragraph_id2)"
   ]
  },
  {
   "cell_type": "markdown",
   "metadata": {},
   "source": [
    "You can get multiple tags at once as follows:"
   ]
  },
  {
   "cell_type": "code",
   "execution_count": 10,
   "metadata": {},
   "outputs": [
    {
     "name": "stdout",
     "output_type": "stream",
     "text": [
      "[<p id=\"p1\">This is the first paragraph.</p>, <p class=\"important\">This is the second paragraph.</p>]\n",
      "[<p id=\"p1\">This is the first paragraph.</p>]\n"
     ]
    }
   ],
   "source": [
    "all_paragraphs = soup.find_all('p')  # or just soup('p')\n",
    "paragraphs_with_ids = [p for p in soup('p') if p.get('id')]\n",
    "\n",
    "print(all_paragraphs)\n",
    "print(paragraphs_with_ids)"
   ]
  },
  {
   "cell_type": "markdown",
   "metadata": {},
   "source": [
    "Frequently, you’ll want to find tags with a specific class:"
   ]
  },
  {
   "cell_type": "code",
   "execution_count": 11,
   "metadata": {},
   "outputs": [
    {
     "name": "stdout",
     "output_type": "stream",
     "text": [
      "[<p class=\"important\">This is the second paragraph.</p>]\n",
      "[<p class=\"important\">This is the second paragraph.</p>]\n"
     ]
    }
   ],
   "source": [
    "important_paragraphs = soup('p', {'class' : 'important'}) \n",
    "important_paragraphs2 = soup('p', 'important')\n",
    "\n",
    "print(important_paragraphs)\n",
    "print(important_paragraphs2)"
   ]
  },
  {
   "cell_type": "markdown",
   "metadata": {},
   "source": [
    "And you can combine these methods to implement more elaborate logic. For example, if you want to find every `<span>` element that is contained inside a `<div>` element, you could do this:"
   ]
  },
  {
   "cell_type": "code",
   "execution_count": 12,
   "metadata": {},
   "outputs": [
    {
     "name": "stdout",
     "output_type": "stream",
     "text": [
      "[<span id=\"name\">Joel</span>, <span id=\"twitter\">@joelgrus</span>, <span id=\"email\">joelgrus-at-gmail</span>]\n"
     ]
    }
   ],
   "source": [
    "spans_inside_divs = [span\n",
    "                     for div in soup('div')     # for each <div> on the page\n",
    "                     for span in div('span')]   # find each <span> inside it\n",
    "\n",
    "print(spans_inside_divs)"
   ]
  },
  {
   "cell_type": "markdown",
   "metadata": {},
   "source": [
    "Of course, the important data won’t typically be labeled as class=\"important\". You’ll need to carefully inspect the source HTML, reason through your selection logic, and worry about edge cases to make sure your data is correct."
   ]
  },
  {
   "cell_type": "markdown",
   "metadata": {},
   "source": [
    "## Example: Keeping Tabs on Congress"
   ]
  },
  {
   "cell_type": "markdown",
   "metadata": {},
   "source": [
    "The VP of Policy at your start-up company is worried about potential regulation of the data science industry and asks you to quantify what Congress is saying on the topic. In particular, he wants you to find all the representatives who have press releases about \"data.\"\n",
    "\n",
    "There is a page with links to all of the representatives' websites at https://www.house.gov/representatives\n",
    "\n",
    "And if you \"view source,\" all of the links to the websites look like:\n",
    "```\n",
    "<td>\n",
    "    <a href=\"https://jayapal.house.gov\">Jayapal, Pramila</a>\n",
    "</td>\n",
    "```\n",
    "Let’s start by collecting all of the URLs linked to from that page:"
   ]
  },
  {
   "cell_type": "code",
   "execution_count": 13,
   "metadata": {},
   "outputs": [
    {
     "name": "stdout",
     "output_type": "stream",
     "text": [
      "966\n"
     ]
    }
   ],
   "source": [
    "from bs4 import BeautifulSoup\n",
    "import requests\n",
    "\n",
    "url = \"https://www.house.gov/representatives\"\n",
    "text = requests.get(url).text\n",
    "soup = BeautifulSoup(text, \"html5lib\")\n",
    "\n",
    "all_urls = [a['href']\n",
    "            for a in soup('a')     # Note: the <a> tag is used to define a hyperlink\n",
    "            if a.has_attr('href')]\n",
    "print(len(all_urls))"
   ]
  },
  {
   "cell_type": "markdown",
   "metadata": {},
   "source": [
    "This returns way too many URLs. If you look at them, the ones we want start with either `http://` or `https://`, have some kind of name, and end with either `.house.gov` or `.house.gov/`.\n",
    "\n",
    "This is a good place to use a regular expression:"
   ]
  },
  {
   "cell_type": "code",
   "execution_count": 14,
   "metadata": {},
   "outputs": [
    {
     "name": "stdout",
     "output_type": "stream",
     "text": [
      "872\n"
     ]
    }
   ],
   "source": [
    "import re\n",
    "\n",
    "# Must start with http:// or https://\n",
    "# Must end with .house.gov or .house.gov/\n",
    "# For references on generating regular expressions, see\n",
    "# https://docs.python.org/3/library/re.html\n",
    "# https://www.w3schools.com/python/python_regex.asp\n",
    "regex = r\"^https?://.*\\.house\\.gov/?$\"\n",
    "\n",
    "# Let's write some tests!\n",
    "assert re.match(regex, \"http://joel.house.gov\")\n",
    "assert re.match(regex, \"https://joel.house.gov\")\n",
    "assert re.match(regex, \"http://joel.house.gov/\")\n",
    "assert re.match(regex, \"https://joel.house.gov/\")\n",
    "assert not re.match(regex, \"joel.house.gov\")\n",
    "assert not re.match(regex, \"http://joel.house.com\")\n",
    "assert not re.match(regex, \"https://joel.house.gov/biography\")\n",
    "\n",
    "# And now apply\n",
    "good_urls = [url for url in all_urls if re.match(regex, url)]\n",
    "print(len(good_urls))"
   ]
  },
  {
   "cell_type": "markdown",
   "metadata": {},
   "source": [
    "That’s still way too many, as there are only 435 representatives. If you look at the list, there are a lot of duplicates. Let’s use set to get rid of them:"
   ]
  },
  {
   "cell_type": "code",
   "execution_count": 15,
   "metadata": {},
   "outputs": [
    {
     "name": "stdout",
     "output_type": "stream",
     "text": [
      "436\n"
     ]
    }
   ],
   "source": [
    "good_urls = list(set(good_urls))\n",
    "print(len(good_urls))"
   ]
  },
  {
   "cell_type": "markdown",
   "metadata": {},
   "source": [
    "So the number did not turn out to be exactly 435. Maybe someone has more than one website. In any case, this is good enough.\n",
    "\n",
    "When we look at the sites, most of them have a link to press releases. For example:"
   ]
  },
  {
   "cell_type": "code",
   "execution_count": 16,
   "metadata": {},
   "outputs": [
    {
     "name": "stdout",
     "output_type": "stream",
     "text": [
      "{'/media/press-releases'}\n"
     ]
    }
   ],
   "source": [
    "html = requests.get('https://susielee.house.gov/').text\n",
    "soup = BeautifulSoup(html, 'html5lib')\n",
    "\n",
    "# Use a set because the links might appear multiple times.\n",
    "links = {a['href'] for a in soup('a') if 'press releases' in a.text.lower()}\n",
    "print(links) # {'/media/press-releases'}"
   ]
  },
  {
   "cell_type": "markdown",
   "metadata": {},
   "source": [
    "Notice that this is a relative link, which means we need to remember the originating site. Let’s do some scraping:"
   ]
  },
  {
   "cell_type": "code",
   "execution_count": 17,
   "metadata": {},
   "outputs": [
    {
     "name": "stdout",
     "output_type": "stream",
     "text": [
      "https://lowenthal.house.gov: {'/media/press-releases'}\n",
      "https://finkenauer.house.gov/: {'/media/press-releases'}\n",
      "https://gregmurphy.house.gov: {'/media/press-releases'}\n",
      "https://davidscott.house.gov/: {'/News/DocumentQuery.aspx?DocumentTypeID=377'}\n",
      "https://chuygarcia.house.gov/: {'/media/press-releases'}\n",
      "https://stevens.house.gov/: {'/media/press-releases'}\n",
      "https://perry.house.gov/: set()\n",
      "https://crow.house.gov/: {'/media/press-releases'}\n",
      "https://bustos.house.gov: {'https://bustos.house.gov/category/press-release/'}\n",
      "https://arrington.house.gov: {'/news/documentquery.aspx?DocumentTypeID=27'}\n",
      "https://fletcher.house.gov: {'/news/documentquery.aspx?DocumentTypeID=27'}\n",
      "https://byrne.house.gov/: {'/media-center/press-releases'}\n",
      "https://calvert.house.gov/: {'/media/press-releases'}\n",
      "https://jacksonlee.house.gov/: {'/media-center/press-releases'}\n",
      "https://dennyheck.house.gov: {'/media-center/press-releases'}\n",
      "https://mfume.house.gov/: {'/media/press-releases'}\n",
      "https://waltz.house.gov: {'/news/documentquery.aspx?DocumentTypeID=27'}\n",
      "https://mcnerney.house.gov/: {'/media-center/press-releases'}\n",
      "https://mikejohnson.house.gov: {'/media/press-releases'}\n",
      "https://womack.house.gov/: {'/News/DocumentQuery.aspx?DocumentTypeID=2067'}\n",
      "https://mccollum.house.gov: {'/media/press-releases'}\n",
      "https://neal.house.gov/: {'/press-releases'}\n",
      "https://clayhiggins.house.gov: {'/media/press-releases'}\n",
      "https://trentkelly.house.gov/: {'/news/documentquery.aspx?DocumentTypeID=27'}\n",
      "https://neguse.house.gov/: {'https://neguse.house.gov/media/press-releases'}\n",
      "https://mariodiazbalart.house.gov/: {'/media-center/press-releases'}\n",
      "https://peteking.house.gov: set()\n",
      "https://amash.house.gov/: {'/media/press-releases'}\n",
      "https://eshoo.house.gov/: {'/media/press-releases'}\n",
      "https://harris.house.gov/: {'/media/press-releases'}\n",
      "https://abraham.house.gov/: {'/media-center/press-releases'}\n",
      "https://andylevin.house.gov/: {'/media/press-releases'}\n",
      "https://mitchell.house.gov: {'/media/press-releases'}\n",
      "https://gaetz.house.gov: {'/media/press-releases'}\n",
      "https://rush.house.gov: {'/media-center/press-releases'}\n",
      "https://higgins.house.gov: {'/media-center/press-releases', '/press-releases/archived-press-releases-2008'}\n",
      "https://hill.house.gov/: {'/news/documentquery.aspx?DocumentTypeID=27'}\n",
      "https://kaygranger.house.gov: {'/press-releases'}\n",
      "https://fleischmann.house.gov/: {'/media/press-releases'}\n",
      "https://cohen.house.gov/: {'/media-center/press-releases'}\n",
      "https://seanmaloney.house.gov: set()\n",
      "https://kirkpatrick.house.gov/: set()\n",
      "https://schneider.house.gov: {'/media/press-releases'}\n",
      "https://dankildee.house.gov: {'/media/press-releases'}\n",
      "https://gosar.house.gov/: {'/news/documentquery.aspx?DocumentTypeID=27'}\n",
      "https://gooden.house.gov: {'/media/press-releases'}\n",
      "https://vandrew.house.gov: {'/media/press-releases'}\n",
      "https://posey.house.gov/: {'#tab-2', '/News/DocumentQuery.aspx?DocumentTypeID=1487'}\n",
      "https://olson.house.gov/: {'/media-center/press-releases/archive/2018', '/media-center/press-releases/archive/2011', '/media-center/press-releases/archive/2019', '/media-center/press-releases/archive/2017', '/media-center/press-releases/archive/2009', '/media-center/press-releases/archive/2010', '/media-center/press-releases/archive/2014', '/media-center/press-releases/archive/2012', '/media-center/press-releases', '/media-center/press-releases/archive/2013', '/media-center/press-releases/archive/2016', '/media-center/press-releases/archive/2015'}\n",
      "https://simpson.house.gov: {'/News/DocumentQuery.aspx?DocumentTypeID=1515'}\n",
      "https://hartzler.house.gov/: {'/media-center/press-releases'}\n",
      "https://johnrose.house.gov/: {'/media/press-releases'}\n",
      "https://mcmorris.house.gov/: set()\n",
      "https://mcgovern.house.gov/: {'/news/documentquery.aspx?DocumentTypeID=2472'}\n",
      "https://garretgraves.house.gov/: {'/media-center/press-releases'}\n",
      "https://gibbs.house.gov/: {'/media-center/press-releases'}\n",
      "https://richmond.house.gov/: {'/media-center/press-releases'}\n",
      "https://palmer.house.gov/: {'https://palmer.house.gov/media-center/press-releases', '/media-center/press-releases'}\n",
      "https://flores.house.gov/: {'/news/documentquery.aspx?DocumentTypeID=2467'}\n",
      "https://jasonsmith.house.gov: set()\n",
      "https://latta.house.gov/: {'/News/DocumentQuery.aspx?DocumentTypeID=1456'}\n",
      "https://benniethompson.house.gov/: {'/media/press-releases'}\n",
      "https://blumenauer.house.gov/: {'/media-center/press-releases'}\n",
      "https://mooney.house.gov/: {'/media-center/press-releases'}\n",
      "https://payne.house.gov: {'/media/press-releases'}\n",
      "https://grijalva.house.gov/: {'/press-releases/'}\n",
      "https://graves.house.gov/: {'/media-center?media_type=congress_press_release'}\n",
      "https://perlmutter.house.gov/: {'/news/documentquery.aspx?DocumentTypeID=27'}\n",
      "https://himes.house.gov/: set()\n",
      "https://castor.house.gov/: {'/News/DocumentQuery.aspx?DocumentTypeID=821'}\n",
      "https://titus.house.gov/: set()\n",
      "https://cuellar.house.gov/: {'/News/DocumentQuery.aspx?DocumentTypeID=1232'}\n",
      "https://tipton.house.gov/: {'/media/press-releases'}\n",
      "https://webster.house.gov/: {'/press-releases'}\n",
      "https://babin.house.gov: {'/news/documentquery.aspx?DocumentTypeID=27'}\n",
      "https://walberg.house.gov/: {'/media/press-releases'}\n",
      "https://turner.house.gov/: {'/frontpage?qt-home_page_tabs=0#qt-home_page_tabs', '/media-center/press-releases'}\n",
      "https://raskin.house.gov: {'/media/press-releases'}\n",
      "https://kustoff.house.gov: {'/media/press-releases'}\n",
      "https://alceehastings.house.gov/: {'/news/documentquery.aspx?DocumentTypeID=2397'}\n",
      "https://walorski.house.gov: set()\n",
      "https://kaptur.house.gov/: {'/media-center/press-releases'}\n",
      "https://spano.house.gov/: {'/news/documentquery.aspx?DocumentTypeID=27'}\n",
      "https://engel.house.gov: set()\n",
      "https://beatty.house.gov: {'/media-center/press-releases'}\n",
      "https://pelosi.house.gov/: {'/news/press-releases'}\n",
      "https://mikethompson.house.gov/: {'/newsroom/press-releases'}\n",
      "https://buck.house.gov/: {'/media-center/press-releases'}\n",
      "https://bergman.house.gov: {'/news/documentquery.aspx?DocumentTypeID=27'}\n",
      "https://guest.house.gov: {'/media/press-releases'}\n",
      "https://plaskett.house.gov/: {'/news/documentquery.aspx?documenttypeid=27'}\n",
      "https://connolly.house.gov/: set()\n",
      "https://boyle.house.gov/: {'/media-center/press-releases'}\n",
      "https://meng.house.gov: {'/media-center/press-releases'}\n",
      "https://mast.house.gov: {'/press-releases'}\n",
      "https://stanton.house.gov/: {'/media/press-releases'}\n",
      "https://matsui.house.gov: {'/news/documentquery.aspx?DocumentTypeID=27'}\n",
      "https://adriansmith.house.gov/: {'/newsroom/press-releases'}\n",
      "https://rouzer.house.gov/: {'/press-releases'}\n",
      "https://trone.house.gov: {'/media/press-releases'}\n",
      "https://marchant.house.gov: set()\n",
      "https://fulcher.house.gov/: {'/press-releases'}\n",
      "https://wilson.house.gov/: set()\n",
      "https://sherrill.house.gov/: {'/media/press-releases'}\n",
      "https://allred.house.gov/: {'/media/press-releases'}\n",
      "https://bucshon.house.gov/: {'/news/documentquery.aspx?DocumentTypeID=27'}\n",
      "https://joewilson.house.gov/: {'/media-center/press-releases'}\n",
      "https://mikerogers.house.gov/: {'/news/documentquery.aspx?DocumentTypeID=27'}\n",
      "https://timmons.house.gov/: {'/media/press-releases'}\n",
      "https://axne.house.gov/: {'/media/press-releases'}\n",
      "https://roybal-allard.house.gov: {'#tab2', '/news/documentquery.aspx?DocumentTypeID=1465'}\n",
      "https://pallone.house.gov: {'/media/press-releases'}\n",
      "https://case.house.gov/: {'/news/documentquery.aspx?DocumentTypeID=27', '/news/documentsingle.aspx?DocumentID=363'}\n",
      "https://sensenbrenner.house.gov: {'/press-releases-statements'}\n",
      "https://wassermanschultz.house.gov/: {'/news/documentquery.aspx?DocumentTypeID=27'}\n",
      "https://rutherford.house.gov: {'/media/press-releases'}\n",
      "https://budd.house.gov: {'/news/documentquery.aspx?DocumentTypeID=27'}\n",
      "https://lucas.house.gov: {'/news/press-releases'}\n",
      "https://bass.house.gov/: {'/media-center/press-releases'}\n",
      "https://mucarsel-powell.house.gov: {'/news/documentquery.aspx?DocumentTypeID=27'}\n",
      "https://holding.house.gov: set()\n",
      "https://luria.house.gov: {'/media/press-releases'}\n",
      "https://schrier.house.gov: {'/media/press-releases'}\n",
      "https://adamsmith.house.gov/: {'#recentposts-pressreleases', '/press-releases'}\n",
      "https://walker.house.gov/: {'/media-center/press-releases'}\n",
      "https://hern.house.gov: {'/news/documentquery.aspx?DocumentTypeID=27'}\n",
      "https://emmer.house.gov/: {'/press-releases'}\n",
      "https://norcross.house.gov: set()\n"
     ]
    },
    {
     "name": "stdout",
     "output_type": "stream",
     "text": [
      "https://allen.house.gov: {'/news/documentquery.aspx?DocumentTypeID=27'}\n",
      "https://foster.house.gov: {'/media/press-releases'}\n",
      "https://crist.house.gov: {'/news/documentquery.aspx?DocumentTypeID=27'}\n",
      "https://torressmall.house.gov/: {'/media/press-releases'}\n",
      "https://schweikert.house.gov/: {'/media-center/press-releases'}\n",
      "https://wenstrup.house.gov: {'/news/documentquery.aspx?DocumentTypeID=2491'}\n",
      "https://kevinmccarthy.house.gov/: {'/media-center/press-releases'}\n",
      "https://chabot.house.gov/: {'/news/documentquery.aspx?DocumentTypeID=2508'}\n",
      "https://jordan.house.gov/: {'/News/DocumentQuery.aspx?DocumentTypeID=1611'}\n",
      "https://bost.house.gov/: {'/media-center/press-releases'}\n",
      "https://loudermilk.house.gov: {'/news/documentquery.aspx?DocumentTypeID=27'}\n",
      "https://vargas.house.gov: {'/media-center/press-releases'}\n",
      "https://davis.house.gov: {'/press-releases/'}\n",
      "https://huizenga.house.gov/: {'/News/DocumentQuery.aspx?DocumentTypeID=2041'}\n",
      "https://thornberry.house.gov: {'/News/DocumentQuery.aspx?DocumentTypeID=1776'}\n",
      "https://wagner.house.gov: {'/media-center/press-releases'}\n",
      "https://norton.house.gov/: {'/media-center/press-releases'}\n",
      "https://delauro.house.gov/: {'/media-center/press-releases'}\n",
      "https://meuser.house.gov: {'/media/press-releases'}\n",
      "https://susanwbrooks.house.gov: {'/media-center/press-releases'}\n",
      "https://chu.house.gov/: {'/media-center/press-releases'}\n",
      "https://defazio.house.gov/: {'/media-center/press-releases'}\n",
      "https://smucker.house.gov/: {'/media/press-releases'}\n",
      "https://bacon.house.gov: {'/news/documentquery.aspx?DocumentTypeID=27'}\n",
      "https://susandavis.house.gov/: {'/news/documentquery.aspx?DocumentTypeID=1782'}\n",
      "https://scottpeters.house.gov: {'/media-center/press-releases'}\n",
      "https://waters.house.gov: {'/media-center/press-releases'}\n",
      "https://crawford.house.gov/: {'/News/DocumentQuery.aspx?DocumentTypeID=2080'}\n",
      "https://gabbard.house.gov: {'/news/press-releases'}\n",
      "https://nunes.house.gov/: {'/News/DocumentQuery.aspx?DocumentTypeID=2133'}\n",
      "https://nadler.house.gov: {'/news/documentquery.aspx?DocumentTypeID=1753'}\n",
      "https://schiff.house.gov/: {'https://schiff.house.gov/news/press-releases'}\n",
      "https://hagedorn.house.gov/: {'/media/press-releases'}\n",
      "https://speier.house.gov/: {'/press-releases'}\n",
      "https://thompson.house.gov: {'/media-center/press-releases'}\n",
      "https://robinkelly.house.gov/: {'/media-center/press-releases'}\n",
      "https://cloud.house.gov: set()\n",
      "https://dean.house.gov: {'/media/press-releases'}\n",
      "https://lesko.house.gov: {'/news/documentquery.aspx?DocumentTypeID=27'}\n",
      "https://luetkemeyer.house.gov/: {'/news/documentquery.aspx?DocumentTypeID=2270'}\n",
      "https://mckinley.house.gov/: {'/news/documentquery.aspx?DocumentTypeID=27'}\n",
      "https://meeks.house.gov: {'/media/press-releases'}\n",
      "https://stefanik.house.gov/: {'/media-center/press-releases'}\n",
      "https://balderson.house.gov: {'/news/documentquery.aspx?DocumentTypeID=27'}\n",
      "https://roy.house.gov: {'/media/press-releases'}\n",
      "https://sannicolas.house.gov: set()\n",
      "https://wexton.house.gov/: {'/news/documentquery.aspx?DocumentTypeID=27'}\n",
      "https://brooks.house.gov/: set()\n",
      "https://suozzi.house.gov: {'/media/press-releases'}\n",
      "https://weber.house.gov: {'/news/documentquery.aspx?DocumentTypeID=27'}\n",
      "https://dunn.house.gov: {'/press-releases'}\n",
      "https://armstrong.house.gov: {'/media/press-releases'}\n",
      "https://anthonygonzalez.house.gov: {'/news/documentquery.aspx?DocumentTypeID=27'}\n",
      "https://juliabrownley.house.gov: {'https://juliabrownley.house.gov/category/press-releases/'}\n",
      "https://maxrose.house.gov/: set()\n",
      "https://morgangriffith.house.gov/: {'/News/DocumentQuery.aspx?DocumentTypeID=2235'}\n",
      "https://harder.house.gov/: {'/media/press-releases'}\n",
      "https://lawrence.house.gov/: {'/media-center/press-releases'}\n",
      "https://jacobs.house.gov: {'/media/press-releases'}\n",
      "https://cheney.house.gov: {'https://cheney.house.gov/category/press_release/'}\n",
      "https://cook.house.gov: {'/media-center/press-releases'}\n",
      "https://napolitano.house.gov/: {'/media/press-releases'}\n",
      "https://francisrooney.house.gov: {'/news/documentquery.aspx?DocumentTypeID=27'}\n",
      "https://sarbanes.house.gov/: {'/media-center/press-releases'}\n",
      "https://steveking.house.gov/: {'/media-center/press-releases'}\n",
      "https://cisneros.house.gov/: {'/media/press-releases'}\n",
      "https://rodneydavis.house.gov: {'#tab1', '/news/documentquery.aspx?DocumentTypeID=2427'}\n",
      "https://amodei.house.gov: set()\n",
      "https://morelle.house.gov: {'/media/press-releases'}\n",
      "https://jeffduncan.house.gov/: {'/media/press-releases'}\n",
      "https://newhouse.house.gov: {'/media-center/press-releases'}\n",
      "https://shalala.house.gov/: {'/news/documentquery.aspx?DocumentTypeID=27'}\n",
      "https://gohmert.house.gov/: {'/News/DocumentQuery.aspx?DocumentTypeID=1954'}\n",
      "https://lynch.house.gov/: {'/press-releases'}\n",
      "https://cardenas.house.gov: {'/media-center/press-releases'}\n",
      "https://lofgren.house.gov/: {'/media/press-releases'}\n",
      "https://miller.house.gov/: {'/media/press-releases'}\n",
      "https://espaillat.house.gov: {'/media/press-releases'}\n",
      "https://grothman.house.gov: {'/news/documentquery.aspx?DocumentTypeID=27'}\n",
      "https://watkins.house.gov/: {'/media/press-releases'}\n",
      "https://rubengallego.house.gov/: {'/media-center/press-releases'}\n",
      "https://gallagher.house.gov: {'/media/press-releases'}\n",
      "https://underwood.house.gov/: {'/media/press-releases'}\n",
      "https://tlaib.house.gov/: {'/media/press-releases'}\n",
      "https://rice.house.gov: {'/press-releases'}\n",
      "https://kennedy.house.gov: {'https://kennedy.house.gov/newsroom/press-releases'}\n",
      "https://bluntrochester.house.gov: set()\n",
      "https://lamb.house.gov: {'/media/press-releases'}\n",
      "https://moolenaar.house.gov/: {'/media-center/press-releases'}\n",
      "https://horsford.house.gov: {'/media/press-releases'}\n",
      "https://halrogers.house.gov/: {'/press-releases'}\n",
      "https://yarmuth.house.gov/: set()\n",
      "https://gomez.house.gov/: {'/news/documentquery.aspx?DocumentTypeID=27'}\n",
      "https://pappas.house.gov: {'/media/press-releases'}\n",
      "https://cunningham.house.gov/: {'/media/press-releases'}\n",
      "https://cleaver.house.gov: {'/media-center/press-releases'}\n",
      "https://mchenry.house.gov: {'#tab2', '/news/documentquery.aspx?DocumentTypeID=418', '/newsroom/documentquery.aspx?DocumentTypeID=418'}\n",
      "https://schrader.house.gov/: {'/news/documentquery.aspx?DocumentTypeID=2382'}\n",
      "https://swalwell.house.gov: {'/media-center/press-releases'}\n",
      "https://maloney.house.gov/: {'/news/press-releases'}\n",
      "https://bera.house.gov: {'/media-center/press-releases'}\n",
      "https://billjohnson.house.gov/: {'/news/documentquery.aspx?DocumentTypeID=2085', '/News/DocumentQuery.aspx?DocumentTypeID=2085'}\n",
      "https://banks.house.gov: {'/news/documentquery.aspx?DocumentTypeID=27'}\n",
      "https://butterfield.house.gov: {'/media-center/press-releases'}\n",
      "https://mcadams.house.gov/: {'/news/documentquery.aspx?DocumentTypeID=27'}\n",
      "https://westerman.house.gov/: set()\n",
      "https://jeffries.house.gov: {'https://jeffries.house.gov/category/press-release/'}\n",
      "https://stauber.house.gov: {'/media/press-releases'}\n",
      "https://takano.house.gov: {'https://takano.house.gov/newsroom/press-releases'}\n",
      "https://slotkin.house.gov/: {'/media/press-releases'}\n",
      "https://delgado.house.gov: {'/media/press-releases'}\n",
      "https://biggs.house.gov: {'/media/press-releases'}\n",
      "https://mccaul.house.gov: {'/media-center/press-releases'}\n",
      "https://stewart.house.gov: {'/news/documentquery.aspx?DocumentTypeID=27'}\n",
      "https://delbene.house.gov: {'/news/documentquery.aspx?DocumentTypeID=27'}\n",
      "https://cooper.house.gov/: {'/media-center/press-releases'}\n",
      "https://veasey.house.gov: {'/media-center/press-releases'}\n",
      "https://jayapal.house.gov: {'https://jayapal.house.gov/category/press-releases/', 'https://jayapal.house.gov/category/news/'}\n",
      "https://bilirakis.house.gov/: {'/media/press-releases'}\n",
      "https://wittman.house.gov/: {'/news/documentquery.aspx?DocumentTypeID=2670'}\n",
      "https://gonzalez.house.gov: {'/media/press-releases'}\n",
      "https://kuster.house.gov: {'/media-center/press-releases'}\n",
      "https://steube.house.gov/: {'/media/press-releases'}\n",
      "https://chrissmith.house.gov/: set()\n",
      "https://loebsack.house.gov/: {'/News/DocumentQuery.aspx?DocumentTypeID=893'}\n",
      "https://hudson.house.gov: {'/press-releases/'}\n",
      "https://torres.house.gov/: {'/media-center/press-releases'}\n",
      "https://scanlon.house.gov/: set()\n",
      "https://ocasio-cortez.house.gov/: {'/media/press-releases'}\n",
      "https://kathleenrice.house.gov: {'/news/documentquery.aspx?DocumentTypeID=27'}\n",
      "https://lipinski.house.gov/: {'/press-releases/'}\n"
     ]
    },
    {
     "name": "stdout",
     "output_type": "stream",
     "text": [
      "https://pascrell.house.gov/: {'/news/documentquery.aspx?DocumentTypeID=27'}\n",
      "https://mikelevin.house.gov: {'/media/press-releases'}\n",
      "https://pingree.house.gov/: set()\n",
      "https://ruppersberger.house.gov: {'/news-room/press-releases'}\n",
      "https://schakowsky.house.gov: {'/media/press-releases'}\n",
      "https://fudge.house.gov/: set()\n",
      "https://ferguson.house.gov: {'/news/documentquery.aspx?DocumentTypeID=27'}\n",
      "https://stivers.house.gov/: {'/News/DocumentQuery.aspx?DocumentTypeID=2054'}\n",
      "https://barragan.house.gov: {'https://barragan.house.gov/category/press-releases/'}\n",
      "https://cox.house.gov: {'/media/press-releases'}\n",
      "https://guthrie.house.gov/: set()\n",
      "https://hayes.house.gov: {'/media/press-releases'}\n",
      "https://gonzalez-colon.house.gov: {'/media/press-releases'}\n",
      "https://jhb.house.gov/: {'/News/DocumentQuery.aspx?DocumentTypeID=2113'}\n",
      "https://visclosky.house.gov/: {'/media-center/latest-news', '/media-center/press-releases'}\n",
      "https://velazquez.house.gov: {'/media-center/press-releases'}\n",
      "https://pressley.house.gov: {'/media/press-releases'}\n",
      "https://dustyjohnson.house.gov/: {'/media/press-releases'}\n",
      "https://langevin.house.gov: {'/press-releases'}\n",
      "https://watsoncoleman.house.gov/: {'/news/documentquery.aspx?DocumentTypeID=27'}\n",
      "https://larson.house.gov/: {'/media-center/press-releases'}\n",
      "https://lee.house.gov/: set()\n",
      "https://casten.house.gov: {'/media/press-releases'}\n",
      "https://carter.house.gov/: {'/news/press-releases'}\n",
      "https://evans.house.gov/: {'/media-center/press-releases'}\n",
      "https://roby.house.gov/: {'/newsroom/press-releases'}\n",
      "https://hurd.house.gov/: {'/media-center/press-releases'}\n",
      "https://collinpeterson.house.gov: {'/media/press-releases'}\n",
      "https://davidson.house.gov/: {'/media-center/press-releases'}\n",
      "https://golden.house.gov: {'/media/press-releases'}\n",
      "https://cartwright.house.gov: {'/media-center/press-releases'}\n",
      "https://anthonybrown.house.gov: {'/news/documentsingle.aspx?DocumentID=1073', '/news/documentquery.aspx?DocumentTypeID=27', '/news/documentsingle.aspx?DocumentID=1074'}\n",
      "https://craig.house.gov: {'/media/press-releases'}\n",
      "https://ohalleran.house.gov: {'/media/press-releases'}\n",
      "https://lujan.house.gov/: {'https://lujan.house.gov/media-center/press-releases'}\n",
      "https://hoyer.house.gov/: set()\n",
      "https://desjarlais.house.gov/: set()\n",
      "https://algreen.house.gov: {'/press-releases'}\n",
      "https://brindisi.house.gov: {'/media/press-releases'}\n",
      "https://horn.house.gov/: {'/news/documentquery.aspx?DocumentTypeID=27'}\n",
      "https://comer.house.gov/: {'/media/press-releases'}\n",
      "https://tonko.house.gov/: {'/news/documentquery.aspx?DocumentTypeID=27'}\n",
      "https://khanna.house.gov: {'/media/press-releases'}\n",
      "https://porter.house.gov/: set()\n",
      "https://lawson.house.gov: {'https://lawson.house.gov/media/press-releases'}\n",
      "https://baird.house.gov/: {'/news/documentquery.aspx?DocumentTypeID=27'}\n",
      "https://vela.house.gov: {'/press-release'}\n",
      "https://bonamici.house.gov: {'/media/press-releases'}\n",
      "https://buddycarter.house.gov/: {'/news/documentquery.aspx?DocumentTypeID=27'}\n",
      "https://scalise.house.gov/: {'/media/press-releases'}\n",
      "https://gianforte.house.gov: {'/media-center/press-releases'}\n",
      "https://murphy.house.gov: {'/news/documentquery.aspx?DocumentTypeID=27'}\n",
      "https://austinscott.house.gov/: {'/press-releases'}\n",
      "https://debbiedingell.house.gov/: {'/news/documentquery.aspx?DocumentTypeID=27', '/news/'}\n",
      "https://pocan.house.gov: {'/media-center/press-releases'}\n",
      "https://upton.house.gov: {'/News/DocumentQuery.aspx?DocumentTypeID=1828'}\n",
      "https://radewagen.house.gov/: {'/media-center/press-releases'}\n",
      "https://lindasanchez.house.gov/: {'/media-center/press-releases'}\n",
      "https://williams.house.gov: {'/media-center/press-releases'}\n",
      "https://aderholt.house.gov/: {'/media-center/press-releases'}\n",
      "https://donyoung.house.gov/: {'/News/'}\n",
      "https://mullin.house.gov: {'/news/documentquery.aspx?DocumentTypeID=27'}\n",
      "https://omar.house.gov/: {'/media/press-releases'}\n",
      "https://roe.house.gov/: {'/News/DocumentQuery.aspx?DocumentTypeID=1532'}\n",
      "https://wright.house.gov/: {'/media/press-releases'}\n",
      "https://reed.house.gov/: {'/news/documentquery.aspx?DocumentTypeID=27'}\n",
      "https://degette.house.gov: {'/newsroom/press-releases'}\n",
      "https://fortenberry.house.gov/: {'/news/press-releases'}\n",
      "https://soto.house.gov: {'/media/press-releases'}\n",
      "https://hice.house.gov/: {'/news/documentquery.aspx?DocumentTypeID=27'}\n",
      "https://buchanan.house.gov/: set()\n",
      "https://demings.house.gov: {'/media/press-releases'}\n",
      "https://haaland.house.gov/: {'/media/press-releases'}\n",
      "https://spanberger.house.gov: {'/news/documentquery.aspx?DocumentTypeID=27', '/news/documentsingle.aspx?DocumentID=3285', '/news/documentsingle.aspx?DocumentID=3284'}\n",
      "https://wild.house.gov: {'/media/press-releases'}\n",
      "https://kilmer.house.gov: {'https://kilmer.house.gov/news/press-releases'}\n",
      "https://keating.house.gov/: set()\n",
      "https://danbishop.house.gov: {'/media/press-releases'}\n",
      "https://desaulnier.house.gov/: {'/media-center/press-releases'}\n",
      "https://palazzo.house.gov/: {'/News/DocumentQuery.aspx?DocumentTypeID=2519'}\n",
      "https://rouda.house.gov: {'/media/press-releases'}\n",
      "https://clarke.house.gov/: {'https://clarke.house.gov/category/press-releases/'}\n",
      "https://serrano.house.gov/: {'/frontpage?qt-home_page_tabs=0#qt-home_page_tabs', '/media-center/press-releases'}\n",
      "https://fitzpatrick.house.gov/: {'/media-center/press-releases'}\n",
      "https://kevinbrady.house.gov/: {'/news/documentquery.aspx?DocumentTypeID=2657'}\n",
      "https://lahood.house.gov/: set()\n",
      "https://gwenmoore.house.gov: {'/news/documentquery.aspx?DocumentTypeID=27'}\n",
      "https://johnjoyce.house.gov/: {'/media/press-releases'}\n",
      "https://quigley.house.gov/: {'/media-center/press-releases'}\n",
      "https://mceachin.house.gov: {'/media/press-releases'}\n",
      "https://frankel.house.gov: {'/news/documentquery.aspx?DocumentTypeID=27'}\n",
      "https://susielee.house.gov: {'/media/press-releases'}\n",
      "https://castro.house.gov: {'https://castro.house.gov/media-center/press-releases'}\n",
      "https://lamborn.house.gov/: {'/media/press-releases'}\n",
      "https://adams.house.gov: {'/media-center/press-releases'}\n",
      "https://foxx.house.gov/: {'/news/documentquery.aspx?DocumentTypeID=2367'}\n",
      "https://conaway.house.gov/: set()\n",
      "https://steil.house.gov: {'/media/press-releases'}\n",
      "https://sires.house.gov: {'/media-center/press-releases'}\n",
      "https://massie.house.gov: set()\n",
      "https://malinowski.house.gov/: {'/media/press-releases'}\n",
      "https://teddeutch.house.gov/: set()\n",
      "https://price.house.gov/: {'/newsroom/press-releases'}\n",
      "https://long.house.gov/: {'/news/documentquery.aspx?DocumentTypeID=27'}\n",
      "https://clyburn.house.gov/: {'/press-releases'}\n",
      "https://kinzinger.house.gov/: {'/news/documentquery.aspx?DocumentTypeID=2665'}\n",
      "https://beyer.house.gov: {'/news/documentquery.aspx?DocumentTypeID=27'}\n",
      "https://mcclintock.house.gov/: {'/newsroom/press-releases'}\n",
      "https://sablan.house.gov/: set()\n",
      "https://marshall.house.gov: {'/media/press-releases'}\n",
      "https://cline.house.gov: {'/media/press-releases'}\n",
      "https://walden.house.gov/: {'/media-center/press-releases'}\n",
      "https://riggleman.house.gov: {'/media/press-releases'}\n",
      "https://burgess.house.gov/: {'/News/DocumentQuery.aspx?DocumentTypeID=75'}\n",
      "https://dougcollins.house.gov: set()\n",
      "https://moulton.house.gov/: set()\n",
      "https://carson.house.gov/: {'/newsroom/press-releases'}\n",
      "https://markgreen.house.gov/: {'/press-releases'}\n",
      "https://huffman.house.gov: set()\n",
      "https://doyle.house.gov: {'/media/press-releases'}\n",
      "https://escobar.house.gov: {'/news/documentquery.aspx?DocumentTypeID=27'}\n",
      "https://panetta.house.gov: {'/media/press-releases'}\n",
      "https://crenshaw.house.gov/: {'/news/documentquery.aspx?DocumentTypeID=27'}\n",
      "https://yoho.house.gov: {'/media-center/press-releases'}\n",
      "https://hankjohnson.house.gov/: {'/media-center/press-releases'}\n",
      "https://sherman.house.gov: {'/media-center/press-releases', '/media-center'}\n",
      "https://curtis.house.gov/: {'https://curtis.house.gov/category/press-releases/'}\n",
      "https://lieu.house.gov/: {'/media-center/press-releases'}\n",
      "https://larsen.house.gov: {'/news/documentquery.aspx?DocumentTypeID=27'}\n",
      "https://barr.house.gov/: {'/press-releases'}\n",
      "https://pence.house.gov/: {'/media/press-releases'}\n",
      "https://kelly.house.gov: {'/press-releases'}\n",
      "https://lowey.house.gov: {'/media-center/press-releases'}\n",
      "https://mcbath.house.gov: {'/press-releases'}\n",
      "https://burchett.house.gov: {'/media/press-releases'}\n",
      "https://woodall.house.gov/: {'/media-center/press-releases'}\n"
     ]
    },
    {
     "name": "stdout",
     "output_type": "stream",
     "text": [
      "https://gottheimer.house.gov: {'/news/documentquery.aspx?DocumentTypeID=27'}\n",
      "https://ruiz.house.gov: {'/media-center/press-releases'}\n",
      "https://zeldin.house.gov/: {'/media-center/press-releases'}\n",
      "https://doggett.house.gov: set()\n",
      "https://davids.house.gov/: {'/media/press-releases'}\n",
      "https://lamalfa.house.gov: {'/media-center/press-releases'}\n",
      "https://joyce.house.gov: {'/press-releases/'}\n",
      "https://cole.house.gov: {'/media-center/press-releases'}\n",
      "https://tomgraves.house.gov/: {'/News/DocumentQuery.aspx?DocumentTypeID=2000'}\n",
      "https://ebjohnson.house.gov: {'/media-center/press-releases'}\n",
      "https://vantaylor.house.gov/: set()\n",
      "https://courtney.house.gov/: {'/media-center/press-releases'}\n",
      "https://hollingsworth.house.gov: set()\n",
      "https://keller.house.gov: {'/media/press-releases'}\n",
      "https://garamendi.house.gov/: {'/media/press-releases'}\n",
      "https://aguilar.house.gov/: {'/media-center/press-releases'}\n",
      "https://kim.house.gov/: {'/media/press-releases'}\n",
      "https://bobbyscott.house.gov: {'/media-center/press-releases'}\n",
      "https://robbishop.house.gov: {'/media/press-releases'}\n",
      "https://houlahan.house.gov/: {'/news/documentquery.aspx?DocumentTypeID=27'}\n",
      "https://bishop.house.gov/: {'/media-center/press-releases'}\n",
      "https://estes.house.gov/: {'/news/documentquery.aspx?DocumentTypeID=27'}\n",
      "https://kind.house.gov/: {'/media-center/press-releases'}\n",
      "https://shimkus.house.gov/: {'/media-center/press-releases'}\n",
      "https://costa.house.gov/: {'/media-center/press-releases'}\n",
      "https://mikegarcia.house.gov/: {'/media/press-releases'}\n",
      "https://cicilline.house.gov/: {'/press-releases'}\n",
      "https://welch.house.gov/: {'/media-center/press-releases'}\n",
      "https://timryan.house.gov/: {'/media/press-releases'}\n",
      "https://sewell.house.gov/: {'/frontpage?qt-home_page_tabs=0#qt-home_page_tabs', '/media-center/press-releases'}\n",
      "https://sylviagarcia.house.gov/: {'/media/press-releases'}\n",
      "https://trahan.house.gov: set()\n",
      "https://krishnamoorthi.house.gov: {'/media/press-releases'}\n",
      "https://correa.house.gov: {'/news'}\n",
      "https://norman.house.gov: {'/news/documentquery.aspx?DocumentTypeID=27'}\n",
      "https://reschenthaler.house.gov/: {'/media/press-releases'}\n",
      "https://tiffany.house.gov/: {'/media/press-releases'}\n",
      "https://katko.house.gov/: {'/media-center/press-releases'}\n",
      "https://phillips.house.gov/: {'/media/press-releases'}\n",
      "https://carbajal.house.gov: {'/news/documentquery.aspx?DocumentTypeID=27'}\n",
      "https://lacyclay.house.gov: {'/media-center/press-releases'}\n"
     ]
    }
   ],
   "source": [
    "from typing import Dict, Set\n",
    "\n",
    "press_releases: Dict[str, Set[str]] = {}\n",
    "    \n",
    "for house_url in good_urls:\n",
    "    html = requests.get(house_url).text\n",
    "    soup = BeautifulSoup(html, 'html5lib')\n",
    "    pr_links = {a['href'] for a in soup('a') if 'press releases' in a.text.lower()}\n",
    "    \n",
    "    print(f\"{house_url}: {pr_links}\")\n",
    "    press_releases[house_url] = pr_links"
   ]
  },
  {
   "cell_type": "markdown",
   "metadata": {},
   "source": [
    "Note: Normally it is impolite to scrape a site freely like this. Most sites will have a robots.txt file that indicates how frequently you may scrape the site (and which paths you’re not supposed to scrape), but since it’s Congress we don’t need to be particularly polite.\n",
    "\n",
    "If you watch these as they scroll by, you’ll see a lot of */media/press-releases* and *media-center/press-releases*, as well as various other addresses. One of these URLs is https://susielee.house.gov/media/press-releases.\n",
    "\n",
    "Remember that our goal is to find out which congresspeople have press releases mentioning \"data.\" We’ll write a slightly more general function that checks whether a page of press releases mentions any given term.\n",
    "\n",
    "If you visit the site and view the source, it seems like there’s a snippet from each press release inside a `<p>` tag, so we’ll use that as our first attempt:"
   ]
  },
  {
   "cell_type": "code",
   "execution_count": 18,
   "metadata": {},
   "outputs": [],
   "source": [
    "def paragraph_mentions(text: str, keyword: str) -> bool:\n",
    "    \"\"\"\n",
    "    Returns True if a <p> inside the text mentions {keyword}\n",
    "    \"\"\"\n",
    "    soup = BeautifulSoup(text, 'html5lib')\n",
    "    paragraphs = [p.get_text() for p in soup('p')]\n",
    "\n",
    "    return any(keyword.lower() in paragraph.lower() for paragraph in paragraphs)"
   ]
  },
  {
   "cell_type": "markdown",
   "metadata": {},
   "source": [
    "Let’s write a quick test for it:"
   ]
  },
  {
   "cell_type": "code",
   "execution_count": 19,
   "metadata": {},
   "outputs": [],
   "source": [
    "text = \"\"\"<body><h1>Facebook</h1><p>Twitter</p>\"\"\"\n",
    "assert paragraph_mentions(text, \"twitter\")       # is inside a <p>\n",
    "assert not paragraph_mentions(text, \"facebook\")  # not inside a <p>"
   ]
  },
  {
   "cell_type": "markdown",
   "metadata": {},
   "source": [
    "At last we’re ready to find the relevant congresspeople and give their names to the VP:"
   ]
  },
  {
   "cell_type": "code",
   "execution_count": null,
   "metadata": {},
   "outputs": [],
   "source": [
    "for house_url, pr_links in press_releases.items():\n",
    "    for pr_link in pr_links:\n",
    "        url = f\"{house_url}/{pr_link}\"\n",
    "        text = requests.get(url).text\n",
    "\n",
    "        if paragraph_mentions(text, 'data'):\n",
    "            print(f\"{house_url}\")\n",
    "            break # done with this house_url"
   ]
  },
  {
   "cell_type": "markdown",
   "metadata": {},
   "source": [
    "Note: If you look at the various “press releases” pages, most of them are paginated with only 5 or 10 press releases per page. This means that we only retrieved the few most recent press releases for each congressperson. A more thorough solution would have iterated over the pages and retrieved the full text of each press release."
   ]
  }
 ],
 "metadata": {
  "kernelspec": {
   "display_name": "Python 3",
   "language": "python",
   "name": "python3"
  },
  "language_info": {
   "codemirror_mode": {
    "name": "ipython",
    "version": 3
   },
   "file_extension": ".py",
   "mimetype": "text/x-python",
   "name": "python",
   "nbconvert_exporter": "python",
   "pygments_lexer": "ipython3",
   "version": "3.8.3"
  }
 },
 "nbformat": 4,
 "nbformat_minor": 4
}
